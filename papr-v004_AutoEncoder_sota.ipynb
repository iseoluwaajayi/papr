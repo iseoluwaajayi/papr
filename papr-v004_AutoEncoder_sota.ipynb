{
 "cells": [
  {
   "cell_type": "code",
   "execution_count": 1,
   "id": "1a6dbd6c-db9e-4f61-a3fd-f115a5f13f56",
   "metadata": {},
   "outputs": [],
   "source": [
    "# This is the method that uses the MATLAB Engine API for Python\n",
    "import matlab.engine\n",
    "import torch\n",
    "import torch.nn as nn\n",
    "import torch.nn.init as init\n",
    "import torch.nn.functional as F\n",
    "from torchvision import  models, datasets, transforms\n",
    "import torch.optim as optim\n",
    "import torch.optim.lr_scheduler as lr_scheduler\n",
    "import timm\n",
    "import pickle\n",
    "from torch.utils.data import Dataset, DataLoader, TensorDataset, random_split\n",
    "from sklearn.model_selection import train_test_split\n",
    "from sklearn.metrics import confusion_matrix, classification_report\n",
    "from sklearn.preprocessing import LabelEncoder, OneHotEncoder, StandardScaler, MinMaxScaler\n",
    "import numpy as np\n",
    "import scipy.io as scio\n",
    "from scipy.io import savemat\n",
    "import h5py\n",
    "import pandas as pd\n",
    "import seaborn as sns\n",
    "import matplotlib.pyplot as plt\n",
    "from tqdm import tqdm\n",
    "import copy\n",
    "import gc"
   ]
  },
  {
   "cell_type": "code",
   "execution_count": 2,
   "id": "17c9a3ac-fe84-4ef2-9b3b-1abc71872199",
   "metadata": {},
   "outputs": [],
   "source": [
    "device = torch.device('mps') if torch.backends.mps.is_available() else 'cpu'"
   ]
  },
  {
   "cell_type": "code",
   "execution_count": 3,
   "id": "8f05b1ed-72ea-4669-9f17-40f80e094437",
   "metadata": {},
   "outputs": [],
   "source": [
    "main_channels = scio.loadmat('main_channels_for_autoencoder.mat')\n",
    "main_channels_mat = main_channels['main_channels']"
   ]
  },
  {
   "cell_type": "markdown",
   "id": "5b0db52e-0198-4595-9e8f-db815bb3bab1",
   "metadata": {},
   "source": [
    "main_channels_mat = torch.load('main_channels_tensor_for_autoencoder.pt', weights_only=True)"
   ]
  },
  {
   "cell_type": "code",
   "execution_count": 4,
   "id": "c4dedec3-a4de-43cc-ba30-fb37b8d9a300",
   "metadata": {},
   "outputs": [],
   "source": [
    "class CustomDataset(Dataset):\n",
    "    def __init__(self, main_channels_mat):\n",
    "        # convert into PyTorch tensors and remember them\n",
    "        self.main_channels_mat = main_channels_mat\n",
    "\n",
    "    def __len__(self):\n",
    "        # this should return the size of the dataset\n",
    "        return len(self.main_channels_mat)\n",
    "    \n",
    "    def __getitem__(self, idx):\n",
    "        # this should return one sample from the dataset\n",
    "        main_channels_mat = self.main_channels_mat[idx,:,:]\n",
    "        return main_channels_mat"
   ]
  },
  {
   "cell_type": "code",
   "execution_count": 5,
   "id": "bf2a537d-4f72-4525-9d55-3f479405587b",
   "metadata": {},
   "outputs": [],
   "source": [
    "dataset = CustomDataset(main_channels_mat)"
   ]
  },
  {
   "cell_type": "code",
   "execution_count": 6,
   "id": "ae911b39-4580-44fe-81de-864892143bff",
   "metadata": {},
   "outputs": [],
   "source": [
    "# First, split the dataset into train and remaining (val + test)\n",
    "train_set, remaining_set = train_test_split(dataset, test_size=40000, random_state=42)\n",
    "\n",
    "# Now, split the remaining set into validation and test sets\n",
    "val_set, test_set = train_test_split(remaining_set, test_size=20000, random_state=42)"
   ]
  },
  {
   "cell_type": "code",
   "execution_count": 7,
   "id": "47b372d6-28d2-4e1b-b2c7-4ecc3f46c656",
   "metadata": {},
   "outputs": [],
   "source": [
    "# Create DataLoaders\n",
    "batch_size = 64\n",
    "train_loader = DataLoader(train_set, shuffle=True, batch_size=batch_size)\n",
    "val_loader = DataLoader(val_set, shuffle=False, batch_size=batch_size)\n",
    "test_loader = DataLoader(test_set, shuffle=False, batch_size= batch_size)"
   ]
  },
  {
   "cell_type": "code",
   "execution_count": 8,
   "id": "f2425bdd-3cfc-4088-9f70-28db15772818",
   "metadata": {},
   "outputs": [
    {
     "name": "stdout",
     "output_type": "stream",
     "text": [
      "Shape of batch feature is torch.Size([64, 10, 70])\n",
      "Data type of batch feature is torch.complex64\n"
     ]
    }
   ],
   "source": [
    "batch_main_chan_mat = next(iter(train_loader))\n",
    "\n",
    "print(f'Shape of batch feature is {batch_main_chan_mat.shape}')\n",
    "print(f'Data type of batch feature is {batch_main_chan_mat.dtype}')"
   ]
  },
  {
   "cell_type": "code",
   "execution_count": 102,
   "id": "50c9a202-ef06-450d-8f24-5b45a3b2833f",
   "metadata": {},
   "outputs": [],
   "source": [
    "class CSIEncoder(nn.Module):\n",
    "    def __init__(self):\n",
    "        super(CSIEncoder, self).__init__()\n",
    "        \n",
    "        self.conv1 = nn.Conv2d(in_channels=2, out_channels=2, kernel_size=3, stride=1, padding=(1,1))\n",
    "\n",
    "        self.conv2 = nn.Conv2d(in_channels=2, out_channels=2, kernel_size=3, stride=1, padding=(1,1))\n",
    "\n",
    "        self.flatten = nn.Flatten()\n",
    "        \n",
    "        self.linear1 = nn.Linear(1400, 256)\n",
    "\n",
    "\n",
    "\n",
    "    def forward(self, x):\n",
    "        x1 = F.relu(self.conv1(x))\n",
    "        x2 = F.relu(self.conv2(x1))\n",
    "        x3 = self.flatten(x2)\n",
    "        x_encoded = F.sigmoid(self.linear1(x3))\n",
    "  \n",
    "        return x_encoded"
   ]
  },
  {
   "cell_type": "code",
   "execution_count": 103,
   "id": "f172b873-cecf-4482-8078-3ca48377dd69",
   "metadata": {},
   "outputs": [
    {
     "data": {
      "text/plain": [
       "torch.Size([64, 256])"
      ]
     },
     "execution_count": 103,
     "metadata": {},
     "output_type": "execute_result"
    }
   ],
   "source": [
    "x_encoded = CSIEncoder()(torch.rand([64,2,10,70]))\n",
    "x_encoded.shape"
   ]
  },
  {
   "cell_type": "markdown",
   "id": "0af928d2-f6ac-4c45-9f88-94d7e22f02db",
   "metadata": {},
   "source": [
    "### Now we quantize the output"
   ]
  },
  {
   "cell_type": "code",
   "execution_count": 104,
   "id": "5cb0accc-6c45-41e2-810e-72d757ea9276",
   "metadata": {},
   "outputs": [],
   "source": [
    "def uniform_quantize(x, bits):\n",
    "    levels = 2**bits\n",
    "    quantization_step = levels-1\n",
    "    quantized_value = round(x*quantization_step)\n",
    "    return quantized_value"
   ]
  },
  {
   "cell_type": "code",
   "execution_count": 105,
   "id": "8c6dcc1c-baa1-481a-8409-b3e034b278b1",
   "metadata": {},
   "outputs": [
    {
     "data": {
      "text/plain": [
       "230"
      ]
     },
     "execution_count": 105,
     "metadata": {},
     "output_type": "execute_result"
    }
   ],
   "source": [
    "uniform_quantize(0.9,8)"
   ]
  },
  {
   "cell_type": "code",
   "execution_count": 106,
   "id": "f44e0c63-78f9-4746-ab8d-0819cb16bea7",
   "metadata": {},
   "outputs": [],
   "source": [
    "def uniform_dequantize(x_quantized, bits):\n",
    "    levels = 2 ** bits - 1\n",
    "    x_dequantized = x_quantized / levels  # Scale back\n",
    "    return x_dequantized"
   ]
  },
  {
   "cell_type": "code",
   "execution_count": 107,
   "id": "598aed88-07fa-4b7c-8421-187586ad2178",
   "metadata": {},
   "outputs": [
    {
     "data": {
      "text/plain": [
       "0.9019607843137255"
      ]
     },
     "execution_count": 107,
     "metadata": {},
     "output_type": "execute_result"
    }
   ],
   "source": [
    "uniform_dequantize(230,8)"
   ]
  },
  {
   "cell_type": "code",
   "execution_count": 108,
   "id": "49c2e34b-466c-4fb2-9074-9247c78c6609",
   "metadata": {},
   "outputs": [],
   "source": [
    "class RefineNet(nn.Module):\n",
    "    def __init__(self):\n",
    "        super(RefineNet, self).__init__()\n",
    "\n",
    "        self.conv1 = nn.Conv2d(in_channels=2, out_channels=8, kernel_size=3, padding=1)\n",
    "\n",
    "        self.conv2 = nn.Conv2d(in_channels=8, out_channels=16, kernel_size=3, padding=1)\n",
    "\n",
    "        self.conv3 = nn.Conv2d(in_channels=16, out_channels=2, kernel_size=3, padding=1)\n",
    "\n",
    "    def forward(self, x_in):\n",
    "        x = F.relu(self.conv1(x_in))\n",
    "        x = F.relu(self.conv2(x))\n",
    "        x = F.relu(self.conv3(x))\n",
    "        x = x + x_in\n",
    "        return x"
   ]
  },
  {
   "cell_type": "code",
   "execution_count": 109,
   "id": "086f7bc2-4541-4342-bb86-5b5b95a2fcff",
   "metadata": {},
   "outputs": [
    {
     "data": {
      "text/plain": [
       "torch.Size([64, 2, 10, 70])"
      ]
     },
     "execution_count": 109,
     "metadata": {},
     "output_type": "execute_result"
    }
   ],
   "source": [
    "x_refined = RefineNet()(torch.rand([64,2,10,70]))\n",
    "x_refined.shape"
   ]
  },
  {
   "cell_type": "code",
   "execution_count": 110,
   "id": "84438540-a1d8-40a0-8871-87232323841e",
   "metadata": {},
   "outputs": [],
   "source": [
    "class CSIDecoder(nn.Module):\n",
    "    def __init__(self):\n",
    "        super(CSIDecoder, self).__init__()\n",
    "\n",
    "        self.linear1 = nn.Linear(256, 1400)\n",
    "        \n",
    "        self.unflatten = nn.Unflatten(1,[2, 10, 70])\n",
    "        \n",
    "        self.refine = RefineNet()\n",
    "\n",
    "        self.conv1 = nn.Conv2d(in_channels=2, out_channels=2, kernel_size=3, stride=1, padding=1)\n",
    "\n",
    "    def forward(self, x):\n",
    "        x = F.sigmoid(self.linear1(x))\n",
    "        x = self.unflatten(x)\n",
    "        x = self.refine(x)\n",
    "        x = self.refine(x)\n",
    "        x = self.refine(x)\n",
    "        x = F.sigmoid(x)\n",
    "        \n",
    "        return x"
   ]
  },
  {
   "cell_type": "code",
   "execution_count": 111,
   "id": "6118a666-2b05-438a-b0fd-1a6bf211e3a9",
   "metadata": {},
   "outputs": [],
   "source": [
    "class AutoEncode(nn.Module):\n",
    "    def __init__(self):\n",
    "        super(AutoEncode, self).__init__()\n",
    "        \n",
    "        self.encoder = CSIEncoder()\n",
    "        self.decoder = CSIDecoder()\n",
    "\n",
    "\n",
    "    def forward(self, x_enc_input):\n",
    "        x_enc_output = self.encoder(x_enc_input)\n",
    "        x = self.decoder(x_enc_output)\n",
    "\n",
    "        return x"
   ]
  },
  {
   "cell_type": "code",
   "execution_count": 112,
   "id": "0c3feb30-605e-4825-b759-28012418e7a3",
   "metadata": {},
   "outputs": [
    {
     "data": {
      "text/plain": [
       "torch.Size([64, 2, 10, 70])"
      ]
     },
     "execution_count": 112,
     "metadata": {},
     "output_type": "execute_result"
    }
   ],
   "source": [
    "test_input_enc_input = torch.rand([64,2,10,70])\n",
    "test_output_auto = AutoEncode()(test_input_enc_input)\n",
    "test_output_auto.shape"
   ]
  },
  {
   "cell_type": "code",
   "execution_count": 114,
   "id": "e52115c9-992c-4b2f-8fb4-cbe069b80f0c",
   "metadata": {},
   "outputs": [],
   "source": [
    "def l2_norm_square_loss(input_data, output_data):\n",
    "\n",
    "    # Separate real and imaginary parts for input and output\n",
    "    input_real = input_data[:, 0, :, :]  # Real part of input\n",
    "    input_imag = input_data[:, 1, :, :]  # Imaginary part of input\n",
    "    output_real = output_data[:, 0, :, :]  # Real part of output\n",
    "    output_imag = output_data[:, 1, :, :]  # Imaginary part of output\n",
    "\n",
    "    # Compute L2-norm squared across the last dimension (dim=-1)\n",
    "    input_l2_norm_squared = torch.sum(input_real**2 + input_imag**2, dim=-1)  # Shape: [batch_size, 10]\n",
    "    output_l2_norm_squared = torch.sum(output_real**2 + output_imag**2, dim=-1)  # Shape: [batch_size, 10]\n",
    "\n",
    "    # Compute the loss as the mean squared difference\n",
    "    l2_loss = torch.mean((input_l2_norm_squared - output_l2_norm_squared)**2)\n",
    "\n",
    "    return l2_loss"
   ]
  },
  {
   "cell_type": "code",
   "execution_count": 115,
   "id": "f64328e7-3732-4a2b-96f7-ce794018e52d",
   "metadata": {
    "scrolled": true
   },
   "outputs": [
    {
     "name": "stderr",
     "output_type": "stream",
     "text": [
      "\n",
      "Epoch [1/100] T Loss:1.5901 Cus Loss:59.2812  LR is 0.001000: 100%|█| 2500/2500 [00:23<00:00, 106.9"
     ]
    },
    {
     "name": "stdout",
     "output_type": "stream",
     "text": [
      "Training has completed epoch 1\n"
     ]
    },
    {
     "name": "stderr",
     "output_type": "stream",
     "text": [
      "\n",
      "Epoch [1/100] V Loss:0.9965 Custom Loss:43.7511:  63%|██████▎   | 198/313 [00:00<00:00, 211.38it/s]"
     ]
    },
    {
     "ename": "KeyboardInterrupt",
     "evalue": "",
     "output_type": "error",
     "traceback": [
      "\u001b[0;31m---------------------------------------------------------------------------\u001b[0m",
      "\u001b[0;31mKeyboardInterrupt\u001b[0m                         Traceback (most recent call last)",
      "Cell \u001b[0;32mIn[115], line 83\u001b[0m\n\u001b[1;32m     78\u001b[0m main_channels_mat_for_nn \u001b[38;5;241m=\u001b[39m torch\u001b[38;5;241m.\u001b[39mstack([torch\u001b[38;5;241m.\u001b[39mreal(main_channels_mat)\u001b[38;5;241m.\u001b[39mfloat(), torch\u001b[38;5;241m.\u001b[39mimag(main_channels_mat)\u001b[38;5;241m.\u001b[39mfloat()], dim\u001b[38;5;241m=\u001b[39m\u001b[38;5;241m1\u001b[39m)\u001b[38;5;241m.\u001b[39mto(device)\n\u001b[1;32m     81\u001b[0m \u001b[38;5;28;01mwith\u001b[39;00m torch\u001b[38;5;241m.\u001b[39mno_grad():\n\u001b[0;32m---> 83\u001b[0m     nn_output \u001b[38;5;241m=\u001b[39m \u001b[43mmodel\u001b[49m\u001b[43m(\u001b[49m\u001b[43mmain_channels_mat_for_nn\u001b[49m\u001b[43m)\u001b[49m\n\u001b[1;32m     85\u001b[0m     \u001b[38;5;66;03m# Calculate losses\u001b[39;00m\n\u001b[1;32m     86\u001b[0m     val_loss \u001b[38;5;241m=\u001b[39m loss(nn_output, main_channels_mat_for_nn)\n",
      "File \u001b[0;32m/Library/Frameworks/Python.framework/Versions/3.12/lib/python3.12/site-packages/torch/nn/modules/module.py:1736\u001b[0m, in \u001b[0;36mModule._wrapped_call_impl\u001b[0;34m(self, *args, **kwargs)\u001b[0m\n\u001b[1;32m   1734\u001b[0m     \u001b[38;5;28;01mreturn\u001b[39;00m \u001b[38;5;28mself\u001b[39m\u001b[38;5;241m.\u001b[39m_compiled_call_impl(\u001b[38;5;241m*\u001b[39margs, \u001b[38;5;241m*\u001b[39m\u001b[38;5;241m*\u001b[39mkwargs)  \u001b[38;5;66;03m# type: ignore[misc]\u001b[39;00m\n\u001b[1;32m   1735\u001b[0m \u001b[38;5;28;01melse\u001b[39;00m:\n\u001b[0;32m-> 1736\u001b[0m     \u001b[38;5;28;01mreturn\u001b[39;00m \u001b[38;5;28;43mself\u001b[39;49m\u001b[38;5;241;43m.\u001b[39;49m\u001b[43m_call_impl\u001b[49m\u001b[43m(\u001b[49m\u001b[38;5;241;43m*\u001b[39;49m\u001b[43margs\u001b[49m\u001b[43m,\u001b[49m\u001b[43m \u001b[49m\u001b[38;5;241;43m*\u001b[39;49m\u001b[38;5;241;43m*\u001b[39;49m\u001b[43mkwargs\u001b[49m\u001b[43m)\u001b[49m\n",
      "File \u001b[0;32m/Library/Frameworks/Python.framework/Versions/3.12/lib/python3.12/site-packages/torch/nn/modules/module.py:1747\u001b[0m, in \u001b[0;36mModule._call_impl\u001b[0;34m(self, *args, **kwargs)\u001b[0m\n\u001b[1;32m   1742\u001b[0m \u001b[38;5;66;03m# If we don't have any hooks, we want to skip the rest of the logic in\u001b[39;00m\n\u001b[1;32m   1743\u001b[0m \u001b[38;5;66;03m# this function, and just call forward.\u001b[39;00m\n\u001b[1;32m   1744\u001b[0m \u001b[38;5;28;01mif\u001b[39;00m \u001b[38;5;129;01mnot\u001b[39;00m (\u001b[38;5;28mself\u001b[39m\u001b[38;5;241m.\u001b[39m_backward_hooks \u001b[38;5;129;01mor\u001b[39;00m \u001b[38;5;28mself\u001b[39m\u001b[38;5;241m.\u001b[39m_backward_pre_hooks \u001b[38;5;129;01mor\u001b[39;00m \u001b[38;5;28mself\u001b[39m\u001b[38;5;241m.\u001b[39m_forward_hooks \u001b[38;5;129;01mor\u001b[39;00m \u001b[38;5;28mself\u001b[39m\u001b[38;5;241m.\u001b[39m_forward_pre_hooks\n\u001b[1;32m   1745\u001b[0m         \u001b[38;5;129;01mor\u001b[39;00m _global_backward_pre_hooks \u001b[38;5;129;01mor\u001b[39;00m _global_backward_hooks\n\u001b[1;32m   1746\u001b[0m         \u001b[38;5;129;01mor\u001b[39;00m _global_forward_hooks \u001b[38;5;129;01mor\u001b[39;00m _global_forward_pre_hooks):\n\u001b[0;32m-> 1747\u001b[0m     \u001b[38;5;28;01mreturn\u001b[39;00m \u001b[43mforward_call\u001b[49m\u001b[43m(\u001b[49m\u001b[38;5;241;43m*\u001b[39;49m\u001b[43margs\u001b[49m\u001b[43m,\u001b[49m\u001b[43m \u001b[49m\u001b[38;5;241;43m*\u001b[39;49m\u001b[38;5;241;43m*\u001b[39;49m\u001b[43mkwargs\u001b[49m\u001b[43m)\u001b[49m\n\u001b[1;32m   1749\u001b[0m result \u001b[38;5;241m=\u001b[39m \u001b[38;5;28;01mNone\u001b[39;00m\n\u001b[1;32m   1750\u001b[0m called_always_called_hooks \u001b[38;5;241m=\u001b[39m \u001b[38;5;28mset\u001b[39m()\n",
      "Cell \u001b[0;32mIn[111], line 11\u001b[0m, in \u001b[0;36mAutoEncode.forward\u001b[0;34m(self, x_enc_input)\u001b[0m\n\u001b[1;32m      9\u001b[0m \u001b[38;5;28;01mdef\u001b[39;00m \u001b[38;5;21mforward\u001b[39m(\u001b[38;5;28mself\u001b[39m, x_enc_input):\n\u001b[1;32m     10\u001b[0m     x_enc_output \u001b[38;5;241m=\u001b[39m \u001b[38;5;28mself\u001b[39m\u001b[38;5;241m.\u001b[39mencoder(x_enc_input)\n\u001b[0;32m---> 11\u001b[0m     x \u001b[38;5;241m=\u001b[39m \u001b[38;5;28;43mself\u001b[39;49m\u001b[38;5;241;43m.\u001b[39;49m\u001b[43mdecoder\u001b[49m\u001b[43m(\u001b[49m\u001b[43mx_enc_output\u001b[49m\u001b[43m)\u001b[49m\n\u001b[1;32m     13\u001b[0m     \u001b[38;5;28;01mreturn\u001b[39;00m x\n",
      "File \u001b[0;32m/Library/Frameworks/Python.framework/Versions/3.12/lib/python3.12/site-packages/torch/nn/modules/module.py:1736\u001b[0m, in \u001b[0;36mModule._wrapped_call_impl\u001b[0;34m(self, *args, **kwargs)\u001b[0m\n\u001b[1;32m   1734\u001b[0m     \u001b[38;5;28;01mreturn\u001b[39;00m \u001b[38;5;28mself\u001b[39m\u001b[38;5;241m.\u001b[39m_compiled_call_impl(\u001b[38;5;241m*\u001b[39margs, \u001b[38;5;241m*\u001b[39m\u001b[38;5;241m*\u001b[39mkwargs)  \u001b[38;5;66;03m# type: ignore[misc]\u001b[39;00m\n\u001b[1;32m   1735\u001b[0m \u001b[38;5;28;01melse\u001b[39;00m:\n\u001b[0;32m-> 1736\u001b[0m     \u001b[38;5;28;01mreturn\u001b[39;00m \u001b[38;5;28;43mself\u001b[39;49m\u001b[38;5;241;43m.\u001b[39;49m\u001b[43m_call_impl\u001b[49m\u001b[43m(\u001b[49m\u001b[38;5;241;43m*\u001b[39;49m\u001b[43margs\u001b[49m\u001b[43m,\u001b[49m\u001b[43m \u001b[49m\u001b[38;5;241;43m*\u001b[39;49m\u001b[38;5;241;43m*\u001b[39;49m\u001b[43mkwargs\u001b[49m\u001b[43m)\u001b[49m\n",
      "File \u001b[0;32m/Library/Frameworks/Python.framework/Versions/3.12/lib/python3.12/site-packages/torch/nn/modules/module.py:1747\u001b[0m, in \u001b[0;36mModule._call_impl\u001b[0;34m(self, *args, **kwargs)\u001b[0m\n\u001b[1;32m   1742\u001b[0m \u001b[38;5;66;03m# If we don't have any hooks, we want to skip the rest of the logic in\u001b[39;00m\n\u001b[1;32m   1743\u001b[0m \u001b[38;5;66;03m# this function, and just call forward.\u001b[39;00m\n\u001b[1;32m   1744\u001b[0m \u001b[38;5;28;01mif\u001b[39;00m \u001b[38;5;129;01mnot\u001b[39;00m (\u001b[38;5;28mself\u001b[39m\u001b[38;5;241m.\u001b[39m_backward_hooks \u001b[38;5;129;01mor\u001b[39;00m \u001b[38;5;28mself\u001b[39m\u001b[38;5;241m.\u001b[39m_backward_pre_hooks \u001b[38;5;129;01mor\u001b[39;00m \u001b[38;5;28mself\u001b[39m\u001b[38;5;241m.\u001b[39m_forward_hooks \u001b[38;5;129;01mor\u001b[39;00m \u001b[38;5;28mself\u001b[39m\u001b[38;5;241m.\u001b[39m_forward_pre_hooks\n\u001b[1;32m   1745\u001b[0m         \u001b[38;5;129;01mor\u001b[39;00m _global_backward_pre_hooks \u001b[38;5;129;01mor\u001b[39;00m _global_backward_hooks\n\u001b[1;32m   1746\u001b[0m         \u001b[38;5;129;01mor\u001b[39;00m _global_forward_hooks \u001b[38;5;129;01mor\u001b[39;00m _global_forward_pre_hooks):\n\u001b[0;32m-> 1747\u001b[0m     \u001b[38;5;28;01mreturn\u001b[39;00m \u001b[43mforward_call\u001b[49m\u001b[43m(\u001b[49m\u001b[38;5;241;43m*\u001b[39;49m\u001b[43margs\u001b[49m\u001b[43m,\u001b[49m\u001b[43m \u001b[49m\u001b[38;5;241;43m*\u001b[39;49m\u001b[38;5;241;43m*\u001b[39;49m\u001b[43mkwargs\u001b[49m\u001b[43m)\u001b[49m\n\u001b[1;32m   1749\u001b[0m result \u001b[38;5;241m=\u001b[39m \u001b[38;5;28;01mNone\u001b[39;00m\n\u001b[1;32m   1750\u001b[0m called_always_called_hooks \u001b[38;5;241m=\u001b[39m \u001b[38;5;28mset\u001b[39m()\n",
      "Cell \u001b[0;32mIn[110], line 16\u001b[0m, in \u001b[0;36mCSIDecoder.forward\u001b[0;34m(self, x)\u001b[0m\n\u001b[1;32m     14\u001b[0m x \u001b[38;5;241m=\u001b[39m F\u001b[38;5;241m.\u001b[39msigmoid(\u001b[38;5;28mself\u001b[39m\u001b[38;5;241m.\u001b[39mlinear1(x))\n\u001b[1;32m     15\u001b[0m x \u001b[38;5;241m=\u001b[39m \u001b[38;5;28mself\u001b[39m\u001b[38;5;241m.\u001b[39munflatten(x)\n\u001b[0;32m---> 16\u001b[0m x \u001b[38;5;241m=\u001b[39m \u001b[38;5;28;43mself\u001b[39;49m\u001b[38;5;241;43m.\u001b[39;49m\u001b[43mrefine\u001b[49m\u001b[43m(\u001b[49m\u001b[43mx\u001b[49m\u001b[43m)\u001b[49m\n\u001b[1;32m     17\u001b[0m x \u001b[38;5;241m=\u001b[39m \u001b[38;5;28mself\u001b[39m\u001b[38;5;241m.\u001b[39mrefine(x)\n\u001b[1;32m     18\u001b[0m x \u001b[38;5;241m=\u001b[39m \u001b[38;5;28mself\u001b[39m\u001b[38;5;241m.\u001b[39mrefine(x)\n",
      "File \u001b[0;32m/Library/Frameworks/Python.framework/Versions/3.12/lib/python3.12/site-packages/torch/nn/modules/module.py:1736\u001b[0m, in \u001b[0;36mModule._wrapped_call_impl\u001b[0;34m(self, *args, **kwargs)\u001b[0m\n\u001b[1;32m   1734\u001b[0m     \u001b[38;5;28;01mreturn\u001b[39;00m \u001b[38;5;28mself\u001b[39m\u001b[38;5;241m.\u001b[39m_compiled_call_impl(\u001b[38;5;241m*\u001b[39margs, \u001b[38;5;241m*\u001b[39m\u001b[38;5;241m*\u001b[39mkwargs)  \u001b[38;5;66;03m# type: ignore[misc]\u001b[39;00m\n\u001b[1;32m   1735\u001b[0m \u001b[38;5;28;01melse\u001b[39;00m:\n\u001b[0;32m-> 1736\u001b[0m     \u001b[38;5;28;01mreturn\u001b[39;00m \u001b[38;5;28;43mself\u001b[39;49m\u001b[38;5;241;43m.\u001b[39;49m\u001b[43m_call_impl\u001b[49m\u001b[43m(\u001b[49m\u001b[38;5;241;43m*\u001b[39;49m\u001b[43margs\u001b[49m\u001b[43m,\u001b[49m\u001b[43m \u001b[49m\u001b[38;5;241;43m*\u001b[39;49m\u001b[38;5;241;43m*\u001b[39;49m\u001b[43mkwargs\u001b[49m\u001b[43m)\u001b[49m\n",
      "File \u001b[0;32m/Library/Frameworks/Python.framework/Versions/3.12/lib/python3.12/site-packages/torch/nn/modules/module.py:1747\u001b[0m, in \u001b[0;36mModule._call_impl\u001b[0;34m(self, *args, **kwargs)\u001b[0m\n\u001b[1;32m   1742\u001b[0m \u001b[38;5;66;03m# If we don't have any hooks, we want to skip the rest of the logic in\u001b[39;00m\n\u001b[1;32m   1743\u001b[0m \u001b[38;5;66;03m# this function, and just call forward.\u001b[39;00m\n\u001b[1;32m   1744\u001b[0m \u001b[38;5;28;01mif\u001b[39;00m \u001b[38;5;129;01mnot\u001b[39;00m (\u001b[38;5;28mself\u001b[39m\u001b[38;5;241m.\u001b[39m_backward_hooks \u001b[38;5;129;01mor\u001b[39;00m \u001b[38;5;28mself\u001b[39m\u001b[38;5;241m.\u001b[39m_backward_pre_hooks \u001b[38;5;129;01mor\u001b[39;00m \u001b[38;5;28mself\u001b[39m\u001b[38;5;241m.\u001b[39m_forward_hooks \u001b[38;5;129;01mor\u001b[39;00m \u001b[38;5;28mself\u001b[39m\u001b[38;5;241m.\u001b[39m_forward_pre_hooks\n\u001b[1;32m   1745\u001b[0m         \u001b[38;5;129;01mor\u001b[39;00m _global_backward_pre_hooks \u001b[38;5;129;01mor\u001b[39;00m _global_backward_hooks\n\u001b[1;32m   1746\u001b[0m         \u001b[38;5;129;01mor\u001b[39;00m _global_forward_hooks \u001b[38;5;129;01mor\u001b[39;00m _global_forward_pre_hooks):\n\u001b[0;32m-> 1747\u001b[0m     \u001b[38;5;28;01mreturn\u001b[39;00m \u001b[43mforward_call\u001b[49m\u001b[43m(\u001b[49m\u001b[38;5;241;43m*\u001b[39;49m\u001b[43margs\u001b[49m\u001b[43m,\u001b[49m\u001b[43m \u001b[49m\u001b[38;5;241;43m*\u001b[39;49m\u001b[38;5;241;43m*\u001b[39;49m\u001b[43mkwargs\u001b[49m\u001b[43m)\u001b[49m\n\u001b[1;32m   1749\u001b[0m result \u001b[38;5;241m=\u001b[39m \u001b[38;5;28;01mNone\u001b[39;00m\n\u001b[1;32m   1750\u001b[0m called_always_called_hooks \u001b[38;5;241m=\u001b[39m \u001b[38;5;28mset\u001b[39m()\n",
      "Cell \u001b[0;32mIn[108], line 14\u001b[0m, in \u001b[0;36mRefineNet.forward\u001b[0;34m(self, x_in)\u001b[0m\n\u001b[1;32m     12\u001b[0m x \u001b[38;5;241m=\u001b[39m F\u001b[38;5;241m.\u001b[39mrelu(\u001b[38;5;28mself\u001b[39m\u001b[38;5;241m.\u001b[39mconv1(x_in))\n\u001b[1;32m     13\u001b[0m x \u001b[38;5;241m=\u001b[39m F\u001b[38;5;241m.\u001b[39mrelu(\u001b[38;5;28mself\u001b[39m\u001b[38;5;241m.\u001b[39mconv2(x))\n\u001b[0;32m---> 14\u001b[0m x \u001b[38;5;241m=\u001b[39m \u001b[43mF\u001b[49m\u001b[38;5;241;43m.\u001b[39;49m\u001b[43mrelu\u001b[49m\u001b[43m(\u001b[49m\u001b[38;5;28;43mself\u001b[39;49m\u001b[38;5;241;43m.\u001b[39;49m\u001b[43mconv3\u001b[49m\u001b[43m(\u001b[49m\u001b[43mx\u001b[49m\u001b[43m)\u001b[49m\u001b[43m)\u001b[49m\n\u001b[1;32m     15\u001b[0m x \u001b[38;5;241m=\u001b[39m x \u001b[38;5;241m+\u001b[39m x_in\n\u001b[1;32m     16\u001b[0m \u001b[38;5;28;01mreturn\u001b[39;00m x\n",
      "File \u001b[0;32m/Library/Frameworks/Python.framework/Versions/3.12/lib/python3.12/site-packages/torch/nn/functional.py:1704\u001b[0m, in \u001b[0;36mrelu\u001b[0;34m(input, inplace)\u001b[0m\n\u001b[1;32m   1702\u001b[0m     result \u001b[38;5;241m=\u001b[39m torch\u001b[38;5;241m.\u001b[39mrelu_(\u001b[38;5;28minput\u001b[39m)\n\u001b[1;32m   1703\u001b[0m \u001b[38;5;28;01melse\u001b[39;00m:\n\u001b[0;32m-> 1704\u001b[0m     result \u001b[38;5;241m=\u001b[39m \u001b[43mtorch\u001b[49m\u001b[38;5;241;43m.\u001b[39;49m\u001b[43mrelu\u001b[49m\u001b[43m(\u001b[49m\u001b[38;5;28;43minput\u001b[39;49m\u001b[43m)\u001b[49m\n\u001b[1;32m   1705\u001b[0m \u001b[38;5;28;01mreturn\u001b[39;00m result\n",
      "\u001b[0;31mKeyboardInterrupt\u001b[0m: "
     ]
    }
   ],
   "source": [
    "model = AutoEncode().to(device)\n",
    "\n",
    "# Define the loss functions\n",
    "loss = torch.nn.MSELoss()  # For classification\n",
    "\n",
    "# Define an optimizer (both for the encoder and the decoder!)\n",
    "optimizer = torch.optim.Adam(filter(lambda p: p.requires_grad, model.parameters()), lr=1e-3)\n",
    "\n",
    "#scheduler = lr_scheduler.StepLR(optimizer, step_size=1, gamma=0.01)  # Learning rate decay scheduler\n",
    "scheduler = lr_scheduler.ReduceLROnPlateau(optimizer, mode='min', factor=0.9, patience=4)\n",
    "\n",
    "# Variables for early stopping and best parameters\n",
    "best_loss = float('inf')\n",
    "best_custom_loss = float('inf')\n",
    "patience_limit = 20\n",
    "\n",
    "\n",
    "train_losses = []\n",
    "val_losses = []\n",
    "\n",
    "\n",
    "# Train the model\n",
    "EPOCHS = 100\n",
    "for epoch in range(EPOCHS):\n",
    "    running_train_loss = 0.0\n",
    "    running_train_custom_loss = 0.0\n",
    "    \n",
    "    model.train()\n",
    "    progress_bar_train = tqdm(enumerate(train_loader), total=len(train_loader), ncols=100)\n",
    "    for index, (main_channels_mat) in progress_bar_train:\n",
    "        # Forward pass\n",
    "        #algorithm_output_mat_for_nn = (batch_complex_autocorrelation(algorithm_output_mat)).to(device)\n",
    "        main_channels_mat_for_nn = torch.stack([torch.real(main_channels_mat).float(), torch.imag(main_channels_mat).float()], dim=1).to(device)\n",
    "        \n",
    "        nn_output = model(main_channels_mat_for_nn)\n",
    "\n",
    "        # Calculate loss\n",
    "        #initial_loss = loss(nn_output, main_channels_mat_for_nn)\n",
    "        #train_custom_loss = l2_norm_square_loss(main_channels_mat_for_nn, nn_output)\n",
    "        #train_loss = initial_loss + 0.01*train_custom_loss\n",
    "\n",
    "        train_loss = loss(nn_output, main_channels_mat_for_nn)\n",
    "        \n",
    "        # Backward pass\n",
    "        optimizer.zero_grad()\n",
    "        train_loss.backward()\n",
    "        optimizer.step()\n",
    "\n",
    "        # Update running loss\n",
    "        running_train_loss += train_loss.item()\n",
    "        running_train_custom_loss += train_custom_loss.item()\n",
    "\n",
    "        \n",
    "        avg_train_loss = running_train_loss / (index + 1)\n",
    "        #avg_train_custom_loss = running_train_custom_loss / (index + 1)\n",
    "\n",
    "        # Get current learning rate from the optimizer\n",
    "        current_lr = optimizer.param_groups[0]['lr']\n",
    "\n",
    "        # Print metrics\n",
    "        #progress_bar_train.set_description(f'Epoch [{epoch + 1}/{EPOCHS}] MSELos:{avg_train_loss1:.4f} MSEWeig{mse_weight:.2f} CELos:{avg_train_loss2:.4f} CEWeig{ce_weight:.2f} TrLos:{avg_train_loss:.4f} Tr.Acc: {avg_train_acc*100:.2f}%')\n",
    "        progress_bar_train.set_description(f\" Epoch [{epoch + 1}/{EPOCHS}] T Loss:{avg_train_loss:.4f} LR is {current_lr:.6f}\")\n",
    "    \n",
    "    #train_losses.append(avg_train_loss)\n",
    "    train_losses.append(avg_train_loss)\n",
    "\n",
    "    print(f\"Training has completed epoch {epoch+1}\")\n",
    "    \n",
    "    # Validation loop\n",
    "    running_val_loss = 0.0\n",
    "    running_val_custom_loss = 0.0\n",
    "\n",
    "    \n",
    "    model.eval()\n",
    "    progress_bar_val = tqdm(enumerate(val_loader), total=len(val_loader), ncols=100)\n",
    "    for index, (main_channels_mat) in progress_bar_val:\n",
    "        \n",
    "        #algorithm_output_mat_for_nn = (batch_complex_autocorrelation(algorithm_output_mat)).to(device)\n",
    "        main_channels_mat_for_nn = torch.stack([torch.real(main_channels_mat).float(), torch.imag(main_channels_mat).float()], dim=1).to(device)\n",
    "\n",
    "        \n",
    "        with torch.no_grad():\n",
    "            \n",
    "            nn_output = model(main_channels_mat_for_nn)\n",
    "\n",
    "            # Calculate losses\n",
    "            val_loss = loss(nn_output, main_channels_mat_for_nn)\n",
    "            #val_custom_loss = l2_norm_square_loss(main_channels_mat_for_nn, nn_output)\n",
    "\n",
    "            # Update running loss\n",
    "            running_val_loss += val_loss.item()\n",
    "            #running_val_custom_loss += val_custom_loss.item()\n",
    "            \n",
    "            avg_val_loss = running_val_loss / (index + 1)\n",
    "            #avg_val_custom_loss = running_val_custom_loss / (index + 1)\n",
    "            \n",
    "            progress_bar_val.set_description(f\" Epoch [{epoch + 1}/{EPOCHS}] V Loss:{avg_val_loss:.4f}\")\n",
    "    \n",
    "    #val_losses.append(avg_val_loss)\n",
    "    val_losses.append(avg_val_loss)\n",
    "    \n",
    "    scheduler.step(running_val_loss)\n",
    "\n",
    "\n",
    "    # Early stopping\n",
    "    if avg_val_loss < best_loss:  # Now checking for the best accuracy\n",
    "        best_loss = avg_val_loss\n",
    "        #best_custom_loss = avg_val_custom_loss\n",
    "        best_epoch = epoch + 1\n",
    "        patience_ = 0\n",
    "        best_encoder_weights = copy.deepcopy(model.encoder.state_dict())\n",
    "        best_decoder_weights = copy.deepcopy(model.decoder.state_dict())\n",
    "        print(f\"Best Validation Loss is now: {best_loss:.4f} at Epoch: {best_epoch}\")\n",
    "        #print(f\"Best Validation Custom Loss is now: {best_custom_loss:.4f} at Epoch: {best_epoch}\")\n",
    "    else:\n",
    "        patience_ += 1\n",
    "        print(f\"This is Epoch: {patience_} without improvement\")\n",
    "        print(f\"Current Validation Loss is: {avg_val_loss:.4f} at Epoch: {epoch+1}\")\n",
    "        print(f\"Best Validation Loss remains: {best_loss:.4f} at Epoch: {best_epoch}\")\n",
    "        #print(f\"Current Validation Custom Loss is: {avg_val_custom_loss:.4f} at Epoch: {epoch+1}\")\n",
    "        #print(f\"Best Validation Custom Loss remains: {best_custom_loss:.4f} at Epoch: {best_epoch}\")\n",
    "        if patience_ > patience_limit:  # Patience limit before stopping\n",
    "            print(\"Early stopping triggered! Restoring best model weights.\")\n",
    "            print(f\"Best Validation Loss was: {best_loss:.4f} at Epoch: {best_epoch}\")\n",
    "            #print(f\"Best Validation Custom Loss was: {best_custom_loss:.4f} at Epoch: {best_epoch}\")\n",
    "            break\n"
   ]
  },
  {
   "cell_type": "code",
   "execution_count": 53,
   "id": "39a45596-f63b-4c8d-ad12-52010213e4f4",
   "metadata": {
    "scrolled": true
   },
   "outputs": [
    {
     "name": "stderr",
     "output_type": "stream",
     "text": [
      "\n",
      "Epoch [1/100] T Loss:1.0499 Cus Loss:23.4769  LR is 0.001000: 100%|█| 2500/2500 [00:34<00:00, 73.06"
     ]
    },
    {
     "name": "stdout",
     "output_type": "stream",
     "text": [
      "Training has completed epoch 1\n"
     ]
    },
    {
     "name": "stderr",
     "output_type": "stream",
     "text": [
      "\n",
      "Epoch [1/100] V Loss:0.6263 Custom Loss:12.4375: 100%|██████████| 313/313 [00:02<00:00, 141.88it/s]"
     ]
    },
    {
     "name": "stdout",
     "output_type": "stream",
     "text": [
      "Best Validation Loss is now: 0.6263 at Epoch: 1\n"
     ]
    },
    {
     "name": "stderr",
     "output_type": "stream",
     "text": [
      "\n",
      "Epoch [2/100] T Loss:0.6179 Cus Loss:12.3498  LR is 0.001000: 100%|█| 2500/2500 [00:31<00:00, 79.49"
     ]
    },
    {
     "name": "stdout",
     "output_type": "stream",
     "text": [
      "Training has completed epoch 2\n"
     ]
    },
    {
     "name": "stderr",
     "output_type": "stream",
     "text": [
      "\n",
      "Epoch [2/100] V Loss:0.3977 Custom Loss:11.7805: 100%|██████████| 313/313 [00:02<00:00, 155.66it/s]"
     ]
    },
    {
     "name": "stdout",
     "output_type": "stream",
     "text": [
      "Best Validation Loss is now: 0.3977 at Epoch: 2\n"
     ]
    },
    {
     "name": "stderr",
     "output_type": "stream",
     "text": [
      "\n",
      "Epoch [3/100] T Loss:0.4715 Cus Loss:11.0453  LR is 0.001000: 100%|█| 2500/2500 [00:31<00:00, 79.85"
     ]
    },
    {
     "name": "stdout",
     "output_type": "stream",
     "text": [
      "Training has completed epoch 3\n"
     ]
    },
    {
     "name": "stderr",
     "output_type": "stream",
     "text": [
      "\n",
      "Epoch [3/100] V Loss:0.3358 Custom Loss:9.8039: 100%|███████████| 313/313 [00:02<00:00, 154.76it/s]"
     ]
    },
    {
     "name": "stdout",
     "output_type": "stream",
     "text": [
      "Best Validation Loss is now: 0.3358 at Epoch: 3\n"
     ]
    },
    {
     "name": "stderr",
     "output_type": "stream",
     "text": [
      "\n",
      "Epoch [4/100] T Loss:0.4179 Cus Loss:9.2798  LR is 0.001000: 100%|█| 2500/2500 [00:32<00:00, 77.42i"
     ]
    },
    {
     "name": "stdout",
     "output_type": "stream",
     "text": [
      "Training has completed epoch 4\n"
     ]
    },
    {
     "name": "stderr",
     "output_type": "stream",
     "text": [
      "\n",
      "Epoch [4/100] V Loss:0.3162 Custom Loss:9.7246: 100%|███████████| 313/313 [00:01<00:00, 165.09it/s]"
     ]
    },
    {
     "name": "stdout",
     "output_type": "stream",
     "text": [
      "Best Validation Loss is now: 0.3162 at Epoch: 4\n"
     ]
    },
    {
     "name": "stderr",
     "output_type": "stream",
     "text": [
      "\n",
      "Epoch [5/100] T Loss:0.3929 Cus Loss:8.1026  LR is 0.001000: 100%|█| 2500/2500 [00:31<00:00, 78.81i"
     ]
    },
    {
     "name": "stdout",
     "output_type": "stream",
     "text": [
      "Training has completed epoch 5\n"
     ]
    },
    {
     "name": "stderr",
     "output_type": "stream",
     "text": [
      "\n",
      "Epoch [5/100] V Loss:0.3098 Custom Loss:7.0130: 100%|███████████| 313/313 [00:02<00:00, 153.70it/s]"
     ]
    },
    {
     "name": "stdout",
     "output_type": "stream",
     "text": [
      "Best Validation Loss is now: 0.3098 at Epoch: 5\n"
     ]
    },
    {
     "name": "stderr",
     "output_type": "stream",
     "text": [
      "\n",
      "Epoch [6/100] T Loss:0.3782 Cus Loss:7.2524  LR is 0.001000: 100%|█| 2500/2500 [00:32<00:00, 77.54i"
     ]
    },
    {
     "name": "stdout",
     "output_type": "stream",
     "text": [
      "Training has completed epoch 6\n"
     ]
    },
    {
     "name": "stderr",
     "output_type": "stream",
     "text": [
      "\n",
      "Epoch [6/100] V Loss:0.3036 Custom Loss:5.8778: 100%|███████████| 313/313 [00:01<00:00, 189.52it/s]"
     ]
    },
    {
     "name": "stdout",
     "output_type": "stream",
     "text": [
      "Best Validation Loss is now: 0.3036 at Epoch: 6\n"
     ]
    },
    {
     "name": "stderr",
     "output_type": "stream",
     "text": [
      "\n",
      "Epoch [7/100] T Loss:0.3677 Cus Loss:6.5657  LR is 0.001000: 100%|█| 2500/2500 [00:32<00:00, 77.87i"
     ]
    },
    {
     "name": "stdout",
     "output_type": "stream",
     "text": [
      "Training has completed epoch 7\n"
     ]
    },
    {
     "name": "stderr",
     "output_type": "stream",
     "text": [
      "\n",
      "Epoch [7/100] V Loss:0.3012 Custom Loss:5.7095: 100%|███████████| 313/313 [00:01<00:00, 204.20it/s]"
     ]
    },
    {
     "name": "stdout",
     "output_type": "stream",
     "text": [
      "Best Validation Loss is now: 0.3012 at Epoch: 7\n"
     ]
    },
    {
     "name": "stderr",
     "output_type": "stream",
     "text": [
      "\n",
      "Epoch [8/100] T Loss:0.3601 Cus Loss:6.1595  LR is 0.001000: 100%|█| 2500/2500 [00:31<00:00, 78.33i"
     ]
    },
    {
     "name": "stdout",
     "output_type": "stream",
     "text": [
      "Training has completed epoch 8\n"
     ]
    },
    {
     "name": "stderr",
     "output_type": "stream",
     "text": [
      "\n",
      "Epoch [8/100] V Loss:0.2951 Custom Loss:6.4254: 100%|███████████| 313/313 [00:01<00:00, 231.88it/s]"
     ]
    },
    {
     "name": "stdout",
     "output_type": "stream",
     "text": [
      "Best Validation Loss is now: 0.2951 at Epoch: 8\n"
     ]
    },
    {
     "name": "stderr",
     "output_type": "stream",
     "text": [
      "\n",
      "Epoch [9/100] T Loss:0.3273 Cus Loss:6.2906  LR is 0.001000: 100%|█| 2500/2500 [00:32<00:00, 77.45i"
     ]
    },
    {
     "name": "stdout",
     "output_type": "stream",
     "text": [
      "Training has completed epoch 9\n"
     ]
    },
    {
     "name": "stderr",
     "output_type": "stream",
     "text": [
      "\n",
      "Epoch [9/100] V Loss:0.2506 Custom Loss:6.4509: 100%|███████████| 313/313 [00:01<00:00, 216.46it/s]"
     ]
    },
    {
     "name": "stdout",
     "output_type": "stream",
     "text": [
      "Best Validation Loss is now: 0.2506 at Epoch: 9\n"
     ]
    },
    {
     "name": "stderr",
     "output_type": "stream",
     "text": [
      "\n",
      "Epoch [10/100] T Loss:0.3022 Cus Loss:5.8402  LR is 0.001000: 100%|█| 2500/2500 [00:32<00:00, 77.58"
     ]
    },
    {
     "name": "stdout",
     "output_type": "stream",
     "text": [
      "Training has completed epoch 10\n"
     ]
    },
    {
     "name": "stderr",
     "output_type": "stream",
     "text": [
      "\n",
      "Epoch [10/100] V Loss:0.2395 Custom Loss:5.8972: 100%|██████████| 313/313 [00:01<00:00, 211.60it/s]"
     ]
    },
    {
     "name": "stdout",
     "output_type": "stream",
     "text": [
      "Best Validation Loss is now: 0.2395 at Epoch: 10\n"
     ]
    },
    {
     "name": "stderr",
     "output_type": "stream",
     "text": [
      "\n",
      "Epoch [11/100] T Loss:0.2916 Cus Loss:5.3823  LR is 0.001000: 100%|█| 2500/2500 [00:31<00:00, 80.24"
     ]
    },
    {
     "name": "stdout",
     "output_type": "stream",
     "text": [
      "Training has completed epoch 11\n"
     ]
    },
    {
     "name": "stderr",
     "output_type": "stream",
     "text": [
      "\n",
      "Epoch [11/100] V Loss:0.2358 Custom Loss:4.6691: 100%|██████████| 313/313 [00:02<00:00, 134.86it/s]"
     ]
    },
    {
     "name": "stdout",
     "output_type": "stream",
     "text": [
      "Best Validation Loss is now: 0.2358 at Epoch: 11\n"
     ]
    },
    {
     "name": "stderr",
     "output_type": "stream",
     "text": [
      "\n",
      "Epoch [12/100] T Loss:0.2852 Cus Loss:5.1036  LR is 0.001000: 100%|█| 2500/2500 [00:31<00:00, 80.30"
     ]
    },
    {
     "name": "stdout",
     "output_type": "stream",
     "text": [
      "Training has completed epoch 12\n"
     ]
    },
    {
     "name": "stderr",
     "output_type": "stream",
     "text": [
      "\n",
      "Epoch [12/100] V Loss:0.2338 Custom Loss:4.1979: 100%|██████████| 313/313 [00:02<00:00, 128.84it/s]"
     ]
    },
    {
     "name": "stdout",
     "output_type": "stream",
     "text": [
      "Best Validation Loss is now: 0.2338 at Epoch: 12\n"
     ]
    },
    {
     "name": "stderr",
     "output_type": "stream",
     "text": [
      "\n",
      "Epoch [13/100] T Loss:0.2798 Cus Loss:4.8151  LR is 0.001000: 100%|█| 2500/2500 [00:30<00:00, 80.94"
     ]
    },
    {
     "name": "stdout",
     "output_type": "stream",
     "text": [
      "Training has completed epoch 13\n"
     ]
    },
    {
     "name": "stderr",
     "output_type": "stream",
     "text": [
      "\n",
      "Epoch [13/100] V Loss:0.2317 Custom Loss:4.2916: 100%|██████████| 313/313 [00:02<00:00, 153.60it/s]"
     ]
    },
    {
     "name": "stdout",
     "output_type": "stream",
     "text": [
      "Best Validation Loss is now: 0.2317 at Epoch: 13\n"
     ]
    },
    {
     "name": "stderr",
     "output_type": "stream",
     "text": [
      "\n",
      "Epoch [14/100] T Loss:0.2762 Cus Loss:4.6428  LR is 0.001000: 100%|█| 2500/2500 [00:31<00:00, 79.54"
     ]
    },
    {
     "name": "stdout",
     "output_type": "stream",
     "text": [
      "Training has completed epoch 14\n"
     ]
    },
    {
     "name": "stderr",
     "output_type": "stream",
     "text": [
      "\n",
      "Epoch [14/100] V Loss:0.2295 Custom Loss:3.9428: 100%|██████████| 313/313 [00:02<00:00, 144.73it/s]"
     ]
    },
    {
     "name": "stdout",
     "output_type": "stream",
     "text": [
      "Best Validation Loss is now: 0.2295 at Epoch: 14\n"
     ]
    },
    {
     "name": "stderr",
     "output_type": "stream",
     "text": [
      "\n",
      "Epoch [15/100] T Loss:0.2729 Cus Loss:4.4629  LR is 0.001000: 100%|█| 2500/2500 [00:32<00:00, 77.02"
     ]
    },
    {
     "name": "stdout",
     "output_type": "stream",
     "text": [
      "Training has completed epoch 15\n"
     ]
    },
    {
     "name": "stderr",
     "output_type": "stream",
     "text": [
      "\n",
      "Epoch [15/100] V Loss:0.2293 Custom Loss:4.0020: 100%|██████████| 313/313 [00:01<00:00, 158.68it/s]"
     ]
    },
    {
     "name": "stdout",
     "output_type": "stream",
     "text": [
      "Best Validation Loss is now: 0.2293 at Epoch: 15\n"
     ]
    },
    {
     "name": "stderr",
     "output_type": "stream",
     "text": [
      "\n",
      "Epoch [16/100] T Loss:0.2697 Cus Loss:4.2679  LR is 0.001000: 100%|█| 2500/2500 [00:32<00:00, 78.03"
     ]
    },
    {
     "name": "stdout",
     "output_type": "stream",
     "text": [
      "Training has completed epoch 16\n"
     ]
    },
    {
     "name": "stderr",
     "output_type": "stream",
     "text": [
      "\n",
      "Epoch [16/100] V Loss:0.2265 Custom Loss:3.7184: 100%|██████████| 313/313 [00:01<00:00, 158.73it/s]"
     ]
    },
    {
     "name": "stdout",
     "output_type": "stream",
     "text": [
      "Best Validation Loss is now: 0.2265 at Epoch: 16\n"
     ]
    },
    {
     "name": "stderr",
     "output_type": "stream",
     "text": [
      "\n",
      "Epoch [17/100] T Loss:0.2676 Cus Loss:4.1628  LR is 0.001000: 100%|█| 2500/2500 [00:34<00:00, 72.20"
     ]
    },
    {
     "name": "stdout",
     "output_type": "stream",
     "text": [
      "Training has completed epoch 17\n"
     ]
    },
    {
     "name": "stderr",
     "output_type": "stream",
     "text": [
      "\n",
      "Epoch [17/100] V Loss:0.2245 Custom Loss:4.5650: 100%|██████████| 313/313 [00:01<00:00, 157.70it/s]"
     ]
    },
    {
     "name": "stdout",
     "output_type": "stream",
     "text": [
      "Best Validation Loss is now: 0.2245 at Epoch: 17\n"
     ]
    },
    {
     "name": "stderr",
     "output_type": "stream",
     "text": [
      "\n",
      "Epoch [18/100] T Loss:0.2654 Cus Loss:4.0307  LR is 0.001000: 100%|█| 2500/2500 [00:33<00:00, 74.46"
     ]
    },
    {
     "name": "stdout",
     "output_type": "stream",
     "text": [
      "Training has completed epoch 18\n"
     ]
    },
    {
     "name": "stderr",
     "output_type": "stream",
     "text": [
      "\n",
      "Epoch [18/100] V Loss:0.2237 Custom Loss:4.3651: 100%|██████████| 313/313 [00:02<00:00, 148.54it/s]"
     ]
    },
    {
     "name": "stdout",
     "output_type": "stream",
     "text": [
      "Best Validation Loss is now: 0.2237 at Epoch: 18\n"
     ]
    },
    {
     "name": "stderr",
     "output_type": "stream",
     "text": [
      "\n",
      "Epoch [19/100] T Loss:0.2638 Cus Loss:3.9523  LR is 0.001000: 100%|█| 2500/2500 [00:31<00:00, 78.85"
     ]
    },
    {
     "name": "stdout",
     "output_type": "stream",
     "text": [
      "Training has completed epoch 19\n"
     ]
    },
    {
     "name": "stderr",
     "output_type": "stream",
     "text": [
      "\n",
      "Epoch [19/100] V Loss:0.2249 Custom Loss:3.8358: 100%|██████████| 313/313 [00:02<00:00, 141.83it/s]"
     ]
    },
    {
     "name": "stdout",
     "output_type": "stream",
     "text": [
      "This is Epoch: 1 without improvement\n",
      "Current Validation Loss is: 0.2249 at Epoch: 19\n",
      "Best Validation Loss remains: 0.2237 at Epoch: 18\n",
      "Current Validation Custom Loss is: 3.8358 at Epoch: 19\n"
     ]
    },
    {
     "name": "stderr",
     "output_type": "stream",
     "text": [
      "\n",
      "Epoch [20/100] T Loss:0.2619 Cus Loss:3.8335  LR is 0.001000: 100%|█| 2500/2500 [00:32<00:00, 76.00"
     ]
    },
    {
     "name": "stdout",
     "output_type": "stream",
     "text": [
      "Training has completed epoch 20\n"
     ]
    },
    {
     "name": "stderr",
     "output_type": "stream",
     "text": [
      "\n",
      "Epoch [20/100] V Loss:0.2237 Custom Loss:3.4680: 100%|██████████| 313/313 [00:02<00:00, 144.06it/s]"
     ]
    },
    {
     "name": "stdout",
     "output_type": "stream",
     "text": [
      "This is Epoch: 2 without improvement\n",
      "Current Validation Loss is: 0.2237 at Epoch: 20\n",
      "Best Validation Loss remains: 0.2237 at Epoch: 18\n",
      "Current Validation Custom Loss is: 3.4680 at Epoch: 20\n"
     ]
    },
    {
     "name": "stderr",
     "output_type": "stream",
     "text": [
      "\n",
      "Epoch [21/100] T Loss:0.2604 Cus Loss:3.7417  LR is 0.001000: 100%|█| 2500/2500 [00:32<00:00, 75.99"
     ]
    },
    {
     "name": "stdout",
     "output_type": "stream",
     "text": [
      "Training has completed epoch 21\n"
     ]
    },
    {
     "name": "stderr",
     "output_type": "stream",
     "text": [
      "\n",
      "Epoch [21/100] V Loss:0.2225 Custom Loss:4.0579: 100%|██████████| 313/313 [00:02<00:00, 146.84it/s]"
     ]
    },
    {
     "name": "stdout",
     "output_type": "stream",
     "text": [
      "Best Validation Loss is now: 0.2225 at Epoch: 21\n"
     ]
    },
    {
     "name": "stderr",
     "output_type": "stream",
     "text": [
      "\n",
      "Epoch [22/100] T Loss:0.2592 Cus Loss:3.6770  LR is 0.001000: 100%|█| 2500/2500 [00:33<00:00, 75.34"
     ]
    },
    {
     "name": "stdout",
     "output_type": "stream",
     "text": [
      "Training has completed epoch 22\n"
     ]
    },
    {
     "name": "stderr",
     "output_type": "stream",
     "text": [
      "\n",
      "Epoch [22/100] V Loss:0.2230 Custom Loss:3.3781: 100%|██████████| 313/313 [00:01<00:00, 172.65it/s]"
     ]
    },
    {
     "name": "stdout",
     "output_type": "stream",
     "text": [
      "This is Epoch: 1 without improvement\n",
      "Current Validation Loss is: 0.2230 at Epoch: 22\n",
      "Best Validation Loss remains: 0.2225 at Epoch: 21\n",
      "Current Validation Custom Loss is: 3.3781 at Epoch: 22\n"
     ]
    },
    {
     "name": "stderr",
     "output_type": "stream",
     "text": [
      "\n",
      "Epoch [23/100] T Loss:0.2581 Cus Loss:3.6211  LR is 0.001000: 100%|█| 2500/2500 [00:31<00:00, 78.54"
     ]
    },
    {
     "name": "stdout",
     "output_type": "stream",
     "text": [
      "Training has completed epoch 23\n"
     ]
    },
    {
     "name": "stderr",
     "output_type": "stream",
     "text": [
      "\n",
      "Epoch [23/100] V Loss:0.2224 Custom Loss:4.4718: 100%|██████████| 313/313 [00:02<00:00, 145.39it/s]"
     ]
    },
    {
     "name": "stdout",
     "output_type": "stream",
     "text": [
      "Best Validation Loss is now: 0.2224 at Epoch: 23\n"
     ]
    },
    {
     "name": "stderr",
     "output_type": "stream",
     "text": [
      "\n",
      "Epoch [24/100] T Loss:0.2563 Cus Loss:3.4918  LR is 0.001000: 100%|█| 2500/2500 [00:33<00:00, 73.86"
     ]
    },
    {
     "name": "stdout",
     "output_type": "stream",
     "text": [
      "Training has completed epoch 24\n"
     ]
    },
    {
     "name": "stderr",
     "output_type": "stream",
     "text": [
      "\n",
      "Epoch [24/100] V Loss:0.2216 Custom Loss:3.1851: 100%|██████████| 313/313 [00:01<00:00, 161.13it/s]"
     ]
    },
    {
     "name": "stdout",
     "output_type": "stream",
     "text": [
      "Best Validation Loss is now: 0.2216 at Epoch: 24\n"
     ]
    },
    {
     "name": "stderr",
     "output_type": "stream",
     "text": [
      "\n",
      "Epoch [25/100] T Loss:0.2555 Cus Loss:3.4516  LR is 0.001000: 100%|█| 2500/2500 [00:32<00:00, 77.74"
     ]
    },
    {
     "name": "stdout",
     "output_type": "stream",
     "text": [
      "Training has completed epoch 25\n"
     ]
    },
    {
     "name": "stderr",
     "output_type": "stream",
     "text": [
      "\n",
      "Epoch [25/100] V Loss:0.2214 Custom Loss:4.1464: 100%|██████████| 313/313 [00:02<00:00, 132.32it/s]"
     ]
    },
    {
     "name": "stdout",
     "output_type": "stream",
     "text": [
      "Best Validation Loss is now: 0.2214 at Epoch: 25\n"
     ]
    },
    {
     "name": "stderr",
     "output_type": "stream",
     "text": [
      "\n",
      "Epoch [26/100] T Loss:0.2547 Cus Loss:3.4016  LR is 0.001000: 100%|█| 2500/2500 [00:32<00:00, 75.88"
     ]
    },
    {
     "name": "stdout",
     "output_type": "stream",
     "text": [
      "Training has completed epoch 26\n"
     ]
    },
    {
     "name": "stderr",
     "output_type": "stream",
     "text": [
      "\n",
      "Epoch [26/100] V Loss:0.2208 Custom Loss:3.5093: 100%|██████████| 313/313 [00:02<00:00, 154.86it/s]"
     ]
    },
    {
     "name": "stdout",
     "output_type": "stream",
     "text": [
      "Best Validation Loss is now: 0.2208 at Epoch: 26\n"
     ]
    },
    {
     "name": "stderr",
     "output_type": "stream",
     "text": [
      "\n",
      "Epoch [27/100] T Loss:0.2537 Cus Loss:3.3464  LR is 0.001000: 100%|█| 2500/2500 [00:32<00:00, 76.70"
     ]
    },
    {
     "name": "stdout",
     "output_type": "stream",
     "text": [
      "Training has completed epoch 27\n"
     ]
    },
    {
     "name": "stderr",
     "output_type": "stream",
     "text": [
      "\n",
      "Epoch [27/100] V Loss:0.2213 Custom Loss:3.6908: 100%|██████████| 313/313 [00:02<00:00, 153.40it/s]"
     ]
    },
    {
     "name": "stdout",
     "output_type": "stream",
     "text": [
      "This is Epoch: 1 without improvement\n",
      "Current Validation Loss is: 0.2213 at Epoch: 27\n",
      "Best Validation Loss remains: 0.2208 at Epoch: 26\n",
      "Current Validation Custom Loss is: 3.6908 at Epoch: 27\n"
     ]
    },
    {
     "name": "stderr",
     "output_type": "stream",
     "text": [
      "\n",
      "Epoch [28/100] T Loss:0.2530 Cus Loss:3.3053  LR is 0.001000: 100%|█| 2500/2500 [00:32<00:00, 78.09"
     ]
    },
    {
     "name": "stdout",
     "output_type": "stream",
     "text": [
      "Training has completed epoch 28\n"
     ]
    },
    {
     "name": "stderr",
     "output_type": "stream",
     "text": [
      "\n",
      "Epoch [28/100] V Loss:0.2198 Custom Loss:3.9629: 100%|██████████| 313/313 [00:01<00:00, 159.76it/s]"
     ]
    },
    {
     "name": "stdout",
     "output_type": "stream",
     "text": [
      "Best Validation Loss is now: 0.2198 at Epoch: 28\n"
     ]
    },
    {
     "name": "stderr",
     "output_type": "stream",
     "text": [
      "\n",
      "Epoch [29/100] T Loss:0.2519 Cus Loss:3.2332  LR is 0.001000: 100%|█| 2500/2500 [00:32<00:00, 76.48"
     ]
    },
    {
     "name": "stdout",
     "output_type": "stream",
     "text": [
      "Training has completed epoch 29\n"
     ]
    },
    {
     "name": "stderr",
     "output_type": "stream",
     "text": [
      "\n",
      "Epoch [29/100] V Loss:0.2194 Custom Loss:3.4024: 100%|██████████| 313/313 [00:02<00:00, 148.08it/s]"
     ]
    },
    {
     "name": "stdout",
     "output_type": "stream",
     "text": [
      "Best Validation Loss is now: 0.2194 at Epoch: 29\n"
     ]
    },
    {
     "name": "stderr",
     "output_type": "stream",
     "text": [
      "\n",
      "Epoch [30/100] T Loss:0.2512 Cus Loss:3.1886  LR is 0.001000: 100%|█| 2500/2500 [00:33<00:00, 75.54"
     ]
    },
    {
     "name": "stdout",
     "output_type": "stream",
     "text": [
      "Training has completed epoch 30\n"
     ]
    },
    {
     "name": "stderr",
     "output_type": "stream",
     "text": [
      "\n",
      "Epoch [30/100] V Loss:0.2202 Custom Loss:3.6810: 100%|██████████| 313/313 [00:02<00:00, 135.62it/s]"
     ]
    },
    {
     "name": "stdout",
     "output_type": "stream",
     "text": [
      "This is Epoch: 1 without improvement\n",
      "Current Validation Loss is: 0.2202 at Epoch: 30\n",
      "Best Validation Loss remains: 0.2194 at Epoch: 29\n",
      "Current Validation Custom Loss is: 3.6810 at Epoch: 30\n"
     ]
    },
    {
     "name": "stderr",
     "output_type": "stream",
     "text": [
      "\n",
      "Epoch [31/100] T Loss:0.2507 Cus Loss:3.1685  LR is 0.001000: 100%|█| 2500/2500 [00:34<00:00, 73.16"
     ]
    },
    {
     "name": "stdout",
     "output_type": "stream",
     "text": [
      "Training has completed epoch 31\n"
     ]
    },
    {
     "name": "stderr",
     "output_type": "stream",
     "text": [
      "\n",
      "Epoch [31/100] V Loss:0.2202 Custom Loss:4.6073: 100%|██████████| 313/313 [00:01<00:00, 169.44it/s]"
     ]
    },
    {
     "name": "stdout",
     "output_type": "stream",
     "text": [
      "This is Epoch: 2 without improvement\n",
      "Current Validation Loss is: 0.2202 at Epoch: 31\n",
      "Best Validation Loss remains: 0.2194 at Epoch: 29\n",
      "Current Validation Custom Loss is: 4.6073 at Epoch: 31\n"
     ]
    },
    {
     "name": "stderr",
     "output_type": "stream",
     "text": [
      "\n",
      "Epoch [32/100] T Loss:0.2496 Cus Loss:3.0868  LR is 0.001000: 100%|█| 2500/2500 [00:33<00:00, 74.78"
     ]
    },
    {
     "name": "stdout",
     "output_type": "stream",
     "text": [
      "Training has completed epoch 32\n"
     ]
    },
    {
     "name": "stderr",
     "output_type": "stream",
     "text": [
      "\n",
      "Epoch [32/100] V Loss:0.2188 Custom Loss:3.9030: 100%|██████████| 313/313 [00:02<00:00, 132.49it/s]"
     ]
    },
    {
     "name": "stdout",
     "output_type": "stream",
     "text": [
      "Best Validation Loss is now: 0.2188 at Epoch: 32\n"
     ]
    },
    {
     "name": "stderr",
     "output_type": "stream",
     "text": [
      "\n",
      "Epoch [33/100] T Loss:0.2491 Cus Loss:3.0618  LR is 0.001000: 100%|█| 2500/2500 [00:32<00:00, 77.26"
     ]
    },
    {
     "name": "stdout",
     "output_type": "stream",
     "text": [
      "Training has completed epoch 33\n"
     ]
    },
    {
     "name": "stderr",
     "output_type": "stream",
     "text": [
      "\n",
      "Epoch [33/100] V Loss:0.2206 Custom Loss:5.5225: 100%|██████████| 313/313 [00:01<00:00, 173.10it/s]"
     ]
    },
    {
     "name": "stdout",
     "output_type": "stream",
     "text": [
      "This is Epoch: 1 without improvement\n",
      "Current Validation Loss is: 0.2206 at Epoch: 33\n",
      "Best Validation Loss remains: 0.2188 at Epoch: 32\n",
      "Current Validation Custom Loss is: 5.5225 at Epoch: 33\n"
     ]
    },
    {
     "name": "stderr",
     "output_type": "stream",
     "text": [
      "\n",
      "Epoch [34/100] T Loss:0.2488 Cus Loss:3.0490  LR is 0.001000: 100%|█| 2500/2500 [00:32<00:00, 77.95"
     ]
    },
    {
     "name": "stdout",
     "output_type": "stream",
     "text": [
      "Training has completed epoch 34\n"
     ]
    },
    {
     "name": "stderr",
     "output_type": "stream",
     "text": [
      "\n",
      "Epoch [34/100] V Loss:0.2181 Custom Loss:3.5463: 100%|██████████| 313/313 [00:02<00:00, 135.19it/s]"
     ]
    },
    {
     "name": "stdout",
     "output_type": "stream",
     "text": [
      "Best Validation Loss is now: 0.2181 at Epoch: 34\n"
     ]
    },
    {
     "name": "stderr",
     "output_type": "stream",
     "text": [
      "\n",
      "Epoch [35/100] T Loss:0.2358 Cus Loss:3.2920  LR is 0.001000: 100%|█| 2500/2500 [00:35<00:00, 69.99"
     ]
    },
    {
     "name": "stdout",
     "output_type": "stream",
     "text": [
      "Training has completed epoch 35\n"
     ]
    },
    {
     "name": "stderr",
     "output_type": "stream",
     "text": [
      "\n",
      "Epoch [35/100] V Loss:0.1665 Custom Loss:3.9519: 100%|██████████| 313/313 [00:01<00:00, 158.70it/s]"
     ]
    },
    {
     "name": "stdout",
     "output_type": "stream",
     "text": [
      "Best Validation Loss is now: 0.1665 at Epoch: 35\n"
     ]
    },
    {
     "name": "stderr",
     "output_type": "stream",
     "text": [
      "\n",
      "Epoch [36/100] T Loss:0.1912 Cus Loss:3.5165  LR is 0.001000: 100%|█| 2500/2500 [00:32<00:00, 76.63"
     ]
    },
    {
     "name": "stdout",
     "output_type": "stream",
     "text": [
      "Training has completed epoch 36\n"
     ]
    },
    {
     "name": "stderr",
     "output_type": "stream",
     "text": [
      "\n",
      "Epoch [36/100] V Loss:0.1512 Custom Loss:3.7145: 100%|██████████| 313/313 [00:01<00:00, 159.66it/s]"
     ]
    },
    {
     "name": "stdout",
     "output_type": "stream",
     "text": [
      "Best Validation Loss is now: 0.1512 at Epoch: 36\n"
     ]
    },
    {
     "name": "stderr",
     "output_type": "stream",
     "text": [
      "\n",
      "Epoch [37/100] T Loss:0.1820 Cus Loss:3.3585  LR is 0.001000: 100%|█| 2500/2500 [00:32<00:00, 76.38"
     ]
    },
    {
     "name": "stdout",
     "output_type": "stream",
     "text": [
      "Training has completed epoch 37\n"
     ]
    },
    {
     "name": "stderr",
     "output_type": "stream",
     "text": [
      "\n",
      "Epoch [37/100] V Loss:0.1464 Custom Loss:3.4287: 100%|██████████| 313/313 [00:01<00:00, 174.22it/s]"
     ]
    },
    {
     "name": "stdout",
     "output_type": "stream",
     "text": [
      "Best Validation Loss is now: 0.1464 at Epoch: 37\n"
     ]
    },
    {
     "name": "stderr",
     "output_type": "stream",
     "text": [
      "\n",
      "Epoch [38/100] T Loss:0.1778 Cus Loss:3.2364  LR is 0.001000: 100%|█| 2500/2500 [00:31<00:00, 79.85"
     ]
    },
    {
     "name": "stdout",
     "output_type": "stream",
     "text": [
      "Training has completed epoch 38\n"
     ]
    },
    {
     "name": "stderr",
     "output_type": "stream",
     "text": [
      "\n",
      "Epoch [38/100] V Loss:0.1442 Custom Loss:3.2351: 100%|██████████| 313/313 [00:01<00:00, 174.14it/s]"
     ]
    },
    {
     "name": "stdout",
     "output_type": "stream",
     "text": [
      "Best Validation Loss is now: 0.1442 at Epoch: 38\n"
     ]
    },
    {
     "name": "stderr",
     "output_type": "stream",
     "text": [
      "\n",
      "Epoch [39/100] T Loss:0.1754 Cus Loss:3.1843  LR is 0.001000: 100%|█| 2500/2500 [00:31<00:00, 79.09"
     ]
    },
    {
     "name": "stdout",
     "output_type": "stream",
     "text": [
      "Training has completed epoch 39\n"
     ]
    },
    {
     "name": "stderr",
     "output_type": "stream",
     "text": [
      "\n",
      "Epoch [39/100] V Loss:0.1431 Custom Loss:3.9329: 100%|██████████| 313/313 [00:02<00:00, 147.40it/s]"
     ]
    },
    {
     "name": "stdout",
     "output_type": "stream",
     "text": [
      "Best Validation Loss is now: 0.1431 at Epoch: 39\n"
     ]
    },
    {
     "name": "stderr",
     "output_type": "stream",
     "text": [
      "\n",
      "Epoch [40/100] T Loss:0.1731 Cus Loss:3.0708  LR is 0.001000: 100%|█| 2500/2500 [00:31<00:00, 78.40"
     ]
    },
    {
     "name": "stdout",
     "output_type": "stream",
     "text": [
      "Training has completed epoch 40\n"
     ]
    },
    {
     "name": "stderr",
     "output_type": "stream",
     "text": [
      "\n",
      "Epoch [40/100] V Loss:0.1424 Custom Loss:3.4599: 100%|██████████| 313/313 [00:01<00:00, 160.50it/s]"
     ]
    },
    {
     "name": "stdout",
     "output_type": "stream",
     "text": [
      "Best Validation Loss is now: 0.1424 at Epoch: 40\n"
     ]
    },
    {
     "name": "stderr",
     "output_type": "stream",
     "text": [
      "\n",
      "Epoch [41/100] T Loss:0.1719 Cus Loss:3.0352  LR is 0.001000: 100%|█| 2500/2500 [00:33<00:00, 74.48"
     ]
    },
    {
     "name": "stdout",
     "output_type": "stream",
     "text": [
      "Training has completed epoch 41\n"
     ]
    },
    {
     "name": "stderr",
     "output_type": "stream",
     "text": [
      "\n",
      "Epoch [41/100] V Loss:0.1419 Custom Loss:3.4146: 100%|██████████| 313/313 [00:01<00:00, 186.39it/s]"
     ]
    },
    {
     "name": "stdout",
     "output_type": "stream",
     "text": [
      "Best Validation Loss is now: 0.1419 at Epoch: 41\n"
     ]
    },
    {
     "name": "stderr",
     "output_type": "stream",
     "text": [
      "\n",
      "Epoch [42/100] T Loss:0.1709 Cus Loss:3.0125  LR is 0.001000: 100%|█| 2500/2500 [00:32<00:00, 76.72"
     ]
    },
    {
     "name": "stdout",
     "output_type": "stream",
     "text": [
      "Training has completed epoch 42\n"
     ]
    },
    {
     "name": "stderr",
     "output_type": "stream",
     "text": [
      "\n",
      "Epoch [42/100] V Loss:0.1402 Custom Loss:3.1982: 100%|██████████| 313/313 [00:02<00:00, 146.27it/s]"
     ]
    },
    {
     "name": "stdout",
     "output_type": "stream",
     "text": [
      "Best Validation Loss is now: 0.1402 at Epoch: 42\n"
     ]
    },
    {
     "name": "stderr",
     "output_type": "stream",
     "text": [
      "\n",
      "Epoch [43/100] T Loss:0.1694 Cus Loss:2.9140  LR is 0.001000: 100%|█| 2500/2500 [00:32<00:00, 75.97"
     ]
    },
    {
     "name": "stdout",
     "output_type": "stream",
     "text": [
      "Training has completed epoch 43\n"
     ]
    },
    {
     "name": "stderr",
     "output_type": "stream",
     "text": [
      "\n",
      "Epoch [43/100] V Loss:0.1402 Custom Loss:3.9900: 100%|██████████| 313/313 [00:02<00:00, 138.92it/s]"
     ]
    },
    {
     "name": "stdout",
     "output_type": "stream",
     "text": [
      "This is Epoch: 1 without improvement\n",
      "Current Validation Loss is: 0.1402 at Epoch: 43\n",
      "Best Validation Loss remains: 0.1402 at Epoch: 42\n",
      "Current Validation Custom Loss is: 3.9900 at Epoch: 43\n"
     ]
    },
    {
     "name": "stderr",
     "output_type": "stream",
     "text": [
      "\n",
      "Epoch [44/100] T Loss:0.1686 Cus Loss:2.8846  LR is 0.001000: 100%|█| 2500/2500 [00:31<00:00, 79.96"
     ]
    },
    {
     "name": "stdout",
     "output_type": "stream",
     "text": [
      "Training has completed epoch 44\n"
     ]
    },
    {
     "name": "stderr",
     "output_type": "stream",
     "text": [
      "\n",
      "Epoch [44/100] V Loss:0.1398 Custom Loss:3.5557: 100%|██████████| 313/313 [00:02<00:00, 153.57it/s]"
     ]
    },
    {
     "name": "stdout",
     "output_type": "stream",
     "text": [
      "Best Validation Loss is now: 0.1398 at Epoch: 44\n"
     ]
    },
    {
     "name": "stderr",
     "output_type": "stream",
     "text": [
      "\n",
      "Epoch [45/100] T Loss:0.1677 Cus Loss:2.8307  LR is 0.001000: 100%|█| 2500/2500 [00:31<00:00, 78.62"
     ]
    },
    {
     "name": "stdout",
     "output_type": "stream",
     "text": [
      "Training has completed epoch 45\n"
     ]
    },
    {
     "name": "stderr",
     "output_type": "stream",
     "text": [
      "\n",
      "Epoch [45/100] V Loss:0.1395 Custom Loss:3.2684: 100%|██████████| 313/313 [00:01<00:00, 170.26it/s]"
     ]
    },
    {
     "name": "stdout",
     "output_type": "stream",
     "text": [
      "Best Validation Loss is now: 0.1395 at Epoch: 45\n"
     ]
    },
    {
     "name": "stderr",
     "output_type": "stream",
     "text": [
      "\n",
      "Epoch [46/100] T Loss:0.1668 Cus Loss:2.7749  LR is 0.001000: 100%|█| 2500/2500 [00:32<00:00, 75.77"
     ]
    },
    {
     "name": "stdout",
     "output_type": "stream",
     "text": [
      "Training has completed epoch 46\n"
     ]
    },
    {
     "name": "stderr",
     "output_type": "stream",
     "text": [
      "\n",
      "Epoch [46/100] V Loss:0.1391 Custom Loss:3.3672: 100%|██████████| 313/313 [00:02<00:00, 147.18it/s]"
     ]
    },
    {
     "name": "stdout",
     "output_type": "stream",
     "text": [
      "Best Validation Loss is now: 0.1391 at Epoch: 46\n"
     ]
    },
    {
     "name": "stderr",
     "output_type": "stream",
     "text": [
      "\n",
      "Epoch [47/100] T Loss:0.1659 Cus Loss:2.7177  LR is 0.001000: 100%|█| 2500/2500 [00:32<00:00, 77.94"
     ]
    },
    {
     "name": "stdout",
     "output_type": "stream",
     "text": [
      "Training has completed epoch 47\n"
     ]
    },
    {
     "name": "stderr",
     "output_type": "stream",
     "text": [
      "\n",
      "Epoch [47/100] V Loss:0.1386 Custom Loss:3.1658: 100%|██████████| 313/313 [00:02<00:00, 141.05it/s]"
     ]
    },
    {
     "name": "stdout",
     "output_type": "stream",
     "text": [
      "Best Validation Loss is now: 0.1386 at Epoch: 47\n"
     ]
    },
    {
     "name": "stderr",
     "output_type": "stream",
     "text": [
      "\n",
      "Epoch [48/100] T Loss:0.1655 Cus Loss:2.7022  LR is 0.001000: 100%|█| 2500/2500 [00:32<00:00, 77.37"
     ]
    },
    {
     "name": "stdout",
     "output_type": "stream",
     "text": [
      "Training has completed epoch 48\n"
     ]
    },
    {
     "name": "stderr",
     "output_type": "stream",
     "text": [
      "\n",
      "Epoch [48/100] V Loss:0.1385 Custom Loss:3.6328: 100%|██████████| 313/313 [00:02<00:00, 151.38it/s]"
     ]
    },
    {
     "name": "stdout",
     "output_type": "stream",
     "text": [
      "Best Validation Loss is now: 0.1385 at Epoch: 48\n"
     ]
    },
    {
     "name": "stderr",
     "output_type": "stream",
     "text": [
      "\n",
      "Epoch [49/100] T Loss:0.1645 Cus Loss:2.6381  LR is 0.001000: 100%|█| 2500/2500 [00:31<00:00, 80.47"
     ]
    },
    {
     "name": "stdout",
     "output_type": "stream",
     "text": [
      "Training has completed epoch 49\n"
     ]
    },
    {
     "name": "stderr",
     "output_type": "stream",
     "text": [
      "\n",
      "Epoch [49/100] V Loss:0.1378 Custom Loss:3.3074: 100%|██████████| 313/313 [00:02<00:00, 142.85it/s]"
     ]
    },
    {
     "name": "stdout",
     "output_type": "stream",
     "text": [
      "Best Validation Loss is now: 0.1378 at Epoch: 49\n"
     ]
    },
    {
     "name": "stderr",
     "output_type": "stream",
     "text": [
      "\n",
      "Epoch [50/100] T Loss:0.1644 Cus Loss:2.6438  LR is 0.001000: 100%|█| 2500/2500 [00:31<00:00, 80.40"
     ]
    },
    {
     "name": "stdout",
     "output_type": "stream",
     "text": [
      "Training has completed epoch 50\n"
     ]
    },
    {
     "name": "stderr",
     "output_type": "stream",
     "text": [
      "\n",
      "Epoch [50/100] V Loss:0.1377 Custom Loss:3.1878: 100%|██████████| 313/313 [00:02<00:00, 136.70it/s]"
     ]
    },
    {
     "name": "stdout",
     "output_type": "stream",
     "text": [
      "Best Validation Loss is now: 0.1377 at Epoch: 50\n"
     ]
    },
    {
     "name": "stderr",
     "output_type": "stream",
     "text": [
      "\n",
      "Epoch [51/100] T Loss:0.1639 Cus Loss:2.6159  LR is 0.001000: 100%|█| 2500/2500 [00:30<00:00, 80.71"
     ]
    },
    {
     "name": "stdout",
     "output_type": "stream",
     "text": [
      "Training has completed epoch 51\n"
     ]
    },
    {
     "name": "stderr",
     "output_type": "stream",
     "text": [
      "\n",
      "Epoch [51/100] V Loss:0.1375 Custom Loss:3.3253: 100%|██████████| 313/313 [00:02<00:00, 142.95it/s]"
     ]
    },
    {
     "name": "stdout",
     "output_type": "stream",
     "text": [
      "Best Validation Loss is now: 0.1375 at Epoch: 51\n"
     ]
    },
    {
     "name": "stderr",
     "output_type": "stream",
     "text": [
      "\n",
      "Epoch [52/100] T Loss:0.1636 Cus Loss:2.6013  LR is 0.001000: 100%|█| 2500/2500 [00:30<00:00, 80.72"
     ]
    },
    {
     "name": "stdout",
     "output_type": "stream",
     "text": [
      "Training has completed epoch 52\n"
     ]
    },
    {
     "name": "stderr",
     "output_type": "stream",
     "text": [
      "\n",
      "Epoch [52/100] V Loss:0.1378 Custom Loss:3.3748: 100%|██████████| 313/313 [00:02<00:00, 136.03it/s]"
     ]
    },
    {
     "name": "stdout",
     "output_type": "stream",
     "text": [
      "This is Epoch: 1 without improvement\n",
      "Current Validation Loss is: 0.1378 at Epoch: 52\n",
      "Best Validation Loss remains: 0.1375 at Epoch: 51\n",
      "Current Validation Custom Loss is: 3.3748 at Epoch: 52\n"
     ]
    },
    {
     "name": "stderr",
     "output_type": "stream",
     "text": [
      "\n",
      "Epoch [53/100] T Loss:0.1633 Cus Loss:2.5869  LR is 0.001000: 100%|█| 2500/2500 [00:31<00:00, 80.49"
     ]
    },
    {
     "name": "stdout",
     "output_type": "stream",
     "text": [
      "Training has completed epoch 53\n"
     ]
    },
    {
     "name": "stderr",
     "output_type": "stream",
     "text": [
      "\n",
      "Epoch [53/100] V Loss:0.1376 Custom Loss:4.1919: 100%|██████████| 313/313 [00:01<00:00, 164.10it/s]"
     ]
    },
    {
     "name": "stdout",
     "output_type": "stream",
     "text": [
      "This is Epoch: 2 without improvement\n",
      "Current Validation Loss is: 0.1376 at Epoch: 53\n",
      "Best Validation Loss remains: 0.1375 at Epoch: 51\n",
      "Current Validation Custom Loss is: 4.1919 at Epoch: 53\n"
     ]
    },
    {
     "name": "stderr",
     "output_type": "stream",
     "text": [
      "\n",
      "Epoch [54/100] T Loss:0.1619 Cus Loss:2.4742  LR is 0.001000: 100%|█| 2500/2500 [00:33<00:00, 75.75"
     ]
    },
    {
     "name": "stdout",
     "output_type": "stream",
     "text": [
      "Training has completed epoch 54\n"
     ]
    },
    {
     "name": "stderr",
     "output_type": "stream",
     "text": [
      "\n",
      "Epoch [54/100] V Loss:0.1362 Custom Loss:4.6761: 100%|██████████| 313/313 [00:02<00:00, 130.86it/s]"
     ]
    },
    {
     "name": "stdout",
     "output_type": "stream",
     "text": [
      "Best Validation Loss is now: 0.1362 at Epoch: 54\n"
     ]
    },
    {
     "name": "stderr",
     "output_type": "stream",
     "text": [
      "\n",
      "Epoch [55/100] T Loss:0.1628 Cus Loss:2.5735  LR is 0.001000: 100%|█| 2500/2500 [00:31<00:00, 78.74"
     ]
    },
    {
     "name": "stdout",
     "output_type": "stream",
     "text": [
      "Training has completed epoch 55\n"
     ]
    },
    {
     "name": "stderr",
     "output_type": "stream",
     "text": [
      "\n",
      "Epoch [55/100] V Loss:0.1367 Custom Loss:4.1177: 100%|██████████| 313/313 [00:02<00:00, 134.72it/s]"
     ]
    },
    {
     "name": "stdout",
     "output_type": "stream",
     "text": [
      "This is Epoch: 1 without improvement\n",
      "Current Validation Loss is: 0.1367 at Epoch: 55\n",
      "Best Validation Loss remains: 0.1362 at Epoch: 54\n",
      "Current Validation Custom Loss is: 4.1177 at Epoch: 55\n"
     ]
    },
    {
     "name": "stderr",
     "output_type": "stream",
     "text": [
      "\n",
      "Epoch [56/100] T Loss:0.1617 Cus Loss:2.4815  LR is 0.001000: 100%|█| 2500/2500 [00:30<00:00, 80.97"
     ]
    },
    {
     "name": "stdout",
     "output_type": "stream",
     "text": [
      "Training has completed epoch 56\n"
     ]
    },
    {
     "name": "stderr",
     "output_type": "stream",
     "text": [
      "\n",
      "Epoch [56/100] V Loss:0.1371 Custom Loss:3.4609: 100%|██████████| 313/313 [00:02<00:00, 153.97it/s]"
     ]
    },
    {
     "name": "stdout",
     "output_type": "stream",
     "text": [
      "This is Epoch: 2 without improvement\n",
      "Current Validation Loss is: 0.1371 at Epoch: 56\n",
      "Best Validation Loss remains: 0.1362 at Epoch: 54\n",
      "Current Validation Custom Loss is: 3.4609 at Epoch: 56\n"
     ]
    },
    {
     "name": "stderr",
     "output_type": "stream",
     "text": [
      "\n",
      "Epoch [57/100] T Loss:0.1611 Cus Loss:2.4318  LR is 0.001000: 100%|█| 2500/2500 [00:30<00:00, 80.69"
     ]
    },
    {
     "name": "stdout",
     "output_type": "stream",
     "text": [
      "Training has completed epoch 57\n"
     ]
    },
    {
     "name": "stderr",
     "output_type": "stream",
     "text": [
      "\n",
      "Epoch [57/100] V Loss:0.1369 Custom Loss:3.4110: 100%|██████████| 313/313 [00:02<00:00, 145.23it/s]"
     ]
    },
    {
     "name": "stdout",
     "output_type": "stream",
     "text": [
      "This is Epoch: 3 without improvement\n",
      "Current Validation Loss is: 0.1369 at Epoch: 57\n",
      "Best Validation Loss remains: 0.1362 at Epoch: 54\n",
      "Current Validation Custom Loss is: 3.4110 at Epoch: 57\n"
     ]
    },
    {
     "name": "stderr",
     "output_type": "stream",
     "text": [
      "\n",
      "Epoch [58/100] T Loss:0.1610 Cus Loss:2.4377  LR is 0.001000: 100%|█| 2500/2500 [00:31<00:00, 80.44"
     ]
    },
    {
     "name": "stdout",
     "output_type": "stream",
     "text": [
      "Training has completed epoch 58\n"
     ]
    },
    {
     "name": "stderr",
     "output_type": "stream",
     "text": [
      "\n",
      "Epoch [58/100] V Loss:0.1362 Custom Loss:3.3650: 100%|██████████| 313/313 [00:01<00:00, 159.58it/s]"
     ]
    },
    {
     "name": "stdout",
     "output_type": "stream",
     "text": [
      "Best Validation Loss is now: 0.1362 at Epoch: 58\n"
     ]
    },
    {
     "name": "stderr",
     "output_type": "stream",
     "text": [
      "\n",
      "Epoch [59/100] T Loss:0.1608 Cus Loss:2.4264  LR is 0.001000: 100%|█| 2500/2500 [00:30<00:00, 80.75"
     ]
    },
    {
     "name": "stdout",
     "output_type": "stream",
     "text": [
      "Training has completed epoch 59\n"
     ]
    },
    {
     "name": "stderr",
     "output_type": "stream",
     "text": [
      "\n",
      "Epoch [59/100] V Loss:0.1363 Custom Loss:3.3365: 100%|██████████| 313/313 [00:02<00:00, 138.09it/s]"
     ]
    },
    {
     "name": "stdout",
     "output_type": "stream",
     "text": [
      "This is Epoch: 1 without improvement\n",
      "Current Validation Loss is: 0.1363 at Epoch: 59\n",
      "Best Validation Loss remains: 0.1362 at Epoch: 58\n",
      "Current Validation Custom Loss is: 3.3365 at Epoch: 59\n"
     ]
    },
    {
     "name": "stderr",
     "output_type": "stream",
     "text": [
      "\n",
      "Epoch [60/100] T Loss:0.1603 Cus Loss:2.3927  LR is 0.001000: 100%|█| 2500/2500 [00:31<00:00, 80.53"
     ]
    },
    {
     "name": "stdout",
     "output_type": "stream",
     "text": [
      "Training has completed epoch 60\n"
     ]
    },
    {
     "name": "stderr",
     "output_type": "stream",
     "text": [
      "\n",
      "Epoch [60/100] V Loss:0.1361 Custom Loss:3.5924: 100%|██████████| 313/313 [00:02<00:00, 148.54it/s]"
     ]
    },
    {
     "name": "stdout",
     "output_type": "stream",
     "text": [
      "Best Validation Loss is now: 0.1361 at Epoch: 60\n"
     ]
    },
    {
     "name": "stderr",
     "output_type": "stream",
     "text": [
      "\n",
      "Epoch [61/100] T Loss:0.1599 Cus Loss:2.3596  LR is 0.001000: 100%|█| 2500/2500 [00:30<00:00, 80.98"
     ]
    },
    {
     "name": "stdout",
     "output_type": "stream",
     "text": [
      "Training has completed epoch 61\n"
     ]
    },
    {
     "name": "stderr",
     "output_type": "stream",
     "text": [
      "\n",
      "Epoch [61/100] V Loss:0.1370 Custom Loss:3.5759: 100%|██████████| 313/313 [00:02<00:00, 143.37it/s]"
     ]
    },
    {
     "name": "stdout",
     "output_type": "stream",
     "text": [
      "This is Epoch: 1 without improvement\n",
      "Current Validation Loss is: 0.1370 at Epoch: 61\n",
      "Best Validation Loss remains: 0.1361 at Epoch: 60\n",
      "Current Validation Custom Loss is: 3.5759 at Epoch: 61\n"
     ]
    },
    {
     "name": "stderr",
     "output_type": "stream",
     "text": [
      "\n",
      "Epoch [62/100] T Loss:0.1596 Cus Loss:2.3509  LR is 0.001000: 100%|█| 2500/2500 [00:31<00:00, 78.83"
     ]
    },
    {
     "name": "stdout",
     "output_type": "stream",
     "text": [
      "Training has completed epoch 62\n"
     ]
    },
    {
     "name": "stderr",
     "output_type": "stream",
     "text": [
      "\n",
      "Epoch [62/100] V Loss:0.1361 Custom Loss:3.2752: 100%|██████████| 313/313 [00:02<00:00, 141.01it/s]"
     ]
    },
    {
     "name": "stdout",
     "output_type": "stream",
     "text": [
      "Best Validation Loss is now: 0.1361 at Epoch: 62\n"
     ]
    },
    {
     "name": "stderr",
     "output_type": "stream",
     "text": [
      "\n",
      "Epoch [63/100] T Loss:0.1594 Cus Loss:2.3385  LR is 0.001000: 100%|█| 2500/2500 [00:31<00:00, 80.00"
     ]
    },
    {
     "name": "stdout",
     "output_type": "stream",
     "text": [
      "Training has completed epoch 63\n"
     ]
    },
    {
     "name": "stderr",
     "output_type": "stream",
     "text": [
      "\n",
      "Epoch [63/100] V Loss:0.1360 Custom Loss:3.5294: 100%|██████████| 313/313 [00:02<00:00, 141.82it/s]"
     ]
    },
    {
     "name": "stdout",
     "output_type": "stream",
     "text": [
      "Best Validation Loss is now: 0.1360 at Epoch: 63\n"
     ]
    },
    {
     "name": "stderr",
     "output_type": "stream",
     "text": [
      "\n",
      "Epoch [64/100] T Loss:0.1593 Cus Loss:2.3337  LR is 0.001000: 100%|█| 2500/2500 [00:31<00:00, 80.44"
     ]
    },
    {
     "name": "stdout",
     "output_type": "stream",
     "text": [
      "Training has completed epoch 64\n"
     ]
    },
    {
     "name": "stderr",
     "output_type": "stream",
     "text": [
      "\n",
      "Epoch [64/100] V Loss:0.1356 Custom Loss:3.6478: 100%|██████████| 313/313 [00:02<00:00, 154.07it/s]"
     ]
    },
    {
     "name": "stdout",
     "output_type": "stream",
     "text": [
      "Best Validation Loss is now: 0.1356 at Epoch: 64\n"
     ]
    },
    {
     "name": "stderr",
     "output_type": "stream",
     "text": [
      "\n",
      "Epoch [65/100] T Loss:0.1592 Cus Loss:2.3294  LR is 0.001000: 100%|█| 2500/2500 [00:31<00:00, 78.61"
     ]
    },
    {
     "name": "stdout",
     "output_type": "stream",
     "text": [
      "Training has completed epoch 65\n"
     ]
    },
    {
     "name": "stderr",
     "output_type": "stream",
     "text": [
      "\n",
      "Epoch [65/100] V Loss:0.1352 Custom Loss:4.6312: 100%|██████████| 313/313 [00:02<00:00, 134.05it/s]"
     ]
    },
    {
     "name": "stdout",
     "output_type": "stream",
     "text": [
      "Best Validation Loss is now: 0.1352 at Epoch: 65\n"
     ]
    },
    {
     "name": "stderr",
     "output_type": "stream",
     "text": [
      "\n",
      "Epoch [66/100] T Loss:0.1582 Cus Loss:2.2459  LR is 0.001000: 100%|█| 2500/2500 [00:32<00:00, 76.35"
     ]
    },
    {
     "name": "stdout",
     "output_type": "stream",
     "text": [
      "Training has completed epoch 66\n"
     ]
    },
    {
     "name": "stderr",
     "output_type": "stream",
     "text": [
      "\n",
      "Epoch [66/100] V Loss:0.1356 Custom Loss:3.6043: 100%|██████████| 313/313 [00:02<00:00, 140.27it/s]"
     ]
    },
    {
     "name": "stdout",
     "output_type": "stream",
     "text": [
      "This is Epoch: 1 without improvement\n",
      "Current Validation Loss is: 0.1356 at Epoch: 66\n",
      "Best Validation Loss remains: 0.1352 at Epoch: 65\n",
      "Current Validation Custom Loss is: 3.6043 at Epoch: 66\n"
     ]
    },
    {
     "name": "stderr",
     "output_type": "stream",
     "text": [
      "\n",
      "Epoch [67/100] T Loss:0.1581 Cus Loss:2.2450  LR is 0.001000: 100%|█| 2500/2500 [00:32<00:00, 77.55"
     ]
    },
    {
     "name": "stdout",
     "output_type": "stream",
     "text": [
      "Training has completed epoch 67\n"
     ]
    },
    {
     "name": "stderr",
     "output_type": "stream",
     "text": [
      "\n",
      "Epoch [67/100] V Loss:0.1357 Custom Loss:3.5201: 100%|██████████| 313/313 [00:01<00:00, 167.31it/s]"
     ]
    },
    {
     "name": "stdout",
     "output_type": "stream",
     "text": [
      "This is Epoch: 2 without improvement\n",
      "Current Validation Loss is: 0.1357 at Epoch: 67\n",
      "Best Validation Loss remains: 0.1352 at Epoch: 65\n",
      "Current Validation Custom Loss is: 3.5201 at Epoch: 67\n"
     ]
    },
    {
     "name": "stderr",
     "output_type": "stream",
     "text": [
      "\n",
      "Epoch [68/100] T Loss:0.1581 Cus Loss:2.2518  LR is 0.001000: 100%|█| 2500/2500 [00:31<00:00, 80.06"
     ]
    },
    {
     "name": "stdout",
     "output_type": "stream",
     "text": [
      "Training has completed epoch 68\n"
     ]
    },
    {
     "name": "stderr",
     "output_type": "stream",
     "text": [
      "\n",
      "Epoch [68/100] V Loss:0.1354 Custom Loss:3.6780: 100%|██████████| 313/313 [00:02<00:00, 139.75it/s]"
     ]
    },
    {
     "name": "stdout",
     "output_type": "stream",
     "text": [
      "This is Epoch: 3 without improvement\n",
      "Current Validation Loss is: 0.1354 at Epoch: 68\n",
      "Best Validation Loss remains: 0.1352 at Epoch: 65\n",
      "Current Validation Custom Loss is: 3.6780 at Epoch: 68\n"
     ]
    },
    {
     "name": "stderr",
     "output_type": "stream",
     "text": [
      "\n",
      "Epoch [69/100] T Loss:0.1574 Cus Loss:2.1942  LR is 0.001000: 100%|█| 2500/2500 [00:31<00:00, 79.59"
     ]
    },
    {
     "name": "stdout",
     "output_type": "stream",
     "text": [
      "Training has completed epoch 69\n"
     ]
    },
    {
     "name": "stderr",
     "output_type": "stream",
     "text": [
      "\n",
      "Epoch [69/100] V Loss:0.1351 Custom Loss:3.3559: 100%|██████████| 313/313 [00:02<00:00, 136.23it/s]"
     ]
    },
    {
     "name": "stdout",
     "output_type": "stream",
     "text": [
      "Best Validation Loss is now: 0.1351 at Epoch: 69\n"
     ]
    },
    {
     "name": "stderr",
     "output_type": "stream",
     "text": [
      "\n",
      "Epoch [70/100] T Loss:0.1577 Cus Loss:2.2345  LR is 0.001000: 100%|█| 2500/2500 [00:32<00:00, 77.00"
     ]
    },
    {
     "name": "stdout",
     "output_type": "stream",
     "text": [
      "Training has completed epoch 70\n"
     ]
    },
    {
     "name": "stderr",
     "output_type": "stream",
     "text": [
      "\n",
      "Epoch [70/100] V Loss:0.1356 Custom Loss:3.6534: 100%|██████████| 313/313 [00:02<00:00, 148.26it/s]"
     ]
    },
    {
     "name": "stdout",
     "output_type": "stream",
     "text": [
      "This is Epoch: 1 without improvement\n",
      "Current Validation Loss is: 0.1356 at Epoch: 70\n",
      "Best Validation Loss remains: 0.1351 at Epoch: 69\n",
      "Current Validation Custom Loss is: 3.6534 at Epoch: 70\n"
     ]
    },
    {
     "name": "stderr",
     "output_type": "stream",
     "text": [
      "\n",
      "Epoch [71/100] T Loss:0.1577 Cus Loss:2.2393  LR is 0.001000: 100%|█| 2500/2500 [00:32<00:00, 76.81"
     ]
    },
    {
     "name": "stdout",
     "output_type": "stream",
     "text": [
      "Training has completed epoch 71\n"
     ]
    },
    {
     "name": "stderr",
     "output_type": "stream",
     "text": [
      "\n",
      "Epoch [71/100] V Loss:0.1348 Custom Loss:3.7565: 100%|██████████| 313/313 [00:02<00:00, 146.14it/s]"
     ]
    },
    {
     "name": "stdout",
     "output_type": "stream",
     "text": [
      "Best Validation Loss is now: 0.1348 at Epoch: 71\n"
     ]
    },
    {
     "name": "stderr",
     "output_type": "stream",
     "text": [
      "\n",
      "Epoch [72/100] T Loss:0.1573 Cus Loss:2.2042  LR is 0.001000: 100%|█| 2500/2500 [00:31<00:00, 80.03"
     ]
    },
    {
     "name": "stdout",
     "output_type": "stream",
     "text": [
      "Training has completed epoch 72\n"
     ]
    },
    {
     "name": "stderr",
     "output_type": "stream",
     "text": [
      "\n",
      "Epoch [72/100] V Loss:0.1360 Custom Loss:3.5579: 100%|██████████| 313/313 [00:01<00:00, 157.47it/s]"
     ]
    },
    {
     "name": "stdout",
     "output_type": "stream",
     "text": [
      "This is Epoch: 1 without improvement\n",
      "Current Validation Loss is: 0.1360 at Epoch: 72\n",
      "Best Validation Loss remains: 0.1348 at Epoch: 71\n",
      "Current Validation Custom Loss is: 3.5579 at Epoch: 72\n"
     ]
    },
    {
     "name": "stderr",
     "output_type": "stream",
     "text": [
      "\n",
      "Epoch [73/100] T Loss:0.1572 Cus Loss:2.2038  LR is 0.001000: 100%|█| 2500/2500 [00:31<00:00, 79.67"
     ]
    },
    {
     "name": "stdout",
     "output_type": "stream",
     "text": [
      "Training has completed epoch 73\n"
     ]
    },
    {
     "name": "stderr",
     "output_type": "stream",
     "text": [
      "\n",
      "Epoch [73/100] V Loss:0.1347 Custom Loss:3.4533: 100%|██████████| 313/313 [00:02<00:00, 135.51it/s]"
     ]
    },
    {
     "name": "stdout",
     "output_type": "stream",
     "text": [
      "Best Validation Loss is now: 0.1347 at Epoch: 73\n"
     ]
    },
    {
     "name": "stderr",
     "output_type": "stream",
     "text": [
      "\n",
      "Epoch [74/100] T Loss:0.1571 Cus Loss:2.2024  LR is 0.001000: 100%|█| 2500/2500 [00:31<00:00, 80.28"
     ]
    },
    {
     "name": "stdout",
     "output_type": "stream",
     "text": [
      "Training has completed epoch 74\n"
     ]
    },
    {
     "name": "stderr",
     "output_type": "stream",
     "text": [
      "\n",
      "Epoch [74/100] V Loss:0.1345 Custom Loss:3.6991: 100%|██████████| 313/313 [00:02<00:00, 136.68it/s]"
     ]
    },
    {
     "name": "stdout",
     "output_type": "stream",
     "text": [
      "Best Validation Loss is now: 0.1345 at Epoch: 74\n"
     ]
    },
    {
     "name": "stderr",
     "output_type": "stream",
     "text": [
      "\n",
      "Epoch [75/100] T Loss:0.1565 Cus Loss:2.1521  LR is 0.001000: 100%|█| 2500/2500 [00:31<00:00, 79.53"
     ]
    },
    {
     "name": "stdout",
     "output_type": "stream",
     "text": [
      "Training has completed epoch 75\n"
     ]
    },
    {
     "name": "stderr",
     "output_type": "stream",
     "text": [
      "\n",
      "Epoch [75/100] V Loss:0.1352 Custom Loss:3.4930: 100%|██████████| 313/313 [00:02<00:00, 141.29it/s]"
     ]
    },
    {
     "name": "stdout",
     "output_type": "stream",
     "text": [
      "This is Epoch: 1 without improvement\n",
      "Current Validation Loss is: 0.1352 at Epoch: 75\n",
      "Best Validation Loss remains: 0.1345 at Epoch: 74\n",
      "Current Validation Custom Loss is: 3.4930 at Epoch: 75\n"
     ]
    },
    {
     "name": "stderr",
     "output_type": "stream",
     "text": [
      "\n",
      "Epoch [76/100] T Loss:0.1561 Cus Loss:2.1176  LR is 0.001000: 100%|█| 2500/2500 [00:31<00:00, 79.96"
     ]
    },
    {
     "name": "stdout",
     "output_type": "stream",
     "text": [
      "Training has completed epoch 76\n"
     ]
    },
    {
     "name": "stderr",
     "output_type": "stream",
     "text": [
      "\n",
      "Epoch [76/100] V Loss:0.1352 Custom Loss:3.4868: 100%|██████████| 313/313 [00:02<00:00, 142.16it/s]"
     ]
    },
    {
     "name": "stdout",
     "output_type": "stream",
     "text": [
      "This is Epoch: 2 without improvement\n",
      "Current Validation Loss is: 0.1352 at Epoch: 76\n",
      "Best Validation Loss remains: 0.1345 at Epoch: 74\n",
      "Current Validation Custom Loss is: 3.4868 at Epoch: 76\n"
     ]
    },
    {
     "name": "stderr",
     "output_type": "stream",
     "text": [
      "\n",
      "Epoch [77/100] T Loss:0.1559 Cus Loss:2.1050  LR is 0.001000: 100%|█| 2500/2500 [00:31<00:00, 79.60"
     ]
    },
    {
     "name": "stdout",
     "output_type": "stream",
     "text": [
      "Training has completed epoch 77\n"
     ]
    },
    {
     "name": "stderr",
     "output_type": "stream",
     "text": [
      "\n",
      "Epoch [77/100] V Loss:0.1351 Custom Loss:3.5549: 100%|██████████| 313/313 [00:02<00:00, 149.57it/s]"
     ]
    },
    {
     "name": "stdout",
     "output_type": "stream",
     "text": [
      "This is Epoch: 3 without improvement\n",
      "Current Validation Loss is: 0.1351 at Epoch: 77\n",
      "Best Validation Loss remains: 0.1345 at Epoch: 74\n",
      "Current Validation Custom Loss is: 3.5549 at Epoch: 77\n"
     ]
    },
    {
     "name": "stderr",
     "output_type": "stream",
     "text": [
      "\n",
      "Epoch [78/100] T Loss:0.1561 Cus Loss:2.1308  LR is 0.001000: 100%|█| 2500/2500 [00:31<00:00, 79.39"
     ]
    },
    {
     "name": "stdout",
     "output_type": "stream",
     "text": [
      "Training has completed epoch 78\n"
     ]
    },
    {
     "name": "stderr",
     "output_type": "stream",
     "text": [
      "\n",
      "Epoch [78/100] V Loss:0.1348 Custom Loss:3.6853: 100%|██████████| 313/313 [00:02<00:00, 137.83it/s]"
     ]
    },
    {
     "name": "stdout",
     "output_type": "stream",
     "text": [
      "This is Epoch: 4 without improvement\n",
      "Current Validation Loss is: 0.1348 at Epoch: 78\n",
      "Best Validation Loss remains: 0.1345 at Epoch: 74\n",
      "Current Validation Custom Loss is: 3.6853 at Epoch: 78\n"
     ]
    },
    {
     "name": "stderr",
     "output_type": "stream",
     "text": [
      "\n",
      "Epoch [79/100] T Loss:0.1564 Cus Loss:2.1580  LR is 0.001000: 100%|█| 2500/2500 [00:31<00:00, 78.70"
     ]
    },
    {
     "name": "stdout",
     "output_type": "stream",
     "text": [
      "Training has completed epoch 79\n"
     ]
    },
    {
     "name": "stderr",
     "output_type": "stream",
     "text": [
      "\n",
      "Epoch [79/100] V Loss:0.1350 Custom Loss:3.6758: 100%|██████████| 313/313 [00:02<00:00, 138.85it/s]"
     ]
    },
    {
     "name": "stdout",
     "output_type": "stream",
     "text": [
      "This is Epoch: 5 without improvement\n",
      "Current Validation Loss is: 0.1350 at Epoch: 79\n",
      "Best Validation Loss remains: 0.1345 at Epoch: 74\n",
      "Current Validation Custom Loss is: 3.6758 at Epoch: 79\n"
     ]
    },
    {
     "name": "stderr",
     "output_type": "stream",
     "text": [
      "\n",
      "Epoch [80/100] T Loss:0.1547 Cus Loss:2.0098  LR is 0.000900: 100%|█| 2500/2500 [00:33<00:00, 75.08"
     ]
    },
    {
     "name": "stdout",
     "output_type": "stream",
     "text": [
      "Training has completed epoch 80\n"
     ]
    },
    {
     "name": "stderr",
     "output_type": "stream",
     "text": [
      "\n",
      "Epoch [80/100] V Loss:0.1343 Custom Loss:3.5601: 100%|██████████| 313/313 [00:02<00:00, 137.99it/s]"
     ]
    },
    {
     "name": "stdout",
     "output_type": "stream",
     "text": [
      "Best Validation Loss is now: 0.1343 at Epoch: 80\n"
     ]
    },
    {
     "name": "stderr",
     "output_type": "stream",
     "text": [
      "\n",
      "Epoch [81/100] T Loss:0.1548 Cus Loss:2.0224  LR is 0.000900: 100%|█| 2500/2500 [00:31<00:00, 79.07"
     ]
    },
    {
     "name": "stdout",
     "output_type": "stream",
     "text": [
      "Training has completed epoch 81\n"
     ]
    },
    {
     "name": "stderr",
     "output_type": "stream",
     "text": [
      "\n",
      "Epoch [81/100] V Loss:0.1347 Custom Loss:3.4777: 100%|██████████| 313/313 [00:02<00:00, 126.32it/s]"
     ]
    },
    {
     "name": "stdout",
     "output_type": "stream",
     "text": [
      "This is Epoch: 1 without improvement\n",
      "Current Validation Loss is: 0.1347 at Epoch: 81\n",
      "Best Validation Loss remains: 0.1343 at Epoch: 80\n",
      "Current Validation Custom Loss is: 3.4777 at Epoch: 81\n"
     ]
    },
    {
     "name": "stderr",
     "output_type": "stream",
     "text": [
      "\n",
      "Epoch [82/100] T Loss:0.1553 Cus Loss:2.0752  LR is 0.000900: 100%|█| 2500/2500 [00:31<00:00, 78.77"
     ]
    },
    {
     "name": "stdout",
     "output_type": "stream",
     "text": [
      "Training has completed epoch 82\n"
     ]
    },
    {
     "name": "stderr",
     "output_type": "stream",
     "text": [
      "\n",
      "Epoch [82/100] V Loss:0.1344 Custom Loss:3.6093: 100%|██████████| 313/313 [00:02<00:00, 150.91it/s]"
     ]
    },
    {
     "name": "stdout",
     "output_type": "stream",
     "text": [
      "This is Epoch: 2 without improvement\n",
      "Current Validation Loss is: 0.1344 at Epoch: 82\n",
      "Best Validation Loss remains: 0.1343 at Epoch: 80\n",
      "Current Validation Custom Loss is: 3.6093 at Epoch: 82\n"
     ]
    },
    {
     "name": "stderr",
     "output_type": "stream",
     "text": [
      "\n",
      "Epoch [83/100] T Loss:0.1548 Cus Loss:2.0365  LR is 0.000900: 100%|█| 2500/2500 [00:31<00:00, 79.27"
     ]
    },
    {
     "name": "stdout",
     "output_type": "stream",
     "text": [
      "Training has completed epoch 83\n"
     ]
    },
    {
     "name": "stderr",
     "output_type": "stream",
     "text": [
      "\n",
      "Epoch [83/100] V Loss:0.1349 Custom Loss:3.6568: 100%|██████████| 313/313 [00:01<00:00, 160.07it/s]"
     ]
    },
    {
     "name": "stdout",
     "output_type": "stream",
     "text": [
      "This is Epoch: 3 without improvement\n",
      "Current Validation Loss is: 0.1349 at Epoch: 83\n",
      "Best Validation Loss remains: 0.1343 at Epoch: 80\n",
      "Current Validation Custom Loss is: 3.6568 at Epoch: 83\n"
     ]
    },
    {
     "name": "stderr",
     "output_type": "stream",
     "text": [
      "\n",
      "Epoch [84/100] T Loss:0.1550 Cus Loss:2.0598  LR is 0.000900: 100%|█| 2500/2500 [00:32<00:00, 76.78"
     ]
    },
    {
     "name": "stdout",
     "output_type": "stream",
     "text": [
      "Training has completed epoch 84\n"
     ]
    },
    {
     "name": "stderr",
     "output_type": "stream",
     "text": [
      "\n",
      "Epoch [84/100] V Loss:0.1342 Custom Loss:3.4904: 100%|██████████| 313/313 [00:02<00:00, 147.39it/s]"
     ]
    },
    {
     "name": "stdout",
     "output_type": "stream",
     "text": [
      "Best Validation Loss is now: 0.1342 at Epoch: 84\n"
     ]
    },
    {
     "name": "stderr",
     "output_type": "stream",
     "text": [
      "\n",
      "Epoch [85/100] T Loss:0.1546 Cus Loss:2.0200  LR is 0.000900: 100%|█| 2500/2500 [00:32<00:00, 75.93"
     ]
    },
    {
     "name": "stdout",
     "output_type": "stream",
     "text": [
      "Training has completed epoch 85\n"
     ]
    },
    {
     "name": "stderr",
     "output_type": "stream",
     "text": [
      "\n",
      "Epoch [85/100] V Loss:0.1343 Custom Loss:3.5405: 100%|██████████| 313/313 [00:02<00:00, 149.39it/s]"
     ]
    },
    {
     "name": "stdout",
     "output_type": "stream",
     "text": [
      "This is Epoch: 1 without improvement\n",
      "Current Validation Loss is: 0.1343 at Epoch: 85\n",
      "Best Validation Loss remains: 0.1342 at Epoch: 84\n",
      "Current Validation Custom Loss is: 3.5405 at Epoch: 85\n"
     ]
    },
    {
     "name": "stderr",
     "output_type": "stream",
     "text": [
      "\n",
      "Epoch [86/100] T Loss:0.1542 Cus Loss:1.9949  LR is 0.000900: 100%|█| 2500/2500 [00:31<00:00, 78.39"
     ]
    },
    {
     "name": "stdout",
     "output_type": "stream",
     "text": [
      "Training has completed epoch 86\n"
     ]
    },
    {
     "name": "stderr",
     "output_type": "stream",
     "text": [
      "\n",
      "Epoch [86/100] V Loss:0.1345 Custom Loss:3.6661: 100%|██████████| 313/313 [00:01<00:00, 157.86it/s]"
     ]
    },
    {
     "name": "stdout",
     "output_type": "stream",
     "text": [
      "This is Epoch: 2 without improvement\n",
      "Current Validation Loss is: 0.1345 at Epoch: 86\n",
      "Best Validation Loss remains: 0.1342 at Epoch: 84\n",
      "Current Validation Custom Loss is: 3.6661 at Epoch: 86\n"
     ]
    },
    {
     "name": "stderr",
     "output_type": "stream",
     "text": [
      "\n",
      "Epoch [87/100] T Loss:0.1540 Cus Loss:1.9788  LR is 0.000900: 100%|█| 2500/2500 [00:31<00:00, 78.89"
     ]
    },
    {
     "name": "stdout",
     "output_type": "stream",
     "text": [
      "Training has completed epoch 87\n"
     ]
    },
    {
     "name": "stderr",
     "output_type": "stream",
     "text": [
      "\n",
      "Epoch [87/100] V Loss:0.1343 Custom Loss:3.5489: 100%|██████████| 313/313 [00:02<00:00, 148.37it/s]"
     ]
    },
    {
     "name": "stdout",
     "output_type": "stream",
     "text": [
      "This is Epoch: 3 without improvement\n",
      "Current Validation Loss is: 0.1343 at Epoch: 87\n",
      "Best Validation Loss remains: 0.1342 at Epoch: 84\n",
      "Current Validation Custom Loss is: 3.5489 at Epoch: 87\n"
     ]
    },
    {
     "name": "stderr",
     "output_type": "stream",
     "text": [
      "\n",
      "Epoch [88/100] T Loss:0.1539 Cus Loss:1.9678  LR is 0.000900: 100%|█| 2500/2500 [00:31<00:00, 80.61"
     ]
    },
    {
     "name": "stdout",
     "output_type": "stream",
     "text": [
      "Training has completed epoch 88\n"
     ]
    },
    {
     "name": "stderr",
     "output_type": "stream",
     "text": [
      "\n",
      "Epoch [88/100] V Loss:0.1340 Custom Loss:3.4656: 100%|██████████| 313/313 [00:02<00:00, 149.84it/s]"
     ]
    },
    {
     "name": "stdout",
     "output_type": "stream",
     "text": [
      "Best Validation Loss is now: 0.1340 at Epoch: 88\n"
     ]
    },
    {
     "name": "stderr",
     "output_type": "stream",
     "text": [
      "\n",
      "Epoch [89/100] T Loss:0.1537 Cus Loss:1.9533  LR is 0.000900: 100%|█| 2500/2500 [00:31<00:00, 78.63"
     ]
    },
    {
     "name": "stdout",
     "output_type": "stream",
     "text": [
      "Training has completed epoch 89\n"
     ]
    },
    {
     "name": "stderr",
     "output_type": "stream",
     "text": [
      "\n",
      "Epoch [89/100] V Loss:0.1340 Custom Loss:3.7301: 100%|██████████| 313/313 [00:01<00:00, 171.31it/s]"
     ]
    },
    {
     "name": "stdout",
     "output_type": "stream",
     "text": [
      "This is Epoch: 1 without improvement\n",
      "Current Validation Loss is: 0.1340 at Epoch: 89\n",
      "Best Validation Loss remains: 0.1340 at Epoch: 88\n",
      "Current Validation Custom Loss is: 3.7301 at Epoch: 89\n"
     ]
    },
    {
     "name": "stderr",
     "output_type": "stream",
     "text": [
      "\n",
      "Epoch [90/100] T Loss:0.1534 Cus Loss:1.9329  LR is 0.000900: 100%|█| 2500/2500 [00:31<00:00, 79.45"
     ]
    },
    {
     "name": "stdout",
     "output_type": "stream",
     "text": [
      "Training has completed epoch 90\n"
     ]
    },
    {
     "name": "stderr",
     "output_type": "stream",
     "text": [
      "\n",
      "Epoch [90/100] V Loss:0.1346 Custom Loss:3.8332: 100%|██████████| 313/313 [00:01<00:00, 157.23it/s]"
     ]
    },
    {
     "name": "stdout",
     "output_type": "stream",
     "text": [
      "This is Epoch: 2 without improvement\n",
      "Current Validation Loss is: 0.1346 at Epoch: 90\n",
      "Best Validation Loss remains: 0.1340 at Epoch: 88\n",
      "Current Validation Custom Loss is: 3.8332 at Epoch: 90\n"
     ]
    },
    {
     "name": "stderr",
     "output_type": "stream",
     "text": [
      "\n",
      "Epoch [91/100] T Loss:0.1537 Cus Loss:1.9659  LR is 0.000900: 100%|█| 2500/2500 [00:31<00:00, 78.57"
     ]
    },
    {
     "name": "stdout",
     "output_type": "stream",
     "text": [
      "Training has completed epoch 91\n"
     ]
    },
    {
     "name": "stderr",
     "output_type": "stream",
     "text": [
      "\n",
      "Epoch [91/100] V Loss:0.1338 Custom Loss:3.8815: 100%|██████████| 313/313 [00:01<00:00, 194.97it/s]"
     ]
    },
    {
     "name": "stdout",
     "output_type": "stream",
     "text": [
      "Best Validation Loss is now: 0.1338 at Epoch: 91\n"
     ]
    },
    {
     "name": "stderr",
     "output_type": "stream",
     "text": [
      "\n",
      "Epoch [92/100] T Loss:0.1530 Cus Loss:1.9049  LR is 0.000900: 100%|█| 2500/2500 [00:31<00:00, 79.32"
     ]
    },
    {
     "name": "stdout",
     "output_type": "stream",
     "text": [
      "Training has completed epoch 92\n"
     ]
    },
    {
     "name": "stderr",
     "output_type": "stream",
     "text": [
      "\n",
      "Epoch [92/100] V Loss:0.1346 Custom Loss:3.7909: 100%|██████████| 313/313 [00:01<00:00, 169.07it/s]"
     ]
    },
    {
     "name": "stdout",
     "output_type": "stream",
     "text": [
      "This is Epoch: 1 without improvement\n",
      "Current Validation Loss is: 0.1346 at Epoch: 92\n",
      "Best Validation Loss remains: 0.1338 at Epoch: 91\n",
      "Current Validation Custom Loss is: 3.7909 at Epoch: 92\n"
     ]
    },
    {
     "name": "stderr",
     "output_type": "stream",
     "text": [
      "\n",
      "Epoch [93/100] T Loss:0.1531 Cus Loss:1.9212  LR is 0.000900: 100%|█| 2500/2500 [00:31<00:00, 79.48"
     ]
    },
    {
     "name": "stdout",
     "output_type": "stream",
     "text": [
      "Training has completed epoch 93\n"
     ]
    },
    {
     "name": "stderr",
     "output_type": "stream",
     "text": [
      "\n",
      "Epoch [93/100] V Loss:0.1341 Custom Loss:4.0230: 100%|██████████| 313/313 [00:02<00:00, 151.39it/s]"
     ]
    },
    {
     "name": "stdout",
     "output_type": "stream",
     "text": [
      "This is Epoch: 2 without improvement\n",
      "Current Validation Loss is: 0.1341 at Epoch: 93\n",
      "Best Validation Loss remains: 0.1338 at Epoch: 91\n",
      "Current Validation Custom Loss is: 4.0230 at Epoch: 93\n"
     ]
    },
    {
     "name": "stderr",
     "output_type": "stream",
     "text": [
      "\n",
      "Epoch [94/100] T Loss:0.1535 Cus Loss:1.9575  LR is 0.000900: 100%|█| 2500/2500 [00:31<00:00, 79.55"
     ]
    },
    {
     "name": "stdout",
     "output_type": "stream",
     "text": [
      "Training has completed epoch 94\n"
     ]
    },
    {
     "name": "stderr",
     "output_type": "stream",
     "text": [
      "\n",
      "Epoch [94/100] V Loss:0.1338 Custom Loss:3.7013: 100%|██████████| 313/313 [00:01<00:00, 163.02it/s]"
     ]
    },
    {
     "name": "stdout",
     "output_type": "stream",
     "text": [
      "This is Epoch: 3 without improvement\n",
      "Current Validation Loss is: 0.1338 at Epoch: 94\n",
      "Best Validation Loss remains: 0.1338 at Epoch: 91\n",
      "Current Validation Custom Loss is: 3.7013 at Epoch: 94\n"
     ]
    },
    {
     "name": "stderr",
     "output_type": "stream",
     "text": [
      "\n",
      "Epoch [95/100] T Loss:0.1532 Cus Loss:1.9403  LR is 0.000900: 100%|█| 2500/2500 [00:31<00:00, 78.97"
     ]
    },
    {
     "name": "stdout",
     "output_type": "stream",
     "text": [
      "Training has completed epoch 95\n"
     ]
    },
    {
     "name": "stderr",
     "output_type": "stream",
     "text": [
      "\n",
      "Epoch [95/100] V Loss:0.1338 Custom Loss:3.6357: 100%|██████████| 313/313 [00:01<00:00, 159.97it/s]"
     ]
    },
    {
     "name": "stdout",
     "output_type": "stream",
     "text": [
      "This is Epoch: 4 without improvement\n",
      "Current Validation Loss is: 0.1338 at Epoch: 95\n",
      "Best Validation Loss remains: 0.1338 at Epoch: 91\n",
      "Current Validation Custom Loss is: 3.6357 at Epoch: 95\n"
     ]
    },
    {
     "name": "stderr",
     "output_type": "stream",
     "text": [
      "\n",
      "Epoch [96/100] T Loss:0.1533 Cus Loss:1.9468  LR is 0.000900: 100%|█| 2500/2500 [00:31<00:00, 79.68"
     ]
    },
    {
     "name": "stdout",
     "output_type": "stream",
     "text": [
      "Training has completed epoch 96\n"
     ]
    },
    {
     "name": "stderr",
     "output_type": "stream",
     "text": [
      "\n",
      "Epoch [96/100] V Loss:0.1339 Custom Loss:3.7094: 100%|██████████| 313/313 [00:02<00:00, 137.78it/s]"
     ]
    },
    {
     "name": "stdout",
     "output_type": "stream",
     "text": [
      "This is Epoch: 5 without improvement\n",
      "Current Validation Loss is: 0.1339 at Epoch: 96\n",
      "Best Validation Loss remains: 0.1338 at Epoch: 91\n",
      "Current Validation Custom Loss is: 3.7094 at Epoch: 96\n"
     ]
    },
    {
     "name": "stderr",
     "output_type": "stream",
     "text": [
      "\n",
      "Epoch [97/100] T Loss:0.1518 Cus Loss:1.8097  LR is 0.000810: 100%|█| 2500/2500 [00:31<00:00, 79.64"
     ]
    },
    {
     "name": "stdout",
     "output_type": "stream",
     "text": [
      "Training has completed epoch 97\n"
     ]
    },
    {
     "name": "stderr",
     "output_type": "stream",
     "text": [
      "\n",
      "Epoch [97/100] V Loss:0.1335 Custom Loss:3.4984: 100%|██████████| 313/313 [00:02<00:00, 152.16it/s]"
     ]
    },
    {
     "name": "stdout",
     "output_type": "stream",
     "text": [
      "Best Validation Loss is now: 0.1335 at Epoch: 97\n"
     ]
    },
    {
     "name": "stderr",
     "output_type": "stream",
     "text": [
      "\n",
      "Epoch [98/100] T Loss:0.1523 Cus Loss:1.8601  LR is 0.000810: 100%|█| 2500/2500 [00:31<00:00, 78.59"
     ]
    },
    {
     "name": "stdout",
     "output_type": "stream",
     "text": [
      "Training has completed epoch 98\n"
     ]
    },
    {
     "name": "stderr",
     "output_type": "stream",
     "text": [
      "\n",
      "Epoch [98/100] V Loss:0.1336 Custom Loss:3.5097: 100%|██████████| 313/313 [00:02<00:00, 143.76it/s]"
     ]
    },
    {
     "name": "stdout",
     "output_type": "stream",
     "text": [
      "This is Epoch: 1 without improvement\n",
      "Current Validation Loss is: 0.1336 at Epoch: 98\n",
      "Best Validation Loss remains: 0.1335 at Epoch: 97\n",
      "Current Validation Custom Loss is: 3.5097 at Epoch: 98\n"
     ]
    },
    {
     "name": "stderr",
     "output_type": "stream",
     "text": [
      "\n",
      "Epoch [99/100] T Loss:0.1519 Cus Loss:1.8302  LR is 0.000810: 100%|█| 2500/2500 [00:31<00:00, 79.29"
     ]
    },
    {
     "name": "stdout",
     "output_type": "stream",
     "text": [
      "Training has completed epoch 99\n"
     ]
    },
    {
     "name": "stderr",
     "output_type": "stream",
     "text": [
      "\n",
      "Epoch [99/100] V Loss:0.1329 Custom Loss:3.9477: 100%|██████████| 313/313 [00:02<00:00, 147.55it/s]"
     ]
    },
    {
     "name": "stdout",
     "output_type": "stream",
     "text": [
      "Best Validation Loss is now: 0.1329 at Epoch: 99\n"
     ]
    },
    {
     "name": "stderr",
     "output_type": "stream",
     "text": [
      "\n",
      "Epoch [100/100] T Loss:0.1516 Cus Loss:1.8063  LR is 0.000810: 100%|█| 2500/2500 [00:31<00:00, 79.7"
     ]
    },
    {
     "name": "stdout",
     "output_type": "stream",
     "text": [
      "Training has completed epoch 100\n"
     ]
    },
    {
     "name": "stderr",
     "output_type": "stream",
     "text": [
      " Epoch [100/100] V Loss:0.1333 Custom Loss:3.6441: 100%|█████████| 313/313 [00:02<00:00, 145.37it/s]"
     ]
    },
    {
     "name": "stdout",
     "output_type": "stream",
     "text": [
      "This is Epoch: 1 without improvement\n",
      "Current Validation Loss is: 0.1333 at Epoch: 100\n",
      "Best Validation Loss remains: 0.1329 at Epoch: 99\n",
      "Current Validation Custom Loss is: 3.6441 at Epoch: 100\n"
     ]
    },
    {
     "name": "stderr",
     "output_type": "stream",
     "text": [
      "\n"
     ]
    }
   ],
   "source": [
    "model = AutoEncode().to(device)\n",
    "\n",
    "# Define the loss functions\n",
    "loss = torch.nn.MSELoss()  # For classification\n",
    "\n",
    "# Define an optimizer (both for the encoder and the decoder!)\n",
    "optimizer = torch.optim.Adam(filter(lambda p: p.requires_grad, model.parameters()), lr=1e-3)\n",
    "\n",
    "#scheduler = lr_scheduler.StepLR(optimizer, step_size=1, gamma=0.01)  # Learning rate decay scheduler\n",
    "scheduler = lr_scheduler.ReduceLROnPlateau(optimizer, mode='min', factor=0.9, patience=4)\n",
    "\n",
    "# Variables for early stopping and best parameters\n",
    "best_loss = float('inf')\n",
    "best_custom_loss = float('inf')\n",
    "patience_limit = 20\n",
    "\n",
    "\n",
    "train_losses = []\n",
    "val_losses = []\n",
    "\n",
    "\n",
    "# Train the model\n",
    "EPOCHS = 100\n",
    "for epoch in range(EPOCHS):\n",
    "    running_train_loss = 0.0\n",
    "    running_train_custom_loss = 0.0\n",
    "    \n",
    "    model.train()\n",
    "    progress_bar_train = tqdm(enumerate(train_loader), total=len(train_loader), ncols=100)\n",
    "    for index, (main_channels_mat) in progress_bar_train:\n",
    "        # Forward pass\n",
    "        #algorithm_output_mat_for_nn = (batch_complex_autocorrelation(algorithm_output_mat)).to(device)\n",
    "        main_channels_mat_for_nn = torch.stack([torch.real(main_channels_mat).float(), torch.imag(main_channels_mat).float()], dim=1).to(device)\n",
    "        \n",
    "        nn_output = model(main_channels_mat_for_nn)\n",
    "\n",
    "        initial_loss = loss(nn_output, main_channels_mat_for_nn)\n",
    "        train_custom_loss = l2_norm_square_loss(main_channels_mat_for_nn, nn_output)\n",
    "        # Calculate loss\n",
    "        \n",
    "        train_loss = initial_loss + 0.01*train_custom_loss\n",
    "\n",
    "        # Backward pass\n",
    "        optimizer.zero_grad()\n",
    "        train_loss.backward()\n",
    "        optimizer.step()\n",
    "\n",
    "        # Update running loss\n",
    "        running_train_loss += train_loss.item()\n",
    "        running_train_custom_loss += train_custom_loss.item()\n",
    "\n",
    "        \n",
    "        avg_train_loss = running_train_loss / (index + 1)\n",
    "        avg_train_custom_loss = running_train_custom_loss / (index + 1)\n",
    "\n",
    "        # Get current learning rate from the optimizer\n",
    "        current_lr = optimizer.param_groups[0]['lr']\n",
    "\n",
    "        # Print metrics\n",
    "        #progress_bar_train.set_description(f'Epoch [{epoch + 1}/{EPOCHS}] MSELos:{avg_train_loss1:.4f} MSEWeig{mse_weight:.2f} CELos:{avg_train_loss2:.4f} CEWeig{ce_weight:.2f} TrLos:{avg_train_loss:.4f} Tr.Acc: {avg_train_acc*100:.2f}%')\n",
    "        progress_bar_train.set_description(f\" Epoch [{epoch + 1}/{EPOCHS}] T Loss:{avg_train_loss:.4f} Cus Loss:{avg_train_custom_loss:.4f}  LR is {current_lr:.6f}\")\n",
    "    \n",
    "    #train_losses.append(avg_train_loss)\n",
    "    train_losses.append(avg_train_loss)\n",
    "\n",
    "    print(f\"Training has completed epoch {epoch+1}\")\n",
    "    \n",
    "    # Validation loop\n",
    "    running_val_loss = 0.0\n",
    "    running_val_custom_loss = 0.0\n",
    "\n",
    "    \n",
    "    model.eval()\n",
    "    progress_bar_val = tqdm(enumerate(val_loader), total=len(val_loader), ncols=100)\n",
    "    for index, (main_channels_mat) in progress_bar_val:\n",
    "        \n",
    "        #algorithm_output_mat_for_nn = (batch_complex_autocorrelation(algorithm_output_mat)).to(device)\n",
    "        main_channels_mat_for_nn = torch.stack([torch.real(main_channels_mat).float(), torch.imag(main_channels_mat).float()], dim=1).to(device)\n",
    "\n",
    "        \n",
    "        with torch.no_grad():\n",
    "            \n",
    "            nn_output = model(main_channels_mat_for_nn)\n",
    "\n",
    "            # Calculate losses\n",
    "            val_loss = loss(nn_output, main_channels_mat_for_nn)\n",
    "            val_custom_loss = l2_norm_square_loss(main_channels_mat_for_nn, nn_output)\n",
    "\n",
    "            # Update running loss\n",
    "            running_val_loss += val_loss.item()\n",
    "            running_val_custom_loss += val_custom_loss.item()\n",
    "            \n",
    "            avg_val_loss = running_val_loss / (index + 1)\n",
    "            avg_val_custom_loss = running_val_custom_loss / (index + 1)\n",
    "            \n",
    "            progress_bar_val.set_description(f\" Epoch [{epoch + 1}/{EPOCHS}] V Loss:{avg_val_loss:.4f} Custom Loss:{avg_val_custom_loss:.4f}\")\n",
    "    \n",
    "    #val_losses.append(avg_val_loss)\n",
    "    val_losses.append(avg_val_loss)\n",
    "    \n",
    "    scheduler.step(running_val_loss)\n",
    "\n",
    "\n",
    "    # Early stopping\n",
    "    if avg_val_loss < best_loss:  # Now checking for the best accuracy\n",
    "        best_loss = avg_val_loss\n",
    "        best_custom_loss = avg_val_custom_loss\n",
    "        best_epoch = epoch + 1\n",
    "        patience_ = 0\n",
    "        best_encoder_weights = copy.deepcopy(model.decoder.encoder.state_dict())\n",
    "        best_decoder_weights = copy.deepcopy(model.decoder.state_dict())\n",
    "        print(f\"Best Validation Loss is now: {best_loss:.4f} at Epoch: {best_epoch}\")\n",
    "        #print(f\"Best Validation Custom Loss is now: {best_custom_loss:.4f} at Epoch: {best_epoch}\")\n",
    "    else:\n",
    "        patience_ += 1\n",
    "        print(f\"This is Epoch: {patience_} without improvement\")\n",
    "        print(f\"Current Validation Loss is: {avg_val_loss:.4f} at Epoch: {epoch+1}\")\n",
    "        print(f\"Best Validation Loss remains: {best_loss:.4f} at Epoch: {best_epoch}\")\n",
    "        print(f\"Current Validation Custom Loss is: {avg_val_custom_loss:.4f} at Epoch: {epoch+1}\")\n",
    "        #print(f\"Best Validation Custom Loss remains: {best_custom_loss:.4f} at Epoch: {best_epoch}\")\n",
    "        if patience_ > patience_limit:  # Patience limit before stopping\n",
    "            print(\"Early stopping triggered! Restoring best model weights.\")\n",
    "            print(f\"Best Validation Loss was: {best_loss:.4f} at Epoch: {best_epoch}\")\n",
    "            #print(f\"Best Validation Custom Loss was: {best_custom_loss:.4f} at Epoch: {best_epoch}\")\n",
    "            break\n"
   ]
  },
  {
   "cell_type": "code",
   "execution_count": 17,
   "id": "e96fff61-3c2e-468f-9bb5-b158dd8035d6",
   "metadata": {
    "scrolled": true
   },
   "outputs": [
    {
     "name": "stderr",
     "output_type": "stream",
     "text": [
      "\n",
      "Epoch [1/100] T Loss:1.0048 Cus Loss:29.4704  LR is 0.001000: 100%|█| 2500/2500 [00:34<00:00, 71.45"
     ]
    },
    {
     "name": "stdout",
     "output_type": "stream",
     "text": [
      "Training has completed epoch 1\n"
     ]
    },
    {
     "name": "stderr",
     "output_type": "stream",
     "text": [
      "\n",
      "Epoch [1/100] V Loss:0.4206 Custom Loss:11.0617: 100%|██████████| 313/313 [00:02<00:00, 141.34it/s]"
     ]
    },
    {
     "name": "stdout",
     "output_type": "stream",
     "text": [
      "Best Validation Custom Loss is now: 11.0617 at Epoch: 1\n"
     ]
    },
    {
     "name": "stderr",
     "output_type": "stream",
     "text": [
      "\n",
      "Epoch [2/100] T Loss:0.4204 Cus Loss:10.1541  LR is 0.001000: 100%|█| 2500/2500 [00:35<00:00, 70.75"
     ]
    },
    {
     "name": "stdout",
     "output_type": "stream",
     "text": [
      "Training has completed epoch 2\n"
     ]
    },
    {
     "name": "stderr",
     "output_type": "stream",
     "text": [
      "\n",
      "Epoch [2/100] V Loss:0.2800 Custom Loss:8.0904: 100%|███████████| 313/313 [00:01<00:00, 202.81it/s]"
     ]
    },
    {
     "name": "stdout",
     "output_type": "stream",
     "text": [
      "Best Validation Custom Loss is now: 8.0904 at Epoch: 2\n"
     ]
    },
    {
     "name": "stderr",
     "output_type": "stream",
     "text": [
      "\n",
      "Epoch [3/100] T Loss:0.3444 Cus Loss:7.7903  LR is 0.001000: 100%|█| 2500/2500 [00:33<00:00, 75.42i"
     ]
    },
    {
     "name": "stdout",
     "output_type": "stream",
     "text": [
      "Training has completed epoch 3\n"
     ]
    },
    {
     "name": "stderr",
     "output_type": "stream",
     "text": [
      "\n",
      "Epoch [3/100] V Loss:0.2566 Custom Loss:7.5358: 100%|███████████| 313/313 [00:01<00:00, 177.82it/s]"
     ]
    },
    {
     "name": "stdout",
     "output_type": "stream",
     "text": [
      "Best Validation Custom Loss is now: 7.5358 at Epoch: 3\n"
     ]
    },
    {
     "name": "stderr",
     "output_type": "stream",
     "text": [
      "\n",
      "Epoch [4/100] T Loss:0.3202 Cus Loss:6.7185  LR is 0.001000: 100%|█| 2500/2500 [00:32<00:00, 75.91i"
     ]
    },
    {
     "name": "stdout",
     "output_type": "stream",
     "text": [
      "Training has completed epoch 4\n"
     ]
    },
    {
     "name": "stderr",
     "output_type": "stream",
     "text": [
      "\n",
      "Epoch [4/100] V Loss:0.2491 Custom Loss:6.3043: 100%|███████████| 313/313 [00:01<00:00, 164.14it/s]"
     ]
    },
    {
     "name": "stdout",
     "output_type": "stream",
     "text": [
      "Best Validation Custom Loss is now: 6.3043 at Epoch: 4\n"
     ]
    },
    {
     "name": "stderr",
     "output_type": "stream",
     "text": [
      "\n",
      "Epoch [5/100] T Loss:0.3080 Cus Loss:6.1083  LR is 0.001000: 100%|█| 2500/2500 [00:32<00:00, 76.60i"
     ]
    },
    {
     "name": "stdout",
     "output_type": "stream",
     "text": [
      "Training has completed epoch 5\n"
     ]
    },
    {
     "name": "stderr",
     "output_type": "stream",
     "text": [
      "\n",
      "Epoch [5/100] V Loss:0.2433 Custom Loss:6.5663: 100%|███████████| 313/313 [00:01<00:00, 170.65it/s]"
     ]
    },
    {
     "name": "stdout",
     "output_type": "stream",
     "text": [
      "Best Validation Custom Loss is now: 6.5663 at Epoch: 5\n"
     ]
    },
    {
     "name": "stderr",
     "output_type": "stream",
     "text": [
      "\n",
      "Epoch [6/100] T Loss:0.2994 Cus Loss:5.6411  LR is 0.001000: 100%|█| 2500/2500 [00:32<00:00, 77.75i"
     ]
    },
    {
     "name": "stdout",
     "output_type": "stream",
     "text": [
      "Training has completed epoch 6\n"
     ]
    },
    {
     "name": "stderr",
     "output_type": "stream",
     "text": [
      "\n",
      "Epoch [6/100] V Loss:0.2425 Custom Loss:5.0653: 100%|███████████| 313/313 [00:01<00:00, 173.37it/s]"
     ]
    },
    {
     "name": "stdout",
     "output_type": "stream",
     "text": [
      "Best Validation Custom Loss is now: 5.0653 at Epoch: 6\n"
     ]
    },
    {
     "name": "stderr",
     "output_type": "stream",
     "text": [
      "\n",
      "Epoch [7/100] T Loss:0.2934 Cus Loss:5.3368  LR is 0.001000: 100%|█| 2500/2500 [00:31<00:00, 78.61i"
     ]
    },
    {
     "name": "stdout",
     "output_type": "stream",
     "text": [
      "Training has completed epoch 7\n"
     ]
    },
    {
     "name": "stderr",
     "output_type": "stream",
     "text": [
      "\n",
      "Epoch [7/100] V Loss:0.2378 Custom Loss:5.3124: 100%|███████████| 313/313 [00:01<00:00, 159.53it/s]"
     ]
    },
    {
     "name": "stdout",
     "output_type": "stream",
     "text": [
      "Best Validation Custom Loss is now: 5.3124 at Epoch: 7\n"
     ]
    },
    {
     "name": "stderr",
     "output_type": "stream",
     "text": [
      "\n",
      "Epoch [8/100] T Loss:0.2884 Cus Loss:5.0782  LR is 0.001000: 100%|█| 2500/2500 [00:30<00:00, 80.77i"
     ]
    },
    {
     "name": "stdout",
     "output_type": "stream",
     "text": [
      "Training has completed epoch 8\n"
     ]
    },
    {
     "name": "stderr",
     "output_type": "stream",
     "text": [
      "\n",
      "Epoch [8/100] V Loss:0.2357 Custom Loss:4.9789: 100%|███████████| 313/313 [00:01<00:00, 157.10it/s]"
     ]
    },
    {
     "name": "stdout",
     "output_type": "stream",
     "text": [
      "Best Validation Custom Loss is now: 4.9789 at Epoch: 8\n"
     ]
    },
    {
     "name": "stderr",
     "output_type": "stream",
     "text": [
      "\n",
      "Epoch [9/100] T Loss:0.2846 Cus Loss:4.9046  LR is 0.001000: 100%|█| 2500/2500 [00:30<00:00, 80.81i"
     ]
    },
    {
     "name": "stdout",
     "output_type": "stream",
     "text": [
      "Training has completed epoch 9\n"
     ]
    },
    {
     "name": "stderr",
     "output_type": "stream",
     "text": [
      "\n",
      "Epoch [9/100] V Loss:0.2367 Custom Loss:4.6838: 100%|███████████| 313/313 [00:01<00:00, 169.20it/s]"
     ]
    },
    {
     "name": "stdout",
     "output_type": "stream",
     "text": [
      "This is Epoch: 1 without improvement\n",
      "Current Validation Loss is: 0.2367 at Epoch: 9\n",
      "Best Validation Loss remains: 0.2357 at Epoch: 8\n",
      "Current Validation Custom Loss is: 4.6838 at Epoch: 9\n"
     ]
    },
    {
     "name": "stderr",
     "output_type": "stream",
     "text": [
      "\n",
      "Epoch [10/100] T Loss:0.2801 Cus Loss:4.6478  LR is 0.001000: 100%|█| 2500/2500 [00:31<00:00, 78.31"
     ]
    },
    {
     "name": "stdout",
     "output_type": "stream",
     "text": [
      "Training has completed epoch 10\n"
     ]
    },
    {
     "name": "stderr",
     "output_type": "stream",
     "text": [
      "\n",
      "Epoch [10/100] V Loss:0.2328 Custom Loss:3.8318: 100%|██████████| 313/313 [00:01<00:00, 193.30it/s]"
     ]
    },
    {
     "name": "stdout",
     "output_type": "stream",
     "text": [
      "Best Validation Custom Loss is now: 3.8318 at Epoch: 10\n"
     ]
    },
    {
     "name": "stderr",
     "output_type": "stream",
     "text": [
      "\n",
      "Epoch [11/100] T Loss:0.2777 Cus Loss:4.5620  LR is 0.001000: 100%|█| 2500/2500 [00:31<00:00, 78.17"
     ]
    },
    {
     "name": "stdout",
     "output_type": "stream",
     "text": [
      "Training has completed epoch 11\n"
     ]
    },
    {
     "name": "stderr",
     "output_type": "stream",
     "text": [
      "\n",
      "Epoch [11/100] V Loss:0.2338 Custom Loss:5.5744: 100%|██████████| 313/313 [00:02<00:00, 110.29it/s]"
     ]
    },
    {
     "name": "stdout",
     "output_type": "stream",
     "text": [
      "This is Epoch: 1 without improvement\n",
      "Current Validation Loss is: 0.2338 at Epoch: 11\n",
      "Best Validation Loss remains: 0.2328 at Epoch: 10\n",
      "Current Validation Custom Loss is: 5.5744 at Epoch: 11\n"
     ]
    },
    {
     "name": "stderr",
     "output_type": "stream",
     "text": [
      "\n",
      "Epoch [12/100] T Loss:0.2749 Cus Loss:4.4124  LR is 0.001000: 100%|█| 2500/2500 [00:32<00:00, 78.09"
     ]
    },
    {
     "name": "stdout",
     "output_type": "stream",
     "text": [
      "Training has completed epoch 12\n"
     ]
    },
    {
     "name": "stderr",
     "output_type": "stream",
     "text": [
      "\n",
      "Epoch [12/100] V Loss:0.2297 Custom Loss:4.3653: 100%|██████████| 313/313 [00:01<00:00, 170.25it/s]"
     ]
    },
    {
     "name": "stdout",
     "output_type": "stream",
     "text": [
      "Best Validation Custom Loss is now: 4.3653 at Epoch: 12\n"
     ]
    },
    {
     "name": "stderr",
     "output_type": "stream",
     "text": [
      "\n",
      "Epoch [13/100] T Loss:0.2728 Cus Loss:4.3066  LR is 0.001000: 100%|█| 2500/2500 [00:30<00:00, 81.74"
     ]
    },
    {
     "name": "stdout",
     "output_type": "stream",
     "text": [
      "Training has completed epoch 13\n"
     ]
    },
    {
     "name": "stderr",
     "output_type": "stream",
     "text": [
      "\n",
      "Epoch [13/100] V Loss:0.2301 Custom Loss:4.3467: 100%|██████████| 313/313 [00:01<00:00, 158.20it/s]"
     ]
    },
    {
     "name": "stdout",
     "output_type": "stream",
     "text": [
      "This is Epoch: 1 without improvement\n",
      "Current Validation Loss is: 0.2301 at Epoch: 13\n",
      "Best Validation Loss remains: 0.2297 at Epoch: 12\n",
      "Current Validation Custom Loss is: 4.3467 at Epoch: 13\n"
     ]
    },
    {
     "name": "stderr",
     "output_type": "stream",
     "text": [
      "\n",
      "Epoch [14/100] T Loss:0.2706 Cus Loss:4.1855  LR is 0.001000: 100%|█| 2500/2500 [00:30<00:00, 82.85"
     ]
    },
    {
     "name": "stdout",
     "output_type": "stream",
     "text": [
      "Training has completed epoch 14\n"
     ]
    },
    {
     "name": "stderr",
     "output_type": "stream",
     "text": [
      "\n",
      "Epoch [14/100] V Loss:0.2272 Custom Loss:3.9348: 100%|██████████| 313/313 [00:01<00:00, 163.62it/s]"
     ]
    },
    {
     "name": "stdout",
     "output_type": "stream",
     "text": [
      "Best Validation Custom Loss is now: 3.9348 at Epoch: 14\n"
     ]
    },
    {
     "name": "stderr",
     "output_type": "stream",
     "text": [
      "\n",
      "Epoch [15/100] T Loss:0.2684 Cus Loss:4.0576  LR is 0.001000: 100%|█| 2500/2500 [00:30<00:00, 82.28"
     ]
    },
    {
     "name": "stdout",
     "output_type": "stream",
     "text": [
      "Training has completed epoch 15\n"
     ]
    },
    {
     "name": "stderr",
     "output_type": "stream",
     "text": [
      "\n",
      "Epoch [15/100] V Loss:0.2296 Custom Loss:5.0666: 100%|██████████| 313/313 [00:01<00:00, 168.07it/s]"
     ]
    },
    {
     "name": "stdout",
     "output_type": "stream",
     "text": [
      "This is Epoch: 1 without improvement\n",
      "Current Validation Loss is: 0.2296 at Epoch: 15\n",
      "Best Validation Loss remains: 0.2272 at Epoch: 14\n",
      "Current Validation Custom Loss is: 5.0666 at Epoch: 15\n"
     ]
    },
    {
     "name": "stderr",
     "output_type": "stream",
     "text": [
      "\n",
      "Epoch [16/100] T Loss:0.2673 Cus Loss:4.0150  LR is 0.001000: 100%|█| 2500/2500 [00:31<00:00, 79.42"
     ]
    },
    {
     "name": "stdout",
     "output_type": "stream",
     "text": [
      "Training has completed epoch 16\n"
     ]
    },
    {
     "name": "stderr",
     "output_type": "stream",
     "text": [
      "\n",
      "Epoch [16/100] V Loss:0.2287 Custom Loss:4.9534: 100%|██████████| 313/313 [00:01<00:00, 187.12it/s]"
     ]
    },
    {
     "name": "stdout",
     "output_type": "stream",
     "text": [
      "This is Epoch: 2 without improvement\n",
      "Current Validation Loss is: 0.2287 at Epoch: 16\n",
      "Best Validation Loss remains: 0.2272 at Epoch: 14\n",
      "Current Validation Custom Loss is: 4.9534 at Epoch: 16\n"
     ]
    },
    {
     "name": "stderr",
     "output_type": "stream",
     "text": [
      "\n",
      "Epoch [17/100] T Loss:0.2658 Cus Loss:3.9289  LR is 0.001000: 100%|█| 2500/2500 [00:30<00:00, 80.82"
     ]
    },
    {
     "name": "stdout",
     "output_type": "stream",
     "text": [
      "Training has completed epoch 17\n"
     ]
    },
    {
     "name": "stderr",
     "output_type": "stream",
     "text": [
      "\n",
      "Epoch [17/100] V Loss:0.2265 Custom Loss:4.6792: 100%|██████████| 313/313 [00:02<00:00, 154.44it/s]"
     ]
    },
    {
     "name": "stdout",
     "output_type": "stream",
     "text": [
      "Best Validation Custom Loss is now: 4.6792 at Epoch: 17\n"
     ]
    },
    {
     "name": "stderr",
     "output_type": "stream",
     "text": [
      "\n",
      "Epoch [18/100] T Loss:0.2645 Cus Loss:3.8622  LR is 0.001000: 100%|█| 2500/2500 [00:31<00:00, 78.89"
     ]
    },
    {
     "name": "stdout",
     "output_type": "stream",
     "text": [
      "Training has completed epoch 18\n"
     ]
    },
    {
     "name": "stderr",
     "output_type": "stream",
     "text": [
      "\n",
      "Epoch [18/100] V Loss:0.2255 Custom Loss:3.3051: 100%|██████████| 313/313 [00:02<00:00, 145.66it/s]"
     ]
    },
    {
     "name": "stdout",
     "output_type": "stream",
     "text": [
      "Best Validation Custom Loss is now: 3.3051 at Epoch: 18\n"
     ]
    },
    {
     "name": "stderr",
     "output_type": "stream",
     "text": [
      "\n",
      "Epoch [19/100] T Loss:0.2633 Cus Loss:3.7988  LR is 0.001000: 100%|█| 2500/2500 [00:31<00:00, 79.93"
     ]
    },
    {
     "name": "stdout",
     "output_type": "stream",
     "text": [
      "Training has completed epoch 19\n"
     ]
    },
    {
     "name": "stderr",
     "output_type": "stream",
     "text": [
      "\n",
      "Epoch [19/100] V Loss:0.2247 Custom Loss:3.5660: 100%|██████████| 313/313 [00:01<00:00, 160.81it/s]"
     ]
    },
    {
     "name": "stdout",
     "output_type": "stream",
     "text": [
      "Best Validation Custom Loss is now: 3.5660 at Epoch: 19\n"
     ]
    },
    {
     "name": "stderr",
     "output_type": "stream",
     "text": [
      "\n",
      "Epoch [20/100] T Loss:0.2624 Cus Loss:3.7512  LR is 0.001000: 100%|█| 2500/2500 [00:31<00:00, 79.46"
     ]
    },
    {
     "name": "stdout",
     "output_type": "stream",
     "text": [
      "Training has completed epoch 20\n"
     ]
    },
    {
     "name": "stderr",
     "output_type": "stream",
     "text": [
      "\n",
      "Epoch [20/100] V Loss:0.2241 Custom Loss:3.9491: 100%|██████████| 313/313 [00:01<00:00, 163.13it/s]"
     ]
    },
    {
     "name": "stdout",
     "output_type": "stream",
     "text": [
      "Best Validation Custom Loss is now: 3.9491 at Epoch: 20\n"
     ]
    },
    {
     "name": "stderr",
     "output_type": "stream",
     "text": [
      "\n",
      "Epoch [21/100] T Loss:0.2614 Cus Loss:3.6976  LR is 0.001000: 100%|█| 2500/2500 [00:32<00:00, 78.04"
     ]
    },
    {
     "name": "stdout",
     "output_type": "stream",
     "text": [
      "Training has completed epoch 21\n"
     ]
    },
    {
     "name": "stderr",
     "output_type": "stream",
     "text": [
      "\n",
      "Epoch [21/100] V Loss:0.2250 Custom Loss:3.9697: 100%|██████████| 313/313 [00:01<00:00, 175.26it/s]"
     ]
    },
    {
     "name": "stdout",
     "output_type": "stream",
     "text": [
      "This is Epoch: 1 without improvement\n",
      "Current Validation Loss is: 0.2250 at Epoch: 21\n",
      "Best Validation Loss remains: 0.2241 at Epoch: 20\n",
      "Current Validation Custom Loss is: 3.9697 at Epoch: 21\n"
     ]
    },
    {
     "name": "stderr",
     "output_type": "stream",
     "text": [
      "\n",
      "Epoch [22/100] T Loss:0.2607 Cus Loss:3.6716  LR is 0.001000: 100%|█| 2500/2500 [00:30<00:00, 81.81"
     ]
    },
    {
     "name": "stdout",
     "output_type": "stream",
     "text": [
      "Training has completed epoch 22\n"
     ]
    },
    {
     "name": "stderr",
     "output_type": "stream",
     "text": [
      "\n",
      "Epoch [22/100] V Loss:0.2246 Custom Loss:3.4295: 100%|██████████| 313/313 [00:01<00:00, 175.49it/s]"
     ]
    },
    {
     "name": "stdout",
     "output_type": "stream",
     "text": [
      "This is Epoch: 2 without improvement\n",
      "Current Validation Loss is: 0.2246 at Epoch: 22\n",
      "Best Validation Loss remains: 0.2241 at Epoch: 20\n",
      "Current Validation Custom Loss is: 3.4295 at Epoch: 22\n"
     ]
    },
    {
     "name": "stderr",
     "output_type": "stream",
     "text": [
      "\n",
      "Epoch [23/100] T Loss:0.2597 Cus Loss:3.6137  LR is 0.001000: 100%|█| 2500/2500 [00:31<00:00, 80.22"
     ]
    },
    {
     "name": "stdout",
     "output_type": "stream",
     "text": [
      "Training has completed epoch 23\n"
     ]
    },
    {
     "name": "stderr",
     "output_type": "stream",
     "text": [
      "\n",
      "Epoch [23/100] V Loss:0.2228 Custom Loss:3.6289: 100%|██████████| 313/313 [00:02<00:00, 145.48it/s]"
     ]
    },
    {
     "name": "stdout",
     "output_type": "stream",
     "text": [
      "Best Validation Custom Loss is now: 3.6289 at Epoch: 23\n"
     ]
    },
    {
     "name": "stderr",
     "output_type": "stream",
     "text": [
      "\n",
      "Epoch [24/100] T Loss:0.2589 Cus Loss:3.5706  LR is 0.001000: 100%|█| 2500/2500 [00:32<00:00, 77.33"
     ]
    },
    {
     "name": "stdout",
     "output_type": "stream",
     "text": [
      "Training has completed epoch 24\n"
     ]
    },
    {
     "name": "stderr",
     "output_type": "stream",
     "text": [
      "\n",
      "Epoch [24/100] V Loss:0.2226 Custom Loss:3.4730: 100%|██████████| 313/313 [00:01<00:00, 162.69it/s]"
     ]
    },
    {
     "name": "stdout",
     "output_type": "stream",
     "text": [
      "Best Validation Custom Loss is now: 3.4730 at Epoch: 24\n"
     ]
    },
    {
     "name": "stderr",
     "output_type": "stream",
     "text": [
      "\n",
      "Epoch [25/100] T Loss:0.2584 Cus Loss:3.5488  LR is 0.001000: 100%|█| 2500/2500 [00:31<00:00, 80.44"
     ]
    },
    {
     "name": "stdout",
     "output_type": "stream",
     "text": [
      "Training has completed epoch 25\n"
     ]
    },
    {
     "name": "stderr",
     "output_type": "stream",
     "text": [
      "\n",
      "Epoch [25/100] V Loss:0.2219 Custom Loss:4.1553: 100%|██████████| 313/313 [00:02<00:00, 141.13it/s]"
     ]
    },
    {
     "name": "stdout",
     "output_type": "stream",
     "text": [
      "Best Validation Custom Loss is now: 4.1553 at Epoch: 25\n"
     ]
    },
    {
     "name": "stderr",
     "output_type": "stream",
     "text": [
      "\n",
      "Epoch [26/100] T Loss:0.2577 Cus Loss:3.5113  LR is 0.001000: 100%|█| 2500/2500 [00:30<00:00, 81.77"
     ]
    },
    {
     "name": "stdout",
     "output_type": "stream",
     "text": [
      "Training has completed epoch 26\n"
     ]
    },
    {
     "name": "stderr",
     "output_type": "stream",
     "text": [
      "\n",
      "Epoch [26/100] V Loss:0.2227 Custom Loss:3.5188: 100%|██████████| 313/313 [00:02<00:00, 144.83it/s]"
     ]
    },
    {
     "name": "stdout",
     "output_type": "stream",
     "text": [
      "This is Epoch: 1 without improvement\n",
      "Current Validation Loss is: 0.2227 at Epoch: 26\n",
      "Best Validation Loss remains: 0.2219 at Epoch: 25\n",
      "Current Validation Custom Loss is: 3.5188 at Epoch: 26\n"
     ]
    },
    {
     "name": "stderr",
     "output_type": "stream",
     "text": [
      "\n",
      "Epoch [27/100] T Loss:0.2569 Cus Loss:3.4640  LR is 0.001000: 100%|█| 2500/2500 [00:30<00:00, 81.86"
     ]
    },
    {
     "name": "stdout",
     "output_type": "stream",
     "text": [
      "Training has completed epoch 27\n"
     ]
    },
    {
     "name": "stderr",
     "output_type": "stream",
     "text": [
      "\n",
      "Epoch [27/100] V Loss:0.2225 Custom Loss:2.9636: 100%|██████████| 313/313 [00:02<00:00, 152.36it/s]"
     ]
    },
    {
     "name": "stdout",
     "output_type": "stream",
     "text": [
      "This is Epoch: 2 without improvement\n",
      "Current Validation Loss is: 0.2225 at Epoch: 27\n",
      "Best Validation Loss remains: 0.2219 at Epoch: 25\n",
      "Current Validation Custom Loss is: 2.9636 at Epoch: 27\n"
     ]
    },
    {
     "name": "stderr",
     "output_type": "stream",
     "text": [
      "\n",
      "Epoch [28/100] T Loss:0.2563 Cus Loss:3.4305  LR is 0.001000: 100%|█| 2500/2500 [00:31<00:00, 78.71"
     ]
    },
    {
     "name": "stdout",
     "output_type": "stream",
     "text": [
      "Training has completed epoch 28\n"
     ]
    },
    {
     "name": "stderr",
     "output_type": "stream",
     "text": [
      "\n",
      "Epoch [28/100] V Loss:0.2229 Custom Loss:3.4158: 100%|██████████| 313/313 [00:01<00:00, 161.02it/s]"
     ]
    },
    {
     "name": "stdout",
     "output_type": "stream",
     "text": [
      "This is Epoch: 3 without improvement\n",
      "Current Validation Loss is: 0.2229 at Epoch: 28\n",
      "Best Validation Loss remains: 0.2219 at Epoch: 25\n",
      "Current Validation Custom Loss is: 3.4158 at Epoch: 28\n"
     ]
    },
    {
     "name": "stderr",
     "output_type": "stream",
     "text": [
      "\n",
      "Epoch [29/100] T Loss:0.2560 Cus Loss:3.4304  LR is 0.001000: 100%|█| 2500/2500 [00:31<00:00, 80.05"
     ]
    },
    {
     "name": "stdout",
     "output_type": "stream",
     "text": [
      "Training has completed epoch 29\n"
     ]
    },
    {
     "name": "stderr",
     "output_type": "stream",
     "text": [
      "\n",
      "Epoch [29/100] V Loss:0.2194 Custom Loss:4.9664: 100%|██████████| 313/313 [00:02<00:00, 144.90it/s]"
     ]
    },
    {
     "name": "stdout",
     "output_type": "stream",
     "text": [
      "Best Validation Custom Loss is now: 4.9664 at Epoch: 29\n"
     ]
    },
    {
     "name": "stderr",
     "output_type": "stream",
     "text": [
      "\n",
      "Epoch [30/100] T Loss:0.2556 Cus Loss:3.4163  LR is 0.001000: 100%|█| 2500/2500 [00:30<00:00, 82.18"
     ]
    },
    {
     "name": "stdout",
     "output_type": "stream",
     "text": [
      "Training has completed epoch 30\n"
     ]
    },
    {
     "name": "stderr",
     "output_type": "stream",
     "text": [
      "\n",
      "Epoch [30/100] V Loss:0.2225 Custom Loss:3.3573: 100%|██████████| 313/313 [00:01<00:00, 163.01it/s]"
     ]
    },
    {
     "name": "stdout",
     "output_type": "stream",
     "text": [
      "This is Epoch: 1 without improvement\n",
      "Current Validation Loss is: 0.2225 at Epoch: 30\n",
      "Best Validation Loss remains: 0.2194 at Epoch: 29\n",
      "Current Validation Custom Loss is: 3.3573 at Epoch: 30\n"
     ]
    },
    {
     "name": "stderr",
     "output_type": "stream",
     "text": [
      "\n",
      "Epoch [31/100] T Loss:0.2546 Cus Loss:3.3484  LR is 0.001000: 100%|█| 2500/2500 [00:30<00:00, 82.08"
     ]
    },
    {
     "name": "stdout",
     "output_type": "stream",
     "text": [
      "Training has completed epoch 31\n"
     ]
    },
    {
     "name": "stderr",
     "output_type": "stream",
     "text": [
      "\n",
      "Epoch [31/100] V Loss:0.2219 Custom Loss:4.1371: 100%|██████████| 313/313 [00:01<00:00, 164.67it/s]"
     ]
    },
    {
     "name": "stdout",
     "output_type": "stream",
     "text": [
      "This is Epoch: 2 without improvement\n",
      "Current Validation Loss is: 0.2219 at Epoch: 31\n",
      "Best Validation Loss remains: 0.2194 at Epoch: 29\n",
      "Current Validation Custom Loss is: 4.1371 at Epoch: 31\n"
     ]
    },
    {
     "name": "stderr",
     "output_type": "stream",
     "text": [
      "\n",
      "Epoch [32/100] T Loss:0.2544 Cus Loss:3.3529  LR is 0.001000: 100%|█| 2500/2500 [00:30<00:00, 82.33"
     ]
    },
    {
     "name": "stdout",
     "output_type": "stream",
     "text": [
      "Training has completed epoch 32\n"
     ]
    },
    {
     "name": "stderr",
     "output_type": "stream",
     "text": [
      "\n",
      "Epoch [32/100] V Loss:0.2196 Custom Loss:4.4555: 100%|██████████| 313/313 [00:01<00:00, 174.63it/s]"
     ]
    },
    {
     "name": "stdout",
     "output_type": "stream",
     "text": [
      "This is Epoch: 3 without improvement\n",
      "Current Validation Loss is: 0.2196 at Epoch: 32\n",
      "Best Validation Loss remains: 0.2194 at Epoch: 29\n",
      "Current Validation Custom Loss is: 4.4555 at Epoch: 32\n"
     ]
    },
    {
     "name": "stderr",
     "output_type": "stream",
     "text": [
      "\n",
      "Epoch [33/100] T Loss:0.2538 Cus Loss:3.3191  LR is 0.001000: 100%|█| 2500/2500 [00:30<00:00, 82.17"
     ]
    },
    {
     "name": "stdout",
     "output_type": "stream",
     "text": [
      "Training has completed epoch 33\n"
     ]
    },
    {
     "name": "stderr",
     "output_type": "stream",
     "text": [
      "\n",
      "Epoch [33/100] V Loss:0.2214 Custom Loss:3.2875: 100%|██████████| 313/313 [00:01<00:00, 164.59it/s]"
     ]
    },
    {
     "name": "stdout",
     "output_type": "stream",
     "text": [
      "This is Epoch: 4 without improvement\n",
      "Current Validation Loss is: 0.2214 at Epoch: 33\n",
      "Best Validation Loss remains: 0.2194 at Epoch: 29\n",
      "Current Validation Custom Loss is: 3.2875 at Epoch: 33\n"
     ]
    },
    {
     "name": "stderr",
     "output_type": "stream",
     "text": [
      "\n",
      "Epoch [34/100] T Loss:0.2541 Cus Loss:3.3732  LR is 0.001000: 100%|█| 2500/2500 [00:30<00:00, 81.08"
     ]
    },
    {
     "name": "stdout",
     "output_type": "stream",
     "text": [
      "Training has completed epoch 34\n"
     ]
    },
    {
     "name": "stderr",
     "output_type": "stream",
     "text": [
      "\n",
      "Epoch [34/100] V Loss:0.2200 Custom Loss:3.1392: 100%|██████████| 313/313 [00:02<00:00, 146.86it/s]"
     ]
    },
    {
     "name": "stdout",
     "output_type": "stream",
     "text": [
      "This is Epoch: 5 without improvement\n",
      "Current Validation Loss is: 0.2200 at Epoch: 34\n",
      "Best Validation Loss remains: 0.2194 at Epoch: 29\n",
      "Current Validation Custom Loss is: 3.1392 at Epoch: 34\n"
     ]
    },
    {
     "name": "stderr",
     "output_type": "stream",
     "text": [
      "\n",
      "Epoch [35/100] T Loss:0.2519 Cus Loss:3.1865  LR is 0.000900: 100%|█| 2500/2500 [00:33<00:00, 74.91"
     ]
    },
    {
     "name": "stdout",
     "output_type": "stream",
     "text": [
      "Training has completed epoch 35\n"
     ]
    },
    {
     "name": "stderr",
     "output_type": "stream",
     "text": [
      "\n",
      "Epoch [35/100] V Loss:0.2190 Custom Loss:3.5572: 100%|██████████| 313/313 [00:02<00:00, 139.64it/s]"
     ]
    },
    {
     "name": "stdout",
     "output_type": "stream",
     "text": [
      "Best Validation Custom Loss is now: 3.5572 at Epoch: 35\n"
     ]
    },
    {
     "name": "stderr",
     "output_type": "stream",
     "text": [
      "\n",
      "Epoch [36/100] T Loss:0.2519 Cus Loss:3.2118  LR is 0.000900: 100%|█| 2500/2500 [00:33<00:00, 74.55"
     ]
    },
    {
     "name": "stdout",
     "output_type": "stream",
     "text": [
      "Training has completed epoch 36\n"
     ]
    },
    {
     "name": "stderr",
     "output_type": "stream",
     "text": [
      "\n",
      "Epoch [36/100] V Loss:0.2201 Custom Loss:3.1191: 100%|██████████| 313/313 [00:02<00:00, 137.15it/s]"
     ]
    },
    {
     "name": "stdout",
     "output_type": "stream",
     "text": [
      "This is Epoch: 1 without improvement\n",
      "Current Validation Loss is: 0.2201 at Epoch: 36\n",
      "Best Validation Loss remains: 0.2190 at Epoch: 35\n",
      "Current Validation Custom Loss is: 3.1191 at Epoch: 36\n"
     ]
    },
    {
     "name": "stderr",
     "output_type": "stream",
     "text": [
      "\n",
      "Epoch [37/100] T Loss:0.2514 Cus Loss:3.1909  LR is 0.000900: 100%|█| 2500/2500 [00:31<00:00, 78.34"
     ]
    },
    {
     "name": "stdout",
     "output_type": "stream",
     "text": [
      "Training has completed epoch 37\n"
     ]
    },
    {
     "name": "stderr",
     "output_type": "stream",
     "text": [
      "\n",
      "Epoch [37/100] V Loss:0.2184 Custom Loss:3.3529: 100%|██████████| 313/313 [00:02<00:00, 143.12it/s]"
     ]
    },
    {
     "name": "stdout",
     "output_type": "stream",
     "text": [
      "Best Validation Custom Loss is now: 3.3529 at Epoch: 37\n"
     ]
    },
    {
     "name": "stderr",
     "output_type": "stream",
     "text": [
      "\n",
      "Epoch [38/100] T Loss:0.2517 Cus Loss:3.2396  LR is 0.000900: 100%|█| 2500/2500 [00:31<00:00, 79.75"
     ]
    },
    {
     "name": "stdout",
     "output_type": "stream",
     "text": [
      "Training has completed epoch 38\n"
     ]
    },
    {
     "name": "stderr",
     "output_type": "stream",
     "text": [
      "\n",
      "Epoch [38/100] V Loss:0.2196 Custom Loss:3.0615: 100%|██████████| 313/313 [00:01<00:00, 160.50it/s]"
     ]
    },
    {
     "name": "stdout",
     "output_type": "stream",
     "text": [
      "This is Epoch: 1 without improvement\n",
      "Current Validation Loss is: 0.2196 at Epoch: 38\n",
      "Best Validation Loss remains: 0.2184 at Epoch: 37\n",
      "Current Validation Custom Loss is: 3.0615 at Epoch: 38\n"
     ]
    },
    {
     "name": "stderr",
     "output_type": "stream",
     "text": [
      "\n",
      "Epoch [39/100] T Loss:0.2508 Cus Loss:3.1779  LR is 0.000900: 100%|█| 2500/2500 [00:30<00:00, 80.97"
     ]
    },
    {
     "name": "stdout",
     "output_type": "stream",
     "text": [
      "Training has completed epoch 39\n"
     ]
    },
    {
     "name": "stderr",
     "output_type": "stream",
     "text": [
      "\n",
      "Epoch [39/100] V Loss:0.2202 Custom Loss:4.3699: 100%|██████████| 313/313 [00:02<00:00, 155.36it/s]"
     ]
    },
    {
     "name": "stdout",
     "output_type": "stream",
     "text": [
      "This is Epoch: 2 without improvement\n",
      "Current Validation Loss is: 0.2202 at Epoch: 39\n",
      "Best Validation Loss remains: 0.2184 at Epoch: 37\n",
      "Current Validation Custom Loss is: 4.3699 at Epoch: 39\n"
     ]
    },
    {
     "name": "stderr",
     "output_type": "stream",
     "text": [
      "\n",
      "Epoch [40/100] T Loss:0.2507 Cus Loss:3.1920  LR is 0.000900: 100%|█| 2500/2500 [00:30<00:00, 82.16"
     ]
    },
    {
     "name": "stdout",
     "output_type": "stream",
     "text": [
      "Training has completed epoch 40\n"
     ]
    },
    {
     "name": "stderr",
     "output_type": "stream",
     "text": [
      "\n",
      "Epoch [40/100] V Loss:0.2177 Custom Loss:3.6001: 100%|██████████| 313/313 [00:01<00:00, 164.76it/s]"
     ]
    },
    {
     "name": "stdout",
     "output_type": "stream",
     "text": [
      "Best Validation Custom Loss is now: 3.6001 at Epoch: 40\n"
     ]
    },
    {
     "name": "stderr",
     "output_type": "stream",
     "text": [
      "\n",
      "Epoch [41/100] T Loss:0.2497 Cus Loss:3.1107  LR is 0.000900: 100%|█| 2500/2500 [00:30<00:00, 81.54"
     ]
    },
    {
     "name": "stdout",
     "output_type": "stream",
     "text": [
      "Training has completed epoch 41\n"
     ]
    },
    {
     "name": "stderr",
     "output_type": "stream",
     "text": [
      "\n",
      "Epoch [41/100] V Loss:0.2178 Custom Loss:3.9088: 100%|██████████| 313/313 [00:02<00:00, 155.56it/s]"
     ]
    },
    {
     "name": "stdout",
     "output_type": "stream",
     "text": [
      "This is Epoch: 1 without improvement\n",
      "Current Validation Loss is: 0.2178 at Epoch: 41\n",
      "Best Validation Loss remains: 0.2177 at Epoch: 40\n",
      "Current Validation Custom Loss is: 3.9088 at Epoch: 41\n"
     ]
    },
    {
     "name": "stderr",
     "output_type": "stream",
     "text": [
      "\n",
      "Epoch [42/100] T Loss:0.2498 Cus Loss:3.1438  LR is 0.000900: 100%|█| 2500/2500 [00:35<00:00, 69.72"
     ]
    },
    {
     "name": "stdout",
     "output_type": "stream",
     "text": [
      "Training has completed epoch 42\n"
     ]
    },
    {
     "name": "stderr",
     "output_type": "stream",
     "text": [
      "\n",
      "Epoch [42/100] V Loss:0.2188 Custom Loss:3.2446: 100%|██████████| 313/313 [00:02<00:00, 152.89it/s]"
     ]
    },
    {
     "name": "stdout",
     "output_type": "stream",
     "text": [
      "This is Epoch: 2 without improvement\n",
      "Current Validation Loss is: 0.2188 at Epoch: 42\n",
      "Best Validation Loss remains: 0.2177 at Epoch: 40\n",
      "Current Validation Custom Loss is: 3.2446 at Epoch: 42\n"
     ]
    },
    {
     "name": "stderr",
     "output_type": "stream",
     "text": [
      "\n",
      "Epoch [43/100] T Loss:0.2493 Cus Loss:3.1242  LR is 0.000900: 100%|█| 2500/2500 [00:31<00:00, 79.38"
     ]
    },
    {
     "name": "stdout",
     "output_type": "stream",
     "text": [
      "Training has completed epoch 43\n"
     ]
    },
    {
     "name": "stderr",
     "output_type": "stream",
     "text": [
      "\n",
      "Epoch [43/100] V Loss:0.2183 Custom Loss:4.2939: 100%|██████████| 313/313 [00:01<00:00, 166.55it/s]"
     ]
    },
    {
     "name": "stdout",
     "output_type": "stream",
     "text": [
      "This is Epoch: 3 without improvement\n",
      "Current Validation Loss is: 0.2183 at Epoch: 43\n",
      "Best Validation Loss remains: 0.2177 at Epoch: 40\n",
      "Current Validation Custom Loss is: 4.2939 at Epoch: 43\n"
     ]
    },
    {
     "name": "stderr",
     "output_type": "stream",
     "text": [
      "\n",
      "Epoch [44/100] T Loss:0.2492 Cus Loss:3.1332  LR is 0.000900: 100%|█| 2500/2500 [00:30<00:00, 82.73"
     ]
    },
    {
     "name": "stdout",
     "output_type": "stream",
     "text": [
      "Training has completed epoch 44\n"
     ]
    },
    {
     "name": "stderr",
     "output_type": "stream",
     "text": [
      "\n",
      "Epoch [44/100] V Loss:0.2186 Custom Loss:3.4578: 100%|██████████| 313/313 [00:01<00:00, 165.63it/s]"
     ]
    },
    {
     "name": "stdout",
     "output_type": "stream",
     "text": [
      "This is Epoch: 4 without improvement\n",
      "Current Validation Loss is: 0.2186 at Epoch: 44\n",
      "Best Validation Loss remains: 0.2177 at Epoch: 40\n",
      "Current Validation Custom Loss is: 3.4578 at Epoch: 44\n"
     ]
    },
    {
     "name": "stderr",
     "output_type": "stream",
     "text": [
      "\n",
      "Epoch [45/100] T Loss:0.2484 Cus Loss:3.0696  LR is 0.000900: 100%|█| 2500/2500 [00:30<00:00, 82.72"
     ]
    },
    {
     "name": "stdout",
     "output_type": "stream",
     "text": [
      "Training has completed epoch 45\n"
     ]
    },
    {
     "name": "stderr",
     "output_type": "stream",
     "text": [
      "\n",
      "Epoch [45/100] V Loss:0.2171 Custom Loss:2.9773: 100%|██████████| 313/313 [00:01<00:00, 169.92it/s]"
     ]
    },
    {
     "name": "stdout",
     "output_type": "stream",
     "text": [
      "Best Validation Custom Loss is now: 2.9773 at Epoch: 45\n"
     ]
    },
    {
     "name": "stderr",
     "output_type": "stream",
     "text": [
      "\n",
      "Epoch [46/100] T Loss:0.2484 Cus Loss:3.0978  LR is 0.000900: 100%|█| 2500/2500 [00:30<00:00, 80.82"
     ]
    },
    {
     "name": "stdout",
     "output_type": "stream",
     "text": [
      "Training has completed epoch 46\n"
     ]
    },
    {
     "name": "stderr",
     "output_type": "stream",
     "text": [
      "\n",
      "Epoch [46/100] V Loss:0.2170 Custom Loss:2.9756: 100%|██████████| 313/313 [00:01<00:00, 160.30it/s]"
     ]
    },
    {
     "name": "stdout",
     "output_type": "stream",
     "text": [
      "Best Validation Custom Loss is now: 2.9756 at Epoch: 46\n"
     ]
    },
    {
     "name": "stderr",
     "output_type": "stream",
     "text": [
      "\n",
      "Epoch [47/100] T Loss:0.2480 Cus Loss:3.0812  LR is 0.000900: 100%|█| 2500/2500 [00:30<00:00, 82.37"
     ]
    },
    {
     "name": "stdout",
     "output_type": "stream",
     "text": [
      "Training has completed epoch 47\n"
     ]
    },
    {
     "name": "stderr",
     "output_type": "stream",
     "text": [
      "\n",
      "Epoch [47/100] V Loss:0.2181 Custom Loss:3.4455: 100%|██████████| 313/313 [00:02<00:00, 150.37it/s]"
     ]
    },
    {
     "name": "stdout",
     "output_type": "stream",
     "text": [
      "This is Epoch: 1 without improvement\n",
      "Current Validation Loss is: 0.2181 at Epoch: 47\n",
      "Best Validation Loss remains: 0.2170 at Epoch: 46\n",
      "Current Validation Custom Loss is: 3.4455 at Epoch: 47\n"
     ]
    },
    {
     "name": "stderr",
     "output_type": "stream",
     "text": [
      "\n",
      "Epoch [48/100] T Loss:0.2476 Cus Loss:3.0648  LR is 0.000900: 100%|█| 2500/2500 [00:32<00:00, 77.62"
     ]
    },
    {
     "name": "stdout",
     "output_type": "stream",
     "text": [
      "Training has completed epoch 48\n"
     ]
    },
    {
     "name": "stderr",
     "output_type": "stream",
     "text": [
      "\n",
      "Epoch [48/100] V Loss:0.2170 Custom Loss:2.9712: 100%|██████████| 313/313 [00:01<00:00, 157.13it/s]"
     ]
    },
    {
     "name": "stdout",
     "output_type": "stream",
     "text": [
      "Best Validation Custom Loss is now: 2.9712 at Epoch: 48\n"
     ]
    },
    {
     "name": "stderr",
     "output_type": "stream",
     "text": [
      "\n",
      "Epoch [49/100] T Loss:0.2474 Cus Loss:3.0642  LR is 0.000900: 100%|█| 2500/2500 [00:30<00:00, 81.99"
     ]
    },
    {
     "name": "stdout",
     "output_type": "stream",
     "text": [
      "Training has completed epoch 49\n"
     ]
    },
    {
     "name": "stderr",
     "output_type": "stream",
     "text": [
      "\n",
      "Epoch [49/100] V Loss:0.2156 Custom Loss:4.0200: 100%|██████████| 313/313 [00:02<00:00, 150.40it/s]"
     ]
    },
    {
     "name": "stdout",
     "output_type": "stream",
     "text": [
      "Best Validation Custom Loss is now: 4.0200 at Epoch: 49\n"
     ]
    },
    {
     "name": "stderr",
     "output_type": "stream",
     "text": [
      "\n",
      "Epoch [50/100] T Loss:0.2474 Cus Loss:3.0826  LR is 0.000900: 100%|█| 2500/2500 [00:30<00:00, 82.13"
     ]
    },
    {
     "name": "stdout",
     "output_type": "stream",
     "text": [
      "Training has completed epoch 50\n"
     ]
    },
    {
     "name": "stderr",
     "output_type": "stream",
     "text": [
      "\n",
      "Epoch [50/100] V Loss:0.2162 Custom Loss:3.1013: 100%|██████████| 313/313 [00:01<00:00, 159.63it/s]"
     ]
    },
    {
     "name": "stdout",
     "output_type": "stream",
     "text": [
      "This is Epoch: 1 without improvement\n",
      "Current Validation Loss is: 0.2162 at Epoch: 50\n",
      "Best Validation Loss remains: 0.2156 at Epoch: 49\n",
      "Current Validation Custom Loss is: 3.1013 at Epoch: 50\n"
     ]
    },
    {
     "name": "stderr",
     "output_type": "stream",
     "text": [
      "\n",
      "Epoch [51/100] T Loss:0.2468 Cus Loss:3.0504  LR is 0.000900: 100%|█| 2500/2500 [00:30<00:00, 82.44"
     ]
    },
    {
     "name": "stdout",
     "output_type": "stream",
     "text": [
      "Training has completed epoch 51\n"
     ]
    },
    {
     "name": "stderr",
     "output_type": "stream",
     "text": [
      "\n",
      "Epoch [51/100] V Loss:0.2167 Custom Loss:3.0751: 100%|██████████| 313/313 [00:02<00:00, 154.41it/s]"
     ]
    },
    {
     "name": "stdout",
     "output_type": "stream",
     "text": [
      "This is Epoch: 2 without improvement\n",
      "Current Validation Loss is: 0.2167 at Epoch: 51\n",
      "Best Validation Loss remains: 0.2156 at Epoch: 49\n",
      "Current Validation Custom Loss is: 3.0751 at Epoch: 51\n"
     ]
    },
    {
     "name": "stderr",
     "output_type": "stream",
     "text": [
      "\n",
      "Epoch [52/100] T Loss:0.2464 Cus Loss:3.0357  LR is 0.000900: 100%|█| 2500/2500 [00:35<00:00, 71.28"
     ]
    },
    {
     "name": "stdout",
     "output_type": "stream",
     "text": [
      "Training has completed epoch 52\n"
     ]
    },
    {
     "name": "stderr",
     "output_type": "stream",
     "text": [
      "\n",
      "Epoch [52/100] V Loss:0.2163 Custom Loss:2.9688: 100%|██████████| 313/313 [00:01<00:00, 157.65it/s]"
     ]
    },
    {
     "name": "stdout",
     "output_type": "stream",
     "text": [
      "This is Epoch: 3 without improvement\n",
      "Current Validation Loss is: 0.2163 at Epoch: 52\n",
      "Best Validation Loss remains: 0.2156 at Epoch: 49\n",
      "Current Validation Custom Loss is: 2.9688 at Epoch: 52\n"
     ]
    },
    {
     "name": "stderr",
     "output_type": "stream",
     "text": [
      "\n",
      "Epoch [53/100] T Loss:0.2464 Cus Loss:3.0572  LR is 0.000900: 100%|█| 2500/2500 [00:30<00:00, 83.00"
     ]
    },
    {
     "name": "stdout",
     "output_type": "stream",
     "text": [
      "Training has completed epoch 53\n"
     ]
    },
    {
     "name": "stderr",
     "output_type": "stream",
     "text": [
      "\n",
      "Epoch [53/100] V Loss:0.2159 Custom Loss:3.4838: 100%|██████████| 313/313 [00:02<00:00, 148.16it/s]"
     ]
    },
    {
     "name": "stdout",
     "output_type": "stream",
     "text": [
      "This is Epoch: 4 without improvement\n",
      "Current Validation Loss is: 0.2159 at Epoch: 53\n",
      "Best Validation Loss remains: 0.2156 at Epoch: 49\n",
      "Current Validation Custom Loss is: 3.4838 at Epoch: 53\n"
     ]
    },
    {
     "name": "stderr",
     "output_type": "stream",
     "text": [
      "\n",
      "Epoch [54/100] T Loss:0.2463 Cus Loss:3.0659  LR is 0.000900: 100%|█| 2500/2500 [00:30<00:00, 82.98"
     ]
    },
    {
     "name": "stdout",
     "output_type": "stream",
     "text": [
      "Training has completed epoch 54\n"
     ]
    },
    {
     "name": "stderr",
     "output_type": "stream",
     "text": [
      "\n",
      "Epoch [54/100] V Loss:0.2156 Custom Loss:3.0930: 100%|██████████| 313/313 [00:02<00:00, 155.44it/s]"
     ]
    },
    {
     "name": "stdout",
     "output_type": "stream",
     "text": [
      "Best Validation Custom Loss is now: 3.0930 at Epoch: 54\n"
     ]
    },
    {
     "name": "stderr",
     "output_type": "stream",
     "text": [
      "\n",
      "Epoch [55/100] T Loss:0.2453 Cus Loss:2.9955  LR is 0.000810: 100%|█| 2500/2500 [00:30<00:00, 82.50"
     ]
    },
    {
     "name": "stdout",
     "output_type": "stream",
     "text": [
      "Training has completed epoch 55\n"
     ]
    },
    {
     "name": "stderr",
     "output_type": "stream",
     "text": [
      "\n",
      "Epoch [55/100] V Loss:0.2149 Custom Loss:3.1126: 100%|██████████| 313/313 [00:02<00:00, 151.85it/s]"
     ]
    },
    {
     "name": "stdout",
     "output_type": "stream",
     "text": [
      "Best Validation Custom Loss is now: 3.1126 at Epoch: 55\n"
     ]
    },
    {
     "name": "stderr",
     "output_type": "stream",
     "text": [
      "\n",
      "Epoch [56/100] T Loss:0.2447 Cus Loss:2.9518  LR is 0.000810: 100%|█| 2500/2500 [00:30<00:00, 82.22"
     ]
    },
    {
     "name": "stdout",
     "output_type": "stream",
     "text": [
      "Training has completed epoch 56\n"
     ]
    },
    {
     "name": "stderr",
     "output_type": "stream",
     "text": [
      "\n",
      "Epoch [56/100] V Loss:0.2153 Custom Loss:2.9513: 100%|██████████| 313/313 [00:01<00:00, 160.51it/s]"
     ]
    },
    {
     "name": "stdout",
     "output_type": "stream",
     "text": [
      "This is Epoch: 1 without improvement\n",
      "Current Validation Loss is: 0.2153 at Epoch: 56\n",
      "Best Validation Loss remains: 0.2149 at Epoch: 55\n",
      "Current Validation Custom Loss is: 2.9513 at Epoch: 56\n"
     ]
    },
    {
     "name": "stderr",
     "output_type": "stream",
     "text": [
      "\n",
      "Epoch [57/100] T Loss:0.2444 Cus Loss:2.9438  LR is 0.000810: 100%|█| 2500/2500 [00:30<00:00, 82.64"
     ]
    },
    {
     "name": "stdout",
     "output_type": "stream",
     "text": [
      "Training has completed epoch 57\n"
     ]
    },
    {
     "name": "stderr",
     "output_type": "stream",
     "text": [
      "\n",
      "Epoch [57/100] V Loss:0.2142 Custom Loss:3.3162: 100%|██████████| 313/313 [00:02<00:00, 146.38it/s]"
     ]
    },
    {
     "name": "stdout",
     "output_type": "stream",
     "text": [
      "Best Validation Custom Loss is now: 3.3162 at Epoch: 57\n"
     ]
    },
    {
     "name": "stderr",
     "output_type": "stream",
     "text": [
      "\n",
      "Epoch [58/100] T Loss:0.2446 Cus Loss:2.9815  LR is 0.000810: 100%|█| 2500/2500 [00:30<00:00, 82.30"
     ]
    },
    {
     "name": "stdout",
     "output_type": "stream",
     "text": [
      "Training has completed epoch 58\n"
     ]
    },
    {
     "name": "stderr",
     "output_type": "stream",
     "text": [
      "\n",
      "Epoch [58/100] V Loss:0.2146 Custom Loss:3.6012: 100%|██████████| 313/313 [00:02<00:00, 150.42it/s]"
     ]
    },
    {
     "name": "stdout",
     "output_type": "stream",
     "text": [
      "This is Epoch: 1 without improvement\n",
      "Current Validation Loss is: 0.2146 at Epoch: 58\n",
      "Best Validation Loss remains: 0.2142 at Epoch: 57\n",
      "Current Validation Custom Loss is: 3.6012 at Epoch: 58\n"
     ]
    },
    {
     "name": "stderr",
     "output_type": "stream",
     "text": [
      "\n",
      "Epoch [59/100] T Loss:0.2439 Cus Loss:2.9326  LR is 0.000810: 100%|█| 2500/2500 [00:30<00:00, 82.63"
     ]
    },
    {
     "name": "stdout",
     "output_type": "stream",
     "text": [
      "Training has completed epoch 59\n"
     ]
    },
    {
     "name": "stderr",
     "output_type": "stream",
     "text": [
      "\n",
      "Epoch [59/100] V Loss:0.2153 Custom Loss:3.0750: 100%|██████████| 313/313 [00:02<00:00, 154.47it/s]"
     ]
    },
    {
     "name": "stdout",
     "output_type": "stream",
     "text": [
      "This is Epoch: 2 without improvement\n",
      "Current Validation Loss is: 0.2153 at Epoch: 59\n",
      "Best Validation Loss remains: 0.2142 at Epoch: 57\n",
      "Current Validation Custom Loss is: 3.0750 at Epoch: 59\n"
     ]
    },
    {
     "name": "stderr",
     "output_type": "stream",
     "text": [
      "\n",
      "Epoch [60/100] T Loss:0.2441 Cus Loss:2.9708  LR is 0.000810: 100%|█| 2500/2500 [00:30<00:00, 82.35"
     ]
    },
    {
     "name": "stdout",
     "output_type": "stream",
     "text": [
      "Training has completed epoch 60\n"
     ]
    },
    {
     "name": "stderr",
     "output_type": "stream",
     "text": [
      "\n",
      "Epoch [60/100] V Loss:0.2143 Custom Loss:2.9792: 100%|██████████| 313/313 [00:01<00:00, 158.94it/s]"
     ]
    },
    {
     "name": "stdout",
     "output_type": "stream",
     "text": [
      "This is Epoch: 3 without improvement\n",
      "Current Validation Loss is: 0.2143 at Epoch: 60\n",
      "Best Validation Loss remains: 0.2142 at Epoch: 57\n",
      "Current Validation Custom Loss is: 2.9792 at Epoch: 60\n"
     ]
    },
    {
     "name": "stderr",
     "output_type": "stream",
     "text": [
      "\n",
      "Epoch [61/100] T Loss:0.2434 Cus Loss:2.9222  LR is 0.000810: 100%|█| 2500/2500 [00:30<00:00, 82.57"
     ]
    },
    {
     "name": "stdout",
     "output_type": "stream",
     "text": [
      "Training has completed epoch 61\n"
     ]
    },
    {
     "name": "stderr",
     "output_type": "stream",
     "text": [
      "\n",
      "Epoch [61/100] V Loss:0.2135 Custom Loss:2.9440: 100%|██████████| 313/313 [00:02<00:00, 151.13it/s]"
     ]
    },
    {
     "name": "stdout",
     "output_type": "stream",
     "text": [
      "Best Validation Custom Loss is now: 2.9440 at Epoch: 61\n"
     ]
    },
    {
     "name": "stderr",
     "output_type": "stream",
     "text": [
      "\n",
      "Epoch [62/100] T Loss:0.2433 Cus Loss:2.9347  LR is 0.000810: 100%|█| 2500/2500 [00:30<00:00, 82.28"
     ]
    },
    {
     "name": "stdout",
     "output_type": "stream",
     "text": [
      "Training has completed epoch 62\n"
     ]
    },
    {
     "name": "stderr",
     "output_type": "stream",
     "text": [
      "\n",
      "Epoch [62/100] V Loss:0.2139 Custom Loss:3.2204: 100%|██████████| 313/313 [00:01<00:00, 156.56it/s]"
     ]
    },
    {
     "name": "stdout",
     "output_type": "stream",
     "text": [
      "This is Epoch: 1 without improvement\n",
      "Current Validation Loss is: 0.2139 at Epoch: 62\n",
      "Best Validation Loss remains: 0.2135 at Epoch: 61\n",
      "Current Validation Custom Loss is: 3.2204 at Epoch: 62\n"
     ]
    },
    {
     "name": "stderr",
     "output_type": "stream",
     "text": [
      "\n",
      "Epoch [63/100] T Loss:0.2429 Cus Loss:2.9101  LR is 0.000810: 100%|█| 2500/2500 [00:31<00:00, 78.91"
     ]
    },
    {
     "name": "stdout",
     "output_type": "stream",
     "text": [
      "Training has completed epoch 63\n"
     ]
    },
    {
     "name": "stderr",
     "output_type": "stream",
     "text": [
      "\n",
      "Epoch [63/100] V Loss:0.2129 Custom Loss:3.3260: 100%|██████████| 313/313 [00:01<00:00, 162.64it/s]"
     ]
    },
    {
     "name": "stdout",
     "output_type": "stream",
     "text": [
      "Best Validation Custom Loss is now: 3.3260 at Epoch: 63\n"
     ]
    },
    {
     "name": "stderr",
     "output_type": "stream",
     "text": [
      "\n",
      "Epoch [64/100] T Loss:0.2431 Cus Loss:2.9439  LR is 0.000810: 100%|█| 2500/2500 [00:30<00:00, 82.62"
     ]
    },
    {
     "name": "stdout",
     "output_type": "stream",
     "text": [
      "Training has completed epoch 64\n"
     ]
    },
    {
     "name": "stderr",
     "output_type": "stream",
     "text": [
      "\n",
      "Epoch [64/100] V Loss:0.2142 Custom Loss:3.0469: 100%|██████████| 313/313 [00:01<00:00, 169.23it/s]"
     ]
    },
    {
     "name": "stdout",
     "output_type": "stream",
     "text": [
      "This is Epoch: 1 without improvement\n",
      "Current Validation Loss is: 0.2142 at Epoch: 64\n",
      "Best Validation Loss remains: 0.2129 at Epoch: 63\n",
      "Current Validation Custom Loss is: 3.0469 at Epoch: 64\n"
     ]
    },
    {
     "name": "stderr",
     "output_type": "stream",
     "text": [
      "\n",
      "Epoch [65/100] T Loss:0.2422 Cus Loss:2.8815  LR is 0.000810: 100%|█| 2500/2500 [00:30<00:00, 81.93"
     ]
    },
    {
     "name": "stdout",
     "output_type": "stream",
     "text": [
      "Training has completed epoch 65\n"
     ]
    },
    {
     "name": "stderr",
     "output_type": "stream",
     "text": [
      "\n",
      "Epoch [65/100] V Loss:0.2130 Custom Loss:3.1213: 100%|██████████| 313/313 [00:02<00:00, 148.90it/s]"
     ]
    },
    {
     "name": "stdout",
     "output_type": "stream",
     "text": [
      "This is Epoch: 2 without improvement\n",
      "Current Validation Loss is: 0.2130 at Epoch: 65\n",
      "Best Validation Loss remains: 0.2129 at Epoch: 63\n",
      "Current Validation Custom Loss is: 3.1213 at Epoch: 65\n"
     ]
    },
    {
     "name": "stderr",
     "output_type": "stream",
     "text": [
      "\n",
      "Epoch [66/100] T Loss:0.2421 Cus Loss:2.8861  LR is 0.000810: 100%|█| 2500/2500 [00:30<00:00, 81.92"
     ]
    },
    {
     "name": "stdout",
     "output_type": "stream",
     "text": [
      "Training has completed epoch 66\n"
     ]
    },
    {
     "name": "stderr",
     "output_type": "stream",
     "text": [
      "\n",
      "Epoch [66/100] V Loss:0.2129 Custom Loss:2.9622: 100%|██████████| 313/313 [00:02<00:00, 153.92it/s]"
     ]
    },
    {
     "name": "stdout",
     "output_type": "stream",
     "text": [
      "This is Epoch: 3 without improvement\n",
      "Current Validation Loss is: 0.2129 at Epoch: 66\n",
      "Best Validation Loss remains: 0.2129 at Epoch: 63\n",
      "Current Validation Custom Loss is: 2.9622 at Epoch: 66\n"
     ]
    },
    {
     "name": "stderr",
     "output_type": "stream",
     "text": [
      "\n",
      "Epoch [67/100] T Loss:0.2421 Cus Loss:2.9010  LR is 0.000810: 100%|█| 2500/2500 [00:31<00:00, 79.95"
     ]
    },
    {
     "name": "stdout",
     "output_type": "stream",
     "text": [
      "Training has completed epoch 67\n"
     ]
    },
    {
     "name": "stderr",
     "output_type": "stream",
     "text": [
      "\n",
      "Epoch [67/100] V Loss:0.2127 Custom Loss:3.0024: 100%|██████████| 313/313 [00:01<00:00, 169.50it/s]"
     ]
    },
    {
     "name": "stdout",
     "output_type": "stream",
     "text": [
      "Best Validation Custom Loss is now: 3.0024 at Epoch: 67\n"
     ]
    },
    {
     "name": "stderr",
     "output_type": "stream",
     "text": [
      "\n",
      "Epoch [68/100] T Loss:0.2420 Cus Loss:2.9075  LR is 0.000810: 100%|█| 2500/2500 [00:31<00:00, 80.29"
     ]
    },
    {
     "name": "stdout",
     "output_type": "stream",
     "text": [
      "Training has completed epoch 68\n"
     ]
    },
    {
     "name": "stderr",
     "output_type": "stream",
     "text": [
      "\n",
      "Epoch [68/100] V Loss:0.2125 Custom Loss:2.9549: 100%|██████████| 313/313 [00:01<00:00, 174.48it/s]"
     ]
    },
    {
     "name": "stdout",
     "output_type": "stream",
     "text": [
      "Best Validation Custom Loss is now: 2.9549 at Epoch: 68\n"
     ]
    },
    {
     "name": "stderr",
     "output_type": "stream",
     "text": [
      "\n",
      "Epoch [69/100] T Loss:0.2419 Cus Loss:2.9209  LR is 0.000810: 100%|█| 2500/2500 [00:30<00:00, 80.65"
     ]
    },
    {
     "name": "stdout",
     "output_type": "stream",
     "text": [
      "Training has completed epoch 69\n"
     ]
    },
    {
     "name": "stderr",
     "output_type": "stream",
     "text": [
      "\n",
      "Epoch [69/100] V Loss:0.2127 Custom Loss:3.2266: 100%|██████████| 313/313 [00:02<00:00, 139.60it/s]"
     ]
    },
    {
     "name": "stdout",
     "output_type": "stream",
     "text": [
      "This is Epoch: 1 without improvement\n",
      "Current Validation Loss is: 0.2127 at Epoch: 69\n",
      "Best Validation Loss remains: 0.2125 at Epoch: 68\n",
      "Current Validation Custom Loss is: 3.2266 at Epoch: 69\n"
     ]
    },
    {
     "name": "stderr",
     "output_type": "stream",
     "text": [
      "\n",
      "Epoch [70/100] T Loss:0.2412 Cus Loss:2.8683  LR is 0.000810: 100%|█| 2500/2500 [00:31<00:00, 80.16"
     ]
    },
    {
     "name": "stdout",
     "output_type": "stream",
     "text": [
      "Training has completed epoch 70\n"
     ]
    },
    {
     "name": "stderr",
     "output_type": "stream",
     "text": [
      "\n",
      "Epoch [70/100] V Loss:0.2126 Custom Loss:3.0093: 100%|██████████| 313/313 [00:01<00:00, 161.94it/s]"
     ]
    },
    {
     "name": "stdout",
     "output_type": "stream",
     "text": [
      "This is Epoch: 2 without improvement\n",
      "Current Validation Loss is: 0.2126 at Epoch: 70\n",
      "Best Validation Loss remains: 0.2125 at Epoch: 68\n",
      "Current Validation Custom Loss is: 3.0093 at Epoch: 70\n"
     ]
    },
    {
     "name": "stderr",
     "output_type": "stream",
     "text": [
      "\n",
      "Epoch [71/100] T Loss:0.2411 Cus Loss:2.8690  LR is 0.000810: 100%|█| 2500/2500 [00:31<00:00, 79.55"
     ]
    },
    {
     "name": "stdout",
     "output_type": "stream",
     "text": [
      "Training has completed epoch 71\n"
     ]
    },
    {
     "name": "stderr",
     "output_type": "stream",
     "text": [
      "\n",
      "Epoch [71/100] V Loss:0.2116 Custom Loss:3.0711: 100%|██████████| 313/313 [00:01<00:00, 165.60it/s]"
     ]
    },
    {
     "name": "stdout",
     "output_type": "stream",
     "text": [
      "Best Validation Custom Loss is now: 3.0711 at Epoch: 71\n"
     ]
    },
    {
     "name": "stderr",
     "output_type": "stream",
     "text": [
      "\n",
      "Epoch [72/100] T Loss:0.2410 Cus Loss:2.8814  LR is 0.000810: 100%|█| 2500/2500 [00:36<00:00, 68.49"
     ]
    },
    {
     "name": "stdout",
     "output_type": "stream",
     "text": [
      "Training has completed epoch 72\n"
     ]
    },
    {
     "name": "stderr",
     "output_type": "stream",
     "text": [
      "\n",
      "Epoch [72/100] V Loss:0.2118 Custom Loss:3.1458: 100%|██████████| 313/313 [00:01<00:00, 159.48it/s]"
     ]
    },
    {
     "name": "stdout",
     "output_type": "stream",
     "text": [
      "This is Epoch: 1 without improvement\n",
      "Current Validation Loss is: 0.2118 at Epoch: 72\n",
      "Best Validation Loss remains: 0.2116 at Epoch: 71\n",
      "Current Validation Custom Loss is: 3.1458 at Epoch: 72\n"
     ]
    },
    {
     "name": "stderr",
     "output_type": "stream",
     "text": [
      "\n",
      "Epoch [73/100] T Loss:0.2408 Cus Loss:2.8721  LR is 0.000810: 100%|█| 2500/2500 [00:32<00:00, 76.47"
     ]
    },
    {
     "name": "stdout",
     "output_type": "stream",
     "text": [
      "Training has completed epoch 73\n"
     ]
    },
    {
     "name": "stderr",
     "output_type": "stream",
     "text": [
      "\n",
      "Epoch [73/100] V Loss:0.2118 Custom Loss:2.8300: 100%|██████████| 313/313 [00:02<00:00, 154.16it/s]"
     ]
    },
    {
     "name": "stdout",
     "output_type": "stream",
     "text": [
      "This is Epoch: 2 without improvement\n",
      "Current Validation Loss is: 0.2118 at Epoch: 73\n",
      "Best Validation Loss remains: 0.2116 at Epoch: 71\n",
      "Current Validation Custom Loss is: 2.8300 at Epoch: 73\n"
     ]
    },
    {
     "name": "stderr",
     "output_type": "stream",
     "text": [
      "\n",
      "Epoch [74/100] T Loss:0.2408 Cus Loss:2.8933  LR is 0.000810: 100%|█| 2500/2500 [00:31<00:00, 78.59"
     ]
    },
    {
     "name": "stdout",
     "output_type": "stream",
     "text": [
      "Training has completed epoch 74\n"
     ]
    },
    {
     "name": "stderr",
     "output_type": "stream",
     "text": [
      "\n",
      "Epoch [74/100] V Loss:0.2113 Custom Loss:2.8888: 100%|██████████| 313/313 [00:02<00:00, 146.81it/s]"
     ]
    },
    {
     "name": "stdout",
     "output_type": "stream",
     "text": [
      "Best Validation Custom Loss is now: 2.8888 at Epoch: 74\n"
     ]
    },
    {
     "name": "stderr",
     "output_type": "stream",
     "text": [
      "\n",
      "Epoch [75/100] T Loss:0.2401 Cus Loss:2.8379  LR is 0.000810: 100%|█| 2500/2500 [00:31<00:00, 78.84"
     ]
    },
    {
     "name": "stdout",
     "output_type": "stream",
     "text": [
      "Training has completed epoch 75\n"
     ]
    },
    {
     "name": "stderr",
     "output_type": "stream",
     "text": [
      "\n",
      "Epoch [75/100] V Loss:0.2126 Custom Loss:3.2828: 100%|██████████| 313/313 [00:02<00:00, 147.69it/s]"
     ]
    },
    {
     "name": "stdout",
     "output_type": "stream",
     "text": [
      "This is Epoch: 1 without improvement\n",
      "Current Validation Loss is: 0.2126 at Epoch: 75\n",
      "Best Validation Loss remains: 0.2113 at Epoch: 74\n",
      "Current Validation Custom Loss is: 3.2828 at Epoch: 75\n"
     ]
    },
    {
     "name": "stderr",
     "output_type": "stream",
     "text": [
      "\n",
      "Epoch [76/100] T Loss:0.2401 Cus Loss:2.8503  LR is 0.000810: 100%|█| 2500/2500 [00:31<00:00, 78.58"
     ]
    },
    {
     "name": "stdout",
     "output_type": "stream",
     "text": [
      "Training has completed epoch 76\n"
     ]
    },
    {
     "name": "stderr",
     "output_type": "stream",
     "text": [
      "\n",
      "Epoch [76/100] V Loss:0.2118 Custom Loss:2.8336: 100%|██████████| 313/313 [00:02<00:00, 141.40it/s]"
     ]
    },
    {
     "name": "stdout",
     "output_type": "stream",
     "text": [
      "This is Epoch: 2 without improvement\n",
      "Current Validation Loss is: 0.2118 at Epoch: 76\n",
      "Best Validation Loss remains: 0.2113 at Epoch: 74\n",
      "Current Validation Custom Loss is: 2.8336 at Epoch: 76\n"
     ]
    },
    {
     "name": "stderr",
     "output_type": "stream",
     "text": [
      "\n",
      "Epoch [77/100] T Loss:0.2398 Cus Loss:2.8357  LR is 0.000810: 100%|█| 2500/2500 [00:31<00:00, 78.96"
     ]
    },
    {
     "name": "stdout",
     "output_type": "stream",
     "text": [
      "Training has completed epoch 77\n"
     ]
    },
    {
     "name": "stderr",
     "output_type": "stream",
     "text": [
      "\n",
      "Epoch [77/100] V Loss:0.2110 Custom Loss:2.8432: 100%|██████████| 313/313 [00:02<00:00, 156.03it/s]"
     ]
    },
    {
     "name": "stdout",
     "output_type": "stream",
     "text": [
      "Best Validation Custom Loss is now: 2.8432 at Epoch: 77\n"
     ]
    },
    {
     "name": "stderr",
     "output_type": "stream",
     "text": [
      "\n",
      "Epoch [78/100] T Loss:0.2397 Cus Loss:2.8429  LR is 0.000810: 100%|█| 2500/2500 [00:31<00:00, 79.41"
     ]
    },
    {
     "name": "stdout",
     "output_type": "stream",
     "text": [
      "Training has completed epoch 78\n"
     ]
    },
    {
     "name": "stderr",
     "output_type": "stream",
     "text": [
      "\n",
      "Epoch [78/100] V Loss:0.2122 Custom Loss:3.2802: 100%|██████████| 313/313 [00:02<00:00, 146.46it/s]"
     ]
    },
    {
     "name": "stdout",
     "output_type": "stream",
     "text": [
      "This is Epoch: 1 without improvement\n",
      "Current Validation Loss is: 0.2122 at Epoch: 78\n",
      "Best Validation Loss remains: 0.2110 at Epoch: 77\n",
      "Current Validation Custom Loss is: 3.2802 at Epoch: 78\n"
     ]
    },
    {
     "name": "stderr",
     "output_type": "stream",
     "text": [
      "\n",
      "Epoch [79/100] T Loss:0.2397 Cus Loss:2.8573  LR is 0.000810: 100%|█| 2500/2500 [00:31<00:00, 78.71"
     ]
    },
    {
     "name": "stdout",
     "output_type": "stream",
     "text": [
      "Training has completed epoch 79\n"
     ]
    },
    {
     "name": "stderr",
     "output_type": "stream",
     "text": [
      "\n",
      "Epoch [79/100] V Loss:0.2113 Custom Loss:3.0463: 100%|██████████| 313/313 [00:02<00:00, 144.98it/s]"
     ]
    },
    {
     "name": "stdout",
     "output_type": "stream",
     "text": [
      "This is Epoch: 2 without improvement\n",
      "Current Validation Loss is: 0.2113 at Epoch: 79\n",
      "Best Validation Loss remains: 0.2110 at Epoch: 77\n",
      "Current Validation Custom Loss is: 3.0463 at Epoch: 79\n"
     ]
    },
    {
     "name": "stderr",
     "output_type": "stream",
     "text": [
      "\n",
      "Epoch [80/100] T Loss:0.2390 Cus Loss:2.8079  LR is 0.000810: 100%|█| 2500/2500 [00:31<00:00, 79.31"
     ]
    },
    {
     "name": "stdout",
     "output_type": "stream",
     "text": [
      "Training has completed epoch 80\n"
     ]
    },
    {
     "name": "stderr",
     "output_type": "stream",
     "text": [
      "\n",
      "Epoch [80/100] V Loss:0.2107 Custom Loss:2.9132: 100%|██████████| 313/313 [00:02<00:00, 148.48it/s]"
     ]
    },
    {
     "name": "stdout",
     "output_type": "stream",
     "text": [
      "Best Validation Custom Loss is now: 2.9132 at Epoch: 80\n"
     ]
    },
    {
     "name": "stderr",
     "output_type": "stream",
     "text": [
      "\n",
      "Epoch [81/100] T Loss:0.2392 Cus Loss:2.8411  LR is 0.000810: 100%|█| 2500/2500 [00:32<00:00, 76.58"
     ]
    },
    {
     "name": "stdout",
     "output_type": "stream",
     "text": [
      "Training has completed epoch 81\n"
     ]
    },
    {
     "name": "stderr",
     "output_type": "stream",
     "text": [
      "\n",
      "Epoch [81/100] V Loss:0.2107 Custom Loss:2.8794: 100%|██████████| 313/313 [00:01<00:00, 159.50it/s]"
     ]
    },
    {
     "name": "stdout",
     "output_type": "stream",
     "text": [
      "Best Validation Custom Loss is now: 2.8794 at Epoch: 81\n"
     ]
    },
    {
     "name": "stderr",
     "output_type": "stream",
     "text": [
      "\n",
      "Epoch [82/100] T Loss:0.2391 Cus Loss:2.8400  LR is 0.000810: 100%|█| 2500/2500 [00:32<00:00, 77.29"
     ]
    },
    {
     "name": "stdout",
     "output_type": "stream",
     "text": [
      "Training has completed epoch 82\n"
     ]
    },
    {
     "name": "stderr",
     "output_type": "stream",
     "text": [
      "\n",
      "Epoch [82/100] V Loss:0.2109 Custom Loss:3.2952: 100%|██████████| 313/313 [00:01<00:00, 163.84it/s]"
     ]
    },
    {
     "name": "stdout",
     "output_type": "stream",
     "text": [
      "This is Epoch: 1 without improvement\n",
      "Current Validation Loss is: 0.2109 at Epoch: 82\n",
      "Best Validation Loss remains: 0.2107 at Epoch: 81\n",
      "Current Validation Custom Loss is: 3.2952 at Epoch: 82\n"
     ]
    },
    {
     "name": "stderr",
     "output_type": "stream",
     "text": [
      "\n",
      "Epoch [83/100] T Loss:0.2388 Cus Loss:2.8293  LR is 0.000810: 100%|█| 2500/2500 [00:31<00:00, 79.43"
     ]
    },
    {
     "name": "stdout",
     "output_type": "stream",
     "text": [
      "Training has completed epoch 83\n"
     ]
    },
    {
     "name": "stderr",
     "output_type": "stream",
     "text": [
      "\n",
      "Epoch [83/100] V Loss:0.2102 Custom Loss:3.1985: 100%|██████████| 313/313 [00:02<00:00, 148.12it/s]"
     ]
    },
    {
     "name": "stdout",
     "output_type": "stream",
     "text": [
      "Best Validation Custom Loss is now: 3.1985 at Epoch: 83\n"
     ]
    },
    {
     "name": "stderr",
     "output_type": "stream",
     "text": [
      "\n",
      "Epoch [84/100] T Loss:0.2385 Cus Loss:2.8133  LR is 0.000810: 100%|█| 2500/2500 [00:31<00:00, 78.81"
     ]
    },
    {
     "name": "stdout",
     "output_type": "stream",
     "text": [
      "Training has completed epoch 84\n"
     ]
    },
    {
     "name": "stderr",
     "output_type": "stream",
     "text": [
      "\n",
      "Epoch [84/100] V Loss:0.2095 Custom Loss:3.1416: 100%|██████████| 313/313 [00:01<00:00, 161.27it/s]"
     ]
    },
    {
     "name": "stdout",
     "output_type": "stream",
     "text": [
      "Best Validation Custom Loss is now: 3.1416 at Epoch: 84\n"
     ]
    },
    {
     "name": "stderr",
     "output_type": "stream",
     "text": [
      "\n",
      "Epoch [85/100] T Loss:0.2385 Cus Loss:2.8190  LR is 0.000810: 100%|█| 2500/2500 [00:31<00:00, 78.37"
     ]
    },
    {
     "name": "stdout",
     "output_type": "stream",
     "text": [
      "Training has completed epoch 85\n"
     ]
    },
    {
     "name": "stderr",
     "output_type": "stream",
     "text": [
      "\n",
      "Epoch [85/100] V Loss:0.2095 Custom Loss:3.6672: 100%|██████████| 313/313 [00:02<00:00, 145.37it/s]"
     ]
    },
    {
     "name": "stdout",
     "output_type": "stream",
     "text": [
      "Best Validation Custom Loss is now: 3.6672 at Epoch: 85\n"
     ]
    },
    {
     "name": "stderr",
     "output_type": "stream",
     "text": [
      "\n",
      "Epoch [86/100] T Loss:0.2384 Cus Loss:2.8294  LR is 0.000810: 100%|█| 2500/2500 [00:31<00:00, 78.34"
     ]
    },
    {
     "name": "stdout",
     "output_type": "stream",
     "text": [
      "Training has completed epoch 86\n"
     ]
    },
    {
     "name": "stderr",
     "output_type": "stream",
     "text": [
      "\n",
      "Epoch [86/100] V Loss:0.2112 Custom Loss:3.3142: 100%|██████████| 313/313 [00:02<00:00, 141.97it/s]"
     ]
    },
    {
     "name": "stdout",
     "output_type": "stream",
     "text": [
      "This is Epoch: 1 without improvement\n",
      "Current Validation Loss is: 0.2112 at Epoch: 86\n",
      "Best Validation Loss remains: 0.2095 at Epoch: 85\n",
      "Current Validation Custom Loss is: 3.3142 at Epoch: 86\n"
     ]
    },
    {
     "name": "stderr",
     "output_type": "stream",
     "text": [
      "\n",
      "Epoch [87/100] T Loss:0.2380 Cus Loss:2.8005  LR is 0.000810: 100%|█| 2500/2500 [00:31<00:00, 78.46"
     ]
    },
    {
     "name": "stdout",
     "output_type": "stream",
     "text": [
      "Training has completed epoch 87\n"
     ]
    },
    {
     "name": "stderr",
     "output_type": "stream",
     "text": [
      "\n",
      "Epoch [87/100] V Loss:0.2101 Custom Loss:2.7859: 100%|██████████| 313/313 [00:02<00:00, 142.11it/s]"
     ]
    },
    {
     "name": "stdout",
     "output_type": "stream",
     "text": [
      "This is Epoch: 2 without improvement\n",
      "Current Validation Loss is: 0.2101 at Epoch: 87\n",
      "Best Validation Loss remains: 0.2095 at Epoch: 85\n",
      "Current Validation Custom Loss is: 2.7859 at Epoch: 87\n"
     ]
    },
    {
     "name": "stderr",
     "output_type": "stream",
     "text": [
      "\n",
      "Epoch [88/100] T Loss:0.2378 Cus Loss:2.7936  LR is 0.000810: 100%|█| 2500/2500 [00:32<00:00, 77.72"
     ]
    },
    {
     "name": "stdout",
     "output_type": "stream",
     "text": [
      "Training has completed epoch 88\n"
     ]
    },
    {
     "name": "stderr",
     "output_type": "stream",
     "text": [
      "\n",
      "Epoch [88/100] V Loss:0.2094 Custom Loss:3.1270: 100%|██████████| 313/313 [00:01<00:00, 170.53it/s]"
     ]
    },
    {
     "name": "stdout",
     "output_type": "stream",
     "text": [
      "Best Validation Custom Loss is now: 3.1270 at Epoch: 88\n"
     ]
    },
    {
     "name": "stderr",
     "output_type": "stream",
     "text": [
      "\n",
      "Epoch [89/100] T Loss:0.2379 Cus Loss:2.8081  LR is 0.000810: 100%|█| 2500/2500 [00:31<00:00, 78.51"
     ]
    },
    {
     "name": "stdout",
     "output_type": "stream",
     "text": [
      "Training has completed epoch 89\n"
     ]
    },
    {
     "name": "stderr",
     "output_type": "stream",
     "text": [
      "\n",
      "Epoch [89/100] V Loss:0.2094 Custom Loss:2.8305: 100%|██████████| 313/313 [00:02<00:00, 149.21it/s]"
     ]
    },
    {
     "name": "stdout",
     "output_type": "stream",
     "text": [
      "This is Epoch: 1 without improvement\n",
      "Current Validation Loss is: 0.2094 at Epoch: 89\n",
      "Best Validation Loss remains: 0.2094 at Epoch: 88\n",
      "Current Validation Custom Loss is: 2.8305 at Epoch: 89\n"
     ]
    },
    {
     "name": "stderr",
     "output_type": "stream",
     "text": [
      "\n",
      "Epoch [90/100] T Loss:0.2377 Cus Loss:2.8024  LR is 0.000810: 100%|█| 2500/2500 [00:31<00:00, 78.90"
     ]
    },
    {
     "name": "stdout",
     "output_type": "stream",
     "text": [
      "Training has completed epoch 90\n"
     ]
    },
    {
     "name": "stderr",
     "output_type": "stream",
     "text": [
      "\n",
      "Epoch [90/100] V Loss:0.2096 Custom Loss:2.8869: 100%|██████████| 313/313 [00:02<00:00, 141.92it/s]"
     ]
    },
    {
     "name": "stdout",
     "output_type": "stream",
     "text": [
      "This is Epoch: 2 without improvement\n",
      "Current Validation Loss is: 0.2096 at Epoch: 90\n",
      "Best Validation Loss remains: 0.2094 at Epoch: 88\n",
      "Current Validation Custom Loss is: 2.8869 at Epoch: 90\n"
     ]
    },
    {
     "name": "stderr",
     "output_type": "stream",
     "text": [
      "\n",
      "Epoch [91/100] T Loss:0.2372 Cus Loss:2.7678  LR is 0.000810: 100%|█| 2500/2500 [00:32<00:00, 78.01"
     ]
    },
    {
     "name": "stdout",
     "output_type": "stream",
     "text": [
      "Training has completed epoch 91\n"
     ]
    },
    {
     "name": "stderr",
     "output_type": "stream",
     "text": [
      "\n",
      "Epoch [91/100] V Loss:0.2099 Custom Loss:3.0074: 100%|██████████| 313/313 [00:01<00:00, 159.71it/s]"
     ]
    },
    {
     "name": "stdout",
     "output_type": "stream",
     "text": [
      "This is Epoch: 3 without improvement\n",
      "Current Validation Loss is: 0.2099 at Epoch: 91\n",
      "Best Validation Loss remains: 0.2094 at Epoch: 88\n",
      "Current Validation Custom Loss is: 3.0074 at Epoch: 91\n"
     ]
    },
    {
     "name": "stderr",
     "output_type": "stream",
     "text": [
      "\n",
      "Epoch [92/100] T Loss:0.2373 Cus Loss:2.7922  LR is 0.000810: 100%|█| 2500/2500 [00:31<00:00, 79.02"
     ]
    },
    {
     "name": "stdout",
     "output_type": "stream",
     "text": [
      "Training has completed epoch 92\n"
     ]
    },
    {
     "name": "stderr",
     "output_type": "stream",
     "text": [
      "\n",
      "Epoch [92/100] V Loss:0.2090 Custom Loss:3.0394: 100%|██████████| 313/313 [00:01<00:00, 168.00it/s]"
     ]
    },
    {
     "name": "stdout",
     "output_type": "stream",
     "text": [
      "Best Validation Custom Loss is now: 3.0394 at Epoch: 92\n"
     ]
    },
    {
     "name": "stderr",
     "output_type": "stream",
     "text": [
      "\n",
      "Epoch [93/100] T Loss:0.2373 Cus Loss:2.7969  LR is 0.000810: 100%|█| 2500/2500 [00:31<00:00, 78.47"
     ]
    },
    {
     "name": "stdout",
     "output_type": "stream",
     "text": [
      "Training has completed epoch 93\n"
     ]
    },
    {
     "name": "stderr",
     "output_type": "stream",
     "text": [
      "\n",
      "Epoch [93/100] V Loss:0.2085 Custom Loss:3.4656: 100%|██████████| 313/313 [00:02<00:00, 144.88it/s]"
     ]
    },
    {
     "name": "stdout",
     "output_type": "stream",
     "text": [
      "Best Validation Custom Loss is now: 3.4656 at Epoch: 93\n"
     ]
    },
    {
     "name": "stderr",
     "output_type": "stream",
     "text": [
      "\n",
      "Epoch [94/100] T Loss:0.2371 Cus Loss:2.7940  LR is 0.000810: 100%|█| 2500/2500 [00:31<00:00, 78.15"
     ]
    },
    {
     "name": "stdout",
     "output_type": "stream",
     "text": [
      "Training has completed epoch 94\n"
     ]
    },
    {
     "name": "stderr",
     "output_type": "stream",
     "text": [
      "\n",
      "Epoch [94/100] V Loss:0.2089 Custom Loss:3.0761: 100%|██████████| 313/313 [00:01<00:00, 168.19it/s]"
     ]
    },
    {
     "name": "stdout",
     "output_type": "stream",
     "text": [
      "This is Epoch: 1 without improvement\n",
      "Current Validation Loss is: 0.2089 at Epoch: 94\n",
      "Best Validation Loss remains: 0.2085 at Epoch: 93\n",
      "Current Validation Custom Loss is: 3.0761 at Epoch: 94\n"
     ]
    },
    {
     "name": "stderr",
     "output_type": "stream",
     "text": [
      "\n",
      "Epoch [95/100] T Loss:0.2369 Cus Loss:2.7807  LR is 0.000810: 100%|█| 2500/2500 [00:31<00:00, 78.77"
     ]
    },
    {
     "name": "stdout",
     "output_type": "stream",
     "text": [
      "Training has completed epoch 95\n"
     ]
    },
    {
     "name": "stderr",
     "output_type": "stream",
     "text": [
      "\n",
      "Epoch [95/100] V Loss:0.2087 Custom Loss:3.1848: 100%|██████████| 313/313 [00:02<00:00, 143.72it/s]"
     ]
    },
    {
     "name": "stdout",
     "output_type": "stream",
     "text": [
      "This is Epoch: 2 without improvement\n",
      "Current Validation Loss is: 0.2087 at Epoch: 95\n",
      "Best Validation Loss remains: 0.2085 at Epoch: 93\n",
      "Current Validation Custom Loss is: 3.1848 at Epoch: 95\n"
     ]
    },
    {
     "name": "stderr",
     "output_type": "stream",
     "text": [
      "\n",
      "Epoch [96/100] T Loss:0.2366 Cus Loss:2.7655  LR is 0.000810: 100%|█| 2500/2500 [00:31<00:00, 78.57"
     ]
    },
    {
     "name": "stdout",
     "output_type": "stream",
     "text": [
      "Training has completed epoch 96\n"
     ]
    },
    {
     "name": "stderr",
     "output_type": "stream",
     "text": [
      "\n",
      "Epoch [96/100] V Loss:0.2085 Custom Loss:2.9784: 100%|██████████| 313/313 [00:02<00:00, 147.64it/s]"
     ]
    },
    {
     "name": "stdout",
     "output_type": "stream",
     "text": [
      "This is Epoch: 3 without improvement\n",
      "Current Validation Loss is: 0.2085 at Epoch: 96\n",
      "Best Validation Loss remains: 0.2085 at Epoch: 93\n",
      "Current Validation Custom Loss is: 2.9784 at Epoch: 96\n"
     ]
    },
    {
     "name": "stderr",
     "output_type": "stream",
     "text": [
      "\n",
      "Epoch [97/100] T Loss:0.2362 Cus Loss:2.7350  LR is 0.000810: 100%|█| 2500/2500 [00:33<00:00, 75.42"
     ]
    },
    {
     "name": "stdout",
     "output_type": "stream",
     "text": [
      "Training has completed epoch 97\n"
     ]
    },
    {
     "name": "stderr",
     "output_type": "stream",
     "text": [
      "\n",
      "Epoch [97/100] V Loss:0.2088 Custom Loss:2.8142: 100%|██████████| 313/313 [00:02<00:00, 147.37it/s]"
     ]
    },
    {
     "name": "stdout",
     "output_type": "stream",
     "text": [
      "This is Epoch: 4 without improvement\n",
      "Current Validation Loss is: 0.2088 at Epoch: 97\n",
      "Best Validation Loss remains: 0.2085 at Epoch: 93\n",
      "Current Validation Custom Loss is: 2.8142 at Epoch: 97\n"
     ]
    },
    {
     "name": "stderr",
     "output_type": "stream",
     "text": [
      "\n",
      "Epoch [98/100] T Loss:0.2364 Cus Loss:2.7701  LR is 0.000810: 100%|█| 2500/2500 [00:32<00:00, 76.27"
     ]
    },
    {
     "name": "stdout",
     "output_type": "stream",
     "text": [
      "Training has completed epoch 98\n"
     ]
    },
    {
     "name": "stderr",
     "output_type": "stream",
     "text": [
      "\n",
      "Epoch [98/100] V Loss:0.2087 Custom Loss:2.7855: 100%|██████████| 313/313 [00:02<00:00, 150.12it/s]"
     ]
    },
    {
     "name": "stdout",
     "output_type": "stream",
     "text": [
      "This is Epoch: 5 without improvement\n",
      "Current Validation Loss is: 0.2087 at Epoch: 98\n",
      "Best Validation Loss remains: 0.2085 at Epoch: 93\n",
      "Current Validation Custom Loss is: 2.7855 at Epoch: 98\n"
     ]
    },
    {
     "name": "stderr",
     "output_type": "stream",
     "text": [
      "\n",
      "Epoch [99/100] T Loss:0.2354 Cus Loss:2.6847  LR is 0.000729: 100%|█| 2500/2500 [00:32<00:00, 76.96"
     ]
    },
    {
     "name": "stdout",
     "output_type": "stream",
     "text": [
      "Training has completed epoch 99\n"
     ]
    },
    {
     "name": "stderr",
     "output_type": "stream",
     "text": [
      "\n",
      "Epoch [99/100] V Loss:0.2096 Custom Loss:3.3552: 100%|██████████| 313/313 [00:01<00:00, 162.44it/s]"
     ]
    },
    {
     "name": "stdout",
     "output_type": "stream",
     "text": [
      "This is Epoch: 6 without improvement\n",
      "Current Validation Loss is: 0.2096 at Epoch: 99\n",
      "Best Validation Loss remains: 0.2085 at Epoch: 93\n",
      "Current Validation Custom Loss is: 3.3552 at Epoch: 99\n"
     ]
    },
    {
     "name": "stderr",
     "output_type": "stream",
     "text": [
      "\n",
      "Epoch [100/100] T Loss:0.2352 Cus Loss:2.6673  LR is 0.000729: 100%|█| 2500/2500 [00:32<00:00, 76.8"
     ]
    },
    {
     "name": "stdout",
     "output_type": "stream",
     "text": [
      "Training has completed epoch 100\n"
     ]
    },
    {
     "name": "stderr",
     "output_type": "stream",
     "text": [
      " Epoch [100/100] V Loss:0.2077 Custom Loss:3.0398: 100%|█████████| 313/313 [00:02<00:00, 155.87it/s]"
     ]
    },
    {
     "name": "stdout",
     "output_type": "stream",
     "text": [
      "Best Validation Custom Loss is now: 3.0398 at Epoch: 100\n"
     ]
    },
    {
     "name": "stderr",
     "output_type": "stream",
     "text": [
      "\n"
     ]
    }
   ],
   "source": [
    "model = AutoEncode().to(device)\n",
    "\n",
    "# Define the loss functions\n",
    "loss = torch.nn.MSELoss()  # For classification\n",
    "\n",
    "# Define an optimizer (both for the encoder and the decoder!)\n",
    "optimizer = torch.optim.Adam(filter(lambda p: p.requires_grad, model.parameters()), lr=1e-3)\n",
    "\n",
    "#scheduler = lr_scheduler.StepLR(optimizer, step_size=1, gamma=0.01)  # Learning rate decay scheduler\n",
    "scheduler = lr_scheduler.ReduceLROnPlateau(optimizer, mode='min', factor=0.9, patience=4)\n",
    "\n",
    "# Variables for early stopping and best parameters\n",
    "best_loss = float('inf')\n",
    "best_custom_loss = float('inf')\n",
    "patience_limit = 20\n",
    "\n",
    "\n",
    "train_losses = []\n",
    "val_losses = []\n",
    "\n",
    "\n",
    "# Train the model\n",
    "EPOCHS = 100\n",
    "for epoch in range(EPOCHS):\n",
    "    running_train_loss = 0.0\n",
    "    running_train_custom_loss = 0.0\n",
    "    \n",
    "    model.train()\n",
    "    progress_bar_train = tqdm(enumerate(train_loader), total=len(train_loader), ncols=100)\n",
    "    for index, (main_channels_mat) in progress_bar_train:\n",
    "        # Forward pass\n",
    "        #algorithm_output_mat_for_nn = (batch_complex_autocorrelation(algorithm_output_mat)).to(device)\n",
    "        main_channels_mat_for_nn = torch.stack([torch.real(main_channels_mat).float(), torch.imag(main_channels_mat).float()], dim=1).to(device)\n",
    "        \n",
    "        nn_output = model(main_channels_mat_for_nn)\n",
    "\n",
    "        initial_loss = loss(nn_output, main_channels_mat_for_nn)\n",
    "        train_custom_loss = l2_norm_square_loss(main_channels_mat_for_nn, nn_output)\n",
    "        # Calculate loss\n",
    "        \n",
    "        train_loss = initial_loss + 0.01*train_custom_loss\n",
    "\n",
    "        # Backward pass\n",
    "        optimizer.zero_grad()\n",
    "        train_loss.backward()\n",
    "        optimizer.step()\n",
    "\n",
    "        # Update running loss\n",
    "        running_train_loss += train_loss.item()\n",
    "        running_train_custom_loss += train_custom_loss.item()\n",
    "\n",
    "        \n",
    "        avg_train_loss = running_train_loss / (index + 1)\n",
    "        avg_train_custom_loss = running_train_custom_loss / (index + 1)\n",
    "\n",
    "        # Get current learning rate from the optimizer\n",
    "        current_lr = optimizer.param_groups[0]['lr']\n",
    "\n",
    "        # Print metrics\n",
    "        #progress_bar_train.set_description(f'Epoch [{epoch + 1}/{EPOCHS}] MSELos:{avg_train_loss1:.4f} MSEWeig{mse_weight:.2f} CELos:{avg_train_loss2:.4f} CEWeig{ce_weight:.2f} TrLos:{avg_train_loss:.4f} Tr.Acc: {avg_train_acc*100:.2f}%')\n",
    "        progress_bar_train.set_description(f\" Epoch [{epoch + 1}/{EPOCHS}] T Loss:{avg_train_loss:.4f} Cus Loss:{avg_train_custom_loss:.4f}  LR is {current_lr:.6f}\")\n",
    "    \n",
    "    #train_losses.append(avg_train_loss)\n",
    "    train_losses.append(avg_train_loss)\n",
    "\n",
    "    print(f\"Training has completed epoch {epoch+1}\")\n",
    "    \n",
    "    # Validation loop\n",
    "    running_val_loss = 0.0\n",
    "    running_val_custom_loss = 0.0\n",
    "\n",
    "    \n",
    "    model.eval()\n",
    "    progress_bar_val = tqdm(enumerate(val_loader), total=len(val_loader), ncols=100)\n",
    "    for index, (main_channels_mat) in progress_bar_val:\n",
    "        \n",
    "        #algorithm_output_mat_for_nn = (batch_complex_autocorrelation(algorithm_output_mat)).to(device)\n",
    "        main_channels_mat_for_nn = torch.stack([torch.real(main_channels_mat).float(), torch.imag(main_channels_mat).float()], dim=1).to(device)\n",
    "\n",
    "        \n",
    "        with torch.no_grad():\n",
    "            \n",
    "            nn_output = model(main_channels_mat_for_nn)\n",
    "\n",
    "            # Calculate losses\n",
    "            val_loss = loss(nn_output, main_channels_mat_for_nn)\n",
    "            val_custom_loss = l2_norm_square_loss(main_channels_mat_for_nn, nn_output)\n",
    "\n",
    "            # Update running loss\n",
    "            running_val_loss += val_loss.item()\n",
    "            running_val_custom_loss += val_custom_loss.item()\n",
    "            \n",
    "            avg_val_loss = running_val_loss / (index + 1)\n",
    "            avg_val_custom_loss = running_val_custom_loss / (index + 1)\n",
    "            \n",
    "            progress_bar_val.set_description(f\" Epoch [{epoch + 1}/{EPOCHS}] V Loss:{avg_val_loss:.4f} Custom Loss:{avg_val_custom_loss:.4f}\")\n",
    "    \n",
    "    #val_losses.append(avg_val_loss)\n",
    "    val_losses.append(avg_val_loss)\n",
    "    \n",
    "    scheduler.step(running_val_loss)\n",
    "\n",
    "\n",
    "    # Early stopping\n",
    "    if avg_val_loss < best_loss:  # Now checking for the best accuracy\n",
    "        best_loss = avg_val_loss\n",
    "        best_custom_loss = avg_val_custom_loss\n",
    "        best_epoch = epoch + 1\n",
    "        patience_ = 0\n",
    "        best_encoder_weights = copy.deepcopy(model.decoder.encoder.state_dict())\n",
    "        best_decoder_weights = copy.deepcopy(model.decoder.state_dict())\n",
    "        print(f\"Best Validation Loss is now: {best_loss:.4f} at Epoch: {best_epoch}\")\n",
    "        #print(f\"Best Validation Custom Loss is now: {best_custom_loss:.4f} at Epoch: {best_epoch}\")\n",
    "    else:\n",
    "        patience_ += 1\n",
    "        print(f\"This is Epoch: {patience_} without improvement\")\n",
    "        print(f\"Current Validation Loss is: {avg_val_loss:.4f} at Epoch: {epoch+1}\")\n",
    "        print(f\"Best Validation Loss remains: {best_loss:.4f} at Epoch: {best_epoch}\")\n",
    "        print(f\"Current Validation Custom Loss is: {avg_val_custom_loss:.4f} at Epoch: {epoch+1}\")\n",
    "        #print(f\"Best Validation Custom Loss remains: {best_custom_loss:.4f} at Epoch: {best_epoch}\")\n",
    "        if patience_ > patience_limit:  # Patience limit before stopping\n",
    "            print(\"Early stopping triggered! Restoring best model weights.\")\n",
    "            print(f\"Best Validation Loss was: {best_loss:.4f} at Epoch: {best_epoch}\")\n",
    "            #print(f\"Best Validation Custom Loss was: {best_custom_loss:.4f} at Epoch: {best_epoch}\")\n",
    "            break\n"
   ]
  },
  {
   "cell_type": "code",
   "execution_count": 65,
   "id": "b94cf989-c023-4f3b-a7c2-1979033229c4",
   "metadata": {
    "scrolled": true
   },
   "outputs": [],
   "source": [
    "encoder_weights_path = \"best_encoder_weights_with_power_loss.pth\"\n",
    "torch.save(best_encoder_weights, encoder_weights_path)\n",
    "\n",
    "decoder_weights_path = \"best_decoder_weights_with_power_loss.pth\"\n",
    "torch.save(best_decoder_weights, decoder_weights_path)\n"
   ]
  },
  {
   "cell_type": "code",
   "execution_count": 57,
   "id": "3c327f7b-dc54-4ab8-b994-6ea16b7cd712",
   "metadata": {},
   "outputs": [],
   "source": [
    "best_model = model.cpu()"
   ]
  },
  {
   "cell_type": "code",
   "execution_count": 62,
   "id": "09f2e282-56a9-410f-8be1-721b19c6b28b",
   "metadata": {
    "scrolled": true
   },
   "outputs": [
    {
     "data": {
      "text/plain": [
       "<All keys matched successfully>"
      ]
     },
     "execution_count": 62,
     "metadata": {},
     "output_type": "execute_result"
    }
   ],
   "source": [
    "best_model.decoder.load_state_dict(best_decoder_weights)"
   ]
  },
  {
   "cell_type": "code",
   "execution_count": 63,
   "id": "bda62a64-f19d-4a37-941b-15e612c34cff",
   "metadata": {},
   "outputs": [
    {
     "name": "stderr",
     "output_type": "stream",
     "text": [
      "\n",
      "est Loss:0.1329: 100%|███████████████████████████████████████████| 313/313 [00:07<00:00, 44.19it/s]"
     ]
    }
   ],
   "source": [
    "test_losses = []\n",
    "running_test_loss = 0.0\n",
    "\n",
    "\n",
    "\n",
    "progress_bar_test = tqdm(enumerate(test_loader), total=len(test_loader), ncols=100)\n",
    "for index, (main_channels_mat) in progress_bar_test:\n",
    "        \n",
    "    main_channels_mat_for_nn = torch.stack([torch.real(main_channels_mat).float(), torch.imag(main_channels_mat).float()], dim=1)\n",
    "    \n",
    "    with torch.no_grad():\n",
    "            \n",
    "        nn_output = best_model(main_channels_mat_for_nn)\n",
    "\n",
    "        # Calculate losses\n",
    "        test_loss = loss(nn_output, main_channels_mat_for_nn)\n",
    "\n",
    "        # Update running loss\n",
    "        running_test_loss += test_loss.item()\n",
    "            \n",
    "        avg_test_loss = running_test_loss / (index + 1)\n",
    "\n",
    "        progress_bar_test.set_description(f'Test Loss:{avg_test_loss:.4f}')\n",
    "\n",
    "test_losses.append(avg_test_loss)"
   ]
  },
  {
   "cell_type": "code",
   "execution_count": 64,
   "id": "9001b377-d8a1-49d7-85e4-55013122e486",
   "metadata": {},
   "outputs": [
    {
     "data": {
      "image/png": "[encoded data removed]",
      "text/plain": [
       "<Figure size 1000x500 with 1 Axes>"
      ]
     },
     "metadata": {},
     "output_type": "display_data"
    }
   ],
   "source": [
    "# Plot the training and validation curves\n",
    "plt.figure(figsize=(10, 5))\n",
    "plt.plot(train_losses, label='Train Loss')\n",
    "plt.plot(val_losses, label='Validation Loss')\n",
    "plt.xlabel('Epoch')\n",
    "plt.ylabel('Loss')\n",
    "plt.title('Training and Validation Loss')\n",
    "plt.legend()\n",
    "plt.show()\n"
   ]
  },
  {
   "cell_type": "code",
   "execution_count": null,
   "id": "6dd2e0bf-9379-4549-8c38-af38d9932f51",
   "metadata": {},
   "outputs": [],
   "source": []
  },
  {
   "cell_type": "code",
   "execution_count": null,
   "id": "5bfe4c26-07d6-40b6-a523-9c5964b6b8cf",
   "metadata": {},
   "outputs": [],
   "source": []
  },
  {
   "cell_type": "code",
   "execution_count": 24,
   "id": "0b8f3f7a-be21-46f2-8754-23dc991b56ae",
   "metadata": {
    "scrolled": true
   },
   "outputs": [
    {
     "name": "stderr",
     "output_type": "stream",
     "text": [
      "\n",
      "Epoch [1/100] T Loss:1.5750 Cus Loss:57.9934  LR is 0.001000: 100%|█| 2500/2500 [00:23<00:00, 108.6"
     ]
    },
    {
     "name": "stdout",
     "output_type": "stream",
     "text": [
      "Training has completed epoch 1\n"
     ]
    },
    {
     "name": "stderr",
     "output_type": "stream",
     "text": [
      "\n",
      "Epoch [1/100] V Loss:0.9913 Custom Loss:40.3099: 100%|██████████| 313/313 [00:01<00:00, 221.16it/s]"
     ]
    },
    {
     "name": "stdout",
     "output_type": "stream",
     "text": [
      "Best Validation Custom Loss is now: 40.3099 at Epoch: 1\n"
     ]
    },
    {
     "name": "stderr",
     "output_type": "stream",
     "text": [
      "\n",
      "Epoch [2/100] T Loss:1.1713 Cus Loss:17.5141  LR is 0.001000: 100%|█| 2500/2500 [00:22<00:00, 109.3"
     ]
    },
    {
     "name": "stdout",
     "output_type": "stream",
     "text": [
      "Training has completed epoch 2\n"
     ]
    },
    {
     "name": "stderr",
     "output_type": "stream",
     "text": [
      "\n",
      "Epoch [2/100] V Loss:0.9915 Custom Loss:6.0919: 100%|███████████| 313/313 [00:01<00:00, 231.23it/s]"
     ]
    },
    {
     "name": "stdout",
     "output_type": "stream",
     "text": [
      "Best Validation Custom Loss is now: 6.0919 at Epoch: 2\n"
     ]
    },
    {
     "name": "stderr",
     "output_type": "stream",
     "text": [
      "\n",
      "Epoch [3/100] T Loss:1.0547 Cus Loss:5.7633  LR is 0.001000: 100%|█| 2500/2500 [00:22<00:00, 110.46"
     ]
    },
    {
     "name": "stdout",
     "output_type": "stream",
     "text": [
      "Training has completed epoch 3\n"
     ]
    },
    {
     "name": "stderr",
     "output_type": "stream",
     "text": [
      "\n",
      "Epoch [3/100] V Loss:0.9987 Custom Loss:3.7333: 100%|███████████| 313/313 [00:01<00:00, 234.95it/s]"
     ]
    },
    {
     "name": "stdout",
     "output_type": "stream",
     "text": [
      "Best Validation Custom Loss is now: 3.7333 at Epoch: 3\n"
     ]
    },
    {
     "name": "stderr",
     "output_type": "stream",
     "text": [
      "\n",
      "Epoch [4/100] T Loss:1.0456 Cus Loss:4.8519  LR is 0.001000: 100%|█| 2500/2500 [00:22<00:00, 113.21"
     ]
    },
    {
     "name": "stdout",
     "output_type": "stream",
     "text": [
      "Training has completed epoch 4\n"
     ]
    },
    {
     "name": "stderr",
     "output_type": "stream",
     "text": [
      "\n",
      "Epoch [4/100] V Loss:0.9982 Custom Loss:3.0482: 100%|███████████| 313/313 [00:01<00:00, 210.54it/s]"
     ]
    },
    {
     "name": "stdout",
     "output_type": "stream",
     "text": [
      "Best Validation Custom Loss is now: 3.0482 at Epoch: 4\n"
     ]
    },
    {
     "name": "stderr",
     "output_type": "stream",
     "text": [
      "\n",
      "Epoch [5/100] T Loss:1.0369 Cus Loss:3.9859  LR is 0.001000: 100%|█| 2500/2500 [00:21<00:00, 113.68"
     ]
    },
    {
     "name": "stdout",
     "output_type": "stream",
     "text": [
      "Training has completed epoch 5\n"
     ]
    },
    {
     "name": "stderr",
     "output_type": "stream",
     "text": [
      "\n",
      "Epoch [5/100] V Loss:0.9972 Custom Loss:2.2217: 100%|███████████| 313/313 [00:01<00:00, 245.77it/s]"
     ]
    },
    {
     "name": "stdout",
     "output_type": "stream",
     "text": [
      "Best Validation Custom Loss is now: 2.2217 at Epoch: 5\n"
     ]
    },
    {
     "name": "stderr",
     "output_type": "stream",
     "text": [
      "\n",
      "Epoch [6/100] T Loss:1.0336 Cus Loss:3.6592  LR is 0.001000: 100%|█| 2500/2500 [00:21<00:00, 115.49"
     ]
    },
    {
     "name": "stdout",
     "output_type": "stream",
     "text": [
      "Training has completed epoch 6\n"
     ]
    },
    {
     "name": "stderr",
     "output_type": "stream",
     "text": [
      "\n",
      "Epoch [6/100] V Loss:0.9983 Custom Loss:1.8614: 100%|███████████| 313/313 [00:01<00:00, 218.25it/s]"
     ]
    },
    {
     "name": "stdout",
     "output_type": "stream",
     "text": [
      "Best Validation Custom Loss is now: 1.8614 at Epoch: 6\n"
     ]
    },
    {
     "name": "stderr",
     "output_type": "stream",
     "text": [
      "\n",
      "Epoch [7/100] T Loss:1.0311 Cus Loss:3.4134  LR is 0.001000: 100%|█| 2500/2500 [00:21<00:00, 115.10"
     ]
    },
    {
     "name": "stdout",
     "output_type": "stream",
     "text": [
      "Training has completed epoch 7\n"
     ]
    },
    {
     "name": "stderr",
     "output_type": "stream",
     "text": [
      "\n",
      "Epoch [7/100] V Loss:0.9978 Custom Loss:2.8227: 100%|███████████| 313/313 [00:01<00:00, 245.46it/s]"
     ]
    },
    {
     "name": "stdout",
     "output_type": "stream",
     "text": [
      "This is Epoch: 1 without improvement\n",
      "Current Validation Custom Loss is: 2.8227 at Epoch: 7\n",
      "Best Validation Custom Loss remains: 1.8614 at Epoch: 6\n"
     ]
    },
    {
     "name": "stderr",
     "output_type": "stream",
     "text": [
      "\n",
      "Epoch [8/100] T Loss:1.0302 Cus Loss:3.3277  LR is 0.001000: 100%|█| 2500/2500 [00:21<00:00, 115.31"
     ]
    },
    {
     "name": "stdout",
     "output_type": "stream",
     "text": [
      "Training has completed epoch 8\n"
     ]
    },
    {
     "name": "stderr",
     "output_type": "stream",
     "text": [
      "\n",
      "Epoch [8/100] V Loss:0.9962 Custom Loss:1.8737: 100%|███████████| 313/313 [00:01<00:00, 196.09it/s]"
     ]
    },
    {
     "name": "stdout",
     "output_type": "stream",
     "text": [
      "This is Epoch: 2 without improvement\n",
      "Current Validation Custom Loss is: 1.8737 at Epoch: 8\n",
      "Best Validation Custom Loss remains: 1.8614 at Epoch: 6\n"
     ]
    },
    {
     "name": "stderr",
     "output_type": "stream",
     "text": [
      "\n",
      "Epoch [9/100] T Loss:1.0287 Cus Loss:3.1705  LR is 0.001000: 100%|█| 2500/2500 [00:22<00:00, 112.20"
     ]
    },
    {
     "name": "stdout",
     "output_type": "stream",
     "text": [
      "Training has completed epoch 9\n"
     ]
    },
    {
     "name": "stderr",
     "output_type": "stream",
     "text": [
      "\n",
      "Epoch [9/100] V Loss:1.0003 Custom Loss:1.6091: 100%|███████████| 313/313 [00:01<00:00, 244.46it/s]"
     ]
    },
    {
     "name": "stdout",
     "output_type": "stream",
     "text": [
      "Best Validation Custom Loss is now: 1.6091 at Epoch: 9\n"
     ]
    },
    {
     "name": "stderr",
     "output_type": "stream",
     "text": [
      "\n",
      "Epoch [10/100] T Loss:1.0278 Cus Loss:3.0857  LR is 0.001000: 100%|█| 2500/2500 [00:21<00:00, 116.5"
     ]
    },
    {
     "name": "stdout",
     "output_type": "stream",
     "text": [
      "Training has completed epoch 10\n"
     ]
    },
    {
     "name": "stderr",
     "output_type": "stream",
     "text": [
      "\n",
      "Epoch [10/100] V Loss:0.9921 Custom Loss:2.3376: 100%|██████████| 313/313 [00:01<00:00, 244.88it/s]"
     ]
    },
    {
     "name": "stdout",
     "output_type": "stream",
     "text": [
      "This is Epoch: 1 without improvement\n",
      "Current Validation Custom Loss is: 2.3376 at Epoch: 10\n",
      "Best Validation Custom Loss remains: 1.6091 at Epoch: 9\n"
     ]
    },
    {
     "name": "stderr",
     "output_type": "stream",
     "text": [
      "\n",
      "Epoch [11/100] T Loss:1.0269 Cus Loss:3.0017  LR is 0.001000: 100%|█| 2500/2500 [00:21<00:00, 115.3"
     ]
    },
    {
     "name": "stdout",
     "output_type": "stream",
     "text": [
      "Training has completed epoch 11\n"
     ]
    },
    {
     "name": "stderr",
     "output_type": "stream",
     "text": [
      "\n",
      "Epoch [11/100] V Loss:0.9962 Custom Loss:1.5328: 100%|██████████| 313/313 [00:01<00:00, 244.08it/s]"
     ]
    },
    {
     "name": "stdout",
     "output_type": "stream",
     "text": [
      "Best Validation Custom Loss is now: 1.5328 at Epoch: 11\n"
     ]
    },
    {
     "name": "stderr",
     "output_type": "stream",
     "text": [
      "\n",
      "Epoch [12/100] T Loss:1.0265 Cus Loss:2.9637  LR is 0.001000: 100%|█| 2500/2500 [00:22<00:00, 112.6"
     ]
    },
    {
     "name": "stdout",
     "output_type": "stream",
     "text": [
      "Training has completed epoch 12\n"
     ]
    },
    {
     "name": "stderr",
     "output_type": "stream",
     "text": [
      "\n",
      "Epoch [12/100] V Loss:0.9981 Custom Loss:1.5542: 100%|██████████| 313/313 [00:01<00:00, 250.72it/s]"
     ]
    },
    {
     "name": "stdout",
     "output_type": "stream",
     "text": [
      "This is Epoch: 1 without improvement\n",
      "Current Validation Custom Loss is: 1.5542 at Epoch: 12\n",
      "Best Validation Custom Loss remains: 1.5328 at Epoch: 11\n"
     ]
    },
    {
     "name": "stderr",
     "output_type": "stream",
     "text": [
      "\n",
      "Epoch [13/100] T Loss:1.0260 Cus Loss:2.9265  LR is 0.001000: 100%|█| 2500/2500 [00:21<00:00, 114.9"
     ]
    },
    {
     "name": "stdout",
     "output_type": "stream",
     "text": [
      "Training has completed epoch 13\n"
     ]
    },
    {
     "name": "stderr",
     "output_type": "stream",
     "text": [
      "\n",
      "Epoch [13/100] V Loss:0.9972 Custom Loss:1.7454: 100%|██████████| 313/313 [00:01<00:00, 244.99it/s]"
     ]
    },
    {
     "name": "stdout",
     "output_type": "stream",
     "text": [
      "This is Epoch: 2 without improvement\n",
      "Current Validation Custom Loss is: 1.7454 at Epoch: 13\n",
      "Best Validation Custom Loss remains: 1.5328 at Epoch: 11\n"
     ]
    },
    {
     "name": "stderr",
     "output_type": "stream",
     "text": [
      "\n",
      "Epoch [14/100] T Loss:1.0252 Cus Loss:2.8528  LR is 0.001000: 100%|█| 2500/2500 [00:21<00:00, 114.7"
     ]
    },
    {
     "name": "stdout",
     "output_type": "stream",
     "text": [
      "Training has completed epoch 14\n"
     ]
    },
    {
     "name": "stderr",
     "output_type": "stream",
     "text": [
      "\n",
      "Epoch [14/100] V Loss:0.9965 Custom Loss:1.4627: 100%|██████████| 313/313 [00:01<00:00, 244.02it/s]"
     ]
    },
    {
     "name": "stdout",
     "output_type": "stream",
     "text": [
      "Best Validation Custom Loss is now: 1.4627 at Epoch: 14\n"
     ]
    },
    {
     "name": "stderr",
     "output_type": "stream",
     "text": [
      "\n",
      "Epoch [15/100] T Loss:1.0249 Cus Loss:2.8312  LR is 0.001000: 100%|█| 2500/2500 [00:21<00:00, 115.7"
     ]
    },
    {
     "name": "stdout",
     "output_type": "stream",
     "text": [
      "Training has completed epoch 15\n"
     ]
    },
    {
     "name": "stderr",
     "output_type": "stream",
     "text": [
      "\n",
      "Epoch [15/100] V Loss:0.9982 Custom Loss:1.0984: 100%|██████████| 313/313 [00:01<00:00, 250.46it/s]"
     ]
    },
    {
     "name": "stdout",
     "output_type": "stream",
     "text": [
      "Best Validation Custom Loss is now: 1.0984 at Epoch: 15\n"
     ]
    },
    {
     "name": "stderr",
     "output_type": "stream",
     "text": [
      "\n",
      "Epoch [16/100] T Loss:1.0247 Cus Loss:2.8118  LR is 0.001000: 100%|█| 2500/2500 [00:21<00:00, 114.4"
     ]
    },
    {
     "name": "stdout",
     "output_type": "stream",
     "text": [
      "Training has completed epoch 16\n"
     ]
    },
    {
     "name": "stderr",
     "output_type": "stream",
     "text": [
      "\n",
      "Epoch [16/100] V Loss:0.9989 Custom Loss:1.2367: 100%|██████████| 313/313 [00:01<00:00, 235.30it/s]"
     ]
    },
    {
     "name": "stdout",
     "output_type": "stream",
     "text": [
      "This is Epoch: 1 without improvement\n",
      "Current Validation Custom Loss is: 1.2367 at Epoch: 16\n",
      "Best Validation Custom Loss remains: 1.0984 at Epoch: 15\n"
     ]
    },
    {
     "name": "stderr",
     "output_type": "stream",
     "text": [
      "\n",
      "Epoch [17/100] T Loss:1.0240 Cus Loss:2.7440  LR is 0.001000: 100%|█| 2500/2500 [00:22<00:00, 112.3"
     ]
    },
    {
     "name": "stdout",
     "output_type": "stream",
     "text": [
      "Training has completed epoch 17\n"
     ]
    },
    {
     "name": "stderr",
     "output_type": "stream",
     "text": [
      "\n",
      "Epoch [17/100] V Loss:0.9962 Custom Loss:1.3253: 100%|██████████| 313/313 [00:01<00:00, 241.11it/s]"
     ]
    },
    {
     "name": "stdout",
     "output_type": "stream",
     "text": [
      "This is Epoch: 2 without improvement\n",
      "Current Validation Custom Loss is: 1.3253 at Epoch: 17\n",
      "Best Validation Custom Loss remains: 1.0984 at Epoch: 15\n"
     ]
    },
    {
     "name": "stderr",
     "output_type": "stream",
     "text": [
      "\n",
      "Epoch [18/100] T Loss:1.0242 Cus Loss:2.7769  LR is 0.001000: 100%|█| 2500/2500 [00:22<00:00, 112.8"
     ]
    },
    {
     "name": "stdout",
     "output_type": "stream",
     "text": [
      "Training has completed epoch 18\n"
     ]
    },
    {
     "name": "stderr",
     "output_type": "stream",
     "text": [
      "\n",
      "Epoch [18/100] V Loss:0.9949 Custom Loss:1.5979: 100%|██████████| 313/313 [00:01<00:00, 246.48it/s]"
     ]
    },
    {
     "name": "stdout",
     "output_type": "stream",
     "text": [
      "This is Epoch: 3 without improvement\n",
      "Current Validation Custom Loss is: 1.5979 at Epoch: 18\n",
      "Best Validation Custom Loss remains: 1.0984 at Epoch: 15\n"
     ]
    },
    {
     "name": "stderr",
     "output_type": "stream",
     "text": [
      "\n",
      "Epoch [19/100] T Loss:1.0236 Cus Loss:2.7269  LR is 0.001000: 100%|█| 2500/2500 [00:21<00:00, 114.1"
     ]
    },
    {
     "name": "stdout",
     "output_type": "stream",
     "text": [
      "Training has completed epoch 19\n"
     ]
    },
    {
     "name": "stderr",
     "output_type": "stream",
     "text": [
      "\n",
      "Epoch [19/100] V Loss:0.9953 Custom Loss:1.3673: 100%|██████████| 313/313 [00:01<00:00, 224.21it/s]"
     ]
    },
    {
     "name": "stdout",
     "output_type": "stream",
     "text": [
      "This is Epoch: 4 without improvement\n",
      "Current Validation Custom Loss is: 1.3673 at Epoch: 19\n",
      "Best Validation Custom Loss remains: 1.0984 at Epoch: 15\n"
     ]
    },
    {
     "name": "stderr",
     "output_type": "stream",
     "text": [
      "\n",
      "Epoch [20/100] T Loss:1.0236 Cus Loss:2.7296  LR is 0.001000: 100%|█| 2500/2500 [00:21<00:00, 114.7"
     ]
    },
    {
     "name": "stdout",
     "output_type": "stream",
     "text": [
      "Training has completed epoch 20\n"
     ]
    },
    {
     "name": "stderr",
     "output_type": "stream",
     "text": [
      "\n",
      "Epoch [20/100] V Loss:1.0016 Custom Loss:1.7254: 100%|██████████| 313/313 [00:01<00:00, 248.13it/s]"
     ]
    },
    {
     "name": "stdout",
     "output_type": "stream",
     "text": [
      "This is Epoch: 5 without improvement\n",
      "Current Validation Custom Loss is: 1.7254 at Epoch: 20\n",
      "Best Validation Custom Loss remains: 1.0984 at Epoch: 15\n"
     ]
    },
    {
     "name": "stderr",
     "output_type": "stream",
     "text": [
      "\n",
      "Epoch [21/100] T Loss:1.0224 Cus Loss:2.6182  LR is 0.000900: 100%|█| 2500/2500 [00:22<00:00, 111.7"
     ]
    },
    {
     "name": "stdout",
     "output_type": "stream",
     "text": [
      "Training has completed epoch 21\n"
     ]
    },
    {
     "name": "stderr",
     "output_type": "stream",
     "text": [
      "\n",
      "Epoch [21/100] V Loss:0.9981 Custom Loss:1.0204: 100%|██████████| 313/313 [00:01<00:00, 243.45it/s]"
     ]
    },
    {
     "name": "stdout",
     "output_type": "stream",
     "text": [
      "Best Validation Custom Loss is now: 1.0204 at Epoch: 21\n"
     ]
    },
    {
     "name": "stderr",
     "output_type": "stream",
     "text": [
      "\n",
      "Epoch [22/100] T Loss:1.0224 Cus Loss:2.6265  LR is 0.000900: 100%|█| 2500/2500 [00:22<00:00, 112.7"
     ]
    },
    {
     "name": "stdout",
     "output_type": "stream",
     "text": [
      "Training has completed epoch 22\n"
     ]
    },
    {
     "name": "stderr",
     "output_type": "stream",
     "text": [
      "\n",
      "Epoch [22/100] V Loss:0.9991 Custom Loss:1.4573: 100%|██████████| 313/313 [00:01<00:00, 186.29it/s]"
     ]
    },
    {
     "name": "stdout",
     "output_type": "stream",
     "text": [
      "This is Epoch: 1 without improvement\n",
      "Current Validation Custom Loss is: 1.4573 at Epoch: 22\n",
      "Best Validation Custom Loss remains: 1.0204 at Epoch: 21\n"
     ]
    },
    {
     "name": "stderr",
     "output_type": "stream",
     "text": [
      "\n",
      "Epoch [23/100] T Loss:1.0224 Cus Loss:2.6257  LR is 0.000900: 100%|█| 2500/2500 [00:22<00:00, 113.4"
     ]
    },
    {
     "name": "stdout",
     "output_type": "stream",
     "text": [
      "Training has completed epoch 23\n"
     ]
    },
    {
     "name": "stderr",
     "output_type": "stream",
     "text": [
      "\n",
      "Epoch [23/100] V Loss:0.9986 Custom Loss:1.2727: 100%|██████████| 313/313 [00:01<00:00, 232.81it/s]"
     ]
    },
    {
     "name": "stdout",
     "output_type": "stream",
     "text": [
      "This is Epoch: 2 without improvement\n",
      "Current Validation Custom Loss is: 1.2727 at Epoch: 23\n",
      "Best Validation Custom Loss remains: 1.0204 at Epoch: 21\n"
     ]
    },
    {
     "name": "stderr",
     "output_type": "stream",
     "text": [
      "\n",
      "Epoch [24/100] T Loss:1.0222 Cus Loss:2.6191  LR is 0.000900: 100%|█| 2500/2500 [00:25<00:00, 99.84"
     ]
    },
    {
     "name": "stdout",
     "output_type": "stream",
     "text": [
      "Training has completed epoch 24\n"
     ]
    },
    {
     "name": "stderr",
     "output_type": "stream",
     "text": [
      "\n",
      "Epoch [24/100] V Loss:0.9941 Custom Loss:1.5471: 100%|██████████| 313/313 [00:01<00:00, 203.93it/s]"
     ]
    },
    {
     "name": "stdout",
     "output_type": "stream",
     "text": [
      "This is Epoch: 3 without improvement\n",
      "Current Validation Custom Loss is: 1.5471 at Epoch: 24\n",
      "Best Validation Custom Loss remains: 1.0204 at Epoch: 21\n"
     ]
    },
    {
     "name": "stderr",
     "output_type": "stream",
     "text": [
      "\n",
      "Epoch [25/100] T Loss:1.0215 Cus Loss:2.5549  LR is 0.000900: 100%|█| 2500/2500 [00:23<00:00, 108.1"
     ]
    },
    {
     "name": "stdout",
     "output_type": "stream",
     "text": [
      "Training has completed epoch 25\n"
     ]
    },
    {
     "name": "stderr",
     "output_type": "stream",
     "text": [
      "\n",
      "Epoch [25/100] V Loss:0.9956 Custom Loss:1.4440: 100%|██████████| 313/313 [00:01<00:00, 182.66it/s]"
     ]
    },
    {
     "name": "stdout",
     "output_type": "stream",
     "text": [
      "This is Epoch: 4 without improvement\n",
      "Current Validation Custom Loss is: 1.4440 at Epoch: 25\n",
      "Best Validation Custom Loss remains: 1.0204 at Epoch: 21\n"
     ]
    },
    {
     "name": "stderr",
     "output_type": "stream",
     "text": [
      "\n",
      "Epoch [26/100] T Loss:1.0219 Cus Loss:2.5974  LR is 0.000900: 100%|█| 2500/2500 [00:21<00:00, 113.7"
     ]
    },
    {
     "name": "stdout",
     "output_type": "stream",
     "text": [
      "Training has completed epoch 26\n"
     ]
    },
    {
     "name": "stderr",
     "output_type": "stream",
     "text": [
      "\n",
      "Epoch [26/100] V Loss:0.9954 Custom Loss:1.3964: 100%|██████████| 313/313 [00:01<00:00, 236.72it/s]"
     ]
    },
    {
     "name": "stdout",
     "output_type": "stream",
     "text": [
      "This is Epoch: 5 without improvement\n",
      "Current Validation Custom Loss is: 1.3964 at Epoch: 26\n",
      "Best Validation Custom Loss remains: 1.0204 at Epoch: 21\n"
     ]
    },
    {
     "name": "stderr",
     "output_type": "stream",
     "text": [
      "\n",
      "Epoch [27/100] T Loss:1.0210 Cus Loss:2.5150  LR is 0.000810: 100%|█| 2500/2500 [00:22<00:00, 109.4"
     ]
    },
    {
     "name": "stdout",
     "output_type": "stream",
     "text": [
      "Training has completed epoch 27\n"
     ]
    },
    {
     "name": "stderr",
     "output_type": "stream",
     "text": [
      "\n",
      "Epoch [27/100] V Loss:0.9977 Custom Loss:1.0408: 100%|██████████| 313/313 [00:01<00:00, 242.11it/s]"
     ]
    },
    {
     "name": "stdout",
     "output_type": "stream",
     "text": [
      "This is Epoch: 6 without improvement\n",
      "Current Validation Custom Loss is: 1.0408 at Epoch: 27\n",
      "Best Validation Custom Loss remains: 1.0204 at Epoch: 21\n"
     ]
    },
    {
     "name": "stderr",
     "output_type": "stream",
     "text": [
      "\n",
      "Epoch [28/100] T Loss:1.0207 Cus Loss:2.4959  LR is 0.000810: 100%|█| 2500/2500 [00:22<00:00, 110.2"
     ]
    },
    {
     "name": "stdout",
     "output_type": "stream",
     "text": [
      "Training has completed epoch 28\n"
     ]
    },
    {
     "name": "stderr",
     "output_type": "stream",
     "text": [
      "\n",
      "Epoch [28/100] V Loss:0.9970 Custom Loss:1.1701: 100%|██████████| 313/313 [00:01<00:00, 244.89it/s]"
     ]
    },
    {
     "name": "stdout",
     "output_type": "stream",
     "text": [
      "This is Epoch: 7 without improvement\n",
      "Current Validation Custom Loss is: 1.1701 at Epoch: 28\n",
      "Best Validation Custom Loss remains: 1.0204 at Epoch: 21\n"
     ]
    },
    {
     "name": "stderr",
     "output_type": "stream",
     "text": [
      "\n",
      "Epoch [29/100] T Loss:1.0205 Cus Loss:2.4794  LR is 0.000810: 100%|█| 2500/2500 [00:23<00:00, 108.0"
     ]
    },
    {
     "name": "stdout",
     "output_type": "stream",
     "text": [
      "Training has completed epoch 29\n"
     ]
    },
    {
     "name": "stderr",
     "output_type": "stream",
     "text": [
      "\n",
      "Epoch [29/100] V Loss:0.9956 Custom Loss:1.4384: 100%|██████████| 313/313 [00:01<00:00, 242.68it/s]"
     ]
    },
    {
     "name": "stdout",
     "output_type": "stream",
     "text": [
      "This is Epoch: 8 without improvement\n",
      "Current Validation Custom Loss is: 1.4384 at Epoch: 29\n",
      "Best Validation Custom Loss remains: 1.0204 at Epoch: 21\n"
     ]
    },
    {
     "name": "stderr",
     "output_type": "stream",
     "text": [
      "\n",
      "Epoch [30/100] T Loss:1.0204 Cus Loss:2.4778  LR is 0.000810: 100%|█| 2500/2500 [00:22<00:00, 109.7"
     ]
    },
    {
     "name": "stdout",
     "output_type": "stream",
     "text": [
      "Training has completed epoch 30\n"
     ]
    },
    {
     "name": "stderr",
     "output_type": "stream",
     "text": [
      "\n",
      "Epoch [30/100] V Loss:0.9977 Custom Loss:1.1594: 100%|██████████| 313/313 [00:01<00:00, 226.61it/s]"
     ]
    },
    {
     "name": "stdout",
     "output_type": "stream",
     "text": [
      "This is Epoch: 9 without improvement\n",
      "Current Validation Custom Loss is: 1.1594 at Epoch: 30\n",
      "Best Validation Custom Loss remains: 1.0204 at Epoch: 21\n"
     ]
    },
    {
     "name": "stderr",
     "output_type": "stream",
     "text": [
      "\n",
      "Epoch [31/100] T Loss:1.0203 Cus Loss:2.4719  LR is 0.000810: 100%|█| 2500/2500 [00:22<00:00, 111.1"
     ]
    },
    {
     "name": "stdout",
     "output_type": "stream",
     "text": [
      "Training has completed epoch 31\n"
     ]
    },
    {
     "name": "stderr",
     "output_type": "stream",
     "text": [
      "\n",
      "Epoch [31/100] V Loss:0.9977 Custom Loss:1.0918: 100%|██████████| 313/313 [00:01<00:00, 229.92it/s]"
     ]
    },
    {
     "name": "stdout",
     "output_type": "stream",
     "text": [
      "This is Epoch: 10 without improvement\n",
      "Current Validation Custom Loss is: 1.0918 at Epoch: 31\n",
      "Best Validation Custom Loss remains: 1.0204 at Epoch: 21\n"
     ]
    },
    {
     "name": "stderr",
     "output_type": "stream",
     "text": [
      "\n",
      "Epoch [32/100] T Loss:1.0199 Cus Loss:2.4720  LR is 0.000729: 100%|█| 2500/2500 [00:22<00:00, 109.7"
     ]
    },
    {
     "name": "stdout",
     "output_type": "stream",
     "text": [
      "Training has completed epoch 32\n"
     ]
    },
    {
     "name": "stderr",
     "output_type": "stream",
     "text": [
      "\n",
      "Epoch [32/100] V Loss:0.9980 Custom Loss:0.9836: 100%|██████████| 313/313 [00:01<00:00, 224.28it/s]"
     ]
    },
    {
     "name": "stdout",
     "output_type": "stream",
     "text": [
      "Best Validation Custom Loss is now: 0.9836 at Epoch: 32\n"
     ]
    },
    {
     "name": "stderr",
     "output_type": "stream",
     "text": [
      "\n",
      "Epoch [33/100] T Loss:1.0193 Cus Loss:2.4763  LR is 0.000729: 100%|█| 2500/2500 [00:22<00:00, 111.3"
     ]
    },
    {
     "name": "stdout",
     "output_type": "stream",
     "text": [
      "Training has completed epoch 33\n"
     ]
    },
    {
     "name": "stderr",
     "output_type": "stream",
     "text": [
      "\n",
      "Epoch [33/100] V Loss:0.9956 Custom Loss:1.2530: 100%|██████████| 313/313 [00:01<00:00, 233.17it/s]"
     ]
    },
    {
     "name": "stdout",
     "output_type": "stream",
     "text": [
      "This is Epoch: 1 without improvement\n",
      "Current Validation Custom Loss is: 1.2530 at Epoch: 33\n",
      "Best Validation Custom Loss remains: 0.9836 at Epoch: 32\n"
     ]
    },
    {
     "name": "stderr",
     "output_type": "stream",
     "text": [
      "\n",
      "Epoch [34/100] T Loss:1.0183 Cus Loss:2.5106  LR is 0.000729: 100%|█| 2500/2500 [00:23<00:00, 107.2"
     ]
    },
    {
     "name": "stdout",
     "output_type": "stream",
     "text": [
      "Training has completed epoch 34\n"
     ]
    },
    {
     "name": "stderr",
     "output_type": "stream",
     "text": [
      "\n",
      "Epoch [34/100] V Loss:0.9942 Custom Loss:1.1674: 100%|██████████| 313/313 [00:01<00:00, 235.29it/s]"
     ]
    },
    {
     "name": "stdout",
     "output_type": "stream",
     "text": [
      "This is Epoch: 2 without improvement\n",
      "Current Validation Custom Loss is: 1.1674 at Epoch: 34\n",
      "Best Validation Custom Loss remains: 0.9836 at Epoch: 32\n"
     ]
    },
    {
     "name": "stderr",
     "output_type": "stream",
     "text": [
      "\n",
      "Epoch [35/100] T Loss:1.0161 Cus Loss:2.5672  LR is 0.000729: 100%|█| 2500/2500 [00:22<00:00, 110.5"
     ]
    },
    {
     "name": "stdout",
     "output_type": "stream",
     "text": [
      "Training has completed epoch 35\n"
     ]
    },
    {
     "name": "stderr",
     "output_type": "stream",
     "text": [
      "\n",
      "Epoch [35/100] V Loss:0.9907 Custom Loss:1.3603: 100%|██████████| 313/313 [00:01<00:00, 245.29it/s]"
     ]
    },
    {
     "name": "stdout",
     "output_type": "stream",
     "text": [
      "This is Epoch: 3 without improvement\n",
      "Current Validation Custom Loss is: 1.3603 at Epoch: 35\n",
      "Best Validation Custom Loss remains: 0.9836 at Epoch: 32\n"
     ]
    },
    {
     "name": "stderr",
     "output_type": "stream",
     "text": [
      "\n",
      "Epoch [36/100] T Loss:1.0133 Cus Loss:2.6968  LR is 0.000729: 100%|█| 2500/2500 [00:22<00:00, 112.9"
     ]
    },
    {
     "name": "stdout",
     "output_type": "stream",
     "text": [
      "Training has completed epoch 36\n"
     ]
    },
    {
     "name": "stderr",
     "output_type": "stream",
     "text": [
      "\n",
      "Epoch [36/100] V Loss:0.9844 Custom Loss:1.3557: 100%|██████████| 313/313 [00:01<00:00, 239.01it/s]"
     ]
    },
    {
     "name": "stdout",
     "output_type": "stream",
     "text": [
      "This is Epoch: 4 without improvement\n",
      "Current Validation Custom Loss is: 1.3557 at Epoch: 36\n",
      "Best Validation Custom Loss remains: 0.9836 at Epoch: 32\n"
     ]
    },
    {
     "name": "stderr",
     "output_type": "stream",
     "text": [
      "\n",
      "Epoch [37/100] T Loss:1.0079 Cus Loss:2.8863  LR is 0.000729: 100%|█| 2500/2500 [00:22<00:00, 108.9"
     ]
    },
    {
     "name": "stdout",
     "output_type": "stream",
     "text": [
      "Training has completed epoch 37\n"
     ]
    },
    {
     "name": "stderr",
     "output_type": "stream",
     "text": [
      "\n",
      "Epoch [37/100] V Loss:0.9741 Custom Loss:1.7653: 100%|██████████| 313/313 [00:01<00:00, 241.57it/s]"
     ]
    },
    {
     "name": "stdout",
     "output_type": "stream",
     "text": [
      "This is Epoch: 5 without improvement\n",
      "Current Validation Custom Loss is: 1.7653 at Epoch: 37\n",
      "Best Validation Custom Loss remains: 0.9836 at Epoch: 32\n"
     ]
    },
    {
     "name": "stderr",
     "output_type": "stream",
     "text": [
      "\n",
      "Epoch [38/100] T Loss:1.0016 Cus Loss:3.0133  LR is 0.000656: 100%|█| 2500/2500 [00:22<00:00, 109.8"
     ]
    },
    {
     "name": "stdout",
     "output_type": "stream",
     "text": [
      "Training has completed epoch 38\n"
     ]
    },
    {
     "name": "stderr",
     "output_type": "stream",
     "text": [
      "\n",
      "Epoch [38/100] V Loss:0.9655 Custom Loss:2.0696: 100%|██████████| 313/313 [00:01<00:00, 230.88it/s]"
     ]
    },
    {
     "name": "stdout",
     "output_type": "stream",
     "text": [
      "This is Epoch: 6 without improvement\n",
      "Current Validation Custom Loss is: 2.0696 at Epoch: 38\n",
      "Best Validation Custom Loss remains: 0.9836 at Epoch: 32\n"
     ]
    },
    {
     "name": "stderr",
     "output_type": "stream",
     "text": [
      "\n",
      "Epoch [39/100] T Loss:0.9958 Cus Loss:3.1743  LR is 0.000656: 100%|█| 2500/2500 [00:22<00:00, 112.0"
     ]
    },
    {
     "name": "stdout",
     "output_type": "stream",
     "text": [
      "Training has completed epoch 39\n"
     ]
    },
    {
     "name": "stderr",
     "output_type": "stream",
     "text": [
      "\n",
      "Epoch [39/100] V Loss:0.9617 Custom Loss:1.5876: 100%|██████████| 313/313 [00:01<00:00, 232.56it/s]"
     ]
    },
    {
     "name": "stdout",
     "output_type": "stream",
     "text": [
      "This is Epoch: 7 without improvement\n",
      "Current Validation Custom Loss is: 1.5876 at Epoch: 39\n",
      "Best Validation Custom Loss remains: 0.9836 at Epoch: 32\n"
     ]
    },
    {
     "name": "stderr",
     "output_type": "stream",
     "text": [
      "\n",
      "Epoch [40/100] T Loss:0.9901 Cus Loss:3.2200  LR is 0.000656: 100%|█| 2500/2500 [00:22<00:00, 113.0"
     ]
    },
    {
     "name": "stdout",
     "output_type": "stream",
     "text": [
      "Training has completed epoch 40\n"
     ]
    },
    {
     "name": "stderr",
     "output_type": "stream",
     "text": [
      "\n",
      "Epoch [40/100] V Loss:0.9553 Custom Loss:1.7604: 100%|██████████| 313/313 [00:01<00:00, 242.25it/s]"
     ]
    },
    {
     "name": "stdout",
     "output_type": "stream",
     "text": [
      "This is Epoch: 8 without improvement\n",
      "Current Validation Custom Loss is: 1.7604 at Epoch: 40\n",
      "Best Validation Custom Loss remains: 0.9836 at Epoch: 32\n"
     ]
    },
    {
     "name": "stderr",
     "output_type": "stream",
     "text": [
      "\n",
      "Epoch [41/100] T Loss:0.9855 Cus Loss:3.2820  LR is 0.000656: 100%|█| 2500/2500 [00:24<00:00, 103.7"
     ]
    },
    {
     "name": "stdout",
     "output_type": "stream",
     "text": [
      "Training has completed epoch 41\n"
     ]
    },
    {
     "name": "stderr",
     "output_type": "stream",
     "text": [
      "\n",
      "Epoch [41/100] V Loss:0.9498 Custom Loss:1.8587: 100%|██████████| 313/313 [00:01<00:00, 224.97it/s]"
     ]
    },
    {
     "name": "stdout",
     "output_type": "stream",
     "text": [
      "This is Epoch: 9 without improvement\n",
      "Current Validation Custom Loss is: 1.8587 at Epoch: 41\n",
      "Best Validation Custom Loss remains: 0.9836 at Epoch: 32\n"
     ]
    },
    {
     "name": "stderr",
     "output_type": "stream",
     "text": [
      "\n",
      "Epoch [42/100] T Loss:0.9807 Cus Loss:3.3123  LR is 0.000656: 100%|█| 2500/2500 [00:22<00:00, 109.2"
     ]
    },
    {
     "name": "stdout",
     "output_type": "stream",
     "text": [
      "Training has completed epoch 42\n"
     ]
    },
    {
     "name": "stderr",
     "output_type": "stream",
     "text": [
      "\n",
      "Epoch [42/100] V Loss:0.9464 Custom Loss:1.6978: 100%|██████████| 313/313 [00:01<00:00, 251.26it/s]"
     ]
    },
    {
     "name": "stdout",
     "output_type": "stream",
     "text": [
      "This is Epoch: 10 without improvement\n",
      "Current Validation Custom Loss is: 1.6978 at Epoch: 42\n",
      "Best Validation Custom Loss remains: 0.9836 at Epoch: 32\n"
     ]
    },
    {
     "name": "stderr",
     "output_type": "stream",
     "text": [
      "\n",
      "Epoch [43/100] T Loss:0.9758 Cus Loss:3.3228  LR is 0.000590: 100%|█| 2500/2500 [00:22<00:00, 113.1"
     ]
    },
    {
     "name": "stdout",
     "output_type": "stream",
     "text": [
      "Training has completed epoch 43\n"
     ]
    },
    {
     "name": "stderr",
     "output_type": "stream",
     "text": [
      "\n",
      "Epoch [43/100] V Loss:0.9421 Custom Loss:1.9063: 100%|██████████| 313/313 [00:01<00:00, 249.39it/s]"
     ]
    },
    {
     "name": "stdout",
     "output_type": "stream",
     "text": [
      "This is Epoch: 11 without improvement\n",
      "Current Validation Custom Loss is: 1.9063 at Epoch: 43\n",
      "Best Validation Custom Loss remains: 0.9836 at Epoch: 32\n"
     ]
    },
    {
     "name": "stderr",
     "output_type": "stream",
     "text": [
      "\n",
      "Epoch [44/100] T Loss:0.9716 Cus Loss:3.3521  LR is 0.000590: 100%|█| 2500/2500 [00:21<00:00, 114.9"
     ]
    },
    {
     "name": "stdout",
     "output_type": "stream",
     "text": [
      "Training has completed epoch 44\n"
     ]
    },
    {
     "name": "stderr",
     "output_type": "stream",
     "text": [
      "\n",
      "Epoch [44/100] V Loss:0.9374 Custom Loss:1.6876: 100%|██████████| 313/313 [00:01<00:00, 249.30it/s]"
     ]
    },
    {
     "name": "stdout",
     "output_type": "stream",
     "text": [
      "This is Epoch: 12 without improvement\n",
      "Current Validation Custom Loss is: 1.6876 at Epoch: 44\n",
      "Best Validation Custom Loss remains: 0.9836 at Epoch: 32\n"
     ]
    },
    {
     "name": "stderr",
     "output_type": "stream",
     "text": [
      "\n",
      "Epoch [45/100] T Loss:0.9675 Cus Loss:3.3646  LR is 0.000590: 100%|█| 2500/2500 [00:21<00:00, 115.6"
     ]
    },
    {
     "name": "stdout",
     "output_type": "stream",
     "text": [
      "Training has completed epoch 45\n"
     ]
    },
    {
     "name": "stderr",
     "output_type": "stream",
     "text": [
      "\n",
      "Epoch [45/100] V Loss:0.9291 Custom Loss:2.2591: 100%|██████████| 313/313 [00:01<00:00, 203.72it/s]"
     ]
    },
    {
     "name": "stdout",
     "output_type": "stream",
     "text": [
      "This is Epoch: 13 without improvement\n",
      "Current Validation Custom Loss is: 2.2591 at Epoch: 45\n",
      "Best Validation Custom Loss remains: 0.9836 at Epoch: 32\n"
     ]
    },
    {
     "name": "stderr",
     "output_type": "stream",
     "text": [
      "\n",
      "Epoch [46/100] T Loss:0.9640 Cus Loss:3.4043  LR is 0.000590: 100%|█| 2500/2500 [00:21<00:00, 115.1"
     ]
    },
    {
     "name": "stdout",
     "output_type": "stream",
     "text": [
      "Training has completed epoch 46\n"
     ]
    },
    {
     "name": "stderr",
     "output_type": "stream",
     "text": [
      "\n",
      "Epoch [46/100] V Loss:0.9279 Custom Loss:2.0198: 100%|██████████| 313/313 [00:01<00:00, 245.85it/s]"
     ]
    },
    {
     "name": "stdout",
     "output_type": "stream",
     "text": [
      "This is Epoch: 14 without improvement\n",
      "Current Validation Custom Loss is: 2.0198 at Epoch: 46\n",
      "Best Validation Custom Loss remains: 0.9836 at Epoch: 32\n"
     ]
    },
    {
     "name": "stderr",
     "output_type": "stream",
     "text": [
      "\n",
      "Epoch [47/100] T Loss:0.9607 Cus Loss:3.3785  LR is 0.000590: 100%|█| 2500/2500 [00:21<00:00, 114.4"
     ]
    },
    {
     "name": "stdout",
     "output_type": "stream",
     "text": [
      "Training has completed epoch 47\n"
     ]
    },
    {
     "name": "stderr",
     "output_type": "stream",
     "text": [
      "\n",
      "Epoch [47/100] V Loss:0.9259 Custom Loss:1.7365: 100%|██████████| 313/313 [00:01<00:00, 249.12it/s]"
     ]
    },
    {
     "name": "stdout",
     "output_type": "stream",
     "text": [
      "This is Epoch: 15 without improvement\n",
      "Current Validation Custom Loss is: 1.7365 at Epoch: 47\n",
      "Best Validation Custom Loss remains: 0.9836 at Epoch: 32\n"
     ]
    },
    {
     "name": "stderr",
     "output_type": "stream",
     "text": [
      "\n",
      "Epoch [48/100] T Loss:0.9573 Cus Loss:3.2960  LR is 0.000531: 100%|█| 2500/2500 [00:21<00:00, 114.3"
     ]
    },
    {
     "name": "stdout",
     "output_type": "stream",
     "text": [
      "Training has completed epoch 48\n"
     ]
    },
    {
     "name": "stderr",
     "output_type": "stream",
     "text": [
      "\n",
      "Epoch [48/100] V Loss:0.9247 Custom Loss:1.6613: 100%|██████████| 313/313 [00:01<00:00, 266.54it/s]"
     ]
    },
    {
     "name": "stdout",
     "output_type": "stream",
     "text": [
      "This is Epoch: 16 without improvement\n",
      "Current Validation Custom Loss is: 1.6613 at Epoch: 48\n",
      "Best Validation Custom Loss remains: 0.9836 at Epoch: 32\n"
     ]
    },
    {
     "name": "stderr",
     "output_type": "stream",
     "text": [
      "\n",
      "Epoch [49/100] T Loss:0.9549 Cus Loss:3.2992  LR is 0.000531: 100%|█| 2500/2500 [00:21<00:00, 116.2"
     ]
    },
    {
     "name": "stdout",
     "output_type": "stream",
     "text": [
      "Training has completed epoch 49\n"
     ]
    },
    {
     "name": "stderr",
     "output_type": "stream",
     "text": [
      "\n",
      "Epoch [49/100] V Loss:0.9219 Custom Loss:1.6919: 100%|██████████| 313/313 [00:01<00:00, 218.36it/s]"
     ]
    },
    {
     "name": "stdout",
     "output_type": "stream",
     "text": [
      "This is Epoch: 17 without improvement\n",
      "Current Validation Custom Loss is: 1.6919 at Epoch: 49\n",
      "Best Validation Custom Loss remains: 0.9836 at Epoch: 32\n"
     ]
    },
    {
     "name": "stderr",
     "output_type": "stream",
     "text": [
      "\n",
      "Epoch [50/100] T Loss:0.9524 Cus Loss:3.2725  LR is 0.000531: 100%|█| 2500/2500 [00:24<00:00, 100.9"
     ]
    },
    {
     "name": "stdout",
     "output_type": "stream",
     "text": [
      "Training has completed epoch 50\n"
     ]
    },
    {
     "name": "stderr",
     "output_type": "stream",
     "text": [
      "\n",
      "Epoch [50/100] V Loss:0.9189 Custom Loss:1.7573: 100%|██████████| 313/313 [00:01<00:00, 231.30it/s]"
     ]
    },
    {
     "name": "stdout",
     "output_type": "stream",
     "text": [
      "This is Epoch: 18 without improvement\n",
      "Current Validation Custom Loss is: 1.7573 at Epoch: 50\n",
      "Best Validation Custom Loss remains: 0.9836 at Epoch: 32\n"
     ]
    },
    {
     "name": "stderr",
     "output_type": "stream",
     "text": [
      "\n",
      "Epoch [51/100] T Loss:0.9503 Cus Loss:3.2785  LR is 0.000531: 100%|█| 2500/2500 [00:23<00:00, 106.3"
     ]
    },
    {
     "name": "stdout",
     "output_type": "stream",
     "text": [
      "Training has completed epoch 51\n"
     ]
    },
    {
     "name": "stderr",
     "output_type": "stream",
     "text": [
      "\n",
      "Epoch [51/100] V Loss:0.9198 Custom Loss:1.9189: 100%|██████████| 313/313 [00:01<00:00, 234.97it/s]"
     ]
    },
    {
     "name": "stdout",
     "output_type": "stream",
     "text": [
      "This is Epoch: 19 without improvement\n",
      "Current Validation Custom Loss is: 1.9189 at Epoch: 51\n",
      "Best Validation Custom Loss remains: 0.9836 at Epoch: 32\n"
     ]
    },
    {
     "name": "stderr",
     "output_type": "stream",
     "text": [
      "\n",
      "Epoch [52/100] T Loss:0.9484 Cus Loss:3.2656  LR is 0.000531: 100%|█| 2500/2500 [00:23<00:00, 104.7"
     ]
    },
    {
     "name": "stdout",
     "output_type": "stream",
     "text": [
      "Training has completed epoch 52\n"
     ]
    },
    {
     "name": "stderr",
     "output_type": "stream",
     "text": [
      "\n",
      "Epoch [52/100] V Loss:0.9148 Custom Loss:1.8852: 100%|██████████| 313/313 [00:01<00:00, 239.46it/s]"
     ]
    },
    {
     "name": "stdout",
     "output_type": "stream",
     "text": [
      "This is Epoch: 20 without improvement\n",
      "Current Validation Custom Loss is: 1.8852 at Epoch: 52\n",
      "Best Validation Custom Loss remains: 0.9836 at Epoch: 32\n"
     ]
    },
    {
     "name": "stderr",
     "output_type": "stream",
     "text": [
      "\n",
      "Epoch [53/100] T Loss:0.9464 Cus Loss:3.2125  LR is 0.000478: 100%|█| 2500/2500 [00:22<00:00, 112.0"
     ]
    },
    {
     "name": "stdout",
     "output_type": "stream",
     "text": [
      "Training has completed epoch 53\n"
     ]
    },
    {
     "name": "stderr",
     "output_type": "stream",
     "text": [
      "\n",
      "Epoch [53/100] V Loss:0.9160 Custom Loss:1.5280: 100%|██████████| 313/313 [00:01<00:00, 217.29it/s]"
     ]
    },
    {
     "name": "stdout",
     "output_type": "stream",
     "text": [
      "This is Epoch: 21 without improvement\n",
      "Current Validation Custom Loss is: 1.5280 at Epoch: 53\n",
      "Best Validation Custom Loss remains: 0.9836 at Epoch: 32\n",
      "Early stopping triggered! Restoring best model weights.\n",
      "Best Validation Custom Loss was: 0.9836 at Epoch: 32\n"
     ]
    },
    {
     "data": {
      "text/plain": [
       "<All keys matched successfully>"
      ]
     },
     "execution_count": 24,
     "metadata": {},
     "output_type": "execute_result"
    }
   ],
   "source": [
    "model = AutoEncode().to(device)\n",
    "\n",
    "# Define the loss functions\n",
    "loss = torch.nn.MSELoss()  # For classification\n",
    "\n",
    "# Define an optimizer (both for the encoder and the decoder!)\n",
    "optimizer = torch.optim.Adam(filter(lambda p: p.requires_grad, model.parameters()), lr=1e-3)\n",
    "\n",
    "#scheduler = lr_scheduler.StepLR(optimizer, step_size=1, gamma=0.01)  # Learning rate decay scheduler\n",
    "scheduler = lr_scheduler.ReduceLROnPlateau(optimizer, mode='min', factor=0.9, patience=4)\n",
    "\n",
    "# Variables for early stopping and best parameters\n",
    "best_loss = float('inf')\n",
    "best_custom_loss = float('inf')\n",
    "patience_limit = 20\n",
    "\n",
    "\n",
    "best_encoder_model = None\n",
    "best_decoder_model = None\n",
    "\n",
    "\n",
    "train_losses = []\n",
    "val_losses = []\n",
    "\n",
    "\n",
    "# Train the model\n",
    "EPOCHS = 100\n",
    "for epoch in range(EPOCHS):\n",
    "    running_train_loss = 0.0\n",
    "    running_train_custom_loss = 0.0\n",
    "    \n",
    "    model.train()\n",
    "    progress_bar_train = tqdm(enumerate(train_loader), total=len(train_loader), ncols=100)\n",
    "    for index, (main_channels_mat) in progress_bar_train:\n",
    "        # Forward pass\n",
    "        #algorithm_output_mat_for_nn = (batch_complex_autocorrelation(algorithm_output_mat)).to(device)\n",
    "        main_channels_mat_for_nn = torch.stack([torch.real(main_channels_mat).float(), torch.imag(main_channels_mat).float()], dim=1).to(device)\n",
    "        \n",
    "        nn_output = model(main_channels_mat_for_nn)\n",
    "\n",
    "        initial_loss = loss(nn_output, main_channels_mat_for_nn)\n",
    "        train_custom_loss = l2_norm_square_loss(main_channels_mat_for_nn, nn_output)\n",
    "        # Calculate loss\n",
    "        \n",
    "        train_loss = initial_loss + 0.01*train_custom_loss\n",
    "\n",
    "        # Backward pass\n",
    "        optimizer.zero_grad()\n",
    "        train_loss.backward()\n",
    "        optimizer.step()\n",
    "\n",
    "        # Update running loss\n",
    "        running_train_loss += train_loss.item()\n",
    "        running_train_custom_loss += train_custom_loss.item()\n",
    "\n",
    "        \n",
    "        avg_train_loss = running_train_loss / (index + 1)\n",
    "        avg_train_custom_loss = running_train_custom_loss / (index + 1)\n",
    "\n",
    "        # Get current learning rate from the optimizer\n",
    "        current_lr = optimizer.param_groups[0]['lr']\n",
    "\n",
    "        # Print metrics\n",
    "        #progress_bar_train.set_description(f'Epoch [{epoch + 1}/{EPOCHS}] MSELos:{avg_train_loss1:.4f} MSEWeig{mse_weight:.2f} CELos:{avg_train_loss2:.4f} CEWeig{ce_weight:.2f} TrLos:{avg_train_loss:.4f} Tr.Acc: {avg_train_acc*100:.2f}%')\n",
    "        progress_bar_train.set_description(f\" Epoch [{epoch + 1}/{EPOCHS}] T Loss:{avg_train_loss:.4f} Cus Loss:{avg_train_custom_loss:.4f}  LR is {current_lr:.6f}\")\n",
    "    \n",
    "    #train_losses.append(avg_train_loss)\n",
    "    train_losses.append(avg_train_loss)\n",
    "\n",
    "    print(f\"Training has completed epoch {epoch+1}\")\n",
    "    \n",
    "    # Validation loop\n",
    "    running_val_loss = 0.0\n",
    "    running_val_custom_loss = 0.0\n",
    "\n",
    "    \n",
    "    model.eval()\n",
    "    progress_bar_val = tqdm(enumerate(val_loader), total=len(val_loader), ncols=100)\n",
    "    for index, (main_channels_mat) in progress_bar_val:\n",
    "        \n",
    "        #algorithm_output_mat_for_nn = (batch_complex_autocorrelation(algorithm_output_mat)).to(device)\n",
    "        main_channels_mat_for_nn = torch.stack([torch.real(main_channels_mat).float(), torch.imag(main_channels_mat).float()], dim=1).to(device)\n",
    "\n",
    "        \n",
    "        with torch.no_grad():\n",
    "            \n",
    "            nn_output = model(main_channels_mat_for_nn)\n",
    "\n",
    "            # Calculate losses\n",
    "            val_loss = loss(nn_output, main_channels_mat_for_nn)\n",
    "            val_custom_loss = l2_norm_square_loss(main_channels_mat_for_nn, nn_output)\n",
    "\n",
    "            # Update running loss\n",
    "            running_val_loss += val_loss.item()\n",
    "            running_val_custom_loss += val_custom_loss.item()\n",
    "            \n",
    "            avg_val_loss = running_val_loss / (index + 1)\n",
    "            avg_val_custom_loss = running_val_custom_loss / (index + 1)\n",
    "            \n",
    "            progress_bar_val.set_description(f\" Epoch [{epoch + 1}/{EPOCHS}] V Loss:{avg_val_loss:.4f} Custom Loss:{avg_val_custom_loss:.4f}\")\n",
    "    \n",
    "    #val_losses.append(avg_val_loss)\n",
    "    val_losses.append(avg_val_loss)\n",
    "    \n",
    "    scheduler.step(running_val_custom_loss)\n",
    "\n",
    "\n",
    "    # Early stopping\n",
    "    if avg_val_custom_loss < best_custom_loss:  # Now checking for the best accuracy\n",
    "        best_loss = avg_val_loss\n",
    "        best_custom_loss = avg_val_custom_loss\n",
    "        best_epoch = epoch + 1\n",
    "        patience_ = 0\n",
    "        \n",
    "        best_encoder_weights = copy.deepcopy(model.encoder.state_dict())\n",
    "        best_decoder_weights = copy.deepcopy(model.decoder.state_dict())\n",
    "        #print(f\"Best Validation Loss is now: {best_loss:.4f} at Epoch: {best_epoch}\")\n",
    "        print(f\"Best Validation Custom Loss is now: {best_custom_loss:.4f} at Epoch: {best_epoch}\")\n",
    "    else:\n",
    "        patience_ += 1\n",
    "        print(f\"This is Epoch: {patience_} without improvement\")\n",
    "        #print(f\"Current Validation Loss is: {avg_val_loss:.4f} at Epoch: {epoch+1}\")\n",
    "        #print(f\"Best Validation Loss remains: {best_loss:.4f} at Epoch: {best_epoch}\")\n",
    "        print(f\"Current Validation Custom Loss is: {avg_val_custom_loss:.4f} at Epoch: {epoch+1}\")\n",
    "        print(f\"Best Validation Custom Loss remains: {best_custom_loss:.4f} at Epoch: {best_epoch}\")\n",
    "        if patience_ > patience_limit:  # Patience limit before stopping\n",
    "            print(\"Early stopping triggered! Restoring best model weights.\")\n",
    "            #print(f\"Best Validation Loss was: {best_loss:.4f} at Epoch: {best_epoch}\")\n",
    "            print(f\"Best Validation Custom Loss was: {best_custom_loss:.4f} at Epoch: {best_epoch}\")\n",
    "            break\n",
    "\n",
    "best_encoder_model = model.decoder.encoder.cpu()\n",
    "best_encoder_model.load_state_dict(best_encoder_weights)\n",
    "\n",
    "best_decoder_model = model.decoder.cpu()\n",
    "best_decoder_model.load_state_dict(best_decoder_weights)"
   ]
  },
  {
   "cell_type": "code",
   "execution_count": 68,
   "id": "adfd8b5f-1f52-482c-9005-470431c0cdd4",
   "metadata": {},
   "outputs": [],
   "source": [
    "encoder_path = \"best_encoder_with_power_loss.pth\"\n",
    "torch.save(best_encoder_model, encoder_path)"
   ]
  },
  {
   "cell_type": "code",
   "execution_count": 69,
   "id": "6d6ca8ed-1ea6-4670-ae71-2d30c43a9c5c",
   "metadata": {},
   "outputs": [],
   "source": [
    "decoder_path = \"best_decoder_with_power_loss.pth\"\n",
    "torch.save(best_decoder_model, decoder_path)"
   ]
  },
  {
   "cell_type": "code",
   "execution_count": 70,
   "id": "830b9432-9787-4c17-ab5c-d7d6378506d5",
   "metadata": {},
   "outputs": [
    {
     "name": "stderr",
     "output_type": "stream",
     "text": [
      "\n",
      "est Loss:0.7505: 100%|███████████████████████████████████████████| 313/313 [00:04<00:00, 67.47it/s]"
     ]
    }
   ],
   "source": [
    "test_losses = []\n",
    "running_test_loss = 0.0\n",
    "\n",
    "\n",
    "progress_bar_test = tqdm(enumerate(test_loader), total=len(test_loader), ncols=100)\n",
    "for index, (main_channels_mat) in progress_bar_test:\n",
    "        \n",
    "    main_channels_mat_for_nn = torch.stack([torch.real(main_channels_mat).float(), torch.imag(main_channels_mat).float()], dim=1)\n",
    "    \n",
    "    with torch.no_grad():\n",
    "            \n",
    "        nn_output_enc = best_encoder_model(main_channels_mat_for_nn)\n",
    "        nn_output = best_decoder_model(nn_output_enc)\n",
    "\n",
    "        # Calculate losses\n",
    "        test_loss = loss(nn_output, main_channels_mat_for_nn)\n",
    "\n",
    "        # Update running loss\n",
    "        running_test_loss += test_loss.item()\n",
    "            \n",
    "        avg_test_loss = running_test_loss / (index + 1)\n",
    "\n",
    "        progress_bar_test.set_description(f'Test Loss:{avg_test_loss:.4f}')\n",
    "\n",
    "test_losses.append(avg_test_loss)"
   ]
  },
  {
   "cell_type": "code",
   "execution_count": 71,
   "id": "13e49995-da2d-4b44-ad81-59217a411746",
   "metadata": {},
   "outputs": [
    {
     "data": {
      "image/png": "[encoded data removed]",
      "text/plain": [
       "<Figure size 1000x500 with 1 Axes>"
      ]
     },
     "metadata": {},
     "output_type": "display_data"
    }
   ],
   "source": [
    "# Plot the training and validation curves\n",
    "plt.figure(figsize=(10, 5))\n",
    "plt.plot(train_losses, label='Train Loss')\n",
    "plt.plot(val_losses, label='Validation Loss')\n",
    "plt.xlabel('Epoch')\n",
    "plt.ylabel('Loss')\n",
    "plt.title('Training and Validation Loss')\n",
    "plt.legend()\n",
    "plt.show()\n"
   ]
  },
  {
   "cell_type": "code",
   "execution_count": null,
   "id": "ad8bec03-cb83-4e21-aaef-d35fa355fe08",
   "metadata": {},
   "outputs": [],
   "source": []
  }
 ],
 "metadata": {
  "kernelspec": {
   "display_name": "Python 3 (ipykernel)",
   "language": "python",
   "name": "python3"
  },
  "language_info": {
   "codemirror_mode": {
    "name": "ipython",
    "version": 3
   },
   "file_extension": ".py",
   "mimetype": "text/x-python",
   "name": "python",
   "nbconvert_exporter": "python",
   "pygments_lexer": "ipython3",
   "version": "3.12.8"
  }
 },
 "nbformat": 4,
 "nbformat_minor": 5
}
