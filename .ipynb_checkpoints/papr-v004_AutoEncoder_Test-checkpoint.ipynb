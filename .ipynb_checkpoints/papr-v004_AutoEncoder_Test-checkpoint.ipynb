{
 "cells": [
  {
   "cell_type": "code",
   "execution_count": 1,
   "id": "1a6dbd6c-db9e-4f61-a3fd-f115a5f13f56",
   "metadata": {},
   "outputs": [],
   "source": [
    "# This is the method that uses the MATLAB Engine API for Python\n",
    "import matlab.engine\n",
    "import torch\n",
    "import torch.nn as nn\n",
    "import torch.nn.init as init\n",
    "import torch.nn.functional as F\n",
    "from torchvision import  models, datasets, transforms\n",
    "import torch.optim as optim\n",
    "import torch.optim.lr_scheduler as lr_scheduler\n",
    "import timm\n",
    "import pickle\n",
    "from torch.utils.data import Dataset, DataLoader, TensorDataset, random_split\n",
    "from sklearn.model_selection import train_test_split\n",
    "from sklearn.metrics import confusion_matrix, classification_report\n",
    "from sklearn.preprocessing import LabelEncoder, OneHotEncoder, StandardScaler, MinMaxScaler\n",
    "import numpy as np\n",
    "import scipy.io as scio\n",
    "from scipy.io import savemat\n",
    "import h5py\n",
    "import pandas as pd\n",
    "import seaborn as sns\n",
    "import matplotlib.pyplot as plt\n",
    "from tqdm import tqdm\n",
    "import copy\n",
    "import gc"
   ]
  },
  {
   "cell_type": "code",
   "execution_count": 2,
   "id": "17c9a3ac-fe84-4ef2-9b3b-1abc71872199",
   "metadata": {},
   "outputs": [],
   "source": [
    "device = torch.device('mps') if torch.backends.mps.is_available() else 'cpu'"
   ]
  },
  {
   "cell_type": "code",
   "execution_count": 3,
   "id": "4d67bb0c-3697-43bc-80ea-218dbec5c926",
   "metadata": {},
   "outputs": [],
   "source": [
    "main_channels_mat = torch.load('main_channels_tensor_for_autoencoder.pt', weights_only=True)"
   ]
  },
  {
   "cell_type": "code",
   "execution_count": 4,
   "id": "c4dedec3-a4de-43cc-ba30-fb37b8d9a300",
   "metadata": {},
   "outputs": [],
   "source": [
    "class CustomDataset(Dataset):\n",
    "    def __init__(self, main_channels_mat):\n",
    "        # convert into PyTorch tensors and remember them\n",
    "        self.main_channels_mat = main_channels_mat\n",
    "\n",
    "    def __len__(self):\n",
    "        # this should return the size of the dataset\n",
    "        return len(self.main_channels_mat)\n",
    "    \n",
    "    def __getitem__(self, idx):\n",
    "        # this should return one sample from the dataset\n",
    "        main_channels_mat = self.main_channels_mat[idx,:,:]\n",
    "        return main_channels_mat"
   ]
  },
  {
   "cell_type": "code",
   "execution_count": 5,
   "id": "bf2a537d-4f72-4525-9d55-3f479405587b",
   "metadata": {},
   "outputs": [],
   "source": [
    "dataset = CustomDataset(main_channels_mat)"
   ]
  },
  {
   "cell_type": "code",
   "execution_count": 6,
   "id": "ae911b39-4580-44fe-81de-864892143bff",
   "metadata": {},
   "outputs": [],
   "source": [
    "# First, split the dataset into train and remaining (val + test)\n",
    "train_set, remaining_set = train_test_split(dataset, test_size=40000, random_state=42)\n",
    "\n",
    "# Now, split the remaining set into validation and test sets\n",
    "val_set, test_set = train_test_split(remaining_set, test_size=20000, random_state=42)"
   ]
  },
  {
   "cell_type": "code",
   "execution_count": 7,
   "id": "47b372d6-28d2-4e1b-b2c7-4ecc3f46c656",
   "metadata": {},
   "outputs": [],
   "source": [
    "# Create DataLoaders\n",
    "batch_size = 64\n",
    "train_loader = DataLoader(train_set, shuffle=True, batch_size=batch_size)\n",
    "val_loader = DataLoader(val_set, shuffle=False, batch_size=batch_size)\n",
    "test_loader = DataLoader(test_set, shuffle=False, batch_size= batch_size)"
   ]
  },
  {
   "cell_type": "code",
   "execution_count": 8,
   "id": "f2425bdd-3cfc-4088-9f70-28db15772818",
   "metadata": {},
   "outputs": [
    {
     "name": "stdout",
     "output_type": "stream",
     "text": [
      "Shape of batch feature is torch.Size([64, 10, 70])\n",
      "Data type of batch feature is torch.complex64\n"
     ]
    }
   ],
   "source": [
    "batch_main_chan_mat = next(iter(train_loader))\n",
    "\n",
    "print(f'Shape of batch feature is {batch_main_chan_mat.shape}')\n",
    "print(f'Data type of batch feature is {batch_main_chan_mat.dtype}')"
   ]
  },
  {
   "cell_type": "code",
   "execution_count": 9,
   "id": "50c9a202-ef06-450d-8f24-5b45a3b2833f",
   "metadata": {},
   "outputs": [],
   "source": [
    "class CSIEncoder(nn.Module):\n",
    "    def __init__(self):\n",
    "        super(CSIEncoder, self).__init__()\n",
    "        \n",
    "        self.conv1 = nn.Conv2d(in_channels=2, out_channels=32, kernel_size=3, stride=2, padding=1)\n",
    "        self.maxpool1 = nn.MaxPool2d(kernel_size=2, stride=2)\n",
    "        self.bnconv1 = nn.BatchNorm2d(32)\n",
    "\n",
    "        self.conv2 = nn.Conv2d(in_channels=32, out_channels=32, kernel_size=3, stride=2, padding=1)\n",
    "        self.maxpool2 = nn.MaxPool2d(kernel_size=2, stride=2)\n",
    "        self.bnconv2 = nn.BatchNorm2d(32)\n",
    "\n",
    "        self.flatten = nn.Flatten()\n",
    "        \n",
    "        self.linear1 = nn.Linear(1728, 280)\n",
    "        self.bnlin1 = nn.BatchNorm1d(280)\n",
    "        \n",
    "        self.linear2 = nn.Linear(280, 140)\n",
    "\n",
    "\n",
    "\n",
    "    def forward(self, x):\n",
    "        #x = x.unsqueeze(1)\n",
    "        x = F.relu(self.bnconv1(self.conv1(x)))\n",
    "        x = F.relu(self.bnconv2(self.conv2(x)))\n",
    "        x = self.flatten(x)\n",
    "        x = F.relu(self.bnlin1(self.linear1(x)))\n",
    "        x = self.linear2(x)\n",
    "\n",
    "        return x"
   ]
  },
  {
   "cell_type": "code",
   "execution_count": 10,
   "id": "f172b873-cecf-4482-8078-3ca48377dd69",
   "metadata": {},
   "outputs": [
    {
     "data": {
      "text/plain": [
       "torch.Size([64, 140])"
      ]
     },
     "execution_count": 10,
     "metadata": {},
     "output_type": "execute_result"
    }
   ],
   "source": [
    "test_output_enc = CSIEncoder()(torch.rand([64,2,10,70]))\n",
    "test_output_enc.shape"
   ]
  },
  {
   "cell_type": "code",
   "execution_count": 11,
   "id": "d9b4dfc5-cf66-4ca8-913c-edcf7fdb6e12",
   "metadata": {},
   "outputs": [],
   "source": [
    "class CSIDecoder(nn.Module):\n",
    "    def __init__(self):\n",
    "        super(CSIDecoder, self).__init__()\n",
    "        \n",
    "        self.linear1 = nn.Linear(140, 280)\n",
    "        self.bnlin1 = nn.BatchNorm1d(280)\n",
    "        \n",
    "        self.linear2 = nn.Linear(280, 1728)\n",
    "        self.bnlin2 = nn.BatchNorm1d(1728)\n",
    "\n",
    "        self.unflatten = nn.Unflatten(1,[32, 3, 18])\n",
    "        \n",
    "        self.convT1 = nn.ConvTranspose2d(in_channels=32, out_channels=32, kernel_size=3, stride=2, padding=1, output_padding=1)\n",
    "        self.bnconv1 = nn.BatchNorm2d(32)\n",
    "\n",
    "        self.convT2 = nn.ConvTranspose2d(in_channels=32, out_channels=2, kernel_size=3, stride=2, padding=2, output_padding=1)\n",
    "        self.maxpool2 = nn.MaxPool2d(kernel_size=2, stride=2)\n",
    "\n",
    "\n",
    "    def forward(self, x):\n",
    "        #x = x.unsqueeze(1)\n",
    "        x = F.relu(self.bnlin1(self.linear1(x)))\n",
    "        x = F.relu(self.bnlin2(self.linear2(x)))\n",
    "        x = self.unflatten(x)\n",
    "        x = F.relu(self.bnconv1(self.convT1(x)))\n",
    "        x = self.convT2(x)\n",
    "       \n",
    "        return x"
   ]
  },
  {
   "cell_type": "code",
   "execution_count": 12,
   "id": "6182b7c0-952e-4423-9835-72ad4f6844ba",
   "metadata": {},
   "outputs": [
    {
     "data": {
      "text/plain": [
       "torch.Size([64, 2, 10, 70])"
      ]
     },
     "execution_count": 12,
     "metadata": {},
     "output_type": "execute_result"
    }
   ],
   "source": [
    "test_output_dec = CSIDecoder()(torch.rand([64,140]))\n",
    "test_output_dec.shape"
   ]
  },
  {
   "cell_type": "code",
   "execution_count": 13,
   "id": "6118a666-2b05-438a-b0fd-1a6bf211e3a9",
   "metadata": {},
   "outputs": [],
   "source": [
    "class AutoEncode(nn.Module):\n",
    "    def __init__(self):\n",
    "        super(AutoEncode, self).__init__()\n",
    "        \n",
    "        self.encoder = CSIEncoder()\n",
    "        self.decoder = CSIDecoder()\n",
    "\n",
    "\n",
    "    def forward(self, x):\n",
    "        #x = x.unsqueeze(1)\n",
    "        x = self.encoder(x)\n",
    "        x = self.decoder(x)\n",
    "\n",
    "        return x"
   ]
  },
  {
   "cell_type": "code",
   "execution_count": 14,
   "id": "0c3feb30-605e-4825-b759-28012418e7a3",
   "metadata": {},
   "outputs": [
    {
     "data": {
      "text/plain": [
       "torch.Size([64, 2, 10, 70])"
      ]
     },
     "execution_count": 14,
     "metadata": {},
     "output_type": "execute_result"
    }
   ],
   "source": [
    "test_output_auto = AutoEncode()(torch.rand([64,2,10,70]))\n",
    "test_output_auto.shape"
   ]
  },
  {
   "cell_type": "code",
   "execution_count": 15,
   "id": "0b8f3f7a-be21-46f2-8754-23dc991b56ae",
   "metadata": {},
   "outputs": [
    {
     "name": "stderr",
     "output_type": "stream",
     "text": [
      "\n",
      "Epoch [1/200] T Loss:0.4728 LR is 0.001: 100%|████████████████| 2500/2500 [00:19<00:00, 127.16it/s]"
     ]
    },
    {
     "name": "stdout",
     "output_type": "stream",
     "text": [
      "Training has completed epoch 1\n"
     ]
    },
    {
     "name": "stderr",
     "output_type": "stream",
     "text": [
      "\n",
      "Epoch [1/200] V Loss:0.4522: 100%|██████████████████████████████| 313/313 [00:01<00:00, 277.31it/s]"
     ]
    },
    {
     "name": "stdout",
     "output_type": "stream",
     "text": [
      "Best Validation Loss is now: 0.4522 at Epoch: 1\n"
     ]
    },
    {
     "name": "stderr",
     "output_type": "stream",
     "text": [
      "\n",
      "Epoch [2/200] T Loss:0.4439 LR is 0.001: 100%|████████████████| 2500/2500 [00:18<00:00, 133.76it/s]"
     ]
    },
    {
     "name": "stdout",
     "output_type": "stream",
     "text": [
      "Training has completed epoch 2\n"
     ]
    },
    {
     "name": "stderr",
     "output_type": "stream",
     "text": [
      "\n",
      "Epoch [2/200] V Loss:0.4366: 100%|██████████████████████████████| 313/313 [00:01<00:00, 292.88it/s]"
     ]
    },
    {
     "name": "stdout",
     "output_type": "stream",
     "text": [
      "Best Validation Loss is now: 0.4366 at Epoch: 2\n"
     ]
    },
    {
     "name": "stderr",
     "output_type": "stream",
     "text": [
      "\n",
      "Epoch [3/200] T Loss:0.4358 LR is 0.001: 100%|████████████████| 2500/2500 [00:18<00:00, 132.16it/s]"
     ]
    },
    {
     "name": "stdout",
     "output_type": "stream",
     "text": [
      "Training has completed epoch 3\n"
     ]
    },
    {
     "name": "stderr",
     "output_type": "stream",
     "text": [
      "\n",
      "Epoch [3/200] V Loss:0.4335: 100%|██████████████████████████████| 313/313 [00:01<00:00, 291.33it/s]"
     ]
    },
    {
     "name": "stdout",
     "output_type": "stream",
     "text": [
      "Best Validation Loss is now: 0.4335 at Epoch: 3\n"
     ]
    },
    {
     "name": "stderr",
     "output_type": "stream",
     "text": [
      "\n",
      "Epoch [4/200] T Loss:0.4349 LR is 0.001: 100%|████████████████| 2500/2500 [00:18<00:00, 135.97it/s]"
     ]
    },
    {
     "name": "stdout",
     "output_type": "stream",
     "text": [
      "Training has completed epoch 4\n"
     ]
    },
    {
     "name": "stderr",
     "output_type": "stream",
     "text": [
      "\n",
      "Epoch [4/200] V Loss:0.4321: 100%|██████████████████████████████| 313/313 [00:01<00:00, 300.21it/s]"
     ]
    },
    {
     "name": "stdout",
     "output_type": "stream",
     "text": [
      "Best Validation Loss is now: 0.4321 at Epoch: 4\n"
     ]
    },
    {
     "name": "stderr",
     "output_type": "stream",
     "text": [
      "\n",
      "Epoch [5/200] T Loss:0.4335 LR is 0.001: 100%|████████████████| 2500/2500 [00:18<00:00, 135.74it/s]"
     ]
    },
    {
     "name": "stdout",
     "output_type": "stream",
     "text": [
      "Training has completed epoch 5\n"
     ]
    },
    {
     "name": "stderr",
     "output_type": "stream",
     "text": [
      "\n",
      "Epoch [5/200] V Loss:0.4314: 100%|██████████████████████████████| 313/313 [00:01<00:00, 283.68it/s]"
     ]
    },
    {
     "name": "stdout",
     "output_type": "stream",
     "text": [
      "Best Validation Loss is now: 0.4314 at Epoch: 5\n"
     ]
    },
    {
     "name": "stderr",
     "output_type": "stream",
     "text": [
      "\n",
      "Epoch [6/200] T Loss:0.4312 LR is 0.001: 100%|████████████████| 2500/2500 [00:18<00:00, 135.96it/s]"
     ]
    },
    {
     "name": "stdout",
     "output_type": "stream",
     "text": [
      "Training has completed epoch 6\n"
     ]
    },
    {
     "name": "stderr",
     "output_type": "stream",
     "text": [
      "\n",
      "Epoch [6/200] V Loss:0.4270: 100%|██████████████████████████████| 313/313 [00:01<00:00, 271.74it/s]"
     ]
    },
    {
     "name": "stdout",
     "output_type": "stream",
     "text": [
      "Best Validation Loss is now: 0.4270 at Epoch: 6\n"
     ]
    },
    {
     "name": "stderr",
     "output_type": "stream",
     "text": [
      "\n",
      "Epoch [7/200] T Loss:0.4298 LR is 0.001: 100%|████████████████| 2500/2500 [00:18<00:00, 135.30it/s]"
     ]
    },
    {
     "name": "stdout",
     "output_type": "stream",
     "text": [
      "Training has completed epoch 7\n"
     ]
    },
    {
     "name": "stderr",
     "output_type": "stream",
     "text": [
      "\n",
      "Epoch [7/200] V Loss:0.4253: 100%|██████████████████████████████| 313/313 [00:01<00:00, 301.85it/s]"
     ]
    },
    {
     "name": "stdout",
     "output_type": "stream",
     "text": [
      "Best Validation Loss is now: 0.4253 at Epoch: 7\n"
     ]
    },
    {
     "name": "stderr",
     "output_type": "stream",
     "text": [
      "\n",
      "Epoch [8/200] T Loss:0.4289 LR is 0.001: 100%|████████████████| 2500/2500 [00:18<00:00, 135.51it/s]"
     ]
    },
    {
     "name": "stdout",
     "output_type": "stream",
     "text": [
      "Training has completed epoch 8\n"
     ]
    },
    {
     "name": "stderr",
     "output_type": "stream",
     "text": [
      "\n",
      "Epoch [8/200] V Loss:0.4245: 100%|██████████████████████████████| 313/313 [00:01<00:00, 288.09it/s]"
     ]
    },
    {
     "name": "stdout",
     "output_type": "stream",
     "text": [
      "Best Validation Loss is now: 0.4245 at Epoch: 8\n"
     ]
    },
    {
     "name": "stderr",
     "output_type": "stream",
     "text": [
      "\n",
      "Epoch [9/200] T Loss:0.4282 LR is 0.001: 100%|████████████████| 2500/2500 [00:18<00:00, 136.02it/s]"
     ]
    },
    {
     "name": "stdout",
     "output_type": "stream",
     "text": [
      "Training has completed epoch 9\n"
     ]
    },
    {
     "name": "stderr",
     "output_type": "stream",
     "text": [
      "\n",
      "Epoch [9/200] V Loss:0.4245: 100%|██████████████████████████████| 313/313 [00:01<00:00, 301.57it/s]"
     ]
    },
    {
     "name": "stdout",
     "output_type": "stream",
     "text": [
      "Best Validation Loss is now: 0.4245 at Epoch: 9\n"
     ]
    },
    {
     "name": "stderr",
     "output_type": "stream",
     "text": [
      "\n",
      "Epoch [10/200] T Loss:0.4277 LR is 0.001: 100%|███████████████| 2500/2500 [00:18<00:00, 133.99it/s]"
     ]
    },
    {
     "name": "stdout",
     "output_type": "stream",
     "text": [
      "Training has completed epoch 10\n"
     ]
    },
    {
     "name": "stderr",
     "output_type": "stream",
     "text": [
      "\n",
      "Epoch [10/200] V Loss:0.4219: 100%|█████████████████████████████| 313/313 [00:01<00:00, 290.19it/s]"
     ]
    },
    {
     "name": "stdout",
     "output_type": "stream",
     "text": [
      "Best Validation Loss is now: 0.4219 at Epoch: 10\n"
     ]
    },
    {
     "name": "stderr",
     "output_type": "stream",
     "text": [
      "\n",
      "Epoch [11/200] T Loss:0.4273 LR is 0.001: 100%|███████████████| 2500/2500 [00:19<00:00, 130.09it/s]"
     ]
    },
    {
     "name": "stdout",
     "output_type": "stream",
     "text": [
      "Training has completed epoch 11\n"
     ]
    },
    {
     "name": "stderr",
     "output_type": "stream",
     "text": [
      "\n",
      "Epoch [11/200] V Loss:0.4221: 100%|█████████████████████████████| 313/313 [00:01<00:00, 269.32it/s]"
     ]
    },
    {
     "name": "stdout",
     "output_type": "stream",
     "text": [
      "This is Epoch: 1 without improvement\n",
      "Current Validation Loss is: 0.4221 at Epoch: 11\n",
      "Best Validation Loss remains: 0.4219 at Epoch: 10\n"
     ]
    },
    {
     "name": "stderr",
     "output_type": "stream",
     "text": [
      "\n",
      "Epoch [12/200] T Loss:0.4271 LR is 0.001: 100%|███████████████| 2500/2500 [00:18<00:00, 135.51it/s]"
     ]
    },
    {
     "name": "stdout",
     "output_type": "stream",
     "text": [
      "Training has completed epoch 12\n"
     ]
    },
    {
     "name": "stderr",
     "output_type": "stream",
     "text": [
      "\n",
      "Epoch [12/200] V Loss:0.4210: 100%|█████████████████████████████| 313/313 [00:01<00:00, 292.86it/s]"
     ]
    },
    {
     "name": "stdout",
     "output_type": "stream",
     "text": [
      "Best Validation Loss is now: 0.4210 at Epoch: 12\n"
     ]
    },
    {
     "name": "stderr",
     "output_type": "stream",
     "text": [
      "\n",
      "Epoch [13/200] T Loss:0.4269 LR is 0.001: 100%|███████████████| 2500/2500 [00:19<00:00, 130.58it/s]"
     ]
    },
    {
     "name": "stdout",
     "output_type": "stream",
     "text": [
      "Training has completed epoch 13\n"
     ]
    },
    {
     "name": "stderr",
     "output_type": "stream",
     "text": [
      "\n",
      "Epoch [13/200] V Loss:0.4212: 100%|█████████████████████████████| 313/313 [00:01<00:00, 300.02it/s]"
     ]
    },
    {
     "name": "stdout",
     "output_type": "stream",
     "text": [
      "This is Epoch: 1 without improvement\n",
      "Current Validation Loss is: 0.4212 at Epoch: 13\n",
      "Best Validation Loss remains: 0.4210 at Epoch: 12\n"
     ]
    },
    {
     "name": "stderr",
     "output_type": "stream",
     "text": [
      "\n",
      "Epoch [14/200] T Loss:0.4267 LR is 0.001: 100%|███████████████| 2500/2500 [00:18<00:00, 135.52it/s]"
     ]
    },
    {
     "name": "stdout",
     "output_type": "stream",
     "text": [
      "Training has completed epoch 14\n"
     ]
    },
    {
     "name": "stderr",
     "output_type": "stream",
     "text": [
      "\n",
      "Epoch [14/200] V Loss:0.4201: 100%|█████████████████████████████| 313/313 [00:01<00:00, 302.52it/s]"
     ]
    },
    {
     "name": "stdout",
     "output_type": "stream",
     "text": [
      "Best Validation Loss is now: 0.4201 at Epoch: 14\n"
     ]
    },
    {
     "name": "stderr",
     "output_type": "stream",
     "text": [
      "\n",
      "Epoch [15/200] T Loss:0.4265 LR is 0.001: 100%|███████████████| 2500/2500 [00:18<00:00, 135.41it/s]"
     ]
    },
    {
     "name": "stdout",
     "output_type": "stream",
     "text": [
      "Training has completed epoch 15\n"
     ]
    },
    {
     "name": "stderr",
     "output_type": "stream",
     "text": [
      "\n",
      "Epoch [15/200] V Loss:0.4197: 100%|█████████████████████████████| 313/313 [00:01<00:00, 302.62it/s]"
     ]
    },
    {
     "name": "stdout",
     "output_type": "stream",
     "text": [
      "Best Validation Loss is now: 0.4197 at Epoch: 15\n"
     ]
    },
    {
     "name": "stderr",
     "output_type": "stream",
     "text": [
      "\n",
      "Epoch [16/200] T Loss:0.4263 LR is 0.001: 100%|███████████████| 2500/2500 [00:18<00:00, 136.20it/s]"
     ]
    },
    {
     "name": "stdout",
     "output_type": "stream",
     "text": [
      "Training has completed epoch 16\n"
     ]
    },
    {
     "name": "stderr",
     "output_type": "stream",
     "text": [
      "\n",
      "Epoch [16/200] V Loss:0.4186: 100%|█████████████████████████████| 313/313 [00:01<00:00, 300.26it/s]"
     ]
    },
    {
     "name": "stdout",
     "output_type": "stream",
     "text": [
      "Best Validation Loss is now: 0.4186 at Epoch: 16\n"
     ]
    },
    {
     "name": "stderr",
     "output_type": "stream",
     "text": [
      "\n",
      "Epoch [17/200] T Loss:0.4262 LR is 0.001: 100%|███████████████| 2500/2500 [00:19<00:00, 128.17it/s]"
     ]
    },
    {
     "name": "stdout",
     "output_type": "stream",
     "text": [
      "Training has completed epoch 17\n"
     ]
    },
    {
     "name": "stderr",
     "output_type": "stream",
     "text": [
      "\n",
      "Epoch [17/200] V Loss:0.4192: 100%|█████████████████████████████| 313/313 [00:01<00:00, 290.61it/s]"
     ]
    },
    {
     "name": "stdout",
     "output_type": "stream",
     "text": [
      "This is Epoch: 1 without improvement\n",
      "Current Validation Loss is: 0.4192 at Epoch: 17\n",
      "Best Validation Loss remains: 0.4186 at Epoch: 16\n"
     ]
    },
    {
     "name": "stderr",
     "output_type": "stream",
     "text": [
      "\n",
      "Epoch [18/200] T Loss:0.4261 LR is 0.001: 100%|███████████████| 2500/2500 [00:20<00:00, 122.87it/s]"
     ]
    },
    {
     "name": "stdout",
     "output_type": "stream",
     "text": [
      "Training has completed epoch 18\n"
     ]
    },
    {
     "name": "stderr",
     "output_type": "stream",
     "text": [
      "\n",
      "Epoch [18/200] V Loss:0.4191: 100%|█████████████████████████████| 313/313 [00:01<00:00, 273.15it/s]"
     ]
    },
    {
     "name": "stdout",
     "output_type": "stream",
     "text": [
      "This is Epoch: 2 without improvement\n",
      "Current Validation Loss is: 0.4191 at Epoch: 18\n",
      "Best Validation Loss remains: 0.4186 at Epoch: 16\n"
     ]
    },
    {
     "name": "stderr",
     "output_type": "stream",
     "text": [
      "\n",
      "Epoch [19/200] T Loss:0.4259 LR is 0.001: 100%|███████████████| 2500/2500 [00:19<00:00, 130.65it/s]"
     ]
    },
    {
     "name": "stdout",
     "output_type": "stream",
     "text": [
      "Training has completed epoch 19\n"
     ]
    },
    {
     "name": "stderr",
     "output_type": "stream",
     "text": [
      "\n",
      "Epoch [19/200] V Loss:0.4192: 100%|█████████████████████████████| 313/313 [00:01<00:00, 304.99it/s]"
     ]
    },
    {
     "name": "stdout",
     "output_type": "stream",
     "text": [
      "This is Epoch: 3 without improvement\n",
      "Current Validation Loss is: 0.4192 at Epoch: 19\n",
      "Best Validation Loss remains: 0.4186 at Epoch: 16\n"
     ]
    },
    {
     "name": "stderr",
     "output_type": "stream",
     "text": [
      "\n",
      "Epoch [20/200] T Loss:0.4258 LR is 0.001: 100%|███████████████| 2500/2500 [00:19<00:00, 126.52it/s]"
     ]
    },
    {
     "name": "stdout",
     "output_type": "stream",
     "text": [
      "Training has completed epoch 20\n"
     ]
    },
    {
     "name": "stderr",
     "output_type": "stream",
     "text": [
      "\n",
      "Epoch [20/200] V Loss:0.4185: 100%|█████████████████████████████| 313/313 [00:01<00:00, 288.15it/s]"
     ]
    },
    {
     "name": "stdout",
     "output_type": "stream",
     "text": [
      "Best Validation Loss is now: 0.4185 at Epoch: 20\n"
     ]
    },
    {
     "name": "stderr",
     "output_type": "stream",
     "text": [
      "\n",
      "Epoch [21/200] T Loss:0.4257 LR is 0.001: 100%|███████████████| 2500/2500 [00:19<00:00, 130.92it/s]"
     ]
    },
    {
     "name": "stdout",
     "output_type": "stream",
     "text": [
      "Training has completed epoch 21\n"
     ]
    },
    {
     "name": "stderr",
     "output_type": "stream",
     "text": [
      "\n",
      "Epoch [21/200] V Loss:0.4186: 100%|█████████████████████████████| 313/313 [00:01<00:00, 285.93it/s]"
     ]
    },
    {
     "name": "stdout",
     "output_type": "stream",
     "text": [
      "This is Epoch: 1 without improvement\n",
      "Current Validation Loss is: 0.4186 at Epoch: 21\n",
      "Best Validation Loss remains: 0.4185 at Epoch: 20\n"
     ]
    },
    {
     "name": "stderr",
     "output_type": "stream",
     "text": [
      "\n",
      "Epoch [22/200] T Loss:0.4256 LR is 0.001: 100%|███████████████| 2500/2500 [00:19<00:00, 127.73it/s]"
     ]
    },
    {
     "name": "stdout",
     "output_type": "stream",
     "text": [
      "Training has completed epoch 22\n"
     ]
    },
    {
     "name": "stderr",
     "output_type": "stream",
     "text": [
      "\n",
      "Epoch [22/200] V Loss:0.4190: 100%|█████████████████████████████| 313/313 [00:01<00:00, 297.54it/s]"
     ]
    },
    {
     "name": "stdout",
     "output_type": "stream",
     "text": [
      "This is Epoch: 2 without improvement\n",
      "Current Validation Loss is: 0.4190 at Epoch: 22\n",
      "Best Validation Loss remains: 0.4185 at Epoch: 20\n"
     ]
    },
    {
     "name": "stderr",
     "output_type": "stream",
     "text": [
      "\n",
      "Epoch [23/200] T Loss:0.4255 LR is 0.001: 100%|███████████████| 2500/2500 [00:19<00:00, 130.65it/s]"
     ]
    },
    {
     "name": "stdout",
     "output_type": "stream",
     "text": [
      "Training has completed epoch 23\n"
     ]
    },
    {
     "name": "stderr",
     "output_type": "stream",
     "text": [
      "\n",
      "Epoch [23/200] V Loss:0.4185: 100%|█████████████████████████████| 313/313 [00:01<00:00, 294.56it/s]"
     ]
    },
    {
     "name": "stdout",
     "output_type": "stream",
     "text": [
      "This is Epoch: 3 without improvement\n",
      "Current Validation Loss is: 0.4185 at Epoch: 23\n",
      "Best Validation Loss remains: 0.4185 at Epoch: 20\n"
     ]
    },
    {
     "name": "stderr",
     "output_type": "stream",
     "text": [
      "\n",
      "Epoch [24/200] T Loss:0.4254 LR is 0.001: 100%|███████████████| 2500/2500 [00:18<00:00, 133.93it/s]"
     ]
    },
    {
     "name": "stdout",
     "output_type": "stream",
     "text": [
      "Training has completed epoch 24\n"
     ]
    },
    {
     "name": "stderr",
     "output_type": "stream",
     "text": [
      "\n",
      "Epoch [24/200] V Loss:0.4174: 100%|█████████████████████████████| 313/313 [00:01<00:00, 292.91it/s]"
     ]
    },
    {
     "name": "stdout",
     "output_type": "stream",
     "text": [
      "Best Validation Loss is now: 0.4174 at Epoch: 24\n"
     ]
    },
    {
     "name": "stderr",
     "output_type": "stream",
     "text": [
      "\n",
      "Epoch [25/200] T Loss:0.4253 LR is 0.001: 100%|███████████████| 2500/2500 [00:20<00:00, 123.88it/s]"
     ]
    },
    {
     "name": "stdout",
     "output_type": "stream",
     "text": [
      "Training has completed epoch 25\n"
     ]
    },
    {
     "name": "stderr",
     "output_type": "stream",
     "text": [
      "\n",
      "Epoch [25/200] V Loss:0.4181: 100%|█████████████████████████████| 313/313 [00:01<00:00, 228.03it/s]"
     ]
    },
    {
     "name": "stdout",
     "output_type": "stream",
     "text": [
      "This is Epoch: 1 without improvement\n",
      "Current Validation Loss is: 0.4181 at Epoch: 25\n",
      "Best Validation Loss remains: 0.4174 at Epoch: 24\n"
     ]
    },
    {
     "name": "stderr",
     "output_type": "stream",
     "text": [
      "\n",
      "Epoch [26/200] T Loss:0.4252 LR is 0.001: 100%|███████████████| 2500/2500 [00:19<00:00, 125.70it/s]"
     ]
    },
    {
     "name": "stdout",
     "output_type": "stream",
     "text": [
      "Training has completed epoch 26\n"
     ]
    },
    {
     "name": "stderr",
     "output_type": "stream",
     "text": [
      "\n",
      "Epoch [26/200] V Loss:0.4173: 100%|█████████████████████████████| 313/313 [00:01<00:00, 265.80it/s]"
     ]
    },
    {
     "name": "stdout",
     "output_type": "stream",
     "text": [
      "Best Validation Loss is now: 0.4173 at Epoch: 26\n"
     ]
    },
    {
     "name": "stderr",
     "output_type": "stream",
     "text": [
      "\n",
      "Epoch [27/200] T Loss:0.4251 LR is 0.001: 100%|███████████████| 2500/2500 [00:18<00:00, 131.61it/s]"
     ]
    },
    {
     "name": "stdout",
     "output_type": "stream",
     "text": [
      "Training has completed epoch 27\n"
     ]
    },
    {
     "name": "stderr",
     "output_type": "stream",
     "text": [
      "\n",
      "Epoch [27/200] V Loss:0.4170: 100%|█████████████████████████████| 313/313 [00:01<00:00, 289.58it/s]"
     ]
    },
    {
     "name": "stdout",
     "output_type": "stream",
     "text": [
      "Best Validation Loss is now: 0.4170 at Epoch: 27\n"
     ]
    },
    {
     "name": "stderr",
     "output_type": "stream",
     "text": [
      "\n",
      "Epoch [28/200] T Loss:0.4249 LR is 0.001: 100%|███████████████| 2500/2500 [00:18<00:00, 135.23it/s]"
     ]
    },
    {
     "name": "stdout",
     "output_type": "stream",
     "text": [
      "Training has completed epoch 28\n"
     ]
    },
    {
     "name": "stderr",
     "output_type": "stream",
     "text": [
      "\n",
      "Epoch [28/200] V Loss:0.4171: 100%|█████████████████████████████| 313/313 [00:01<00:00, 297.83it/s]"
     ]
    },
    {
     "name": "stdout",
     "output_type": "stream",
     "text": [
      "This is Epoch: 1 without improvement\n",
      "Current Validation Loss is: 0.4171 at Epoch: 28\n",
      "Best Validation Loss remains: 0.4170 at Epoch: 27\n"
     ]
    },
    {
     "name": "stderr",
     "output_type": "stream",
     "text": [
      "\n",
      "Epoch [29/200] T Loss:0.4248 LR is 0.001: 100%|███████████████| 2500/2500 [00:18<00:00, 134.77it/s]"
     ]
    },
    {
     "name": "stdout",
     "output_type": "stream",
     "text": [
      "Training has completed epoch 29\n"
     ]
    },
    {
     "name": "stderr",
     "output_type": "stream",
     "text": [
      "\n",
      "Epoch [29/200] V Loss:0.4171: 100%|█████████████████████████████| 313/313 [00:01<00:00, 282.83it/s]"
     ]
    },
    {
     "name": "stdout",
     "output_type": "stream",
     "text": [
      "This is Epoch: 2 without improvement\n",
      "Current Validation Loss is: 0.4171 at Epoch: 29\n",
      "Best Validation Loss remains: 0.4170 at Epoch: 27\n"
     ]
    },
    {
     "name": "stderr",
     "output_type": "stream",
     "text": [
      "\n",
      "Epoch [30/200] T Loss:0.4247 LR is 0.001: 100%|███████████████| 2500/2500 [00:18<00:00, 132.78it/s]"
     ]
    },
    {
     "name": "stdout",
     "output_type": "stream",
     "text": [
      "Training has completed epoch 30\n"
     ]
    },
    {
     "name": "stderr",
     "output_type": "stream",
     "text": [
      "\n",
      "Epoch [30/200] V Loss:0.4174: 100%|█████████████████████████████| 313/313 [00:01<00:00, 280.93it/s]"
     ]
    },
    {
     "name": "stdout",
     "output_type": "stream",
     "text": [
      "This is Epoch: 3 without improvement\n",
      "Current Validation Loss is: 0.4174 at Epoch: 30\n",
      "Best Validation Loss remains: 0.4170 at Epoch: 27\n"
     ]
    },
    {
     "name": "stderr",
     "output_type": "stream",
     "text": [
      "\n",
      "Epoch [31/200] T Loss:0.4246 LR is 0.001: 100%|███████████████| 2500/2500 [00:18<00:00, 133.04it/s]"
     ]
    },
    {
     "name": "stdout",
     "output_type": "stream",
     "text": [
      "Training has completed epoch 31\n"
     ]
    },
    {
     "name": "stderr",
     "output_type": "stream",
     "text": [
      "\n",
      "Epoch [31/200] V Loss:0.4167: 100%|█████████████████████████████| 313/313 [00:01<00:00, 289.53it/s]"
     ]
    },
    {
     "name": "stdout",
     "output_type": "stream",
     "text": [
      "Best Validation Loss is now: 0.4167 at Epoch: 31\n"
     ]
    },
    {
     "name": "stderr",
     "output_type": "stream",
     "text": [
      "\n",
      "Epoch [32/200] T Loss:0.4245 LR is 0.001: 100%|███████████████| 2500/2500 [00:18<00:00, 134.90it/s]"
     ]
    },
    {
     "name": "stdout",
     "output_type": "stream",
     "text": [
      "Training has completed epoch 32\n"
     ]
    },
    {
     "name": "stderr",
     "output_type": "stream",
     "text": [
      "\n",
      "Epoch [32/200] V Loss:0.4176: 100%|█████████████████████████████| 313/313 [00:01<00:00, 297.43it/s]"
     ]
    },
    {
     "name": "stdout",
     "output_type": "stream",
     "text": [
      "This is Epoch: 1 without improvement\n",
      "Current Validation Loss is: 0.4176 at Epoch: 32\n",
      "Best Validation Loss remains: 0.4167 at Epoch: 31\n"
     ]
    },
    {
     "name": "stderr",
     "output_type": "stream",
     "text": [
      "\n",
      "Epoch [33/200] T Loss:0.4244 LR is 0.001: 100%|███████████████| 2500/2500 [00:18<00:00, 132.13it/s]"
     ]
    },
    {
     "name": "stdout",
     "output_type": "stream",
     "text": [
      "Training has completed epoch 33\n"
     ]
    },
    {
     "name": "stderr",
     "output_type": "stream",
     "text": [
      "\n",
      "Epoch [33/200] V Loss:0.4174: 100%|█████████████████████████████| 313/313 [00:01<00:00, 296.75it/s]"
     ]
    },
    {
     "name": "stdout",
     "output_type": "stream",
     "text": [
      "This is Epoch: 2 without improvement\n",
      "Current Validation Loss is: 0.4174 at Epoch: 33\n",
      "Best Validation Loss remains: 0.4167 at Epoch: 31\n"
     ]
    },
    {
     "name": "stderr",
     "output_type": "stream",
     "text": [
      "\n",
      "Epoch [34/200] T Loss:0.4243 LR is 0.001: 100%|███████████████| 2500/2500 [00:18<00:00, 133.74it/s]"
     ]
    },
    {
     "name": "stdout",
     "output_type": "stream",
     "text": [
      "Training has completed epoch 34\n"
     ]
    },
    {
     "name": "stderr",
     "output_type": "stream",
     "text": [
      "\n",
      "Epoch [34/200] V Loss:0.4170: 100%|█████████████████████████████| 313/313 [00:01<00:00, 288.10it/s]"
     ]
    },
    {
     "name": "stdout",
     "output_type": "stream",
     "text": [
      "This is Epoch: 3 without improvement\n",
      "Current Validation Loss is: 0.4170 at Epoch: 34\n",
      "Best Validation Loss remains: 0.4167 at Epoch: 31\n"
     ]
    },
    {
     "name": "stderr",
     "output_type": "stream",
     "text": [
      "\n",
      "Epoch [35/200] T Loss:0.4242 LR is 0.001: 100%|███████████████| 2500/2500 [00:18<00:00, 131.93it/s]"
     ]
    },
    {
     "name": "stdout",
     "output_type": "stream",
     "text": [
      "Training has completed epoch 35\n"
     ]
    },
    {
     "name": "stderr",
     "output_type": "stream",
     "text": [
      "\n",
      "Epoch [35/200] V Loss:0.4161: 100%|█████████████████████████████| 313/313 [00:01<00:00, 298.76it/s]"
     ]
    },
    {
     "name": "stdout",
     "output_type": "stream",
     "text": [
      "Best Validation Loss is now: 0.4161 at Epoch: 35\n"
     ]
    },
    {
     "name": "stderr",
     "output_type": "stream",
     "text": [
      "\n",
      "Epoch [36/200] T Loss:0.4241 LR is 0.001: 100%|███████████████| 2500/2500 [00:18<00:00, 134.88it/s]"
     ]
    },
    {
     "name": "stdout",
     "output_type": "stream",
     "text": [
      "Training has completed epoch 36\n"
     ]
    },
    {
     "name": "stderr",
     "output_type": "stream",
     "text": [
      "\n",
      "Epoch [36/200] V Loss:0.4158: 100%|█████████████████████████████| 313/313 [00:01<00:00, 298.14it/s]"
     ]
    },
    {
     "name": "stdout",
     "output_type": "stream",
     "text": [
      "Best Validation Loss is now: 0.4158 at Epoch: 36\n"
     ]
    },
    {
     "name": "stderr",
     "output_type": "stream",
     "text": [
      "\n",
      "Epoch [37/200] T Loss:0.4240 LR is 0.001: 100%|███████████████| 2500/2500 [00:20<00:00, 122.93it/s]"
     ]
    },
    {
     "name": "stdout",
     "output_type": "stream",
     "text": [
      "Training has completed epoch 37\n"
     ]
    },
    {
     "name": "stderr",
     "output_type": "stream",
     "text": [
      "\n",
      "Epoch [37/200] V Loss:0.4158: 100%|█████████████████████████████| 313/313 [00:01<00:00, 277.25it/s]"
     ]
    },
    {
     "name": "stdout",
     "output_type": "stream",
     "text": [
      "This is Epoch: 1 without improvement\n",
      "Current Validation Loss is: 0.4158 at Epoch: 37\n",
      "Best Validation Loss remains: 0.4158 at Epoch: 36\n"
     ]
    },
    {
     "name": "stderr",
     "output_type": "stream",
     "text": [
      "\n",
      "Epoch [38/200] T Loss:0.4239 LR is 0.001: 100%|███████████████| 2500/2500 [00:21<00:00, 117.66it/s]"
     ]
    },
    {
     "name": "stdout",
     "output_type": "stream",
     "text": [
      "Training has completed epoch 38\n"
     ]
    },
    {
     "name": "stderr",
     "output_type": "stream",
     "text": [
      "\n",
      "Epoch [38/200] V Loss:0.4164: 100%|█████████████████████████████| 313/313 [00:01<00:00, 292.22it/s]"
     ]
    },
    {
     "name": "stdout",
     "output_type": "stream",
     "text": [
      "This is Epoch: 2 without improvement\n",
      "Current Validation Loss is: 0.4164 at Epoch: 38\n",
      "Best Validation Loss remains: 0.4158 at Epoch: 36\n"
     ]
    },
    {
     "name": "stderr",
     "output_type": "stream",
     "text": [
      "\n",
      "Epoch [39/200] T Loss:0.4239 LR is 0.001: 100%|███████████████| 2500/2500 [00:19<00:00, 128.08it/s]"
     ]
    },
    {
     "name": "stdout",
     "output_type": "stream",
     "text": [
      "Training has completed epoch 39\n"
     ]
    },
    {
     "name": "stderr",
     "output_type": "stream",
     "text": [
      "\n",
      "Epoch [39/200] V Loss:0.4164: 100%|█████████████████████████████| 313/313 [00:01<00:00, 276.45it/s]"
     ]
    },
    {
     "name": "stdout",
     "output_type": "stream",
     "text": [
      "This is Epoch: 3 without improvement\n",
      "Current Validation Loss is: 0.4164 at Epoch: 39\n",
      "Best Validation Loss remains: 0.4158 at Epoch: 36\n"
     ]
    },
    {
     "name": "stderr",
     "output_type": "stream",
     "text": [
      "\n",
      "Epoch [40/200] T Loss:0.4237 LR is 0.001: 100%|███████████████| 2500/2500 [00:19<00:00, 131.56it/s]"
     ]
    },
    {
     "name": "stdout",
     "output_type": "stream",
     "text": [
      "Training has completed epoch 40\n"
     ]
    },
    {
     "name": "stderr",
     "output_type": "stream",
     "text": [
      "\n",
      "Epoch [40/200] V Loss:0.4165: 100%|█████████████████████████████| 313/313 [00:01<00:00, 300.39it/s]"
     ]
    },
    {
     "name": "stdout",
     "output_type": "stream",
     "text": [
      "This is Epoch: 4 without improvement\n",
      "Current Validation Loss is: 0.4165 at Epoch: 40\n",
      "Best Validation Loss remains: 0.4158 at Epoch: 36\n"
     ]
    },
    {
     "name": "stderr",
     "output_type": "stream",
     "text": [
      "\n",
      "Epoch [41/200] T Loss:0.4235 LR is 0.0009000000000000001: 100%|█| 2500/2500 [00:19<00:00, 126.91it/"
     ]
    },
    {
     "name": "stdout",
     "output_type": "stream",
     "text": [
      "Training has completed epoch 41\n"
     ]
    },
    {
     "name": "stderr",
     "output_type": "stream",
     "text": [
      "\n",
      "Epoch [41/200] V Loss:0.4155: 100%|█████████████████████████████| 313/313 [00:01<00:00, 281.39it/s]"
     ]
    },
    {
     "name": "stdout",
     "output_type": "stream",
     "text": [
      "Best Validation Loss is now: 0.4155 at Epoch: 41\n"
     ]
    },
    {
     "name": "stderr",
     "output_type": "stream",
     "text": [
      "\n",
      "Epoch [42/200] T Loss:0.4234 LR is 0.0009000000000000001: 100%|█| 2500/2500 [00:20<00:00, 122.79it/"
     ]
    },
    {
     "name": "stdout",
     "output_type": "stream",
     "text": [
      "Training has completed epoch 42\n"
     ]
    },
    {
     "name": "stderr",
     "output_type": "stream",
     "text": [
      "\n",
      "Epoch [42/200] V Loss:0.4153: 100%|█████████████████████████████| 313/313 [00:01<00:00, 210.23it/s]"
     ]
    },
    {
     "name": "stdout",
     "output_type": "stream",
     "text": [
      "Best Validation Loss is now: 0.4153 at Epoch: 42\n"
     ]
    },
    {
     "name": "stderr",
     "output_type": "stream",
     "text": [
      "\n",
      "Epoch [43/200] T Loss:0.4234 LR is 0.0009000000000000001: 100%|█| 2500/2500 [00:20<00:00, 121.72it/"
     ]
    },
    {
     "name": "stdout",
     "output_type": "stream",
     "text": [
      "Training has completed epoch 43\n"
     ]
    },
    {
     "name": "stderr",
     "output_type": "stream",
     "text": [
      "\n",
      "Epoch [43/200] V Loss:0.4151: 100%|█████████████████████████████| 313/313 [00:01<00:00, 280.56it/s]"
     ]
    },
    {
     "name": "stdout",
     "output_type": "stream",
     "text": [
      "Best Validation Loss is now: 0.4151 at Epoch: 43\n"
     ]
    },
    {
     "name": "stderr",
     "output_type": "stream",
     "text": [
      "\n",
      "Epoch [44/200] T Loss:0.4233 LR is 0.0009000000000000001: 100%|█| 2500/2500 [00:20<00:00, 121.46it/"
     ]
    },
    {
     "name": "stdout",
     "output_type": "stream",
     "text": [
      "Training has completed epoch 44\n"
     ]
    },
    {
     "name": "stderr",
     "output_type": "stream",
     "text": [
      "\n",
      "Epoch [44/200] V Loss:0.4151: 100%|█████████████████████████████| 313/313 [00:01<00:00, 257.31it/s]"
     ]
    },
    {
     "name": "stdout",
     "output_type": "stream",
     "text": [
      "This is Epoch: 1 without improvement\n",
      "Current Validation Loss is: 0.4151 at Epoch: 44\n",
      "Best Validation Loss remains: 0.4151 at Epoch: 43\n"
     ]
    },
    {
     "name": "stderr",
     "output_type": "stream",
     "text": [
      "\n",
      "Epoch [45/200] T Loss:0.4232 LR is 0.0009000000000000001: 100%|█| 2500/2500 [00:19<00:00, 128.75it/"
     ]
    },
    {
     "name": "stdout",
     "output_type": "stream",
     "text": [
      "Training has completed epoch 45\n"
     ]
    },
    {
     "name": "stderr",
     "output_type": "stream",
     "text": [
      "\n",
      "Epoch [45/200] V Loss:0.4147: 100%|█████████████████████████████| 313/313 [00:01<00:00, 286.94it/s]"
     ]
    },
    {
     "name": "stdout",
     "output_type": "stream",
     "text": [
      "Best Validation Loss is now: 0.4147 at Epoch: 45\n"
     ]
    },
    {
     "name": "stderr",
     "output_type": "stream",
     "text": [
      "\n",
      "Epoch [46/200] T Loss:0.4231 LR is 0.0009000000000000001: 100%|█| 2500/2500 [00:20<00:00, 122.52it/"
     ]
    },
    {
     "name": "stdout",
     "output_type": "stream",
     "text": [
      "Training has completed epoch 46\n"
     ]
    },
    {
     "name": "stderr",
     "output_type": "stream",
     "text": [
      "\n",
      "Epoch [46/200] V Loss:0.4145: 100%|█████████████████████████████| 313/313 [00:01<00:00, 275.30it/s]"
     ]
    },
    {
     "name": "stdout",
     "output_type": "stream",
     "text": [
      "Best Validation Loss is now: 0.4145 at Epoch: 46\n"
     ]
    },
    {
     "name": "stderr",
     "output_type": "stream",
     "text": [
      "\n",
      "Epoch [47/200] T Loss:0.4231 LR is 0.0009000000000000001: 100%|█| 2500/2500 [00:19<00:00, 130.73it/"
     ]
    },
    {
     "name": "stdout",
     "output_type": "stream",
     "text": [
      "Training has completed epoch 47\n"
     ]
    },
    {
     "name": "stderr",
     "output_type": "stream",
     "text": [
      "\n",
      "Epoch [47/200] V Loss:0.4149: 100%|█████████████████████████████| 313/313 [00:00<00:00, 321.56it/s]"
     ]
    },
    {
     "name": "stdout",
     "output_type": "stream",
     "text": [
      "This is Epoch: 1 without improvement\n",
      "Current Validation Loss is: 0.4149 at Epoch: 47\n",
      "Best Validation Loss remains: 0.4145 at Epoch: 46\n"
     ]
    },
    {
     "name": "stderr",
     "output_type": "stream",
     "text": [
      "\n",
      "Epoch [48/200] T Loss:0.4230 LR is 0.0009000000000000001: 100%|█| 2500/2500 [00:19<00:00, 131.14it/"
     ]
    },
    {
     "name": "stdout",
     "output_type": "stream",
     "text": [
      "Training has completed epoch 48\n"
     ]
    },
    {
     "name": "stderr",
     "output_type": "stream",
     "text": [
      "\n",
      "Epoch [48/200] V Loss:0.4146: 100%|█████████████████████████████| 313/313 [00:01<00:00, 289.87it/s]"
     ]
    },
    {
     "name": "stdout",
     "output_type": "stream",
     "text": [
      "This is Epoch: 2 without improvement\n",
      "Current Validation Loss is: 0.4146 at Epoch: 48\n",
      "Best Validation Loss remains: 0.4145 at Epoch: 46\n"
     ]
    },
    {
     "name": "stderr",
     "output_type": "stream",
     "text": [
      "\n",
      "Epoch [49/200] T Loss:0.4229 LR is 0.0009000000000000001: 100%|█| 2500/2500 [00:19<00:00, 127.77it/"
     ]
    },
    {
     "name": "stdout",
     "output_type": "stream",
     "text": [
      "Training has completed epoch 49\n"
     ]
    },
    {
     "name": "stderr",
     "output_type": "stream",
     "text": [
      "\n",
      "Epoch [49/200] V Loss:0.4144: 100%|█████████████████████████████| 313/313 [00:01<00:00, 291.47it/s]"
     ]
    },
    {
     "name": "stdout",
     "output_type": "stream",
     "text": [
      "Best Validation Loss is now: 0.4144 at Epoch: 49\n"
     ]
    },
    {
     "name": "stderr",
     "output_type": "stream",
     "text": [
      "\n",
      "Epoch [50/200] T Loss:0.4229 LR is 0.0009000000000000001: 100%|█| 2500/2500 [00:19<00:00, 129.82it/"
     ]
    },
    {
     "name": "stdout",
     "output_type": "stream",
     "text": [
      "Training has completed epoch 50\n"
     ]
    },
    {
     "name": "stderr",
     "output_type": "stream",
     "text": [
      "\n",
      "Epoch [50/200] V Loss:0.4145: 100%|█████████████████████████████| 313/313 [00:01<00:00, 278.98it/s]"
     ]
    },
    {
     "name": "stdout",
     "output_type": "stream",
     "text": [
      "This is Epoch: 1 without improvement\n",
      "Current Validation Loss is: 0.4145 at Epoch: 50\n",
      "Best Validation Loss remains: 0.4144 at Epoch: 49\n"
     ]
    },
    {
     "name": "stderr",
     "output_type": "stream",
     "text": [
      "\n",
      "Epoch [51/200] T Loss:0.4228 LR is 0.0009000000000000001: 100%|█| 2500/2500 [00:18<00:00, 132.15it/"
     ]
    },
    {
     "name": "stdout",
     "output_type": "stream",
     "text": [
      "Training has completed epoch 51\n"
     ]
    },
    {
     "name": "stderr",
     "output_type": "stream",
     "text": [
      "\n",
      "Epoch [51/200] V Loss:0.4151: 100%|█████████████████████████████| 313/313 [00:01<00:00, 292.33it/s]"
     ]
    },
    {
     "name": "stdout",
     "output_type": "stream",
     "text": [
      "This is Epoch: 2 without improvement\n",
      "Current Validation Loss is: 0.4151 at Epoch: 51\n",
      "Best Validation Loss remains: 0.4144 at Epoch: 49\n"
     ]
    },
    {
     "name": "stderr",
     "output_type": "stream",
     "text": [
      "\n",
      "Epoch [52/200] T Loss:0.4227 LR is 0.0009000000000000001: 100%|█| 2500/2500 [00:18<00:00, 134.44it/"
     ]
    },
    {
     "name": "stdout",
     "output_type": "stream",
     "text": [
      "Training has completed epoch 52\n"
     ]
    },
    {
     "name": "stderr",
     "output_type": "stream",
     "text": [
      "\n",
      "Epoch [52/200] V Loss:0.4144: 100%|█████████████████████████████| 313/313 [00:01<00:00, 287.31it/s]"
     ]
    },
    {
     "name": "stdout",
     "output_type": "stream",
     "text": [
      "This is Epoch: 3 without improvement\n",
      "Current Validation Loss is: 0.4144 at Epoch: 52\n",
      "Best Validation Loss remains: 0.4144 at Epoch: 49\n"
     ]
    },
    {
     "name": "stderr",
     "output_type": "stream",
     "text": [
      "\n",
      "Epoch [53/200] T Loss:0.4227 LR is 0.0009000000000000001: 100%|█| 2500/2500 [00:18<00:00, 135.26it/"
     ]
    },
    {
     "name": "stdout",
     "output_type": "stream",
     "text": [
      "Training has completed epoch 53\n"
     ]
    },
    {
     "name": "stderr",
     "output_type": "stream",
     "text": [
      "\n",
      "Epoch [53/200] V Loss:0.4145: 100%|█████████████████████████████| 313/313 [00:01<00:00, 295.31it/s]"
     ]
    },
    {
     "name": "stdout",
     "output_type": "stream",
     "text": [
      "This is Epoch: 4 without improvement\n",
      "Current Validation Loss is: 0.4145 at Epoch: 53\n",
      "Best Validation Loss remains: 0.4144 at Epoch: 49\n"
     ]
    },
    {
     "name": "stderr",
     "output_type": "stream",
     "text": [
      "\n",
      "Epoch [54/200] T Loss:0.4224 LR is 0.0008100000000000001: 100%|█| 2500/2500 [00:18<00:00, 134.17it/"
     ]
    },
    {
     "name": "stdout",
     "output_type": "stream",
     "text": [
      "Training has completed epoch 54\n"
     ]
    },
    {
     "name": "stderr",
     "output_type": "stream",
     "text": [
      "\n",
      "Epoch [54/200] V Loss:0.4138: 100%|█████████████████████████████| 313/313 [00:01<00:00, 291.90it/s]"
     ]
    },
    {
     "name": "stdout",
     "output_type": "stream",
     "text": [
      "Best Validation Loss is now: 0.4138 at Epoch: 54\n"
     ]
    },
    {
     "name": "stderr",
     "output_type": "stream",
     "text": [
      "\n",
      "Epoch [55/200] T Loss:0.4224 LR is 0.0008100000000000001: 100%|█| 2500/2500 [00:18<00:00, 135.61it/"
     ]
    },
    {
     "name": "stdout",
     "output_type": "stream",
     "text": [
      "Training has completed epoch 55\n"
     ]
    },
    {
     "name": "stderr",
     "output_type": "stream",
     "text": [
      "\n",
      "Epoch [55/200] V Loss:0.4138: 100%|█████████████████████████████| 313/313 [00:01<00:00, 294.89it/s]"
     ]
    },
    {
     "name": "stdout",
     "output_type": "stream",
     "text": [
      "This is Epoch: 1 without improvement\n",
      "Current Validation Loss is: 0.4138 at Epoch: 55\n",
      "Best Validation Loss remains: 0.4138 at Epoch: 54\n"
     ]
    },
    {
     "name": "stderr",
     "output_type": "stream",
     "text": [
      "\n",
      "Epoch [56/200] T Loss:0.4223 LR is 0.0008100000000000001: 100%|█| 2500/2500 [00:18<00:00, 135.84it/"
     ]
    },
    {
     "name": "stdout",
     "output_type": "stream",
     "text": [
      "Training has completed epoch 56\n"
     ]
    },
    {
     "name": "stderr",
     "output_type": "stream",
     "text": [
      "\n",
      "Epoch [56/200] V Loss:0.4138: 100%|█████████████████████████████| 313/313 [00:01<00:00, 298.14it/s]"
     ]
    },
    {
     "name": "stdout",
     "output_type": "stream",
     "text": [
      "This is Epoch: 2 without improvement\n",
      "Current Validation Loss is: 0.4138 at Epoch: 56\n",
      "Best Validation Loss remains: 0.4138 at Epoch: 54\n"
     ]
    },
    {
     "name": "stderr",
     "output_type": "stream",
     "text": [
      "\n",
      "Epoch [57/200] T Loss:0.4223 LR is 0.0008100000000000001: 100%|█| 2500/2500 [00:18<00:00, 135.39it/"
     ]
    },
    {
     "name": "stdout",
     "output_type": "stream",
     "text": [
      "Training has completed epoch 57\n"
     ]
    },
    {
     "name": "stderr",
     "output_type": "stream",
     "text": [
      "\n",
      "Epoch [57/200] V Loss:0.4137: 100%|█████████████████████████████| 313/313 [00:01<00:00, 297.02it/s]"
     ]
    },
    {
     "name": "stdout",
     "output_type": "stream",
     "text": [
      "Best Validation Loss is now: 0.4137 at Epoch: 57\n"
     ]
    },
    {
     "name": "stderr",
     "output_type": "stream",
     "text": [
      "\n",
      "Epoch [58/200] T Loss:0.4222 LR is 0.0008100000000000001: 100%|█| 2500/2500 [00:18<00:00, 133.60it/"
     ]
    },
    {
     "name": "stdout",
     "output_type": "stream",
     "text": [
      "Training has completed epoch 58\n"
     ]
    },
    {
     "name": "stderr",
     "output_type": "stream",
     "text": [
      "\n",
      "Epoch [58/200] V Loss:0.4140: 100%|█████████████████████████████| 313/313 [00:01<00:00, 292.30it/s]"
     ]
    },
    {
     "name": "stdout",
     "output_type": "stream",
     "text": [
      "This is Epoch: 1 without improvement\n",
      "Current Validation Loss is: 0.4140 at Epoch: 58\n",
      "Best Validation Loss remains: 0.4137 at Epoch: 57\n"
     ]
    },
    {
     "name": "stderr",
     "output_type": "stream",
     "text": [
      "\n",
      "Epoch [59/200] T Loss:0.4221 LR is 0.0008100000000000001: 100%|█| 2500/2500 [00:18<00:00, 134.35it/"
     ]
    },
    {
     "name": "stdout",
     "output_type": "stream",
     "text": [
      "Training has completed epoch 59\n"
     ]
    },
    {
     "name": "stderr",
     "output_type": "stream",
     "text": [
      "\n",
      "Epoch [59/200] V Loss:0.4139: 100%|█████████████████████████████| 313/313 [00:01<00:00, 294.03it/s]"
     ]
    },
    {
     "name": "stdout",
     "output_type": "stream",
     "text": [
      "This is Epoch: 2 without improvement\n",
      "Current Validation Loss is: 0.4139 at Epoch: 59\n",
      "Best Validation Loss remains: 0.4137 at Epoch: 57\n"
     ]
    },
    {
     "name": "stderr",
     "output_type": "stream",
     "text": [
      "\n",
      "Epoch [60/200] T Loss:0.4221 LR is 0.0008100000000000001: 100%|█| 2500/2500 [00:18<00:00, 136.34it/"
     ]
    },
    {
     "name": "stdout",
     "output_type": "stream",
     "text": [
      "Training has completed epoch 60\n"
     ]
    },
    {
     "name": "stderr",
     "output_type": "stream",
     "text": [
      "\n",
      "Epoch [60/200] V Loss:0.4136: 100%|█████████████████████████████| 313/313 [00:01<00:00, 294.81it/s]"
     ]
    },
    {
     "name": "stdout",
     "output_type": "stream",
     "text": [
      "Best Validation Loss is now: 0.4136 at Epoch: 60\n"
     ]
    },
    {
     "name": "stderr",
     "output_type": "stream",
     "text": [
      "\n",
      "Epoch [61/200] T Loss:0.4220 LR is 0.0008100000000000001: 100%|█| 2500/2500 [00:18<00:00, 136.27it/"
     ]
    },
    {
     "name": "stdout",
     "output_type": "stream",
     "text": [
      "Training has completed epoch 61\n"
     ]
    },
    {
     "name": "stderr",
     "output_type": "stream",
     "text": [
      "\n",
      "Epoch [61/200] V Loss:0.4134: 100%|█████████████████████████████| 313/313 [00:01<00:00, 236.88it/s]"
     ]
    },
    {
     "name": "stdout",
     "output_type": "stream",
     "text": [
      "Best Validation Loss is now: 0.4134 at Epoch: 61\n"
     ]
    },
    {
     "name": "stderr",
     "output_type": "stream",
     "text": [
      "\n",
      "Epoch [62/200] T Loss:0.4220 LR is 0.0008100000000000001: 100%|█| 2500/2500 [00:18<00:00, 134.90it/"
     ]
    },
    {
     "name": "stdout",
     "output_type": "stream",
     "text": [
      "Training has completed epoch 62\n"
     ]
    },
    {
     "name": "stderr",
     "output_type": "stream",
     "text": [
      "\n",
      "Epoch [62/200] V Loss:0.4133: 100%|█████████████████████████████| 313/313 [00:01<00:00, 291.15it/s]"
     ]
    },
    {
     "name": "stdout",
     "output_type": "stream",
     "text": [
      "Best Validation Loss is now: 0.4133 at Epoch: 62\n"
     ]
    },
    {
     "name": "stderr",
     "output_type": "stream",
     "text": [
      "\n",
      "Epoch [63/200] T Loss:0.4219 LR is 0.0008100000000000001: 100%|█| 2500/2500 [00:18<00:00, 135.30it/"
     ]
    },
    {
     "name": "stdout",
     "output_type": "stream",
     "text": [
      "Training has completed epoch 63\n"
     ]
    },
    {
     "name": "stderr",
     "output_type": "stream",
     "text": [
      "\n",
      "Epoch [63/200] V Loss:0.4137: 100%|█████████████████████████████| 313/313 [00:01<00:00, 293.68it/s]"
     ]
    },
    {
     "name": "stdout",
     "output_type": "stream",
     "text": [
      "This is Epoch: 1 without improvement\n",
      "Current Validation Loss is: 0.4137 at Epoch: 63\n",
      "Best Validation Loss remains: 0.4133 at Epoch: 62\n"
     ]
    },
    {
     "name": "stderr",
     "output_type": "stream",
     "text": [
      "\n",
      "Epoch [64/200] T Loss:0.4219 LR is 0.0008100000000000001: 100%|█| 2500/2500 [00:18<00:00, 134.57it/"
     ]
    },
    {
     "name": "stdout",
     "output_type": "stream",
     "text": [
      "Training has completed epoch 64\n"
     ]
    },
    {
     "name": "stderr",
     "output_type": "stream",
     "text": [
      "\n",
      "Epoch [64/200] V Loss:0.4135: 100%|█████████████████████████████| 313/313 [00:01<00:00, 280.85it/s]"
     ]
    },
    {
     "name": "stdout",
     "output_type": "stream",
     "text": [
      "This is Epoch: 2 without improvement\n",
      "Current Validation Loss is: 0.4135 at Epoch: 64\n",
      "Best Validation Loss remains: 0.4133 at Epoch: 62\n"
     ]
    },
    {
     "name": "stderr",
     "output_type": "stream",
     "text": [
      "\n",
      "Epoch [65/200] T Loss:0.4218 LR is 0.0008100000000000001: 100%|█| 2500/2500 [00:18<00:00, 132.92it/"
     ]
    },
    {
     "name": "stdout",
     "output_type": "stream",
     "text": [
      "Training has completed epoch 65\n"
     ]
    },
    {
     "name": "stderr",
     "output_type": "stream",
     "text": [
      "\n",
      "Epoch [65/200] V Loss:0.4136: 100%|█████████████████████████████| 313/313 [00:01<00:00, 284.13it/s]"
     ]
    },
    {
     "name": "stdout",
     "output_type": "stream",
     "text": [
      "This is Epoch: 3 without improvement\n",
      "Current Validation Loss is: 0.4136 at Epoch: 65\n",
      "Best Validation Loss remains: 0.4133 at Epoch: 62\n"
     ]
    },
    {
     "name": "stderr",
     "output_type": "stream",
     "text": [
      "\n",
      "Epoch [66/200] T Loss:0.4218 LR is 0.0008100000000000001: 100%|█| 2500/2500 [00:18<00:00, 134.35it/"
     ]
    },
    {
     "name": "stdout",
     "output_type": "stream",
     "text": [
      "Training has completed epoch 66\n"
     ]
    },
    {
     "name": "stderr",
     "output_type": "stream",
     "text": [
      "\n",
      "Epoch [66/200] V Loss:0.4134: 100%|█████████████████████████████| 313/313 [00:01<00:00, 284.50it/s]"
     ]
    },
    {
     "name": "stdout",
     "output_type": "stream",
     "text": [
      "This is Epoch: 4 without improvement\n",
      "Current Validation Loss is: 0.4134 at Epoch: 66\n",
      "Best Validation Loss remains: 0.4133 at Epoch: 62\n"
     ]
    },
    {
     "name": "stderr",
     "output_type": "stream",
     "text": [
      "\n",
      "Epoch [67/200] T Loss:0.4216 LR is 0.000729: 100%|████████████| 2500/2500 [00:18<00:00, 132.54it/s]"
     ]
    },
    {
     "name": "stdout",
     "output_type": "stream",
     "text": [
      "Training has completed epoch 67\n"
     ]
    },
    {
     "name": "stderr",
     "output_type": "stream",
     "text": [
      "\n",
      "Epoch [67/200] V Loss:0.4138: 100%|█████████████████████████████| 313/313 [00:01<00:00, 291.58it/s]"
     ]
    },
    {
     "name": "stdout",
     "output_type": "stream",
     "text": [
      "This is Epoch: 5 without improvement\n",
      "Current Validation Loss is: 0.4138 at Epoch: 67\n",
      "Best Validation Loss remains: 0.4133 at Epoch: 62\n"
     ]
    },
    {
     "name": "stderr",
     "output_type": "stream",
     "text": [
      "\n",
      "Epoch [68/200] T Loss:0.4215 LR is 0.000729: 100%|████████████| 2500/2500 [00:18<00:00, 133.68it/s]"
     ]
    },
    {
     "name": "stdout",
     "output_type": "stream",
     "text": [
      "Training has completed epoch 68\n"
     ]
    },
    {
     "name": "stderr",
     "output_type": "stream",
     "text": [
      "\n",
      "Epoch [68/200] V Loss:0.4131: 100%|█████████████████████████████| 313/313 [00:01<00:00, 288.26it/s]"
     ]
    },
    {
     "name": "stdout",
     "output_type": "stream",
     "text": [
      "Best Validation Loss is now: 0.4131 at Epoch: 68\n"
     ]
    },
    {
     "name": "stderr",
     "output_type": "stream",
     "text": [
      "\n",
      "Epoch [69/200] T Loss:0.4215 LR is 0.000729: 100%|████████████| 2500/2500 [00:18<00:00, 136.06it/s]"
     ]
    },
    {
     "name": "stdout",
     "output_type": "stream",
     "text": [
      "Training has completed epoch 69\n"
     ]
    },
    {
     "name": "stderr",
     "output_type": "stream",
     "text": [
      "\n",
      "Epoch [69/200] V Loss:0.4136: 100%|█████████████████████████████| 313/313 [00:01<00:00, 298.00it/s]"
     ]
    },
    {
     "name": "stdout",
     "output_type": "stream",
     "text": [
      "This is Epoch: 1 without improvement\n",
      "Current Validation Loss is: 0.4136 at Epoch: 69\n",
      "Best Validation Loss remains: 0.4131 at Epoch: 68\n"
     ]
    },
    {
     "name": "stderr",
     "output_type": "stream",
     "text": [
      "\n",
      "Epoch [70/200] T Loss:0.4214 LR is 0.000729: 100%|████████████| 2500/2500 [00:18<00:00, 135.32it/s]"
     ]
    },
    {
     "name": "stdout",
     "output_type": "stream",
     "text": [
      "Training has completed epoch 70\n"
     ]
    },
    {
     "name": "stderr",
     "output_type": "stream",
     "text": [
      "\n",
      "Epoch [70/200] V Loss:0.4128: 100%|█████████████████████████████| 313/313 [00:01<00:00, 294.18it/s]"
     ]
    },
    {
     "name": "stdout",
     "output_type": "stream",
     "text": [
      "Best Validation Loss is now: 0.4128 at Epoch: 70\n"
     ]
    },
    {
     "name": "stderr",
     "output_type": "stream",
     "text": [
      "\n",
      "Epoch [71/200] T Loss:0.4214 LR is 0.000729: 100%|████████████| 2500/2500 [00:19<00:00, 130.99it/s]"
     ]
    },
    {
     "name": "stdout",
     "output_type": "stream",
     "text": [
      "Training has completed epoch 71\n"
     ]
    },
    {
     "name": "stderr",
     "output_type": "stream",
     "text": [
      "\n",
      "Epoch [71/200] V Loss:0.4127: 100%|█████████████████████████████| 313/313 [00:01<00:00, 288.73it/s]"
     ]
    },
    {
     "name": "stdout",
     "output_type": "stream",
     "text": [
      "Best Validation Loss is now: 0.4127 at Epoch: 71\n"
     ]
    },
    {
     "name": "stderr",
     "output_type": "stream",
     "text": [
      "\n",
      "Epoch [72/200] T Loss:0.4213 LR is 0.000729: 100%|████████████| 2500/2500 [00:18<00:00, 136.55it/s]"
     ]
    },
    {
     "name": "stdout",
     "output_type": "stream",
     "text": [
      "Training has completed epoch 72\n"
     ]
    },
    {
     "name": "stderr",
     "output_type": "stream",
     "text": [
      "\n",
      "Epoch [72/200] V Loss:0.4127: 100%|█████████████████████████████| 313/313 [00:01<00:00, 299.33it/s]"
     ]
    },
    {
     "name": "stdout",
     "output_type": "stream",
     "text": [
      "This is Epoch: 1 without improvement\n",
      "Current Validation Loss is: 0.4127 at Epoch: 72\n",
      "Best Validation Loss remains: 0.4127 at Epoch: 71\n"
     ]
    },
    {
     "name": "stderr",
     "output_type": "stream",
     "text": [
      "\n",
      "Epoch [73/200] T Loss:0.4213 LR is 0.000729: 100%|████████████| 2500/2500 [00:18<00:00, 136.00it/s]"
     ]
    },
    {
     "name": "stdout",
     "output_type": "stream",
     "text": [
      "Training has completed epoch 73\n"
     ]
    },
    {
     "name": "stderr",
     "output_type": "stream",
     "text": [
      "\n",
      "Epoch [73/200] V Loss:0.4134: 100%|█████████████████████████████| 313/313 [00:01<00:00, 294.41it/s]"
     ]
    },
    {
     "name": "stdout",
     "output_type": "stream",
     "text": [
      "This is Epoch: 2 without improvement\n",
      "Current Validation Loss is: 0.4134 at Epoch: 73\n",
      "Best Validation Loss remains: 0.4127 at Epoch: 71\n"
     ]
    },
    {
     "name": "stderr",
     "output_type": "stream",
     "text": [
      "\n",
      "Epoch [74/200] T Loss:0.4212 LR is 0.000729: 100%|████████████| 2500/2500 [00:18<00:00, 135.41it/s]"
     ]
    },
    {
     "name": "stdout",
     "output_type": "stream",
     "text": [
      "Training has completed epoch 74\n"
     ]
    },
    {
     "name": "stderr",
     "output_type": "stream",
     "text": [
      "\n",
      "Epoch [74/200] V Loss:0.4130: 100%|█████████████████████████████| 313/313 [00:01<00:00, 298.18it/s]"
     ]
    },
    {
     "name": "stdout",
     "output_type": "stream",
     "text": [
      "This is Epoch: 3 without improvement\n",
      "Current Validation Loss is: 0.4130 at Epoch: 74\n",
      "Best Validation Loss remains: 0.4127 at Epoch: 71\n"
     ]
    },
    {
     "name": "stderr",
     "output_type": "stream",
     "text": [
      "\n",
      "Epoch [75/200] T Loss:0.4212 LR is 0.000729: 100%|████████████| 2500/2500 [00:19<00:00, 130.26it/s]"
     ]
    },
    {
     "name": "stdout",
     "output_type": "stream",
     "text": [
      "Training has completed epoch 75\n"
     ]
    },
    {
     "name": "stderr",
     "output_type": "stream",
     "text": [
      "\n",
      "Epoch [75/200] V Loss:0.4127: 100%|█████████████████████████████| 313/313 [00:01<00:00, 287.43it/s]"
     ]
    },
    {
     "name": "stdout",
     "output_type": "stream",
     "text": [
      "This is Epoch: 4 without improvement\n",
      "Current Validation Loss is: 0.4127 at Epoch: 75\n",
      "Best Validation Loss remains: 0.4127 at Epoch: 71\n"
     ]
    },
    {
     "name": "stderr",
     "output_type": "stream",
     "text": [
      "\n",
      "Epoch [76/200] T Loss:0.4210 LR is 0.0006561000000000001: 100%|█| 2500/2500 [00:18<00:00, 133.63it/"
     ]
    },
    {
     "name": "stdout",
     "output_type": "stream",
     "text": [
      "Training has completed epoch 76\n"
     ]
    },
    {
     "name": "stderr",
     "output_type": "stream",
     "text": [
      "\n",
      "Epoch [76/200] V Loss:0.4124: 100%|█████████████████████████████| 313/313 [00:01<00:00, 280.85it/s]"
     ]
    },
    {
     "name": "stdout",
     "output_type": "stream",
     "text": [
      "Best Validation Loss is now: 0.4124 at Epoch: 76\n"
     ]
    },
    {
     "name": "stderr",
     "output_type": "stream",
     "text": [
      "\n",
      "Epoch [77/200] T Loss:0.4210 LR is 0.0006561000000000001: 100%|█| 2500/2500 [00:19<00:00, 127.11it/"
     ]
    },
    {
     "name": "stdout",
     "output_type": "stream",
     "text": [
      "Training has completed epoch 77\n"
     ]
    },
    {
     "name": "stderr",
     "output_type": "stream",
     "text": [
      "\n",
      "Epoch [77/200] V Loss:0.4126: 100%|█████████████████████████████| 313/313 [00:01<00:00, 241.75it/s]"
     ]
    },
    {
     "name": "stdout",
     "output_type": "stream",
     "text": [
      "This is Epoch: 1 without improvement\n",
      "Current Validation Loss is: 0.4126 at Epoch: 77\n",
      "Best Validation Loss remains: 0.4124 at Epoch: 76\n"
     ]
    },
    {
     "name": "stderr",
     "output_type": "stream",
     "text": [
      "\n",
      "Epoch [78/200] T Loss:0.4210 LR is 0.0006561000000000001: 100%|█| 2500/2500 [00:19<00:00, 131.35it/"
     ]
    },
    {
     "name": "stdout",
     "output_type": "stream",
     "text": [
      "Training has completed epoch 78\n"
     ]
    },
    {
     "name": "stderr",
     "output_type": "stream",
     "text": [
      "\n",
      "Epoch [78/200] V Loss:0.4128: 100%|█████████████████████████████| 313/313 [00:01<00:00, 285.07it/s]"
     ]
    },
    {
     "name": "stdout",
     "output_type": "stream",
     "text": [
      "This is Epoch: 2 without improvement\n",
      "Current Validation Loss is: 0.4128 at Epoch: 78\n",
      "Best Validation Loss remains: 0.4124 at Epoch: 76\n"
     ]
    },
    {
     "name": "stderr",
     "output_type": "stream",
     "text": [
      "\n",
      "Epoch [79/200] T Loss:0.4209 LR is 0.0006561000000000001: 100%|█| 2500/2500 [00:19<00:00, 130.56it/"
     ]
    },
    {
     "name": "stdout",
     "output_type": "stream",
     "text": [
      "Training has completed epoch 79\n"
     ]
    },
    {
     "name": "stderr",
     "output_type": "stream",
     "text": [
      "\n",
      "Epoch [79/200] V Loss:0.4124: 100%|█████████████████████████████| 313/313 [00:01<00:00, 268.96it/s]"
     ]
    },
    {
     "name": "stdout",
     "output_type": "stream",
     "text": [
      "This is Epoch: 3 without improvement\n",
      "Current Validation Loss is: 0.4124 at Epoch: 79\n",
      "Best Validation Loss remains: 0.4124 at Epoch: 76\n"
     ]
    },
    {
     "name": "stderr",
     "output_type": "stream",
     "text": [
      "\n",
      "Epoch [80/200] T Loss:0.4209 LR is 0.0006561000000000001: 100%|█| 2500/2500 [00:19<00:00, 129.51it/"
     ]
    },
    {
     "name": "stdout",
     "output_type": "stream",
     "text": [
      "Training has completed epoch 80\n"
     ]
    },
    {
     "name": "stderr",
     "output_type": "stream",
     "text": [
      "\n",
      "Epoch [80/200] V Loss:0.4125: 100%|█████████████████████████████| 313/313 [00:01<00:00, 280.65it/s]"
     ]
    },
    {
     "name": "stdout",
     "output_type": "stream",
     "text": [
      "This is Epoch: 4 without improvement\n",
      "Current Validation Loss is: 0.4125 at Epoch: 80\n",
      "Best Validation Loss remains: 0.4124 at Epoch: 76\n"
     ]
    },
    {
     "name": "stderr",
     "output_type": "stream",
     "text": [
      "\n",
      "Epoch [81/200] T Loss:0.4207 LR is 0.00059049: 100%|██████████| 2500/2500 [00:18<00:00, 134.95it/s]"
     ]
    },
    {
     "name": "stdout",
     "output_type": "stream",
     "text": [
      "Training has completed epoch 81\n"
     ]
    },
    {
     "name": "stderr",
     "output_type": "stream",
     "text": [
      "\n",
      "Epoch [81/200] V Loss:0.4121: 100%|█████████████████████████████| 313/313 [00:01<00:00, 293.15it/s]"
     ]
    },
    {
     "name": "stdout",
     "output_type": "stream",
     "text": [
      "Best Validation Loss is now: 0.4121 at Epoch: 81\n"
     ]
    },
    {
     "name": "stderr",
     "output_type": "stream",
     "text": [
      "\n",
      "Epoch [82/200] T Loss:0.4207 LR is 0.00059049: 100%|██████████| 2500/2500 [00:18<00:00, 134.86it/s]"
     ]
    },
    {
     "name": "stdout",
     "output_type": "stream",
     "text": [
      "Training has completed epoch 82\n"
     ]
    },
    {
     "name": "stderr",
     "output_type": "stream",
     "text": [
      "\n",
      "Epoch [82/200] V Loss:0.4124: 100%|█████████████████████████████| 313/313 [00:01<00:00, 275.88it/s]"
     ]
    },
    {
     "name": "stdout",
     "output_type": "stream",
     "text": [
      "This is Epoch: 1 without improvement\n",
      "Current Validation Loss is: 0.4124 at Epoch: 82\n",
      "Best Validation Loss remains: 0.4121 at Epoch: 81\n"
     ]
    },
    {
     "name": "stderr",
     "output_type": "stream",
     "text": [
      "\n",
      "Epoch [83/200] T Loss:0.4207 LR is 0.00059049: 100%|██████████| 2500/2500 [00:19<00:00, 130.41it/s]"
     ]
    },
    {
     "name": "stdout",
     "output_type": "stream",
     "text": [
      "Training has completed epoch 83\n"
     ]
    },
    {
     "name": "stderr",
     "output_type": "stream",
     "text": [
      "\n",
      "Epoch [83/200] V Loss:0.4123: 100%|█████████████████████████████| 313/313 [00:01<00:00, 292.17it/s]"
     ]
    },
    {
     "name": "stdout",
     "output_type": "stream",
     "text": [
      "This is Epoch: 2 without improvement\n",
      "Current Validation Loss is: 0.4123 at Epoch: 83\n",
      "Best Validation Loss remains: 0.4121 at Epoch: 81\n"
     ]
    },
    {
     "name": "stderr",
     "output_type": "stream",
     "text": [
      "\n",
      "Epoch [84/200] T Loss:0.4206 LR is 0.00059049: 100%|██████████| 2500/2500 [00:18<00:00, 135.35it/s]"
     ]
    },
    {
     "name": "stdout",
     "output_type": "stream",
     "text": [
      "Training has completed epoch 84\n"
     ]
    },
    {
     "name": "stderr",
     "output_type": "stream",
     "text": [
      "\n",
      "Epoch [84/200] V Loss:0.4122: 100%|█████████████████████████████| 313/313 [00:01<00:00, 293.33it/s]"
     ]
    },
    {
     "name": "stdout",
     "output_type": "stream",
     "text": [
      "This is Epoch: 3 without improvement\n",
      "Current Validation Loss is: 0.4122 at Epoch: 84\n",
      "Best Validation Loss remains: 0.4121 at Epoch: 81\n"
     ]
    },
    {
     "name": "stderr",
     "output_type": "stream",
     "text": [
      "\n",
      "Epoch [85/200] T Loss:0.4206 LR is 0.00059049: 100%|██████████| 2500/2500 [00:20<00:00, 121.31it/s]"
     ]
    },
    {
     "name": "stdout",
     "output_type": "stream",
     "text": [
      "Training has completed epoch 85\n"
     ]
    },
    {
     "name": "stderr",
     "output_type": "stream",
     "text": [
      "\n",
      "Epoch [85/200] V Loss:0.4121: 100%|█████████████████████████████| 313/313 [00:01<00:00, 242.25it/s]"
     ]
    },
    {
     "name": "stdout",
     "output_type": "stream",
     "text": [
      "Best Validation Loss is now: 0.4121 at Epoch: 85\n"
     ]
    },
    {
     "name": "stderr",
     "output_type": "stream",
     "text": [
      "\n",
      "Epoch [86/200] T Loss:0.4204 LR is 0.000531441: 100%|█████████| 2500/2500 [00:21<00:00, 114.84it/s]"
     ]
    },
    {
     "name": "stdout",
     "output_type": "stream",
     "text": [
      "Training has completed epoch 86\n"
     ]
    },
    {
     "name": "stderr",
     "output_type": "stream",
     "text": [
      "\n",
      "Epoch [86/200] V Loss:0.4122: 100%|█████████████████████████████| 313/313 [00:01<00:00, 273.94it/s]"
     ]
    },
    {
     "name": "stdout",
     "output_type": "stream",
     "text": [
      "This is Epoch: 1 without improvement\n",
      "Current Validation Loss is: 0.4122 at Epoch: 86\n",
      "Best Validation Loss remains: 0.4121 at Epoch: 85\n"
     ]
    },
    {
     "name": "stderr",
     "output_type": "stream",
     "text": [
      "\n",
      "Epoch [87/200] T Loss:0.4204 LR is 0.000531441: 100%|█████████| 2500/2500 [00:20<00:00, 123.27it/s]"
     ]
    },
    {
     "name": "stdout",
     "output_type": "stream",
     "text": [
      "Training has completed epoch 87\n"
     ]
    },
    {
     "name": "stderr",
     "output_type": "stream",
     "text": [
      "\n",
      "Epoch [87/200] V Loss:0.4121: 100%|█████████████████████████████| 313/313 [00:01<00:00, 288.76it/s]"
     ]
    },
    {
     "name": "stdout",
     "output_type": "stream",
     "text": [
      "Best Validation Loss is now: 0.4121 at Epoch: 87\n"
     ]
    },
    {
     "name": "stderr",
     "output_type": "stream",
     "text": [
      "\n",
      "Epoch [88/200] T Loss:0.4204 LR is 0.000531441: 100%|█████████| 2500/2500 [00:19<00:00, 126.43it/s]"
     ]
    },
    {
     "name": "stdout",
     "output_type": "stream",
     "text": [
      "Training has completed epoch 88\n"
     ]
    },
    {
     "name": "stderr",
     "output_type": "stream",
     "text": [
      "\n",
      "Epoch [88/200] V Loss:0.4128: 100%|█████████████████████████████| 313/313 [00:01<00:00, 285.52it/s]"
     ]
    },
    {
     "name": "stdout",
     "output_type": "stream",
     "text": [
      "This is Epoch: 1 without improvement\n",
      "Current Validation Loss is: 0.4128 at Epoch: 88\n",
      "Best Validation Loss remains: 0.4121 at Epoch: 87\n"
     ]
    },
    {
     "name": "stderr",
     "output_type": "stream",
     "text": [
      "\n",
      "Epoch [89/200] T Loss:0.4204 LR is 0.000531441: 100%|█████████| 2500/2500 [00:18<00:00, 135.42it/s]"
     ]
    },
    {
     "name": "stdout",
     "output_type": "stream",
     "text": [
      "Training has completed epoch 89\n"
     ]
    },
    {
     "name": "stderr",
     "output_type": "stream",
     "text": [
      "\n",
      "Epoch [89/200] V Loss:0.4122: 100%|█████████████████████████████| 313/313 [00:01<00:00, 301.38it/s]"
     ]
    },
    {
     "name": "stdout",
     "output_type": "stream",
     "text": [
      "This is Epoch: 2 without improvement\n",
      "Current Validation Loss is: 0.4122 at Epoch: 89\n",
      "Best Validation Loss remains: 0.4121 at Epoch: 87\n"
     ]
    },
    {
     "name": "stderr",
     "output_type": "stream",
     "text": [
      "\n",
      "Epoch [90/200] T Loss:0.4202 LR is 0.0004782969: 100%|████████| 2500/2500 [00:18<00:00, 134.21it/s]"
     ]
    },
    {
     "name": "stdout",
     "output_type": "stream",
     "text": [
      "Training has completed epoch 90\n"
     ]
    },
    {
     "name": "stderr",
     "output_type": "stream",
     "text": [
      "\n",
      "Epoch [90/200] V Loss:0.4120: 100%|█████████████████████████████| 313/313 [00:01<00:00, 298.47it/s]"
     ]
    },
    {
     "name": "stdout",
     "output_type": "stream",
     "text": [
      "Best Validation Loss is now: 0.4120 at Epoch: 90\n"
     ]
    },
    {
     "name": "stderr",
     "output_type": "stream",
     "text": [
      "\n",
      "Epoch [91/200] T Loss:0.4202 LR is 0.0004782969: 100%|████████| 2500/2500 [00:19<00:00, 129.98it/s]"
     ]
    },
    {
     "name": "stdout",
     "output_type": "stream",
     "text": [
      "Training has completed epoch 91\n"
     ]
    },
    {
     "name": "stderr",
     "output_type": "stream",
     "text": [
      "\n",
      "Epoch [91/200] V Loss:0.4116: 100%|█████████████████████████████| 313/313 [00:01<00:00, 302.39it/s]"
     ]
    },
    {
     "name": "stdout",
     "output_type": "stream",
     "text": [
      "Best Validation Loss is now: 0.4116 at Epoch: 91\n"
     ]
    },
    {
     "name": "stderr",
     "output_type": "stream",
     "text": [
      "\n",
      "Epoch [92/200] T Loss:0.4202 LR is 0.0004782969: 100%|████████| 2500/2500 [00:22<00:00, 113.62it/s]"
     ]
    },
    {
     "name": "stdout",
     "output_type": "stream",
     "text": [
      "Training has completed epoch 92\n"
     ]
    },
    {
     "name": "stderr",
     "output_type": "stream",
     "text": [
      "\n",
      "Epoch [92/200] V Loss:0.4115: 100%|█████████████████████████████| 313/313 [00:01<00:00, 266.11it/s]"
     ]
    },
    {
     "name": "stdout",
     "output_type": "stream",
     "text": [
      "Best Validation Loss is now: 0.4115 at Epoch: 92\n"
     ]
    },
    {
     "name": "stderr",
     "output_type": "stream",
     "text": [
      "\n",
      "Epoch [93/200] T Loss:0.4201 LR is 0.0004782969: 100%|████████| 2500/2500 [00:18<00:00, 135.07it/s]"
     ]
    },
    {
     "name": "stdout",
     "output_type": "stream",
     "text": [
      "Training has completed epoch 93\n"
     ]
    },
    {
     "name": "stderr",
     "output_type": "stream",
     "text": [
      "\n",
      "Epoch [93/200] V Loss:0.4117: 100%|█████████████████████████████| 313/313 [00:01<00:00, 298.86it/s]"
     ]
    },
    {
     "name": "stdout",
     "output_type": "stream",
     "text": [
      "This is Epoch: 1 without improvement\n",
      "Current Validation Loss is: 0.4117 at Epoch: 93\n",
      "Best Validation Loss remains: 0.4115 at Epoch: 92\n"
     ]
    },
    {
     "name": "stderr",
     "output_type": "stream",
     "text": [
      "\n",
      "Epoch [94/200] T Loss:0.4201 LR is 0.0004782969: 100%|████████| 2500/2500 [00:19<00:00, 130.66it/s]"
     ]
    },
    {
     "name": "stdout",
     "output_type": "stream",
     "text": [
      "Training has completed epoch 94\n"
     ]
    },
    {
     "name": "stderr",
     "output_type": "stream",
     "text": [
      "\n",
      "Epoch [94/200] V Loss:0.4120: 100%|█████████████████████████████| 313/313 [00:01<00:00, 254.58it/s]"
     ]
    },
    {
     "name": "stdout",
     "output_type": "stream",
     "text": [
      "This is Epoch: 2 without improvement\n",
      "Current Validation Loss is: 0.4120 at Epoch: 94\n",
      "Best Validation Loss remains: 0.4115 at Epoch: 92\n"
     ]
    },
    {
     "name": "stderr",
     "output_type": "stream",
     "text": [
      "\n",
      "Epoch [95/200] T Loss:0.4201 LR is 0.0004782969: 100%|████████| 2500/2500 [00:19<00:00, 125.29it/s]"
     ]
    },
    {
     "name": "stdout",
     "output_type": "stream",
     "text": [
      "Training has completed epoch 95\n"
     ]
    },
    {
     "name": "stderr",
     "output_type": "stream",
     "text": [
      "\n",
      "Epoch [95/200] V Loss:0.4115: 100%|█████████████████████████████| 313/313 [00:01<00:00, 276.76it/s]"
     ]
    },
    {
     "name": "stdout",
     "output_type": "stream",
     "text": [
      "Best Validation Loss is now: 0.4115 at Epoch: 95\n"
     ]
    },
    {
     "name": "stderr",
     "output_type": "stream",
     "text": [
      "\n",
      "Epoch [96/200] T Loss:0.4200 LR is 0.0004782969: 100%|████████| 2500/2500 [00:19<00:00, 130.84it/s]"
     ]
    },
    {
     "name": "stdout",
     "output_type": "stream",
     "text": [
      "Training has completed epoch 96\n"
     ]
    },
    {
     "name": "stderr",
     "output_type": "stream",
     "text": [
      "\n",
      "Epoch [96/200] V Loss:0.4119: 100%|█████████████████████████████| 313/313 [00:01<00:00, 227.80it/s]"
     ]
    },
    {
     "name": "stdout",
     "output_type": "stream",
     "text": [
      "This is Epoch: 1 without improvement\n",
      "Current Validation Loss is: 0.4119 at Epoch: 96\n",
      "Best Validation Loss remains: 0.4115 at Epoch: 95\n"
     ]
    },
    {
     "name": "stderr",
     "output_type": "stream",
     "text": [
      "\n",
      "Epoch [97/200] T Loss:0.4199 LR is 0.00043046721: 100%|███████| 2500/2500 [00:20<00:00, 121.05it/s]"
     ]
    },
    {
     "name": "stdout",
     "output_type": "stream",
     "text": [
      "Training has completed epoch 97\n"
     ]
    },
    {
     "name": "stderr",
     "output_type": "stream",
     "text": [
      "\n",
      "Epoch [97/200] V Loss:0.4115: 100%|█████████████████████████████| 313/313 [00:01<00:00, 241.22it/s]"
     ]
    },
    {
     "name": "stdout",
     "output_type": "stream",
     "text": [
      "Best Validation Loss is now: 0.4115 at Epoch: 97\n"
     ]
    },
    {
     "name": "stderr",
     "output_type": "stream",
     "text": [
      "\n",
      "Epoch [98/200] T Loss:0.4198 LR is 0.00043046721: 100%|███████| 2500/2500 [00:20<00:00, 123.16it/s]"
     ]
    },
    {
     "name": "stdout",
     "output_type": "stream",
     "text": [
      "Training has completed epoch 98\n"
     ]
    },
    {
     "name": "stderr",
     "output_type": "stream",
     "text": [
      "\n",
      "Epoch [98/200] V Loss:0.4116: 100%|█████████████████████████████| 313/313 [00:01<00:00, 244.07it/s]"
     ]
    },
    {
     "name": "stdout",
     "output_type": "stream",
     "text": [
      "This is Epoch: 1 without improvement\n",
      "Current Validation Loss is: 0.4116 at Epoch: 98\n",
      "Best Validation Loss remains: 0.4115 at Epoch: 97\n"
     ]
    },
    {
     "name": "stderr",
     "output_type": "stream",
     "text": [
      "\n",
      "Epoch [99/200] T Loss:0.4199 LR is 0.00043046721: 100%|███████| 2500/2500 [00:19<00:00, 128.22it/s]"
     ]
    },
    {
     "name": "stdout",
     "output_type": "stream",
     "text": [
      "Training has completed epoch 99\n"
     ]
    },
    {
     "name": "stderr",
     "output_type": "stream",
     "text": [
      "\n",
      "Epoch [99/200] V Loss:0.4113: 100%|█████████████████████████████| 313/313 [00:01<00:00, 289.80it/s]"
     ]
    },
    {
     "name": "stdout",
     "output_type": "stream",
     "text": [
      "Best Validation Loss is now: 0.4113 at Epoch: 99\n"
     ]
    },
    {
     "name": "stderr",
     "output_type": "stream",
     "text": [
      "\n",
      "Epoch [100/200] T Loss:0.4198 LR is 0.00043046721: 100%|██████| 2500/2500 [00:18<00:00, 135.14it/s]"
     ]
    },
    {
     "name": "stdout",
     "output_type": "stream",
     "text": [
      "Training has completed epoch 100\n"
     ]
    },
    {
     "name": "stderr",
     "output_type": "stream",
     "text": [
      "\n",
      "Epoch [100/200] V Loss:0.4113: 100%|████████████████████████████| 313/313 [00:01<00:00, 295.30it/s]"
     ]
    },
    {
     "name": "stdout",
     "output_type": "stream",
     "text": [
      "Best Validation Loss is now: 0.4113 at Epoch: 100\n"
     ]
    },
    {
     "name": "stderr",
     "output_type": "stream",
     "text": [
      "\n",
      "Epoch [101/200] T Loss:0.4198 LR is 0.00043046721: 100%|██████| 2500/2500 [00:18<00:00, 133.42it/s]"
     ]
    },
    {
     "name": "stdout",
     "output_type": "stream",
     "text": [
      "Training has completed epoch 101\n"
     ]
    },
    {
     "name": "stderr",
     "output_type": "stream",
     "text": [
      "\n",
      "Epoch [101/200] V Loss:0.4118: 100%|████████████████████████████| 313/313 [00:01<00:00, 297.74it/s]"
     ]
    },
    {
     "name": "stdout",
     "output_type": "stream",
     "text": [
      "This is Epoch: 1 without improvement\n",
      "Current Validation Loss is: 0.4118 at Epoch: 101\n",
      "Best Validation Loss remains: 0.4113 at Epoch: 100\n"
     ]
    },
    {
     "name": "stderr",
     "output_type": "stream",
     "text": [
      "\n",
      "Epoch [102/200] T Loss:0.4198 LR is 0.00043046721: 100%|██████| 2500/2500 [00:18<00:00, 134.52it/s]"
     ]
    },
    {
     "name": "stdout",
     "output_type": "stream",
     "text": [
      "Training has completed epoch 102\n"
     ]
    },
    {
     "name": "stderr",
     "output_type": "stream",
     "text": [
      "\n",
      "Epoch [102/200] V Loss:0.4110: 100%|████████████████████████████| 313/313 [00:01<00:00, 294.45it/s]"
     ]
    },
    {
     "name": "stdout",
     "output_type": "stream",
     "text": [
      "Best Validation Loss is now: 0.4110 at Epoch: 102\n"
     ]
    },
    {
     "name": "stderr",
     "output_type": "stream",
     "text": [
      "\n",
      "Epoch [103/200] T Loss:0.4198 LR is 0.00043046721: 100%|██████| 2500/2500 [00:19<00:00, 131.37it/s]"
     ]
    },
    {
     "name": "stdout",
     "output_type": "stream",
     "text": [
      "Training has completed epoch 103\n"
     ]
    },
    {
     "name": "stderr",
     "output_type": "stream",
     "text": [
      "\n",
      "Epoch [103/200] V Loss:0.4113: 100%|████████████████████████████| 313/313 [00:01<00:00, 250.52it/s]"
     ]
    },
    {
     "name": "stdout",
     "output_type": "stream",
     "text": [
      "This is Epoch: 1 without improvement\n",
      "Current Validation Loss is: 0.4113 at Epoch: 103\n",
      "Best Validation Loss remains: 0.4110 at Epoch: 102\n"
     ]
    },
    {
     "name": "stderr",
     "output_type": "stream",
     "text": [
      "\n",
      "Epoch [104/200] T Loss:0.4197 LR is 0.00043046721: 100%|██████| 2500/2500 [00:18<00:00, 135.89it/s]"
     ]
    },
    {
     "name": "stdout",
     "output_type": "stream",
     "text": [
      "Training has completed epoch 104\n"
     ]
    },
    {
     "name": "stderr",
     "output_type": "stream",
     "text": [
      "\n",
      "Epoch [104/200] V Loss:0.4115: 100%|████████████████████████████| 313/313 [00:01<00:00, 299.46it/s]"
     ]
    },
    {
     "name": "stdout",
     "output_type": "stream",
     "text": [
      "This is Epoch: 2 without improvement\n",
      "Current Validation Loss is: 0.4115 at Epoch: 104\n",
      "Best Validation Loss remains: 0.4110 at Epoch: 102\n"
     ]
    },
    {
     "name": "stderr",
     "output_type": "stream",
     "text": [
      "\n",
      "Epoch [105/200] T Loss:0.4197 LR is 0.00043046721: 100%|██████| 2500/2500 [00:18<00:00, 134.78it/s]"
     ]
    },
    {
     "name": "stdout",
     "output_type": "stream",
     "text": [
      "Training has completed epoch 105\n"
     ]
    },
    {
     "name": "stderr",
     "output_type": "stream",
     "text": [
      "\n",
      "Epoch [105/200] V Loss:0.4115: 100%|████████████████████████████| 313/313 [00:01<00:00, 297.12it/s]"
     ]
    },
    {
     "name": "stdout",
     "output_type": "stream",
     "text": [
      "This is Epoch: 3 without improvement\n",
      "Current Validation Loss is: 0.4115 at Epoch: 105\n",
      "Best Validation Loss remains: 0.4110 at Epoch: 102\n"
     ]
    },
    {
     "name": "stderr",
     "output_type": "stream",
     "text": [
      "\n",
      "Epoch [106/200] T Loss:0.4197 LR is 0.00043046721: 100%|██████| 2500/2500 [00:19<00:00, 127.46it/s]"
     ]
    },
    {
     "name": "stdout",
     "output_type": "stream",
     "text": [
      "Training has completed epoch 106\n"
     ]
    },
    {
     "name": "stderr",
     "output_type": "stream",
     "text": [
      "\n",
      "Epoch [106/200] V Loss:0.4116: 100%|████████████████████████████| 313/313 [00:01<00:00, 266.35it/s]"
     ]
    },
    {
     "name": "stdout",
     "output_type": "stream",
     "text": [
      "This is Epoch: 4 without improvement\n",
      "Current Validation Loss is: 0.4116 at Epoch: 106\n",
      "Best Validation Loss remains: 0.4110 at Epoch: 102\n"
     ]
    },
    {
     "name": "stderr",
     "output_type": "stream",
     "text": [
      "\n",
      "Epoch [107/200] T Loss:0.4196 LR is 0.000387420489: 100%|█████| 2500/2500 [00:18<00:00, 131.88it/s]"
     ]
    },
    {
     "name": "stdout",
     "output_type": "stream",
     "text": [
      "Training has completed epoch 107\n"
     ]
    },
    {
     "name": "stderr",
     "output_type": "stream",
     "text": [
      "\n",
      "Epoch [107/200] V Loss:0.4111: 100%|████████████████████████████| 313/313 [00:01<00:00, 288.53it/s]"
     ]
    },
    {
     "name": "stdout",
     "output_type": "stream",
     "text": [
      "This is Epoch: 5 without improvement\n",
      "Current Validation Loss is: 0.4111 at Epoch: 107\n",
      "Best Validation Loss remains: 0.4110 at Epoch: 102\n"
     ]
    },
    {
     "name": "stderr",
     "output_type": "stream",
     "text": [
      "\n",
      "Epoch [108/200] T Loss:0.4195 LR is 0.000387420489: 100%|█████| 2500/2500 [00:18<00:00, 133.36it/s]"
     ]
    },
    {
     "name": "stdout",
     "output_type": "stream",
     "text": [
      "Training has completed epoch 108\n"
     ]
    },
    {
     "name": "stderr",
     "output_type": "stream",
     "text": [
      "\n",
      "Epoch [108/200] V Loss:0.4111: 100%|████████████████████████████| 313/313 [00:01<00:00, 285.84it/s]"
     ]
    },
    {
     "name": "stdout",
     "output_type": "stream",
     "text": [
      "This is Epoch: 6 without improvement\n",
      "Current Validation Loss is: 0.4111 at Epoch: 108\n",
      "Best Validation Loss remains: 0.4110 at Epoch: 102\n"
     ]
    },
    {
     "name": "stderr",
     "output_type": "stream",
     "text": [
      "\n",
      "Epoch [109/200] T Loss:0.4195 LR is 0.000387420489: 100%|█████| 2500/2500 [00:18<00:00, 133.34it/s]"
     ]
    },
    {
     "name": "stdout",
     "output_type": "stream",
     "text": [
      "Training has completed epoch 109\n"
     ]
    },
    {
     "name": "stderr",
     "output_type": "stream",
     "text": [
      "\n",
      "Epoch [109/200] V Loss:0.4111: 100%|████████████████████████████| 313/313 [00:01<00:00, 292.46it/s]"
     ]
    },
    {
     "name": "stdout",
     "output_type": "stream",
     "text": [
      "This is Epoch: 7 without improvement\n",
      "Current Validation Loss is: 0.4111 at Epoch: 109\n",
      "Best Validation Loss remains: 0.4110 at Epoch: 102\n"
     ]
    },
    {
     "name": "stderr",
     "output_type": "stream",
     "text": [
      "\n",
      "Epoch [110/200] T Loss:0.4195 LR is 0.000387420489: 100%|█████| 2500/2500 [00:19<00:00, 129.89it/s]"
     ]
    },
    {
     "name": "stdout",
     "output_type": "stream",
     "text": [
      "Training has completed epoch 110\n"
     ]
    },
    {
     "name": "stderr",
     "output_type": "stream",
     "text": [
      "\n",
      "Epoch [110/200] V Loss:0.4112: 100%|████████████████████████████| 313/313 [00:01<00:00, 296.97it/s]"
     ]
    },
    {
     "name": "stdout",
     "output_type": "stream",
     "text": [
      "This is Epoch: 8 without improvement\n",
      "Current Validation Loss is: 0.4112 at Epoch: 110\n",
      "Best Validation Loss remains: 0.4110 at Epoch: 102\n"
     ]
    },
    {
     "name": "stderr",
     "output_type": "stream",
     "text": [
      "\n",
      "Epoch [111/200] T Loss:0.4194 LR is 0.0003486784401: 100%|████| 2500/2500 [00:18<00:00, 132.35it/s]"
     ]
    },
    {
     "name": "stdout",
     "output_type": "stream",
     "text": [
      "Training has completed epoch 111\n"
     ]
    },
    {
     "name": "stderr",
     "output_type": "stream",
     "text": [
      "\n",
      "Epoch [111/200] V Loss:0.4111: 100%|████████████████████████████| 313/313 [00:01<00:00, 237.10it/s]"
     ]
    },
    {
     "name": "stdout",
     "output_type": "stream",
     "text": [
      "This is Epoch: 9 without improvement\n",
      "Current Validation Loss is: 0.4111 at Epoch: 111\n",
      "Best Validation Loss remains: 0.4110 at Epoch: 102\n"
     ]
    },
    {
     "name": "stderr",
     "output_type": "stream",
     "text": [
      "\n",
      "Epoch [112/200] T Loss:0.4194 LR is 0.0003486784401: 100%|████| 2500/2500 [00:20<00:00, 122.19it/s]"
     ]
    },
    {
     "name": "stdout",
     "output_type": "stream",
     "text": [
      "Training has completed epoch 112\n"
     ]
    },
    {
     "name": "stderr",
     "output_type": "stream",
     "text": [
      "\n",
      "Epoch [112/200] V Loss:0.4114: 100%|████████████████████████████| 313/313 [00:01<00:00, 276.90it/s]"
     ]
    },
    {
     "name": "stdout",
     "output_type": "stream",
     "text": [
      "This is Epoch: 10 without improvement\n",
      "Current Validation Loss is: 0.4114 at Epoch: 112\n",
      "Best Validation Loss remains: 0.4110 at Epoch: 102\n"
     ]
    },
    {
     "name": "stderr",
     "output_type": "stream",
     "text": [
      "\n",
      "Epoch [113/200] T Loss:0.4194 LR is 0.0003486784401: 100%|████| 2500/2500 [00:18<00:00, 135.85it/s]"
     ]
    },
    {
     "name": "stdout",
     "output_type": "stream",
     "text": [
      "Training has completed epoch 113\n"
     ]
    },
    {
     "name": "stderr",
     "output_type": "stream",
     "text": [
      "\n",
      "Epoch [113/200] V Loss:0.4109: 100%|████████████████████████████| 313/313 [00:01<00:00, 249.50it/s]"
     ]
    },
    {
     "name": "stdout",
     "output_type": "stream",
     "text": [
      "Best Validation Loss is now: 0.4109 at Epoch: 113\n"
     ]
    },
    {
     "name": "stderr",
     "output_type": "stream",
     "text": [
      "\n",
      "Epoch [114/200] T Loss:0.4194 LR is 0.0003486784401: 100%|████| 2500/2500 [00:18<00:00, 135.35it/s]"
     ]
    },
    {
     "name": "stdout",
     "output_type": "stream",
     "text": [
      "Training has completed epoch 114\n"
     ]
    },
    {
     "name": "stderr",
     "output_type": "stream",
     "text": [
      "\n",
      "Epoch [114/200] V Loss:0.4111: 100%|████████████████████████████| 313/313 [00:01<00:00, 300.22it/s]"
     ]
    },
    {
     "name": "stdout",
     "output_type": "stream",
     "text": [
      "This is Epoch: 1 without improvement\n",
      "Current Validation Loss is: 0.4111 at Epoch: 114\n",
      "Best Validation Loss remains: 0.4109 at Epoch: 113\n"
     ]
    },
    {
     "name": "stderr",
     "output_type": "stream",
     "text": [
      "\n",
      "Epoch [115/200] T Loss:0.4193 LR is 0.0003486784401: 100%|████| 2500/2500 [00:19<00:00, 131.55it/s]"
     ]
    },
    {
     "name": "stdout",
     "output_type": "stream",
     "text": [
      "Training has completed epoch 115\n"
     ]
    },
    {
     "name": "stderr",
     "output_type": "stream",
     "text": [
      "\n",
      "Epoch [115/200] V Loss:0.4108: 100%|████████████████████████████| 313/313 [00:01<00:00, 279.04it/s]"
     ]
    },
    {
     "name": "stdout",
     "output_type": "stream",
     "text": [
      "Best Validation Loss is now: 0.4108 at Epoch: 115\n"
     ]
    },
    {
     "name": "stderr",
     "output_type": "stream",
     "text": [
      "\n",
      "Epoch [116/200] T Loss:0.4193 LR is 0.0003486784401: 100%|████| 2500/2500 [00:18<00:00, 135.61it/s]"
     ]
    },
    {
     "name": "stdout",
     "output_type": "stream",
     "text": [
      "Training has completed epoch 116\n"
     ]
    },
    {
     "name": "stderr",
     "output_type": "stream",
     "text": [
      "\n",
      "Epoch [116/200] V Loss:0.4112: 100%|████████████████████████████| 313/313 [00:01<00:00, 296.74it/s]"
     ]
    },
    {
     "name": "stdout",
     "output_type": "stream",
     "text": [
      "This is Epoch: 1 without improvement\n",
      "Current Validation Loss is: 0.4112 at Epoch: 116\n",
      "Best Validation Loss remains: 0.4108 at Epoch: 115\n"
     ]
    },
    {
     "name": "stderr",
     "output_type": "stream",
     "text": [
      "\n",
      "Epoch [117/200] T Loss:0.4193 LR is 0.0003486784401: 100%|████| 2500/2500 [00:18<00:00, 136.16it/s]"
     ]
    },
    {
     "name": "stdout",
     "output_type": "stream",
     "text": [
      "Training has completed epoch 117\n"
     ]
    },
    {
     "name": "stderr",
     "output_type": "stream",
     "text": [
      "\n",
      "Epoch [117/200] V Loss:0.4112: 100%|████████████████████████████| 313/313 [00:01<00:00, 296.04it/s]"
     ]
    },
    {
     "name": "stdout",
     "output_type": "stream",
     "text": [
      "This is Epoch: 2 without improvement\n",
      "Current Validation Loss is: 0.4112 at Epoch: 117\n",
      "Best Validation Loss remains: 0.4108 at Epoch: 115\n"
     ]
    },
    {
     "name": "stderr",
     "output_type": "stream",
     "text": [
      "\n",
      "Epoch [118/200] T Loss:0.4192 LR is 0.0003486784401: 100%|████| 2500/2500 [00:18<00:00, 133.92it/s]"
     ]
    },
    {
     "name": "stdout",
     "output_type": "stream",
     "text": [
      "Training has completed epoch 118\n"
     ]
    },
    {
     "name": "stderr",
     "output_type": "stream",
     "text": [
      "\n",
      "Epoch [118/200] V Loss:0.4108: 100%|████████████████████████████| 313/313 [00:01<00:00, 295.33it/s]"
     ]
    },
    {
     "name": "stdout",
     "output_type": "stream",
     "text": [
      "Best Validation Loss is now: 0.4108 at Epoch: 118\n"
     ]
    },
    {
     "name": "stderr",
     "output_type": "stream",
     "text": [
      "\n",
      "Epoch [119/200] T Loss:0.4192 LR is 0.0003486784401: 100%|████| 2500/2500 [00:18<00:00, 133.84it/s]"
     ]
    },
    {
     "name": "stdout",
     "output_type": "stream",
     "text": [
      "Training has completed epoch 119\n"
     ]
    },
    {
     "name": "stderr",
     "output_type": "stream",
     "text": [
      "\n",
      "Epoch [119/200] V Loss:0.4111: 100%|████████████████████████████| 313/313 [00:01<00:00, 290.37it/s]"
     ]
    },
    {
     "name": "stdout",
     "output_type": "stream",
     "text": [
      "This is Epoch: 1 without improvement\n",
      "Current Validation Loss is: 0.4111 at Epoch: 119\n",
      "Best Validation Loss remains: 0.4108 at Epoch: 118\n"
     ]
    },
    {
     "name": "stderr",
     "output_type": "stream",
     "text": [
      "\n",
      "Epoch [120/200] T Loss:0.4191 LR is 0.00031381059609000004: 100%|█| 2500/2500 [00:19<00:00, 130.05i"
     ]
    },
    {
     "name": "stdout",
     "output_type": "stream",
     "text": [
      "Training has completed epoch 120\n"
     ]
    },
    {
     "name": "stderr",
     "output_type": "stream",
     "text": [
      "\n",
      "Epoch [120/200] V Loss:0.4105: 100%|████████████████████████████| 313/313 [00:01<00:00, 272.20it/s]"
     ]
    },
    {
     "name": "stdout",
     "output_type": "stream",
     "text": [
      "Best Validation Loss is now: 0.4105 at Epoch: 120\n"
     ]
    },
    {
     "name": "stderr",
     "output_type": "stream",
     "text": [
      "\n",
      "Epoch [121/200] T Loss:0.4191 LR is 0.00031381059609000004: 100%|█| 2500/2500 [00:21<00:00, 113.73i"
     ]
    },
    {
     "name": "stdout",
     "output_type": "stream",
     "text": [
      "Training has completed epoch 121\n"
     ]
    },
    {
     "name": "stderr",
     "output_type": "stream",
     "text": [
      "\n",
      "Epoch [121/200] V Loss:0.4107: 100%|████████████████████████████| 313/313 [00:01<00:00, 291.09it/s]"
     ]
    },
    {
     "name": "stdout",
     "output_type": "stream",
     "text": [
      "This is Epoch: 1 without improvement\n",
      "Current Validation Loss is: 0.4107 at Epoch: 121\n",
      "Best Validation Loss remains: 0.4105 at Epoch: 120\n"
     ]
    },
    {
     "name": "stderr",
     "output_type": "stream",
     "text": [
      "\n",
      "Epoch [122/200] T Loss:0.4191 LR is 0.00031381059609000004: 100%|█| 2500/2500 [00:19<00:00, 126.01i"
     ]
    },
    {
     "name": "stdout",
     "output_type": "stream",
     "text": [
      "Training has completed epoch 122\n"
     ]
    },
    {
     "name": "stderr",
     "output_type": "stream",
     "text": [
      "\n",
      "Epoch [122/200] V Loss:0.4107: 100%|████████████████████████████| 313/313 [00:01<00:00, 289.03it/s]"
     ]
    },
    {
     "name": "stdout",
     "output_type": "stream",
     "text": [
      "This is Epoch: 2 without improvement\n",
      "Current Validation Loss is: 0.4107 at Epoch: 122\n",
      "Best Validation Loss remains: 0.4105 at Epoch: 120\n"
     ]
    },
    {
     "name": "stderr",
     "output_type": "stream",
     "text": [
      "\n",
      "Epoch [123/200] T Loss:0.4191 LR is 0.00031381059609000004: 100%|█| 2500/2500 [00:19<00:00, 127.94i"
     ]
    },
    {
     "name": "stdout",
     "output_type": "stream",
     "text": [
      "Training has completed epoch 123\n"
     ]
    },
    {
     "name": "stderr",
     "output_type": "stream",
     "text": [
      "\n",
      "Epoch [123/200] V Loss:0.4106: 100%|████████████████████████████| 313/313 [00:01<00:00, 258.71it/s]"
     ]
    },
    {
     "name": "stdout",
     "output_type": "stream",
     "text": [
      "This is Epoch: 3 without improvement\n",
      "Current Validation Loss is: 0.4106 at Epoch: 123\n",
      "Best Validation Loss remains: 0.4105 at Epoch: 120\n"
     ]
    },
    {
     "name": "stderr",
     "output_type": "stream",
     "text": [
      "\n",
      "Epoch [124/200] T Loss:0.4190 LR is 0.00031381059609000004: 100%|█| 2500/2500 [00:19<00:00, 125.53i"
     ]
    },
    {
     "name": "stdout",
     "output_type": "stream",
     "text": [
      "Training has completed epoch 124\n"
     ]
    },
    {
     "name": "stderr",
     "output_type": "stream",
     "text": [
      "\n",
      "Epoch [124/200] V Loss:0.4112: 100%|████████████████████████████| 313/313 [00:01<00:00, 289.97it/s]"
     ]
    },
    {
     "name": "stdout",
     "output_type": "stream",
     "text": [
      "This is Epoch: 4 without improvement\n",
      "Current Validation Loss is: 0.4112 at Epoch: 124\n",
      "Best Validation Loss remains: 0.4105 at Epoch: 120\n"
     ]
    },
    {
     "name": "stderr",
     "output_type": "stream",
     "text": [
      "\n",
      "Epoch [125/200] T Loss:0.4190 LR is 0.00028242953648100003: 100%|█| 2500/2500 [00:18<00:00, 132.97i"
     ]
    },
    {
     "name": "stdout",
     "output_type": "stream",
     "text": [
      "Training has completed epoch 125\n"
     ]
    },
    {
     "name": "stderr",
     "output_type": "stream",
     "text": [
      "\n",
      "Epoch [125/200] V Loss:0.4103: 100%|████████████████████████████| 313/313 [00:01<00:00, 289.80it/s]"
     ]
    },
    {
     "name": "stdout",
     "output_type": "stream",
     "text": [
      "Best Validation Loss is now: 0.4103 at Epoch: 125\n"
     ]
    },
    {
     "name": "stderr",
     "output_type": "stream",
     "text": [
      "\n",
      "Epoch [126/200] T Loss:0.4190 LR is 0.00028242953648100003: 100%|█| 2500/2500 [00:19<00:00, 130.53i"
     ]
    },
    {
     "name": "stdout",
     "output_type": "stream",
     "text": [
      "Training has completed epoch 126\n"
     ]
    },
    {
     "name": "stderr",
     "output_type": "stream",
     "text": [
      "\n",
      "Epoch [126/200] V Loss:0.4106: 100%|████████████████████████████| 313/313 [00:01<00:00, 270.02it/s]"
     ]
    },
    {
     "name": "stdout",
     "output_type": "stream",
     "text": [
      "This is Epoch: 1 without improvement\n",
      "Current Validation Loss is: 0.4106 at Epoch: 126\n",
      "Best Validation Loss remains: 0.4103 at Epoch: 125\n"
     ]
    },
    {
     "name": "stderr",
     "output_type": "stream",
     "text": [
      "\n",
      "Epoch [127/200] T Loss:0.4190 LR is 0.00028242953648100003: 100%|█| 2500/2500 [00:18<00:00, 131.95i"
     ]
    },
    {
     "name": "stdout",
     "output_type": "stream",
     "text": [
      "Training has completed epoch 127\n"
     ]
    },
    {
     "name": "stderr",
     "output_type": "stream",
     "text": [
      "\n",
      "Epoch [127/200] V Loss:0.4104: 100%|████████████████████████████| 313/313 [00:01<00:00, 294.10it/s]"
     ]
    },
    {
     "name": "stdout",
     "output_type": "stream",
     "text": [
      "This is Epoch: 2 without improvement\n",
      "Current Validation Loss is: 0.4104 at Epoch: 127\n",
      "Best Validation Loss remains: 0.4103 at Epoch: 125\n"
     ]
    },
    {
     "name": "stderr",
     "output_type": "stream",
     "text": [
      "\n",
      "Epoch [128/200] T Loss:0.4189 LR is 0.00028242953648100003: 100%|█| 2500/2500 [00:18<00:00, 133.47i"
     ]
    },
    {
     "name": "stdout",
     "output_type": "stream",
     "text": [
      "Training has completed epoch 128\n"
     ]
    },
    {
     "name": "stderr",
     "output_type": "stream",
     "text": [
      "\n",
      "Epoch [128/200] V Loss:0.4109: 100%|████████████████████████████| 313/313 [00:00<00:00, 336.13it/s]"
     ]
    },
    {
     "name": "stdout",
     "output_type": "stream",
     "text": [
      "This is Epoch: 3 without improvement\n",
      "Current Validation Loss is: 0.4109 at Epoch: 128\n",
      "Best Validation Loss remains: 0.4103 at Epoch: 125\n"
     ]
    },
    {
     "name": "stderr",
     "output_type": "stream",
     "text": [
      "\n",
      "Epoch [129/200] T Loss:0.4189 LR is 0.00028242953648100003: 100%|█| 2500/2500 [00:19<00:00, 130.98i"
     ]
    },
    {
     "name": "stdout",
     "output_type": "stream",
     "text": [
      "Training has completed epoch 129\n"
     ]
    },
    {
     "name": "stderr",
     "output_type": "stream",
     "text": [
      "\n",
      "Epoch [129/200] V Loss:0.4106: 100%|████████████████████████████| 313/313 [00:01<00:00, 278.68it/s]"
     ]
    },
    {
     "name": "stdout",
     "output_type": "stream",
     "text": [
      "This is Epoch: 4 without improvement\n",
      "Current Validation Loss is: 0.4106 at Epoch: 129\n",
      "Best Validation Loss remains: 0.4103 at Epoch: 125\n"
     ]
    },
    {
     "name": "stderr",
     "output_type": "stream",
     "text": [
      "\n",
      "Epoch [130/200] T Loss:0.4189 LR is 0.00025418658283290005: 100%|█| 2500/2500 [00:20<00:00, 122.01i"
     ]
    },
    {
     "name": "stdout",
     "output_type": "stream",
     "text": [
      "Training has completed epoch 130\n"
     ]
    },
    {
     "name": "stderr",
     "output_type": "stream",
     "text": [
      "\n",
      "Epoch [130/200] V Loss:0.4103: 100%|████████████████████████████| 313/313 [00:01<00:00, 228.70it/s]"
     ]
    },
    {
     "name": "stdout",
     "output_type": "stream",
     "text": [
      "This is Epoch: 5 without improvement\n",
      "Current Validation Loss is: 0.4103 at Epoch: 130\n",
      "Best Validation Loss remains: 0.4103 at Epoch: 125\n"
     ]
    },
    {
     "name": "stderr",
     "output_type": "stream",
     "text": [
      "\n",
      "Epoch [131/200] T Loss:0.4188 LR is 0.00025418658283290005: 100%|█| 2500/2500 [00:20<00:00, 122.04i"
     ]
    },
    {
     "name": "stdout",
     "output_type": "stream",
     "text": [
      "Training has completed epoch 131\n"
     ]
    },
    {
     "name": "stderr",
     "output_type": "stream",
     "text": [
      "\n",
      "Epoch [131/200] V Loss:0.4103: 100%|████████████████████████████| 313/313 [00:01<00:00, 274.11it/s]"
     ]
    },
    {
     "name": "stdout",
     "output_type": "stream",
     "text": [
      "This is Epoch: 6 without improvement\n",
      "Current Validation Loss is: 0.4103 at Epoch: 131\n",
      "Best Validation Loss remains: 0.4103 at Epoch: 125\n"
     ]
    },
    {
     "name": "stderr",
     "output_type": "stream",
     "text": [
      "\n",
      "Epoch [132/200] T Loss:0.4188 LR is 0.00025418658283290005: 100%|█| 2500/2500 [00:18<00:00, 132.29i"
     ]
    },
    {
     "name": "stdout",
     "output_type": "stream",
     "text": [
      "Training has completed epoch 132\n"
     ]
    },
    {
     "name": "stderr",
     "output_type": "stream",
     "text": [
      "\n",
      "Epoch [132/200] V Loss:0.4102: 100%|████████████████████████████| 313/313 [00:01<00:00, 296.67it/s]"
     ]
    },
    {
     "name": "stdout",
     "output_type": "stream",
     "text": [
      "Best Validation Loss is now: 0.4102 at Epoch: 132\n"
     ]
    },
    {
     "name": "stderr",
     "output_type": "stream",
     "text": [
      "\n",
      "Epoch [133/200] T Loss:0.4188 LR is 0.00025418658283290005: 100%|█| 2500/2500 [00:19<00:00, 129.15i"
     ]
    },
    {
     "name": "stdout",
     "output_type": "stream",
     "text": [
      "Training has completed epoch 133\n"
     ]
    },
    {
     "name": "stderr",
     "output_type": "stream",
     "text": [
      "\n",
      "Epoch [133/200] V Loss:0.4105: 100%|████████████████████████████| 313/313 [00:01<00:00, 285.97it/s]"
     ]
    },
    {
     "name": "stdout",
     "output_type": "stream",
     "text": [
      "This is Epoch: 1 without improvement\n",
      "Current Validation Loss is: 0.4105 at Epoch: 133\n",
      "Best Validation Loss remains: 0.4102 at Epoch: 132\n"
     ]
    },
    {
     "name": "stderr",
     "output_type": "stream",
     "text": [
      "\n",
      "Epoch [134/200] T Loss:0.4188 LR is 0.00025418658283290005: 100%|█| 2500/2500 [00:19<00:00, 129.91i"
     ]
    },
    {
     "name": "stdout",
     "output_type": "stream",
     "text": [
      "Training has completed epoch 134\n"
     ]
    },
    {
     "name": "stderr",
     "output_type": "stream",
     "text": [
      "\n",
      "Epoch [134/200] V Loss:0.4106: 100%|████████████████████████████| 313/313 [00:01<00:00, 287.65it/s]"
     ]
    },
    {
     "name": "stdout",
     "output_type": "stream",
     "text": [
      "This is Epoch: 2 without improvement\n",
      "Current Validation Loss is: 0.4106 at Epoch: 134\n",
      "Best Validation Loss remains: 0.4102 at Epoch: 132\n"
     ]
    },
    {
     "name": "stderr",
     "output_type": "stream",
     "text": [
      "\n",
      "Epoch [135/200] T Loss:0.4187 LR is 0.00025418658283290005: 100%|█| 2500/2500 [00:18<00:00, 132.91i"
     ]
    },
    {
     "name": "stdout",
     "output_type": "stream",
     "text": [
      "Training has completed epoch 135\n"
     ]
    },
    {
     "name": "stderr",
     "output_type": "stream",
     "text": [
      "\n",
      "Epoch [135/200] V Loss:0.4105: 100%|████████████████████████████| 313/313 [00:01<00:00, 287.72it/s]"
     ]
    },
    {
     "name": "stdout",
     "output_type": "stream",
     "text": [
      "This is Epoch: 3 without improvement\n",
      "Current Validation Loss is: 0.4105 at Epoch: 135\n",
      "Best Validation Loss remains: 0.4102 at Epoch: 132\n"
     ]
    },
    {
     "name": "stderr",
     "output_type": "stream",
     "text": [
      "\n",
      "Epoch [136/200] T Loss:0.4188 LR is 0.00025418658283290005: 100%|█| 2500/2500 [00:19<00:00, 127.25i"
     ]
    },
    {
     "name": "stdout",
     "output_type": "stream",
     "text": [
      "Training has completed epoch 136\n"
     ]
    },
    {
     "name": "stderr",
     "output_type": "stream",
     "text": [
      "\n",
      "Epoch [136/200] V Loss:0.4108: 100%|████████████████████████████| 313/313 [00:01<00:00, 280.01it/s]"
     ]
    },
    {
     "name": "stdout",
     "output_type": "stream",
     "text": [
      "This is Epoch: 4 without improvement\n",
      "Current Validation Loss is: 0.4108 at Epoch: 136\n",
      "Best Validation Loss remains: 0.4102 at Epoch: 132\n"
     ]
    },
    {
     "name": "stderr",
     "output_type": "stream",
     "text": [
      "\n",
      "Epoch [137/200] T Loss:0.4187 LR is 0.00022876792454961005: 100%|█| 2500/2500 [00:18<00:00, 132.50i"
     ]
    },
    {
     "name": "stdout",
     "output_type": "stream",
     "text": [
      "Training has completed epoch 137\n"
     ]
    },
    {
     "name": "stderr",
     "output_type": "stream",
     "text": [
      "\n",
      "Epoch [137/200] V Loss:0.4104: 100%|████████████████████████████| 313/313 [00:01<00:00, 296.15it/s]"
     ]
    },
    {
     "name": "stdout",
     "output_type": "stream",
     "text": [
      "This is Epoch: 5 without improvement\n",
      "Current Validation Loss is: 0.4104 at Epoch: 137\n",
      "Best Validation Loss remains: 0.4102 at Epoch: 132\n"
     ]
    },
    {
     "name": "stderr",
     "output_type": "stream",
     "text": [
      "\n",
      "Epoch [138/200] T Loss:0.4187 LR is 0.00022876792454961005: 100%|█| 2500/2500 [00:20<00:00, 122.24i"
     ]
    },
    {
     "name": "stdout",
     "output_type": "stream",
     "text": [
      "Training has completed epoch 138\n"
     ]
    },
    {
     "name": "stderr",
     "output_type": "stream",
     "text": [
      "\n",
      "Epoch [138/200] V Loss:0.4104: 100%|████████████████████████████| 313/313 [00:01<00:00, 286.45it/s]"
     ]
    },
    {
     "name": "stdout",
     "output_type": "stream",
     "text": [
      "This is Epoch: 6 without improvement\n",
      "Current Validation Loss is: 0.4104 at Epoch: 138\n",
      "Best Validation Loss remains: 0.4102 at Epoch: 132\n"
     ]
    },
    {
     "name": "stderr",
     "output_type": "stream",
     "text": [
      "\n",
      "Epoch [139/200] T Loss:0.4186 LR is 0.00022876792454961005: 100%|█| 2500/2500 [00:19<00:00, 125.39i"
     ]
    },
    {
     "name": "stdout",
     "output_type": "stream",
     "text": [
      "Training has completed epoch 139\n"
     ]
    },
    {
     "name": "stderr",
     "output_type": "stream",
     "text": [
      "\n",
      "Epoch [139/200] V Loss:0.4107: 100%|████████████████████████████| 313/313 [00:01<00:00, 287.07it/s]"
     ]
    },
    {
     "name": "stdout",
     "output_type": "stream",
     "text": [
      "This is Epoch: 7 without improvement\n",
      "Current Validation Loss is: 0.4107 at Epoch: 139\n",
      "Best Validation Loss remains: 0.4102 at Epoch: 132\n"
     ]
    },
    {
     "name": "stderr",
     "output_type": "stream",
     "text": [
      "\n",
      "Epoch [140/200] T Loss:0.4186 LR is 0.00022876792454961005: 100%|█| 2500/2500 [00:18<00:00, 133.70i"
     ]
    },
    {
     "name": "stdout",
     "output_type": "stream",
     "text": [
      "Training has completed epoch 140\n"
     ]
    },
    {
     "name": "stderr",
     "output_type": "stream",
     "text": [
      "\n",
      "Epoch [140/200] V Loss:0.4106: 100%|████████████████████████████| 313/313 [00:01<00:00, 294.33it/s]"
     ]
    },
    {
     "name": "stdout",
     "output_type": "stream",
     "text": [
      "This is Epoch: 8 without improvement\n",
      "Current Validation Loss is: 0.4106 at Epoch: 140\n",
      "Best Validation Loss remains: 0.4102 at Epoch: 132\n"
     ]
    },
    {
     "name": "stderr",
     "output_type": "stream",
     "text": [
      "\n",
      "Epoch [141/200] T Loss:0.4186 LR is 0.00020589113209464906: 100%|█| 2500/2500 [00:19<00:00, 125.02i"
     ]
    },
    {
     "name": "stdout",
     "output_type": "stream",
     "text": [
      "Training has completed epoch 141\n"
     ]
    },
    {
     "name": "stderr",
     "output_type": "stream",
     "text": [
      "\n",
      "Epoch [141/200] V Loss:0.4102: 100%|████████████████████████████| 313/313 [00:01<00:00, 261.04it/s]"
     ]
    },
    {
     "name": "stdout",
     "output_type": "stream",
     "text": [
      "Best Validation Loss is now: 0.4102 at Epoch: 141\n"
     ]
    },
    {
     "name": "stderr",
     "output_type": "stream",
     "text": [
      "\n",
      "Epoch [142/200] T Loss:0.4186 LR is 0.00020589113209464906: 100%|█| 2500/2500 [00:19<00:00, 131.39i"
     ]
    },
    {
     "name": "stdout",
     "output_type": "stream",
     "text": [
      "Training has completed epoch 142\n"
     ]
    },
    {
     "name": "stderr",
     "output_type": "stream",
     "text": [
      "\n",
      "Epoch [142/200] V Loss:0.4103: 100%|████████████████████████████| 313/313 [00:01<00:00, 285.46it/s]"
     ]
    },
    {
     "name": "stdout",
     "output_type": "stream",
     "text": [
      "This is Epoch: 1 without improvement\n",
      "Current Validation Loss is: 0.4103 at Epoch: 142\n",
      "Best Validation Loss remains: 0.4102 at Epoch: 141\n"
     ]
    },
    {
     "name": "stderr",
     "output_type": "stream",
     "text": [
      "\n",
      "Epoch [143/200] T Loss:0.4185 LR is 0.00020589113209464906: 100%|█| 2500/2500 [00:19<00:00, 125.10i"
     ]
    },
    {
     "name": "stdout",
     "output_type": "stream",
     "text": [
      "Training has completed epoch 143\n"
     ]
    },
    {
     "name": "stderr",
     "output_type": "stream",
     "text": [
      "\n",
      "Epoch [143/200] V Loss:0.4104: 100%|████████████████████████████| 313/313 [00:01<00:00, 252.02it/s]"
     ]
    },
    {
     "name": "stdout",
     "output_type": "stream",
     "text": [
      "This is Epoch: 2 without improvement\n",
      "Current Validation Loss is: 0.4104 at Epoch: 143\n",
      "Best Validation Loss remains: 0.4102 at Epoch: 141\n"
     ]
    },
    {
     "name": "stderr",
     "output_type": "stream",
     "text": [
      "\n",
      "Epoch [144/200] T Loss:0.4185 LR is 0.00020589113209464906: 100%|█| 2500/2500 [00:20<00:00, 124.21i"
     ]
    },
    {
     "name": "stdout",
     "output_type": "stream",
     "text": [
      "Training has completed epoch 144\n"
     ]
    },
    {
     "name": "stderr",
     "output_type": "stream",
     "text": [
      "\n",
      "Epoch [144/200] V Loss:0.4103: 100%|████████████████████████████| 313/313 [00:01<00:00, 264.61it/s]"
     ]
    },
    {
     "name": "stdout",
     "output_type": "stream",
     "text": [
      "This is Epoch: 3 without improvement\n",
      "Current Validation Loss is: 0.4103 at Epoch: 144\n",
      "Best Validation Loss remains: 0.4102 at Epoch: 141\n"
     ]
    },
    {
     "name": "stderr",
     "output_type": "stream",
     "text": [
      "\n",
      "Epoch [145/200] T Loss:0.4185 LR is 0.00020589113209464906: 100%|█| 2500/2500 [00:19<00:00, 131.49i"
     ]
    },
    {
     "name": "stdout",
     "output_type": "stream",
     "text": [
      "Training has completed epoch 145\n"
     ]
    },
    {
     "name": "stderr",
     "output_type": "stream",
     "text": [
      "\n",
      "Epoch [145/200] V Loss:0.4102: 100%|████████████████████████████| 313/313 [00:01<00:00, 297.14it/s]"
     ]
    },
    {
     "name": "stdout",
     "output_type": "stream",
     "text": [
      "This is Epoch: 4 without improvement\n",
      "Current Validation Loss is: 0.4102 at Epoch: 145\n",
      "Best Validation Loss remains: 0.4102 at Epoch: 141\n"
     ]
    },
    {
     "name": "stderr",
     "output_type": "stream",
     "text": [
      "\n",
      "Epoch [146/200] T Loss:0.4184 LR is 0.00018530201888518417: 100%|█| 2500/2500 [00:18<00:00, 132.56i"
     ]
    },
    {
     "name": "stdout",
     "output_type": "stream",
     "text": [
      "Training has completed epoch 146\n"
     ]
    },
    {
     "name": "stderr",
     "output_type": "stream",
     "text": [
      "\n",
      "Epoch [146/200] V Loss:0.4100: 100%|████████████████████████████| 313/313 [00:01<00:00, 251.11it/s]"
     ]
    },
    {
     "name": "stdout",
     "output_type": "stream",
     "text": [
      "Best Validation Loss is now: 0.4100 at Epoch: 146\n"
     ]
    },
    {
     "name": "stderr",
     "output_type": "stream",
     "text": [
      "\n",
      "Epoch [147/200] T Loss:0.4184 LR is 0.00018530201888518417: 100%|█| 2500/2500 [00:19<00:00, 128.45i"
     ]
    },
    {
     "name": "stdout",
     "output_type": "stream",
     "text": [
      "Training has completed epoch 147\n"
     ]
    },
    {
     "name": "stderr",
     "output_type": "stream",
     "text": [
      "\n",
      "Epoch [147/200] V Loss:0.4098: 100%|████████████████████████████| 313/313 [00:01<00:00, 268.53it/s]"
     ]
    },
    {
     "name": "stdout",
     "output_type": "stream",
     "text": [
      "Best Validation Loss is now: 0.4098 at Epoch: 147\n"
     ]
    },
    {
     "name": "stderr",
     "output_type": "stream",
     "text": [
      "\n",
      "Epoch [148/200] T Loss:0.4184 LR is 0.00018530201888518417: 100%|█| 2500/2500 [00:18<00:00, 133.30i"
     ]
    },
    {
     "name": "stdout",
     "output_type": "stream",
     "text": [
      "Training has completed epoch 148\n"
     ]
    },
    {
     "name": "stderr",
     "output_type": "stream",
     "text": [
      "\n",
      "Epoch [148/200] V Loss:0.4100: 100%|████████████████████████████| 313/313 [00:01<00:00, 299.26it/s]"
     ]
    },
    {
     "name": "stdout",
     "output_type": "stream",
     "text": [
      "This is Epoch: 1 without improvement\n",
      "Current Validation Loss is: 0.4100 at Epoch: 148\n",
      "Best Validation Loss remains: 0.4098 at Epoch: 147\n"
     ]
    },
    {
     "name": "stderr",
     "output_type": "stream",
     "text": [
      "\n",
      "Epoch [149/200] T Loss:0.4185 LR is 0.00018530201888518417: 100%|█| 2500/2500 [00:18<00:00, 135.08i"
     ]
    },
    {
     "name": "stdout",
     "output_type": "stream",
     "text": [
      "Training has completed epoch 149\n"
     ]
    },
    {
     "name": "stderr",
     "output_type": "stream",
     "text": [
      "\n",
      "Epoch [149/200] V Loss:0.4101: 100%|████████████████████████████| 313/313 [00:01<00:00, 298.99it/s]"
     ]
    },
    {
     "name": "stdout",
     "output_type": "stream",
     "text": [
      "This is Epoch: 2 without improvement\n",
      "Current Validation Loss is: 0.4101 at Epoch: 149\n",
      "Best Validation Loss remains: 0.4098 at Epoch: 147\n"
     ]
    },
    {
     "name": "stderr",
     "output_type": "stream",
     "text": [
      "\n",
      "Epoch [150/200] T Loss:0.4184 LR is 0.00018530201888518417: 100%|█| 2500/2500 [00:18<00:00, 135.32i"
     ]
    },
    {
     "name": "stdout",
     "output_type": "stream",
     "text": [
      "Training has completed epoch 150\n"
     ]
    },
    {
     "name": "stderr",
     "output_type": "stream",
     "text": [
      "\n",
      "Epoch [150/200] V Loss:0.4102: 100%|████████████████████████████| 313/313 [00:01<00:00, 286.06it/s]"
     ]
    },
    {
     "name": "stdout",
     "output_type": "stream",
     "text": [
      "This is Epoch: 3 without improvement\n",
      "Current Validation Loss is: 0.4102 at Epoch: 150\n",
      "Best Validation Loss remains: 0.4098 at Epoch: 147\n"
     ]
    },
    {
     "name": "stderr",
     "output_type": "stream",
     "text": [
      "\n",
      "Epoch [151/200] T Loss:0.4184 LR is 0.00018530201888518417: 100%|█| 2500/2500 [00:18<00:00, 135.23i"
     ]
    },
    {
     "name": "stdout",
     "output_type": "stream",
     "text": [
      "Training has completed epoch 151\n"
     ]
    },
    {
     "name": "stderr",
     "output_type": "stream",
     "text": [
      "\n",
      "Epoch [151/200] V Loss:0.4100: 100%|████████████████████████████| 313/313 [00:01<00:00, 299.46it/s]"
     ]
    },
    {
     "name": "stdout",
     "output_type": "stream",
     "text": [
      "This is Epoch: 4 without improvement\n",
      "Current Validation Loss is: 0.4100 at Epoch: 151\n",
      "Best Validation Loss remains: 0.4098 at Epoch: 147\n"
     ]
    },
    {
     "name": "stderr",
     "output_type": "stream",
     "text": [
      "\n",
      "Epoch [152/200] T Loss:0.4184 LR is 0.00016677181699666576: 100%|█| 2500/2500 [00:18<00:00, 133.66i"
     ]
    },
    {
     "name": "stdout",
     "output_type": "stream",
     "text": [
      "Training has completed epoch 152\n"
     ]
    },
    {
     "name": "stderr",
     "output_type": "stream",
     "text": [
      "\n",
      "Epoch [152/200] V Loss:0.4102: 100%|████████████████████████████| 313/313 [00:01<00:00, 275.53it/s]"
     ]
    },
    {
     "name": "stdout",
     "output_type": "stream",
     "text": [
      "This is Epoch: 5 without improvement\n",
      "Current Validation Loss is: 0.4102 at Epoch: 152\n",
      "Best Validation Loss remains: 0.4098 at Epoch: 147\n"
     ]
    },
    {
     "name": "stderr",
     "output_type": "stream",
     "text": [
      "\n",
      "Epoch [153/200] T Loss:0.4184 LR is 0.00016677181699666576: 100%|█| 2500/2500 [00:20<00:00, 121.13i"
     ]
    },
    {
     "name": "stdout",
     "output_type": "stream",
     "text": [
      "Training has completed epoch 153\n"
     ]
    },
    {
     "name": "stderr",
     "output_type": "stream",
     "text": [
      "\n",
      "Epoch [153/200] V Loss:0.4100: 100%|████████████████████████████| 313/313 [00:01<00:00, 259.64it/s]"
     ]
    },
    {
     "name": "stdout",
     "output_type": "stream",
     "text": [
      "This is Epoch: 6 without improvement\n",
      "Current Validation Loss is: 0.4100 at Epoch: 153\n",
      "Best Validation Loss remains: 0.4098 at Epoch: 147\n"
     ]
    },
    {
     "name": "stderr",
     "output_type": "stream",
     "text": [
      "\n",
      "Epoch [154/200] T Loss:0.4183 LR is 0.00016677181699666576: 100%|█| 2500/2500 [00:19<00:00, 128.17i"
     ]
    },
    {
     "name": "stdout",
     "output_type": "stream",
     "text": [
      "Training has completed epoch 154\n"
     ]
    },
    {
     "name": "stderr",
     "output_type": "stream",
     "text": [
      "\n",
      "Epoch [154/200] V Loss:0.4102: 100%|████████████████████████████| 313/313 [00:01<00:00, 276.25it/s]"
     ]
    },
    {
     "name": "stdout",
     "output_type": "stream",
     "text": [
      "This is Epoch: 7 without improvement\n",
      "Current Validation Loss is: 0.4102 at Epoch: 154\n",
      "Best Validation Loss remains: 0.4098 at Epoch: 147\n"
     ]
    },
    {
     "name": "stderr",
     "output_type": "stream",
     "text": [
      "\n",
      "Epoch [155/200] T Loss:0.4183 LR is 0.00016677181699666576: 100%|█| 2500/2500 [00:19<00:00, 130.39i"
     ]
    },
    {
     "name": "stdout",
     "output_type": "stream",
     "text": [
      "Training has completed epoch 155\n"
     ]
    },
    {
     "name": "stderr",
     "output_type": "stream",
     "text": [
      "\n",
      "Epoch [155/200] V Loss:0.4099: 100%|████████████████████████████| 313/313 [00:01<00:00, 281.65it/s]"
     ]
    },
    {
     "name": "stdout",
     "output_type": "stream",
     "text": [
      "This is Epoch: 8 without improvement\n",
      "Current Validation Loss is: 0.4099 at Epoch: 155\n",
      "Best Validation Loss remains: 0.4098 at Epoch: 147\n"
     ]
    },
    {
     "name": "stderr",
     "output_type": "stream",
     "text": [
      "\n",
      "Epoch [156/200] T Loss:0.4183 LR is 0.0001500946352969992: 100%|█| 2500/2500 [00:19<00:00, 130.62it"
     ]
    },
    {
     "name": "stdout",
     "output_type": "stream",
     "text": [
      "Training has completed epoch 156\n"
     ]
    },
    {
     "name": "stderr",
     "output_type": "stream",
     "text": [
      "\n",
      "Epoch [156/200] V Loss:0.4098: 100%|████████████████████████████| 313/313 [00:01<00:00, 289.02it/s]"
     ]
    },
    {
     "name": "stdout",
     "output_type": "stream",
     "text": [
      "Best Validation Loss is now: 0.4098 at Epoch: 156\n"
     ]
    },
    {
     "name": "stderr",
     "output_type": "stream",
     "text": [
      "\n",
      "Epoch [157/200] T Loss:0.4182 LR is 0.0001500946352969992: 100%|█| 2500/2500 [00:18<00:00, 134.03it"
     ]
    },
    {
     "name": "stdout",
     "output_type": "stream",
     "text": [
      "Training has completed epoch 157\n"
     ]
    },
    {
     "name": "stderr",
     "output_type": "stream",
     "text": [
      "\n",
      "Epoch [157/200] V Loss:0.4098: 100%|████████████████████████████| 313/313 [00:01<00:00, 285.33it/s]"
     ]
    },
    {
     "name": "stdout",
     "output_type": "stream",
     "text": [
      "This is Epoch: 1 without improvement\n",
      "Current Validation Loss is: 0.4098 at Epoch: 157\n",
      "Best Validation Loss remains: 0.4098 at Epoch: 156\n"
     ]
    },
    {
     "name": "stderr",
     "output_type": "stream",
     "text": [
      "\n",
      "Epoch [158/200] T Loss:0.4182 LR is 0.0001500946352969992: 100%|█| 2500/2500 [00:18<00:00, 133.44it"
     ]
    },
    {
     "name": "stdout",
     "output_type": "stream",
     "text": [
      "Training has completed epoch 158\n"
     ]
    },
    {
     "name": "stderr",
     "output_type": "stream",
     "text": [
      "\n",
      "Epoch [158/200] V Loss:0.4099: 100%|████████████████████████████| 313/313 [00:01<00:00, 292.96it/s]"
     ]
    },
    {
     "name": "stdout",
     "output_type": "stream",
     "text": [
      "This is Epoch: 2 without improvement\n",
      "Current Validation Loss is: 0.4099 at Epoch: 158\n",
      "Best Validation Loss remains: 0.4098 at Epoch: 156\n"
     ]
    },
    {
     "name": "stderr",
     "output_type": "stream",
     "text": [
      "\n",
      "Epoch [159/200] T Loss:0.4182 LR is 0.0001500946352969992: 100%|█| 2500/2500 [00:18<00:00, 132.04it"
     ]
    },
    {
     "name": "stdout",
     "output_type": "stream",
     "text": [
      "Training has completed epoch 159\n"
     ]
    },
    {
     "name": "stderr",
     "output_type": "stream",
     "text": [
      "\n",
      "Epoch [159/200] V Loss:0.4100: 100%|████████████████████████████| 313/313 [00:01<00:00, 283.80it/s]"
     ]
    },
    {
     "name": "stdout",
     "output_type": "stream",
     "text": [
      "This is Epoch: 3 without improvement\n",
      "Current Validation Loss is: 0.4100 at Epoch: 159\n",
      "Best Validation Loss remains: 0.4098 at Epoch: 156\n"
     ]
    },
    {
     "name": "stderr",
     "output_type": "stream",
     "text": [
      "\n",
      "Epoch [160/200] T Loss:0.4182 LR is 0.0001350851717672993: 100%|█| 2500/2500 [00:18<00:00, 132.76it"
     ]
    },
    {
     "name": "stdout",
     "output_type": "stream",
     "text": [
      "Training has completed epoch 160\n"
     ]
    },
    {
     "name": "stderr",
     "output_type": "stream",
     "text": [
      "\n",
      "Epoch [160/200] V Loss:0.4100: 100%|████████████████████████████| 313/313 [00:01<00:00, 277.23it/s]"
     ]
    },
    {
     "name": "stdout",
     "output_type": "stream",
     "text": [
      "This is Epoch: 4 without improvement\n",
      "Current Validation Loss is: 0.4100 at Epoch: 160\n",
      "Best Validation Loss remains: 0.4098 at Epoch: 156\n"
     ]
    },
    {
     "name": "stderr",
     "output_type": "stream",
     "text": [
      "\n",
      "Epoch [161/200] T Loss:0.4181 LR is 0.0001350851717672993: 100%|█| 2500/2500 [00:18<00:00, 133.72it"
     ]
    },
    {
     "name": "stdout",
     "output_type": "stream",
     "text": [
      "Training has completed epoch 161\n"
     ]
    },
    {
     "name": "stderr",
     "output_type": "stream",
     "text": [
      "\n",
      "Epoch [161/200] V Loss:0.4097: 100%|████████████████████████████| 313/313 [00:01<00:00, 291.39it/s]"
     ]
    },
    {
     "name": "stdout",
     "output_type": "stream",
     "text": [
      "Best Validation Loss is now: 0.4097 at Epoch: 161\n"
     ]
    },
    {
     "name": "stderr",
     "output_type": "stream",
     "text": [
      "\n",
      "Epoch [162/200] T Loss:0.4183 LR is 0.0001350851717672993: 100%|█| 2500/2500 [00:18<00:00, 134.43it"
     ]
    },
    {
     "name": "stdout",
     "output_type": "stream",
     "text": [
      "Training has completed epoch 162\n"
     ]
    },
    {
     "name": "stderr",
     "output_type": "stream",
     "text": [
      "\n",
      "Epoch [162/200] V Loss:0.4099: 100%|████████████████████████████| 313/313 [00:01<00:00, 287.06it/s]"
     ]
    },
    {
     "name": "stdout",
     "output_type": "stream",
     "text": [
      "This is Epoch: 1 without improvement\n",
      "Current Validation Loss is: 0.4099 at Epoch: 162\n",
      "Best Validation Loss remains: 0.4097 at Epoch: 161\n"
     ]
    },
    {
     "name": "stderr",
     "output_type": "stream",
     "text": [
      "\n",
      "Epoch [163/200] T Loss:0.4182 LR is 0.0001350851717672993: 100%|█| 2500/2500 [00:18<00:00, 133.06it"
     ]
    },
    {
     "name": "stdout",
     "output_type": "stream",
     "text": [
      "Training has completed epoch 163\n"
     ]
    },
    {
     "name": "stderr",
     "output_type": "stream",
     "text": [
      "\n",
      "Epoch [163/200] V Loss:0.4099: 100%|████████████████████████████| 313/313 [00:01<00:00, 277.03it/s]"
     ]
    },
    {
     "name": "stdout",
     "output_type": "stream",
     "text": [
      "This is Epoch: 2 without improvement\n",
      "Current Validation Loss is: 0.4099 at Epoch: 163\n",
      "Best Validation Loss remains: 0.4097 at Epoch: 161\n"
     ]
    },
    {
     "name": "stderr",
     "output_type": "stream",
     "text": [
      "\n",
      "Epoch [164/200] T Loss:0.4182 LR is 0.0001350851717672993: 100%|█| 2500/2500 [00:19<00:00, 131.28it"
     ]
    },
    {
     "name": "stdout",
     "output_type": "stream",
     "text": [
      "Training has completed epoch 164\n"
     ]
    },
    {
     "name": "stderr",
     "output_type": "stream",
     "text": [
      "\n",
      "Epoch [164/200] V Loss:0.4101: 100%|████████████████████████████| 313/313 [00:01<00:00, 274.91it/s]"
     ]
    },
    {
     "name": "stdout",
     "output_type": "stream",
     "text": [
      "This is Epoch: 3 without improvement\n",
      "Current Validation Loss is: 0.4101 at Epoch: 164\n",
      "Best Validation Loss remains: 0.4097 at Epoch: 161\n"
     ]
    },
    {
     "name": "stderr",
     "output_type": "stream",
     "text": [
      "\n",
      "Epoch [165/200] T Loss:0.4182 LR is 0.0001350851717672993: 100%|█| 2500/2500 [00:18<00:00, 132.70it"
     ]
    },
    {
     "name": "stdout",
     "output_type": "stream",
     "text": [
      "Training has completed epoch 165\n"
     ]
    },
    {
     "name": "stderr",
     "output_type": "stream",
     "text": [
      "\n",
      "Epoch [165/200] V Loss:0.4096: 100%|████████████████████████████| 313/313 [00:01<00:00, 292.86it/s]"
     ]
    },
    {
     "name": "stdout",
     "output_type": "stream",
     "text": [
      "Best Validation Loss is now: 0.4096 at Epoch: 165\n"
     ]
    },
    {
     "name": "stderr",
     "output_type": "stream",
     "text": [
      "\n",
      "Epoch [166/200] T Loss:0.4181 LR is 0.0001350851717672993: 100%|█| 2500/2500 [00:18<00:00, 132.07it"
     ]
    },
    {
     "name": "stdout",
     "output_type": "stream",
     "text": [
      "Training has completed epoch 166\n"
     ]
    },
    {
     "name": "stderr",
     "output_type": "stream",
     "text": [
      "\n",
      "Epoch [166/200] V Loss:0.4098: 100%|████████████████████████████| 313/313 [00:01<00:00, 280.05it/s]"
     ]
    },
    {
     "name": "stdout",
     "output_type": "stream",
     "text": [
      "This is Epoch: 1 without improvement\n",
      "Current Validation Loss is: 0.4098 at Epoch: 166\n",
      "Best Validation Loss remains: 0.4096 at Epoch: 165\n"
     ]
    },
    {
     "name": "stderr",
     "output_type": "stream",
     "text": [
      "\n",
      "Epoch [167/200] T Loss:0.4181 LR is 0.0001350851717672993: 100%|█| 2500/2500 [00:19<00:00, 130.42it"
     ]
    },
    {
     "name": "stdout",
     "output_type": "stream",
     "text": [
      "Training has completed epoch 167\n"
     ]
    },
    {
     "name": "stderr",
     "output_type": "stream",
     "text": [
      "\n",
      "Epoch [167/200] V Loss:0.4100: 100%|████████████████████████████| 313/313 [00:01<00:00, 294.42it/s]"
     ]
    },
    {
     "name": "stdout",
     "output_type": "stream",
     "text": [
      "This is Epoch: 2 without improvement\n",
      "Current Validation Loss is: 0.4100 at Epoch: 167\n",
      "Best Validation Loss remains: 0.4096 at Epoch: 165\n"
     ]
    },
    {
     "name": "stderr",
     "output_type": "stream",
     "text": [
      "\n",
      "Epoch [168/200] T Loss:0.4181 LR is 0.0001350851717672993: 100%|█| 2500/2500 [00:18<00:00, 133.21it"
     ]
    },
    {
     "name": "stdout",
     "output_type": "stream",
     "text": [
      "Training has completed epoch 168\n"
     ]
    },
    {
     "name": "stderr",
     "output_type": "stream",
     "text": [
      "\n",
      "Epoch [168/200] V Loss:0.4099: 100%|████████████████████████████| 313/313 [00:01<00:00, 289.50it/s]"
     ]
    },
    {
     "name": "stdout",
     "output_type": "stream",
     "text": [
      "This is Epoch: 3 without improvement\n",
      "Current Validation Loss is: 0.4099 at Epoch: 168\n",
      "Best Validation Loss remains: 0.4096 at Epoch: 165\n"
     ]
    },
    {
     "name": "stderr",
     "output_type": "stream",
     "text": [
      "\n",
      "Epoch [169/200] T Loss:0.4181 LR is 0.0001350851717672993: 100%|█| 2500/2500 [00:18<00:00, 133.30it"
     ]
    },
    {
     "name": "stdout",
     "output_type": "stream",
     "text": [
      "Training has completed epoch 169\n"
     ]
    },
    {
     "name": "stderr",
     "output_type": "stream",
     "text": [
      "\n",
      "Epoch [169/200] V Loss:0.4098: 100%|████████████████████████████| 313/313 [00:01<00:00, 283.19it/s]"
     ]
    },
    {
     "name": "stdout",
     "output_type": "stream",
     "text": [
      "This is Epoch: 4 without improvement\n",
      "Current Validation Loss is: 0.4098 at Epoch: 169\n",
      "Best Validation Loss remains: 0.4096 at Epoch: 165\n"
     ]
    },
    {
     "name": "stderr",
     "output_type": "stream",
     "text": [
      "\n",
      "Epoch [170/200] T Loss:0.4181 LR is 0.00012157665459056936: 100%|█| 2500/2500 [00:18<00:00, 132.08i"
     ]
    },
    {
     "name": "stdout",
     "output_type": "stream",
     "text": [
      "Training has completed epoch 170\n"
     ]
    },
    {
     "name": "stderr",
     "output_type": "stream",
     "text": [
      "\n",
      "Epoch [170/200] V Loss:0.4100: 100%|████████████████████████████| 313/313 [00:00<00:00, 319.99it/s]"
     ]
    },
    {
     "name": "stdout",
     "output_type": "stream",
     "text": [
      "This is Epoch: 5 without improvement\n",
      "Current Validation Loss is: 0.4100 at Epoch: 170\n",
      "Best Validation Loss remains: 0.4096 at Epoch: 165\n"
     ]
    },
    {
     "name": "stderr",
     "output_type": "stream",
     "text": [
      "\n",
      "Epoch [171/200] T Loss:0.4181 LR is 0.00012157665459056936: 100%|█| 2500/2500 [00:19<00:00, 130.75i"
     ]
    },
    {
     "name": "stdout",
     "output_type": "stream",
     "text": [
      "Training has completed epoch 171\n"
     ]
    },
    {
     "name": "stderr",
     "output_type": "stream",
     "text": [
      "\n",
      "Epoch [171/200] V Loss:0.4099: 100%|████████████████████████████| 313/313 [00:01<00:00, 285.61it/s]"
     ]
    },
    {
     "name": "stdout",
     "output_type": "stream",
     "text": [
      "This is Epoch: 6 without improvement\n",
      "Current Validation Loss is: 0.4099 at Epoch: 171\n",
      "Best Validation Loss remains: 0.4096 at Epoch: 165\n"
     ]
    },
    {
     "name": "stderr",
     "output_type": "stream",
     "text": [
      "\n",
      "Epoch [172/200] T Loss:0.4181 LR is 0.00012157665459056936: 100%|█| 2500/2500 [00:18<00:00, 133.73i"
     ]
    },
    {
     "name": "stdout",
     "output_type": "stream",
     "text": [
      "Training has completed epoch 172\n"
     ]
    },
    {
     "name": "stderr",
     "output_type": "stream",
     "text": [
      "\n",
      "Epoch [172/200] V Loss:0.4099: 100%|████████████████████████████| 313/313 [00:01<00:00, 293.05it/s]"
     ]
    },
    {
     "name": "stdout",
     "output_type": "stream",
     "text": [
      "This is Epoch: 7 without improvement\n",
      "Current Validation Loss is: 0.4099 at Epoch: 172\n",
      "Best Validation Loss remains: 0.4096 at Epoch: 165\n"
     ]
    },
    {
     "name": "stderr",
     "output_type": "stream",
     "text": [
      "\n",
      "Epoch [173/200] T Loss:0.4180 LR is 0.00012157665459056936: 100%|█| 2500/2500 [00:18<00:00, 132.91i"
     ]
    },
    {
     "name": "stdout",
     "output_type": "stream",
     "text": [
      "Training has completed epoch 173\n"
     ]
    },
    {
     "name": "stderr",
     "output_type": "stream",
     "text": [
      "\n",
      "Epoch [173/200] V Loss:0.4097: 100%|████████████████████████████| 313/313 [00:01<00:00, 286.71it/s]"
     ]
    },
    {
     "name": "stdout",
     "output_type": "stream",
     "text": [
      "This is Epoch: 8 without improvement\n",
      "Current Validation Loss is: 0.4097 at Epoch: 173\n",
      "Best Validation Loss remains: 0.4096 at Epoch: 165\n"
     ]
    },
    {
     "name": "stderr",
     "output_type": "stream",
     "text": [
      "\n",
      "Epoch [174/200] T Loss:0.4181 LR is 0.00010941898913151243: 100%|█| 2500/2500 [00:18<00:00, 133.42i"
     ]
    },
    {
     "name": "stdout",
     "output_type": "stream",
     "text": [
      "Training has completed epoch 174\n"
     ]
    },
    {
     "name": "stderr",
     "output_type": "stream",
     "text": [
      "\n",
      "Epoch [174/200] V Loss:0.4098: 100%|████████████████████████████| 313/313 [00:01<00:00, 291.89it/s]"
     ]
    },
    {
     "name": "stdout",
     "output_type": "stream",
     "text": [
      "This is Epoch: 9 without improvement\n",
      "Current Validation Loss is: 0.4098 at Epoch: 174\n",
      "Best Validation Loss remains: 0.4096 at Epoch: 165\n"
     ]
    },
    {
     "name": "stderr",
     "output_type": "stream",
     "text": [
      "\n",
      "Epoch [175/200] T Loss:0.4180 LR is 0.00010941898913151243: 100%|█| 2500/2500 [00:18<00:00, 132.69i"
     ]
    },
    {
     "name": "stdout",
     "output_type": "stream",
     "text": [
      "Training has completed epoch 175\n"
     ]
    },
    {
     "name": "stderr",
     "output_type": "stream",
     "text": [
      "\n",
      "Epoch [175/200] V Loss:0.4097: 100%|████████████████████████████| 313/313 [00:01<00:00, 307.92it/s]"
     ]
    },
    {
     "name": "stdout",
     "output_type": "stream",
     "text": [
      "This is Epoch: 10 without improvement\n",
      "Current Validation Loss is: 0.4097 at Epoch: 175\n",
      "Best Validation Loss remains: 0.4096 at Epoch: 165\n"
     ]
    },
    {
     "name": "stderr",
     "output_type": "stream",
     "text": [
      "\n",
      "Epoch [176/200] T Loss:0.4180 LR is 0.00010941898913151243: 100%|█| 2500/2500 [00:18<00:00, 132.83i"
     ]
    },
    {
     "name": "stdout",
     "output_type": "stream",
     "text": [
      "Training has completed epoch 176\n"
     ]
    },
    {
     "name": "stderr",
     "output_type": "stream",
     "text": [
      "\n",
      "Epoch [176/200] V Loss:0.4096: 100%|████████████████████████████| 313/313 [00:01<00:00, 290.69it/s]"
     ]
    },
    {
     "name": "stdout",
     "output_type": "stream",
     "text": [
      "Best Validation Loss is now: 0.4096 at Epoch: 176\n"
     ]
    },
    {
     "name": "stderr",
     "output_type": "stream",
     "text": [
      "\n",
      "Epoch [177/200] T Loss:0.4180 LR is 0.00010941898913151243: 100%|█| 2500/2500 [00:18<00:00, 134.13i"
     ]
    },
    {
     "name": "stdout",
     "output_type": "stream",
     "text": [
      "Training has completed epoch 177\n"
     ]
    },
    {
     "name": "stderr",
     "output_type": "stream",
     "text": [
      "\n",
      "Epoch [177/200] V Loss:0.4098: 100%|████████████████████████████| 313/313 [00:01<00:00, 281.23it/s]"
     ]
    },
    {
     "name": "stdout",
     "output_type": "stream",
     "text": [
      "This is Epoch: 1 without improvement\n",
      "Current Validation Loss is: 0.4098 at Epoch: 177\n",
      "Best Validation Loss remains: 0.4096 at Epoch: 176\n"
     ]
    },
    {
     "name": "stderr",
     "output_type": "stream",
     "text": [
      "\n",
      "Epoch [178/200] T Loss:0.4180 LR is 9.847709021836118e-05: 100%|█| 2500/2500 [00:18<00:00, 132.79it"
     ]
    },
    {
     "name": "stdout",
     "output_type": "stream",
     "text": [
      "Training has completed epoch 178\n"
     ]
    },
    {
     "name": "stderr",
     "output_type": "stream",
     "text": [
      "\n",
      "Epoch [178/200] V Loss:0.4099: 100%|████████████████████████████| 313/313 [00:01<00:00, 295.25it/s]"
     ]
    },
    {
     "name": "stdout",
     "output_type": "stream",
     "text": [
      "This is Epoch: 2 without improvement\n",
      "Current Validation Loss is: 0.4099 at Epoch: 178\n",
      "Best Validation Loss remains: 0.4096 at Epoch: 176\n"
     ]
    },
    {
     "name": "stderr",
     "output_type": "stream",
     "text": [
      "\n",
      "Epoch [179/200] T Loss:0.4180 LR is 9.847709021836118e-05: 100%|█| 2500/2500 [00:18<00:00, 132.95it"
     ]
    },
    {
     "name": "stdout",
     "output_type": "stream",
     "text": [
      "Training has completed epoch 179\n"
     ]
    },
    {
     "name": "stderr",
     "output_type": "stream",
     "text": [
      "\n",
      "Epoch [179/200] V Loss:0.4095: 100%|████████████████████████████| 313/313 [00:01<00:00, 239.95it/s]"
     ]
    },
    {
     "name": "stdout",
     "output_type": "stream",
     "text": [
      "Best Validation Loss is now: 0.4095 at Epoch: 179\n"
     ]
    },
    {
     "name": "stderr",
     "output_type": "stream",
     "text": [
      "\n",
      "Epoch [180/200] T Loss:0.4180 LR is 9.847709021836118e-05: 100%|█| 2500/2500 [00:18<00:00, 132.88it"
     ]
    },
    {
     "name": "stdout",
     "output_type": "stream",
     "text": [
      "Training has completed epoch 180\n"
     ]
    },
    {
     "name": "stderr",
     "output_type": "stream",
     "text": [
      "\n",
      "Epoch [180/200] V Loss:0.4097: 100%|████████████████████████████| 313/313 [00:01<00:00, 286.26it/s]"
     ]
    },
    {
     "name": "stdout",
     "output_type": "stream",
     "text": [
      "This is Epoch: 1 without improvement\n",
      "Current Validation Loss is: 0.4097 at Epoch: 180\n",
      "Best Validation Loss remains: 0.4095 at Epoch: 179\n"
     ]
    },
    {
     "name": "stderr",
     "output_type": "stream",
     "text": [
      "\n",
      "Epoch [181/200] T Loss:0.4180 LR is 9.847709021836118e-05: 100%|█| 2500/2500 [00:19<00:00, 126.33it"
     ]
    },
    {
     "name": "stdout",
     "output_type": "stream",
     "text": [
      "Training has completed epoch 181\n"
     ]
    },
    {
     "name": "stderr",
     "output_type": "stream",
     "text": [
      "\n",
      "Epoch [181/200] V Loss:0.4097: 100%|████████████████████████████| 313/313 [00:01<00:00, 227.33it/s]"
     ]
    },
    {
     "name": "stdout",
     "output_type": "stream",
     "text": [
      "This is Epoch: 2 without improvement\n",
      "Current Validation Loss is: 0.4097 at Epoch: 181\n",
      "Best Validation Loss remains: 0.4095 at Epoch: 179\n"
     ]
    },
    {
     "name": "stderr",
     "output_type": "stream",
     "text": [
      "\n",
      "Epoch [182/200] T Loss:0.4180 LR is 9.847709021836118e-05: 100%|█| 2500/2500 [00:19<00:00, 130.67it"
     ]
    },
    {
     "name": "stdout",
     "output_type": "stream",
     "text": [
      "Training has completed epoch 182\n"
     ]
    },
    {
     "name": "stderr",
     "output_type": "stream",
     "text": [
      "\n",
      "Epoch [182/200] V Loss:0.4099: 100%|████████████████████████████| 313/313 [00:01<00:00, 288.70it/s]"
     ]
    },
    {
     "name": "stdout",
     "output_type": "stream",
     "text": [
      "This is Epoch: 3 without improvement\n",
      "Current Validation Loss is: 0.4099 at Epoch: 182\n",
      "Best Validation Loss remains: 0.4095 at Epoch: 179\n"
     ]
    },
    {
     "name": "stderr",
     "output_type": "stream",
     "text": [
      "\n",
      "Epoch [183/200] T Loss:0.4179 LR is 9.847709021836118e-05: 100%|█| 2500/2500 [00:19<00:00, 127.58it"
     ]
    },
    {
     "name": "stdout",
     "output_type": "stream",
     "text": [
      "Training has completed epoch 183\n"
     ]
    },
    {
     "name": "stderr",
     "output_type": "stream",
     "text": [
      "\n",
      "Epoch [183/200] V Loss:0.4094: 100%|████████████████████████████| 313/313 [00:02<00:00, 147.45it/s]"
     ]
    },
    {
     "name": "stdout",
     "output_type": "stream",
     "text": [
      "Best Validation Loss is now: 0.4094 at Epoch: 183\n"
     ]
    },
    {
     "name": "stderr",
     "output_type": "stream",
     "text": [
      "\n",
      "Epoch [184/200] T Loss:0.4179 LR is 9.847709021836118e-05: 100%|█| 2500/2500 [00:19<00:00, 129.76it"
     ]
    },
    {
     "name": "stdout",
     "output_type": "stream",
     "text": [
      "Training has completed epoch 184\n"
     ]
    },
    {
     "name": "stderr",
     "output_type": "stream",
     "text": [
      "\n",
      "Epoch [184/200] V Loss:0.4099: 100%|████████████████████████████| 313/313 [00:02<00:00, 146.02it/s]"
     ]
    },
    {
     "name": "stdout",
     "output_type": "stream",
     "text": [
      "This is Epoch: 1 without improvement\n",
      "Current Validation Loss is: 0.4099 at Epoch: 184\n",
      "Best Validation Loss remains: 0.4094 at Epoch: 183\n"
     ]
    },
    {
     "name": "stderr",
     "output_type": "stream",
     "text": [
      "\n",
      "Epoch [185/200] T Loss:0.4180 LR is 9.847709021836118e-05: 100%|█| 2500/2500 [00:19<00:00, 126.39it"
     ]
    },
    {
     "name": "stdout",
     "output_type": "stream",
     "text": [
      "Training has completed epoch 185\n"
     ]
    },
    {
     "name": "stderr",
     "output_type": "stream",
     "text": [
      "\n",
      "Epoch [185/200] V Loss:0.4097: 100%|████████████████████████████| 313/313 [00:01<00:00, 275.34it/s]"
     ]
    },
    {
     "name": "stdout",
     "output_type": "stream",
     "text": [
      "This is Epoch: 2 without improvement\n",
      "Current Validation Loss is: 0.4097 at Epoch: 185\n",
      "Best Validation Loss remains: 0.4094 at Epoch: 183\n"
     ]
    },
    {
     "name": "stderr",
     "output_type": "stream",
     "text": [
      "\n",
      "Epoch [186/200] T Loss:0.4179 LR is 9.847709021836118e-05: 100%|█| 2500/2500 [00:19<00:00, 128.44it"
     ]
    },
    {
     "name": "stdout",
     "output_type": "stream",
     "text": [
      "Training has completed epoch 186\n"
     ]
    },
    {
     "name": "stderr",
     "output_type": "stream",
     "text": [
      "\n",
      "Epoch [186/200] V Loss:0.4097: 100%|████████████████████████████| 313/313 [00:01<00:00, 281.06it/s]"
     ]
    },
    {
     "name": "stdout",
     "output_type": "stream",
     "text": [
      "This is Epoch: 3 without improvement\n",
      "Current Validation Loss is: 0.4097 at Epoch: 186\n",
      "Best Validation Loss remains: 0.4094 at Epoch: 183\n"
     ]
    },
    {
     "name": "stderr",
     "output_type": "stream",
     "text": [
      "\n",
      "Epoch [187/200] T Loss:0.4179 LR is 9.847709021836118e-05: 100%|█| 2500/2500 [00:18<00:00, 133.32it"
     ]
    },
    {
     "name": "stdout",
     "output_type": "stream",
     "text": [
      "Training has completed epoch 187\n"
     ]
    },
    {
     "name": "stderr",
     "output_type": "stream",
     "text": [
      "\n",
      "Epoch [187/200] V Loss:0.4095: 100%|████████████████████████████| 313/313 [00:01<00:00, 290.89it/s]"
     ]
    },
    {
     "name": "stdout",
     "output_type": "stream",
     "text": [
      "This is Epoch: 4 without improvement\n",
      "Current Validation Loss is: 0.4095 at Epoch: 187\n",
      "Best Validation Loss remains: 0.4094 at Epoch: 183\n"
     ]
    },
    {
     "name": "stderr",
     "output_type": "stream",
     "text": [
      "\n",
      "Epoch [188/200] T Loss:0.4179 LR is 8.862938119652506e-05: 100%|█| 2500/2500 [00:18<00:00, 134.42it"
     ]
    },
    {
     "name": "stdout",
     "output_type": "stream",
     "text": [
      "Training has completed epoch 188\n"
     ]
    },
    {
     "name": "stderr",
     "output_type": "stream",
     "text": [
      "\n",
      "Epoch [188/200] V Loss:0.4094: 100%|████████████████████████████| 313/313 [00:01<00:00, 237.15it/s]"
     ]
    },
    {
     "name": "stdout",
     "output_type": "stream",
     "text": [
      "This is Epoch: 5 without improvement\n",
      "Current Validation Loss is: 0.4094 at Epoch: 188\n",
      "Best Validation Loss remains: 0.4094 at Epoch: 183\n"
     ]
    },
    {
     "name": "stderr",
     "output_type": "stream",
     "text": [
      "\n",
      "Epoch [189/200] T Loss:0.4179 LR is 8.862938119652506e-05: 100%|█| 2500/2500 [00:18<00:00, 133.39it"
     ]
    },
    {
     "name": "stdout",
     "output_type": "stream",
     "text": [
      "Training has completed epoch 189\n"
     ]
    },
    {
     "name": "stderr",
     "output_type": "stream",
     "text": [
      "\n",
      "Epoch [189/200] V Loss:0.4099: 100%|████████████████████████████| 313/313 [00:01<00:00, 292.15it/s]"
     ]
    },
    {
     "name": "stdout",
     "output_type": "stream",
     "text": [
      "This is Epoch: 6 without improvement\n",
      "Current Validation Loss is: 0.4099 at Epoch: 189\n",
      "Best Validation Loss remains: 0.4094 at Epoch: 183\n"
     ]
    },
    {
     "name": "stderr",
     "output_type": "stream",
     "text": [
      "\n",
      "Epoch [190/200] T Loss:0.4179 LR is 8.862938119652506e-05: 100%|█| 2500/2500 [00:18<00:00, 132.09it"
     ]
    },
    {
     "name": "stdout",
     "output_type": "stream",
     "text": [
      "Training has completed epoch 190\n"
     ]
    },
    {
     "name": "stderr",
     "output_type": "stream",
     "text": [
      "\n",
      "Epoch [190/200] V Loss:0.4095: 100%|████████████████████████████| 313/313 [00:01<00:00, 288.93it/s]"
     ]
    },
    {
     "name": "stdout",
     "output_type": "stream",
     "text": [
      "This is Epoch: 7 without improvement\n",
      "Current Validation Loss is: 0.4095 at Epoch: 190\n",
      "Best Validation Loss remains: 0.4094 at Epoch: 183\n"
     ]
    },
    {
     "name": "stderr",
     "output_type": "stream",
     "text": [
      "\n",
      "Epoch [191/200] T Loss:0.4178 LR is 8.862938119652506e-05: 100%|█| 2500/2500 [00:18<00:00, 132.05it"
     ]
    },
    {
     "name": "stdout",
     "output_type": "stream",
     "text": [
      "Training has completed epoch 191\n"
     ]
    },
    {
     "name": "stderr",
     "output_type": "stream",
     "text": [
      "\n",
      "Epoch [191/200] V Loss:0.4097: 100%|████████████████████████████| 313/313 [00:01<00:00, 237.96it/s]"
     ]
    },
    {
     "name": "stdout",
     "output_type": "stream",
     "text": [
      "This is Epoch: 8 without improvement\n",
      "Current Validation Loss is: 0.4097 at Epoch: 191\n",
      "Best Validation Loss remains: 0.4094 at Epoch: 183\n"
     ]
    },
    {
     "name": "stderr",
     "output_type": "stream",
     "text": [
      "\n",
      "Epoch [192/200] T Loss:0.4178 LR is 7.976644307687256e-05: 100%|█| 2500/2500 [00:18<00:00, 132.79it"
     ]
    },
    {
     "name": "stdout",
     "output_type": "stream",
     "text": [
      "Training has completed epoch 192\n"
     ]
    },
    {
     "name": "stderr",
     "output_type": "stream",
     "text": [
      "\n",
      "Epoch [192/200] V Loss:0.4095: 100%|████████████████████████████| 313/313 [00:01<00:00, 285.74it/s]"
     ]
    },
    {
     "name": "stdout",
     "output_type": "stream",
     "text": [
      "This is Epoch: 9 without improvement\n",
      "Current Validation Loss is: 0.4095 at Epoch: 192\n",
      "Best Validation Loss remains: 0.4094 at Epoch: 183\n"
     ]
    },
    {
     "name": "stderr",
     "output_type": "stream",
     "text": [
      "\n",
      "Epoch [193/200] T Loss:0.4178 LR is 7.976644307687256e-05: 100%|█| 2500/2500 [00:18<00:00, 133.73it"
     ]
    },
    {
     "name": "stdout",
     "output_type": "stream",
     "text": [
      "Training has completed epoch 193\n"
     ]
    },
    {
     "name": "stderr",
     "output_type": "stream",
     "text": [
      "\n",
      "Epoch [193/200] V Loss:0.4095: 100%|████████████████████████████| 313/313 [00:01<00:00, 290.00it/s]"
     ]
    },
    {
     "name": "stdout",
     "output_type": "stream",
     "text": [
      "This is Epoch: 10 without improvement\n",
      "Current Validation Loss is: 0.4095 at Epoch: 193\n",
      "Best Validation Loss remains: 0.4094 at Epoch: 183\n"
     ]
    },
    {
     "name": "stderr",
     "output_type": "stream",
     "text": [
      "\n",
      "Epoch [194/200] T Loss:0.4178 LR is 7.976644307687256e-05: 100%|█| 2500/2500 [00:18<00:00, 131.97it"
     ]
    },
    {
     "name": "stdout",
     "output_type": "stream",
     "text": [
      "Training has completed epoch 194\n"
     ]
    },
    {
     "name": "stderr",
     "output_type": "stream",
     "text": [
      "\n",
      "Epoch [194/200] V Loss:0.4095: 100%|████████████████████████████| 313/313 [00:01<00:00, 292.21it/s]"
     ]
    },
    {
     "name": "stdout",
     "output_type": "stream",
     "text": [
      "This is Epoch: 11 without improvement\n",
      "Current Validation Loss is: 0.4095 at Epoch: 194\n",
      "Best Validation Loss remains: 0.4094 at Epoch: 183\n",
      "Early stopping triggered! Restoring best model weights.\n",
      "Best Validation Loss was: 0.4094 at Epoch: 183\n"
     ]
    },
    {
     "data": {
      "text/plain": [
       "<All keys matched successfully>"
      ]
     },
     "execution_count": 15,
     "metadata": {},
     "output_type": "execute_result"
    }
   ],
   "source": [
    "model = AutoEncode().to(device)\n",
    "\n",
    "# Define the loss functions\n",
    "loss = torch.nn.MSELoss()  # For classification\n",
    "\n",
    "# Define an optimizer (both for the encoder and the decoder!)\n",
    "optimizer = torch.optim.Adam(filter(lambda p: p.requires_grad, model.parameters()), lr=1e-3)\n",
    "\n",
    "#scheduler = lr_scheduler.StepLR(optimizer, step_size=1, gamma=0.01)  # Learning rate decay scheduler\n",
    "scheduler = lr_scheduler.ReduceLROnPlateau(optimizer, mode='min', factor=0.9, patience=3)\n",
    "\n",
    "# Variables for early stopping and best parameters\n",
    "best_loss = float('inf')\n",
    "patience_limit = 10\n",
    "\n",
    "\n",
    "best_encoder_model = None\n",
    "best_decoder_model = None\n",
    "encoder_path = \"best_encoder.pth\"\n",
    "decoder_path = \"best_decoder.pth\"\n",
    "\n",
    "train_losses = []\n",
    "val_losses = []\n",
    "\n",
    "\n",
    "# Train the model\n",
    "EPOCHS = 200\n",
    "for epoch in range(EPOCHS):\n",
    "    running_train_loss = 0.0\n",
    "    \n",
    "    model.train()\n",
    "    progress_bar_train = tqdm(enumerate(train_loader), total=len(train_loader), ncols=100)\n",
    "    for index, (main_channels_mat) in progress_bar_train:\n",
    "        # Forward pass\n",
    "        #algorithm_output_mat_for_nn = (batch_complex_autocorrelation(algorithm_output_mat)).to(device)\n",
    "        main_channels_mat_for_nn = torch.stack([torch.real(main_channels_mat).float(), torch.imag(main_channels_mat).float()], dim=1).to(device)\n",
    "        \n",
    "        nn_output = model(main_channels_mat_for_nn)\n",
    "        \n",
    "        # Calculate loss\n",
    "        train_loss = loss(nn_output, main_channels_mat_for_nn)\n",
    "\n",
    "        # Backward pass\n",
    "        optimizer.zero_grad()\n",
    "        train_loss.backward()\n",
    "        optimizer.step()\n",
    "\n",
    "        # Update running loss\n",
    "        running_train_loss += train_loss.item()\n",
    "        avg_train_loss = running_train_loss / (index + 1)\n",
    "\n",
    "        # Get current learning rate from the optimizer\n",
    "        current_lr = optimizer.param_groups[0]['lr']\n",
    "\n",
    "        # Print metrics\n",
    "        #progress_bar_train.set_description(f'Epoch [{epoch + 1}/{EPOCHS}] MSELos:{avg_train_loss1:.4f} MSEWeig{mse_weight:.2f} CELos:{avg_train_loss2:.4f} CEWeig{ce_weight:.2f} TrLos:{avg_train_loss:.4f} Tr.Acc: {avg_train_acc*100:.2f}%')\n",
    "        progress_bar_train.set_description(f\" Epoch [{epoch + 1}/{EPOCHS}] T Loss:{avg_train_loss:.4f} LR is {current_lr:.6f}\")\n",
    "    \n",
    "    #train_losses.append(avg_train_loss)\n",
    "    train_losses.append(avg_train_loss)\n",
    "\n",
    "    print(f\"Training has completed epoch {epoch+1}\")\n",
    "    \n",
    "    # Validation loop\n",
    "    running_val_loss = 0.0\n",
    "\n",
    "    \n",
    "    model.eval()\n",
    "    progress_bar_val = tqdm(enumerate(val_loader), total=len(val_loader), ncols=100)\n",
    "    for index, (main_channels_mat) in progress_bar_val:\n",
    "        \n",
    "        #algorithm_output_mat_for_nn = (batch_complex_autocorrelation(algorithm_output_mat)).to(device)\n",
    "        main_channels_mat_for_nn = torch.stack([torch.real(main_channels_mat).float(), torch.imag(main_channels_mat).float()], dim=1).to(device)\n",
    "\n",
    "        \n",
    "        with torch.no_grad():\n",
    "            \n",
    "            nn_output = model(main_channels_mat_for_nn)\n",
    "\n",
    "            # Calculate losses\n",
    "            val_loss = loss(nn_output, main_channels_mat_for_nn)\n",
    "\n",
    "            # Update running loss\n",
    "            running_val_loss += val_loss.item()\n",
    "            \n",
    "            avg_val_loss = running_val_loss / (index + 1)\n",
    "            \n",
    "            progress_bar_val.set_description(f\" Epoch [{epoch + 1}/{EPOCHS}] V Loss:{avg_val_loss:.4f}\")\n",
    "    \n",
    "    #val_losses.append(avg_val_loss)\n",
    "    val_losses.append(avg_val_loss)\n",
    "    \n",
    "    scheduler.step(running_val_loss)\n",
    "\n",
    "\n",
    "    # Early stopping\n",
    "    if avg_val_loss < best_loss:  # Now checking for the best accuracy\n",
    "        best_loss = avg_val_loss\n",
    "        best_epoch = epoch + 1\n",
    "        best_train_loss = avg_train_loss\n",
    "        patience_ = 0\n",
    "        best_encoder_weights = copy.deepcopy(model.encoder.state_dict())\n",
    "        best_decoder_weights = copy.deepcopy(model.decoder.state_dict())\n",
    "        print(f\"Best Validation Loss is now: {best_loss:.4f} at Epoch: {best_epoch}\")\n",
    "    else:\n",
    "        patience_ += 1\n",
    "        print(f\"This is Epoch: {patience_} without improvement\")\n",
    "        print(f\"Current Validation Loss is: {avg_val_loss:.4f} at Epoch: {epoch+1}\")\n",
    "        print(f\"Best Validation Loss remains: {best_loss:.4f} at Epoch: {best_epoch}\")\n",
    "        if patience_ > patience_limit:  # Patience limit before stopping\n",
    "            print(\"Early stopping triggered! Restoring best model weights.\")\n",
    "            print(f\"Best Validation Loss was: {best_loss:.4f} at Epoch: {best_epoch}\")\n",
    "            break\n",
    "\n",
    "best_encoder_model = model.encoder.cpu()\n",
    "best_encoder_model.load_state_dict(best_encoder_weights)\n",
    "\n",
    "best_decoder_model = model.decoder.cpu()\n",
    "best_decoder_model.load_state_dict(best_decoder_weights)"
   ]
  },
  {
   "cell_type": "code",
   "execution_count": 16,
   "id": "adfd8b5f-1f52-482c-9005-470431c0cdd4",
   "metadata": {},
   "outputs": [],
   "source": [
    "torch.save(best_encoder_model, encoder_path)"
   ]
  },
  {
   "cell_type": "code",
   "execution_count": 17,
   "id": "6d6ca8ed-1ea6-4670-ae71-2d30c43a9c5c",
   "metadata": {},
   "outputs": [],
   "source": [
    "torch.save(best_decoder_model, decoder_path)"
   ]
  },
  {
   "cell_type": "code",
   "execution_count": 18,
   "id": "830b9432-9787-4c17-ab5c-d7d6378506d5",
   "metadata": {},
   "outputs": [
    {
     "name": "stderr",
     "output_type": "stream",
     "text": [
      "\n",
      "poch [194/200] Te Loss:0.4097: 100%|██████████████████████████████████████████████████████████████████████████████| 313/313 [00:02<00:00, 134.66it/s]"
     ]
    }
   ],
   "source": [
    "test_losses = []\n",
    "running_test_loss = 0.0\n",
    "\n",
    "\n",
    "progress_bar_test = tqdm(enumerate(test_loader), total=len(test_loader), ncols=150)\n",
    "for index, (main_channels_mat) in progress_bar_test:\n",
    "        \n",
    "    main_channels_mat_for_nn = torch.stack([torch.real(main_channels_mat).float(), torch.imag(main_channels_mat).float()], dim=1)\n",
    "    \n",
    "    with torch.no_grad():\n",
    "            \n",
    "        nn_output_enc = best_encoder_model(main_channels_mat_for_nn)\n",
    "        nn_output = best_decoder_model(nn_output_enc)\n",
    "\n",
    "        # Calculate losses\n",
    "        test_loss = loss(nn_output, main_channels_mat_for_nn)\n",
    "\n",
    "        # Update running loss\n",
    "        running_test_loss += test_loss.item()\n",
    "            \n",
    "        avg_test_loss = running_test_loss / (index + 1)\n",
    "\n",
    "        progress_bar_test.set_description(f'Epoch [{epoch + 1}/{EPOCHS}] Te Loss:{avg_test_loss:.4f}')\n",
    "\n",
    "test_losses.append(avg_test_loss)"
   ]
  },
  {
   "cell_type": "code",
   "execution_count": 19,
   "id": "13e49995-da2d-4b44-ad81-59217a411746",
   "metadata": {},
   "outputs": [
    {
     "data": {
      "image/png": "[encoded data removed]",
      "text/plain": [
       "<Figure size 1000x500 with 1 Axes>"
      ]
     },
     "metadata": {},
     "output_type": "display_data"
    }
   ],
   "source": [
    "# Plot the training and validation curves\n",
    "plt.figure(figsize=(10, 5))\n",
    "plt.plot(train_losses, label='Train Loss')\n",
    "plt.plot(val_losses, label='Validation Loss')\n",
    "plt.xlabel('Epoch')\n",
    "plt.ylabel('Loss')\n",
    "plt.title('Training and Validation Loss')\n",
    "plt.legend()\n",
    "plt.show()\n"
   ]
  },
  {
   "cell_type": "code",
   "execution_count": null,
   "id": "5566e04b-17d5-410a-8ce8-19c3dd6a20b3",
   "metadata": {},
   "outputs": [],
   "source": []
  }
 ],
 "metadata": {
  "kernelspec": {
   "display_name": "Python 3 (ipykernel)",
   "language": "python",
   "name": "python3"
  },
  "language_info": {
   "codemirror_mode": {
    "name": "ipython",
    "version": 3
   },
   "file_extension": ".py",
   "mimetype": "text/x-python",
   "name": "python",
   "nbconvert_exporter": "python",
   "pygments_lexer": "ipython3",
   "version": "3.12.8"
  }
 },
 "nbformat": 4,
 "nbformat_minor": 5
}
